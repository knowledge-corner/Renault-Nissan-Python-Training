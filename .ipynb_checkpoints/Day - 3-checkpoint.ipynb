{
 "cells": [
  {
   "cell_type": "markdown",
   "id": "ab85e60d-aec8-4fce-ae80-7a65839ed8c3",
   "metadata": {},
   "source": [
    "## Arrays Datastructure"
   ]
  },
  {
   "cell_type": "code",
   "execution_count": null,
   "id": "03cfe0eb-d8bb-4843-852d-60134d41fe05",
   "metadata": {},
   "outputs": [],
   "source": [
    "import numpy as np"
   ]
  },
  {
   "cell_type": "code",
   "execution_count": null,
   "id": "912817a7-75ea-43bf-bff7-bc2399a4950e",
   "metadata": {},
   "outputs": [],
   "source": [
    "names = np.array(['Claire', 'Darrin', 'Sean', 'Brosina', 'Andrew', 'Irene', 'Harold', 'Pete', 'Alejandro', 'Zuschuss', 'Ken', 'Sandra', 'Emily', 'Eric','Tracy', 'Matt', 'Gene', 'Steve', 'Linda', 'Ruben', 'Erin', 'Odella', 'Patrick', 'Lena', 'Darren', 'Janet', 'Ted', 'Kunst', 'Paul', 'Brendan'])\n",
    "ages = np.array([35, 26, 36, 44, 33, 33, 23, 22, 35, 53, 25, 41, 24, 31, 34, 43, 22, 29, 35, 25, 47, 22, 26, 52, 25, 25, 27, 24, 27, 30])\n",
    "salary = np.array([ 88962,  67659, 117501, 149957,  32212,  63391,  14438,  22445, 72287, 195588,  17240, 115116,  18027,  55891, 109132,  83327, 22125,  29324,  54003,  18390, 141401,  19593,  57093, 130556, 22093,  13058,  26180,  23259,  34248,  27416])\n",
    "designation = np.array(['Manager', 'Team Lead', 'Manager', 'Senior Manager', 'Team Lead', 'Team Lead', 'Developer', 'Developer', 'Team Lead', 'Managing Director', 'Developer', 'Manager', 'Developer','Team Lead', 'Manager', 'Manager', 'Developer', 'Team Lead','Team Lead', 'Developer', 'Senior Manager', 'Developer', 'Team Lead', 'Senior Manager', 'Developer', 'Developer','Team Lead', 'Developer', 'Team Lead', 'Team Lead'])"
   ]
  },
  {
   "cell_type": "markdown",
   "id": "14bdf2d2-703b-48dd-b101-457c1addd0fd",
   "metadata": {},
   "source": [
    "### Indexing and Slicing on arrays"
   ]
  },
  {
   "cell_type": "code",
   "execution_count": null,
   "id": "49d7f950-703b-4dc2-badc-7122d437b5ad",
   "metadata": {},
   "outputs": [],
   "source": [
    "arr = np.random.randint(5, 50, 10)\n",
    "arr"
   ]
  },
  {
   "cell_type": "code",
   "execution_count": null,
   "id": "f9c14fcc-a65b-42cd-a71c-8e13ed5fe05a",
   "metadata": {},
   "outputs": [],
   "source": [
    "arr[2]"
   ]
  },
  {
   "cell_type": "code",
   "execution_count": null,
   "id": "d80634d8-bb6f-4386-91be-efa98452e1d9",
   "metadata": {},
   "outputs": [],
   "source": [
    "arr[-2]"
   ]
  },
  {
   "cell_type": "code",
   "execution_count": null,
   "id": "5f9a5fc5-6f7c-471f-ba56-a5d6db59799b",
   "metadata": {},
   "outputs": [],
   "source": [
    "arr[0:3]"
   ]
  },
  {
   "cell_type": "code",
   "execution_count": null,
   "id": "064ed443-5fc2-4960-bc62-46e0225769d0",
   "metadata": {},
   "outputs": [],
   "source": [
    "arr[-5:]"
   ]
  },
  {
   "cell_type": "code",
   "execution_count": null,
   "id": "dbc2f379-0f9f-4452-bc24-0a21efb3b7af",
   "metadata": {},
   "outputs": [],
   "source": [
    "arr[[3, 1, 6]]"
   ]
  },
  {
   "cell_type": "code",
   "execution_count": null,
   "id": "bdfa88f9-2443-4e45-b9fb-542502d68c52",
   "metadata": {},
   "outputs": [],
   "source": [
    "arr = np.random.randint(5, 50, (4, 3))\n",
    "arr"
   ]
  },
  {
   "cell_type": "code",
   "execution_count": null,
   "id": "64583955-e2b5-41c6-93e1-4d1d2b50757f",
   "metadata": {},
   "outputs": [],
   "source": [
    "arr[1, 2]"
   ]
  },
  {
   "cell_type": "code",
   "execution_count": null,
   "id": "e8f21a52-cf0e-4ed0-9df9-89957b2db90a",
   "metadata": {},
   "outputs": [],
   "source": [
    "arr[0:2, :] # first 2 rows"
   ]
  },
  {
   "cell_type": "code",
   "execution_count": null,
   "id": "6b1c8610-2c9f-471c-9aa7-da285d3a6156",
   "metadata": {},
   "outputs": [],
   "source": [
    "arr[[1, 3], :] # Row index 1 and 3 and all columns"
   ]
  },
  {
   "cell_type": "code",
   "execution_count": null,
   "id": "89bfc991-9e17-4ff6-8e8e-03a8d910537b",
   "metadata": {},
   "outputs": [],
   "source": [
    "arr[[1, 3]] # : for columns is not mandatory here"
   ]
  },
  {
   "cell_type": "code",
   "execution_count": null,
   "id": "de348de1-96bc-4552-9f72-6dd8cf380820",
   "metadata": {},
   "outputs": [],
   "source": [
    "arr[ :, 1:3] # : for rows is mandatory here"
   ]
  },
  {
   "cell_type": "markdown",
   "id": "f4057a96-f166-4ff9-92f8-6ec3f1dee2de",
   "metadata": {},
   "source": [
    "###### Extract the ages greater than 40"
   ]
  },
  {
   "cell_type": "code",
   "execution_count": null,
   "id": "77ec3723-363e-4598-9c34-b04e7a85f660",
   "metadata": {},
   "outputs": [],
   "source": [
    "ages[ages > 40] # Conditional Indexing"
   ]
  },
  {
   "cell_type": "markdown",
   "id": "46531e1d-35e8-446d-9f5f-752d0365e303",
   "metadata": {},
   "source": [
    "### Operations on Arrays"
   ]
  },
  {
   "cell_type": "markdown",
   "id": "d1b586a2-040f-42cf-bd3e-ebf27e3745e8",
   "metadata": {},
   "source": [
    "###### Extract names of the employees whose age greater than 40"
   ]
  },
  {
   "cell_type": "code",
   "execution_count": null,
   "id": "ea34a859-a6ad-4f46-845f-3866168e5a76",
   "metadata": {},
   "outputs": [],
   "source": [
    "names[ages > 40]"
   ]
  },
  {
   "cell_type": "markdown",
   "id": "517f0484-54fb-4d4f-9f05-60c70445d043",
   "metadata": {},
   "source": [
    "###### Apply 7% hike on salary to all employes in the array"
   ]
  },
  {
   "cell_type": "code",
   "execution_count": null,
   "id": "a8532d86-27b1-43ea-9691-e05d4fd63f0a",
   "metadata": {},
   "outputs": [],
   "source": [
    "salary * 1.07"
   ]
  },
  {
   "cell_type": "markdown",
   "id": "f60ab370-2454-494c-868e-69c5b3362d1d",
   "metadata": {},
   "source": [
    "###### Apply 7% hike to all employes whose age is greater_eq than 40 and 10% hike to employees whose age is less than 40"
   ]
  },
  {
   "cell_type": "code",
   "execution_count": null,
   "id": "e8947d8f-0b39-4e09-a32e-118f04c7cf10",
   "metadata": {},
   "outputs": [],
   "source": [
    "np.where(ages >= 40, salary * 1.07, salary * 1.10)"
   ]
  },
  {
   "cell_type": "markdown",
   "id": "e1db9c3a-f944-417b-b0e1-6c2ad11cb318",
   "metadata": {},
   "source": [
    "###### Ex. Applying multiple conditions"
   ]
  },
  {
   "cell_type": "code",
   "execution_count": null,
   "id": "d5ff26f9-8324-4935-b821-61adb1ff0c95",
   "metadata": {},
   "outputs": [],
   "source": [
    "conditions = [ages < 35, ages < 45, ages >= 45]\n",
    "results = [salary * 1.10, salary * 1.07, salary * 1.05]\n",
    "\n",
    "np.select(conditions, results)"
   ]
  },
  {
   "cell_type": "code",
   "execution_count": null,
   "id": "37f6b8a7-650e-4305-ac9f-2edd7d3bb699",
   "metadata": {},
   "outputs": [],
   "source": [
    "marks = np.random.randint(20, 100,(2, 3)) # 2D array\n",
    "marks"
   ]
  },
  {
   "cell_type": "markdown",
   "id": "325d9816-8c46-4947-bbb9-61ebe64312cc",
   "metadata": {},
   "source": [
    "###### Ex. Assign grades to students based on marks"
   ]
  },
  {
   "cell_type": "code",
   "execution_count": null,
   "id": "ad89d326-fce1-4bd8-bf13-b9104d87e946",
   "metadata": {},
   "outputs": [],
   "source": [
    "marks = np.random.randint(20, 100, 15)\n",
    "marks"
   ]
  },
  {
   "cell_type": "code",
   "execution_count": null,
   "id": "1ab23066-afa7-4ad9-98ef-516539670112",
   "metadata": {},
   "outputs": [],
   "source": [
    "conditions = [marks >= 75, marks >= 60, marks > 40, marks < 40]\n",
    "# grades = [\"Grade A\", \"Grade B\", \"Grade C\", \"Grade D\"]\n",
    "grades = [1, 2, 3, 4]\n",
    "np.select(conditions, grades)"
   ]
  },
  {
   "cell_type": "code",
   "execution_count": null,
   "id": "c54b6b95-6b09-422d-8a96-04a7f2e029d6",
   "metadata": {},
   "outputs": [],
   "source": [
    "conditions = [marks >= 75, marks >= 60, marks > 40, marks < 40]\n",
    "grades = [\"Grade A\", \"Grade B\", \"Grade C\", \"Grade D\"]\n",
    "np.select(conditions, grades, default= \"NA\")"
   ]
  },
  {
   "cell_type": "code",
   "execution_count": null,
   "id": "d73d231e-219f-4bd1-8d64-07ea8a92f3ec",
   "metadata": {},
   "outputs": [],
   "source": [
    "conditions = [marks >= 75, marks >= 60, marks >= 40]\n",
    "grades = [\"Grade A\", \"Grade B\", \"Grade C\"]\n",
    "np.select(conditions, grades, default= \"Grade D\")"
   ]
  },
  {
   "cell_type": "code",
   "execution_count": null,
   "id": "378444ba-91e6-4edc-a895-57c59833a75c",
   "metadata": {},
   "outputs": [],
   "source": [
    "help(np.select)"
   ]
  },
  {
   "cell_type": "markdown",
   "id": "fea4d5e2-e727-43e9-b59c-37f3877173d6",
   "metadata": {},
   "source": [
    "### Utility functions in NumPy Library"
   ]
  },
  {
   "cell_type": "markdown",
   "id": "99eaee3d-35b0-4822-bf9c-ca188b379f81",
   "metadata": {},
   "source": [
    "- np.all(), np.any()\n",
    "- arr.sum()\n",
    "- arr.min(), arr.max(), arr.argmin(), arr.agrmax()\n",
    "- np.round()\n",
    "- np.mean(), np.median(), np.average(), np.percentile()"
   ]
  },
  {
   "cell_type": "code",
   "execution_count": null,
   "id": "51499db5-aa5e-4551-a628-50c5309f490f",
   "metadata": {},
   "outputs": [],
   "source": [
    "products = np.array(['Caffe Latte', 'Cappuccino', 'Colombian', 'Darjeeling', 'Decaf Irish Cream', 'Earl Grey', 'Green Tea', 'Lemon', 'Mint', 'Regular Espresso'])\n",
    "sales = np.array([52248.0, 14068.0, 71060.0, 60014.0, 69925.0, 27711.0, 19231.0, 24873.0, 32825.0, 44109.0])\n",
    "profits = np.array([17444.0, 5041.0, 28390.0, 20459.0, 23432.0, 7691.0, -2954.0, 7159.0, 10722.0, 14902.0])"
   ]
  },
  {
   "cell_type": "markdown",
   "id": "1fd18a0c-ed4b-4224-a718-336992f67db8",
   "metadata": {},
   "source": [
    "###### Ex. Total Sales"
   ]
  },
  {
   "cell_type": "code",
   "execution_count": null,
   "id": "5a75101b-6d71-4d3a-a8c8-871833c2fa09",
   "metadata": {},
   "outputs": [],
   "source": [
    "sales.sum()"
   ]
  },
  {
   "cell_type": "code",
   "execution_count": null,
   "id": "b9ce357d-bf4b-4a2b-a289-252ef9b36fd2",
   "metadata": {},
   "outputs": [],
   "source": [
    "np.sum(sales)"
   ]
  },
  {
   "cell_type": "markdown",
   "id": "29e86c0b-80f5-4eac-a519-0dd5244c0fb9",
   "metadata": {},
   "source": [
    "###### Ex. Avg sales"
   ]
  },
  {
   "cell_type": "code",
   "execution_count": null,
   "id": "759133b2-4ae0-426a-be69-3203024cbf13",
   "metadata": {},
   "outputs": [],
   "source": [
    "sales.mean()"
   ]
  },
  {
   "cell_type": "markdown",
   "id": "ae26ba55-d237-44c2-813b-a33793033338",
   "metadata": {},
   "source": [
    "###### Ex. Identify the products generating sales more than the average"
   ]
  },
  {
   "cell_type": "code",
   "execution_count": null,
   "id": "254e21b2-b4ed-4e71-a940-757531db3bed",
   "metadata": {},
   "outputs": [],
   "source": [
    "sales_p = products[sales >= sales.mean()]\n",
    "sales_p"
   ]
  },
  {
   "cell_type": "markdown",
   "id": "adfc667e-52b1-4fe7-a29b-0c9b05210ba8",
   "metadata": {},
   "source": [
    "###### Ex. Identify the products generating profits more than the average"
   ]
  },
  {
   "cell_type": "code",
   "execution_count": null,
   "id": "c80c08c1-1635-469b-a0a3-845576c831d1",
   "metadata": {},
   "outputs": [],
   "source": [
    "profits_p = products[profits >= profits.mean()]\n",
    "profits_p"
   ]
  },
  {
   "cell_type": "markdown",
   "id": "977fb224-8184-4ed0-b051-8311859d9f01",
   "metadata": {},
   "source": [
    "###### Ex. Do all products that surpass their average sales also exceed their average profit? If not, identify the products that don’t."
   ]
  },
  {
   "cell_type": "code",
   "execution_count": null,
   "id": "d460fdad-3077-4b4e-9b42-4930135f89bc",
   "metadata": {},
   "outputs": [],
   "source": [
    "np.isin(sales_p, profits_p).all()"
   ]
  },
  {
   "cell_type": "code",
   "execution_count": null,
   "id": "79b62186-3407-45ef-af94-f38f233ad6d8",
   "metadata": {},
   "outputs": [],
   "source": [
    "np.any(np.isin(sales_p, profits_p))"
   ]
  },
  {
   "cell_type": "code",
   "execution_count": null,
   "id": "d0f82656-8797-4372-8204-7fe60d8e0642",
   "metadata": {},
   "outputs": [],
   "source": [
    "all([1, 2, 3, 4, 0]) # checks if all values are true"
   ]
  },
  {
   "cell_type": "code",
   "execution_count": null,
   "id": "ec2e1d36-76fc-4892-9930-645febb9a0cc",
   "metadata": {},
   "outputs": [],
   "source": [
    "any([1, 2, 3, 4, 0]) # checks if any one value is true"
   ]
  },
  {
   "cell_type": "markdown",
   "id": "70939232-d652-4fcc-913c-af7408684e5f",
   "metadata": {},
   "source": [
    "###### Ex. Manipulating the results to explore set function on arrays"
   ]
  },
  {
   "cell_type": "code",
   "execution_count": null,
   "id": "0861b7b5-5f54-48e6-8bfd-1ffed12e0178",
   "metadata": {},
   "outputs": [],
   "source": [
    "sales_p = np.append(sales_p, \"Green Tea\")  # np.append() is a function\n",
    "sales_p"
   ]
  },
  {
   "cell_type": "code",
   "execution_count": null,
   "id": "11820cf4-e7c7-40b1-afaa-574d2f69e34e",
   "metadata": {},
   "outputs": [],
   "source": [
    "profits_p = np.insert(profits_p, 2, \"Filter Coffee\")  # np.insert() is a function\n",
    "profits_p"
   ]
  },
  {
   "cell_type": "code",
   "execution_count": null,
   "id": "e4d3e637-734b-47f7-b718-b94498a05f11",
   "metadata": {},
   "outputs": [],
   "source": [
    "profits_p = np.delete(profits_p, 6)  # np.delete() is a function to remove\n",
    "profits_p"
   ]
  },
  {
   "cell_type": "code",
   "execution_count": null,
   "id": "dc062cde-1306-42d4-bcec-a2d5c3069442",
   "metadata": {},
   "outputs": [],
   "source": [
    "np.isin(sales_p, profits_p)"
   ]
  },
  {
   "cell_type": "markdown",
   "id": "546ce404-2093-48f7-9612-65c060fc93c4",
   "metadata": {},
   "source": [
    "###### Ex. Find elements in sales_p but not in profit_p"
   ]
  },
  {
   "cell_type": "code",
   "execution_count": null,
   "id": "9ed4b6c8-d7a9-42af-becd-b80167fa7f58",
   "metadata": {},
   "outputs": [],
   "source": [
    "np.setdiff1d(sales_p, profits_p)"
   ]
  },
  {
   "cell_type": "markdown",
   "id": "0e8f3c82-6ea3-4425-bd3c-102a8b1ef9bb",
   "metadata": {},
   "source": [
    "###### Ex. Common elements"
   ]
  },
  {
   "cell_type": "code",
   "execution_count": null,
   "id": "c42f838a-ed5b-426c-b636-1ddbf5613690",
   "metadata": {},
   "outputs": [],
   "source": [
    "np.intersect1d(sales_p, profits_p)"
   ]
  },
  {
   "cell_type": "markdown",
   "id": "0ac70f72-c4a2-492a-b3f3-47bd4e53c583",
   "metadata": {},
   "source": [
    "###### Ex. Identify the product with maximum Sales"
   ]
  },
  {
   "cell_type": "code",
   "execution_count": null,
   "id": "4c59c366-bbdf-49e4-82ca-f09a94fe57c6",
   "metadata": {},
   "outputs": [],
   "source": [
    "# Option 1\n",
    "products[np.max(sales) == sales] # Conditional indexing"
   ]
  },
  {
   "cell_type": "code",
   "execution_count": null,
   "id": "4eb09e37-5bc6-4e66-b3c2-a2661340a5c6",
   "metadata": {},
   "outputs": [],
   "source": [
    "np.argmax(sales) # returns index position of the max value"
   ]
  },
  {
   "cell_type": "code",
   "execution_count": null,
   "id": "cadecc29-584d-4195-ac40-0378606ea848",
   "metadata": {},
   "outputs": [],
   "source": [
    "# Option 2\n",
    "products[np.argmax(sales)] # Indexing"
   ]
  },
  {
   "cell_type": "code",
   "execution_count": null,
   "id": "46001c6a-bfd7-4c09-8d79-b8f9969d428f",
   "metadata": {},
   "outputs": [],
   "source": [
    "arr = np.array([2, 3, 5, 5 ])\n",
    "names = np.array([\"Jane\", \"George\", \"Rosie\", \"Sam\"])\n",
    "arr.max()"
   ]
  },
  {
   "cell_type": "code",
   "execution_count": null,
   "id": "e96dc706-adf2-4717-b0b0-2bcac1949fc8",
   "metadata": {},
   "outputs": [],
   "source": [
    "arr.argmax()"
   ]
  },
  {
   "cell_type": "code",
   "execution_count": null,
   "id": "6e7ebaae-5b8b-485b-9f34-3e60fd950a9c",
   "metadata": {},
   "outputs": [],
   "source": [
    "names[arr.argmax()]"
   ]
  },
  {
   "cell_type": "code",
   "execution_count": null,
   "id": "688284ad-f30d-4262-8a6d-450f528a27dd",
   "metadata": {},
   "outputs": [],
   "source": [
    "names[arr == np.max(arr)]"
   ]
  },
  {
   "cell_type": "code",
   "execution_count": null,
   "id": "435728d0-2f52-43be-9387-b93cdb0aad04",
   "metadata": {},
   "outputs": [],
   "source": [
    "arr = np.random.randint(1, 10, (3, 5))\n",
    "arr"
   ]
  },
  {
   "cell_type": "code",
   "execution_count": null,
   "id": "26b74ee9-8d90-43ea-843c-c00f80cbce10",
   "metadata": {},
   "outputs": [],
   "source": [
    "np.insert(arr, 5, 1)"
   ]
  },
  {
   "cell_type": "markdown",
   "id": "f6e9ffe0-9421-460d-9f51-be22cae324b8",
   "metadata": {},
   "source": [
    "###### Flattening the array"
   ]
  },
  {
   "cell_type": "code",
   "execution_count": null,
   "id": "b32cae0a-90b0-4c31-92bd-c9556011a1c9",
   "metadata": {},
   "outputs": [],
   "source": [
    "arr.flatten() # converted 2D array to 1D"
   ]
  },
  {
   "cell_type": "code",
   "execution_count": null,
   "id": "f28275bc-1477-4a71-9680-db2a494c3877",
   "metadata": {},
   "outputs": [],
   "source": [
    "np.insert(arr, 1, [1, 2, 3], axis=1)"
   ]
  },
  {
   "cell_type": "code",
   "execution_count": null,
   "id": "2b9cde5c-a6cb-486b-9331-ccd35c5702bd",
   "metadata": {},
   "outputs": [],
   "source": [
    "np.insert(arr, 1, [1, 2, 3, 4, 5], axis=0)"
   ]
  },
  {
   "cell_type": "markdown",
   "id": "f5fc5912-cd5d-43bc-a42d-1f6e5c820eb7",
   "metadata": {},
   "source": [
    "<hr><hr>"
   ]
  },
  {
   "cell_type": "markdown",
   "id": "7efce237-d32c-43e9-b511-19e20f5259e5",
   "metadata": {},
   "source": [
    "## Basics of Data Visualisation using Matplotlib"
   ]
  },
  {
   "cell_type": "code",
   "execution_count": null,
   "id": "cb03251a-220e-4205-a039-f1b08debdcc1",
   "metadata": {},
   "outputs": [],
   "source": [
    "import numpy as np\n",
    "import matplotlib.pyplot \n",
    "dates = np.arange('2019-01', '2022-01', dtype='datetime64[M]')\n",
    "sales = np.array([42390, 77560, 77385, 76039, 42968, 53833, 47205, 68936, 51175, 48186, 71520, 66387, 62717, 52614, 42866, 64275, 44749, 68560,66258, 62221, 66303, 52428, 42300, 65645, 59215, 66944, 67519,46231, 79780, 59746, 59992, 70805, 64609, 72995, 60402, 76956])\n",
    "profits = np.array([ 7206.3 ,  8531.6 , 13155.45,  9885.07,  7304.56,  9689.94, 5664.6 , 11029.76,  6141.  ,  5300.46,  9297.6 , 11285.79, 7526.04,  5787.54,  6429.9 , 12212.25,  5369.88, 12340.8 , 12589.02,  6222.1 ,  7293.33,  8388.48,  6768.  , 11816.1 , 7697.95, 11380.48,  7427.09,  6934.65,  8775.8 ,  7169.52, 7199.04,  9204.65, 10337.44,  9489.35, 10268.34, 14621.64])"
   ]
  },
  {
   "cell_type": "markdown",
   "id": "84e6dc19-b74f-4d44-82ca-c78e1d22a582",
   "metadata": {},
   "source": [
    "#### Line Chart"
   ]
  },
  {
   "cell_type": "code",
   "execution_count": null,
   "id": "5f224691-da05-4c22-95c8-23d2de8b9ff1",
   "metadata": {},
   "outputs": [],
   "source": [
    "plt.figure(figsize=(10, 3))\n",
    "plt.plot(dates, sales, color = \"Teal\", marker = \"o\")\n",
    "\n",
    "plt.title(\"Sales over Months \", loc = \"left\", \n",
    "          fontdict= {'fontsize': 10, 'color': \"Blue\"})\n",
    "\n",
    "y_tcks = np.arange((sales.min() - 1000), (sales.max() + 1000), 5000)\n",
    "\n",
    "plt.xlabel(\"Months\")\n",
    "plt.ylabel(\"Sales\")\n",
    "\n",
    "plt.yticks(y_tcks)\n",
    "\n",
    "plt.grid(axis=\"y\", color = \"orange\", alpha = 0.4, ls = \"--\")\n",
    "\n",
    "# Adding Annotations---\n",
    "# for x, y in zip(dates, sales):\n",
    "#     plt.annotate(f'{y}', xy=(x, y))\n",
    "\n",
    "# Adding Annotations only for max value\n",
    "plt.annotate(f\"Max : {np.max(sales)}\", xy = (dates[np.argmax(sales)], np.max(sales)))\n",
    "\n",
    "plt.show()"
   ]
  },
  {
   "cell_type": "code",
   "execution_count": null,
   "id": "5f9f51e8-951f-4d86-a7cb-229450f2c4c3",
   "metadata": {},
   "outputs": [],
   "source": [
    "plt.figure(figsize=(10, 3))\n",
    "plt.plot(dates, sales, color = \"Teal\", marker = \"o\")\n",
    "plt.plot(dates, profits, color = \"Cyan\", marker = \"o\")\n",
    "plt.title(\"Sales over Months \", loc = \"left\", fontdict= {'fontsize': 10, 'color': \"Blue\"})\n",
    "plt.xlabel(\"Months\")\n",
    "plt.ylabel(\"Sales\")\n",
    "plt.grid(axis=\"y\", color = \"orange\", alpha = 0.4, ls = \"--\")\n",
    "\n",
    "plt.show()"
   ]
  },
  {
   "cell_type": "code",
   "execution_count": null,
   "id": "5386f280-3f8c-4a65-9c98-888a76a8e0c9",
   "metadata": {},
   "outputs": [],
   "source": [
    "fig, ax = plt.subplots(nrows=2, figsize = (12, 4))\n",
    "ax[0].plot(dates, sales, color = \"Teal\", marker = \"o\")\n",
    "ax[1].plot(dates, profits, color = \"Cyan\", marker = \"o\")\n",
    "\n",
    "ax[0].set_title(\"Sales\", loc = \"left\")\n",
    "ax[1].set_title(\"Profit\", loc = \"left\")\n",
    "\n",
    "ax[0].set_xticks([])\n",
    "\n",
    "plt.show()"
   ]
  },
  {
   "cell_type": "code",
   "execution_count": null,
   "id": "c0aa778b-9bfc-42fb-89cc-3684b46de6d3",
   "metadata": {},
   "outputs": [],
   "source": [
    "products = np.array(['Caffe Latte', 'Cappuccino', 'Colombian', 'Darjeeling', 'Decaf Irish Cream', 'Earl Grey', 'Green Tea', 'Lemon', 'Mint', 'Regular Espresso'])\n",
    "sales = np.array([52248.0, 14068.0, 71060.0, 60014.0, 69925.0, 27711.0, 19231.0, 24873.0, 32825.0, 44109.0])\n",
    "profits = np.array([17444.0, 5041.0, 28390.0, 20459.0, 23432.0, 7691.0, -2954.0, 7159.0, 10722.0, 14902.0])"
   ]
  },
  {
   "cell_type": "markdown",
   "id": "43e884b3-4c52-4dd6-9481-c2de8c599a24",
   "metadata": {},
   "source": [
    "#### Bar Chart"
   ]
  },
  {
   "cell_type": "code",
   "execution_count": null,
   "id": "f73ad0d3-3383-4c9a-97f3-9afb0ddc32d8",
   "metadata": {},
   "outputs": [],
   "source": [
    "np.sort(sales)"
   ]
  },
  {
   "cell_type": "code",
   "execution_count": null,
   "id": "6fd55239-deda-41ce-906e-3312a6da3262",
   "metadata": {},
   "outputs": [],
   "source": [
    "sort_ord = np.argsort(sales)[::-1]"
   ]
  },
  {
   "cell_type": "code",
   "execution_count": null,
   "id": "c8262cde-5b6f-4a00-bd57-ef9bcdcba672",
   "metadata": {},
   "outputs": [],
   "source": [
    "plt.figure(figsize=(10, 2))\n",
    "plt.bar(products[sort_ord], sales[sort_ord], color = \"teal\", edgecolor = \"black\")\n",
    "plt.title(\"Sales across Products\", loc = \"left\",fontdict= {'fontsize': 10, 'color': \"Blue\"})\n",
    "plt.xticks(rotation = 20, fontsize='x-small')\n",
    "plt.yticks(fontsize='x-small')\n",
    "plt.show()"
   ]
  },
  {
   "cell_type": "code",
   "execution_count": null,
   "id": "a23e5afe-a6eb-44db-bdf2-22536edf65f3",
   "metadata": {},
   "outputs": [],
   "source": [
    "plt.figure(figsize=(10, 2))\n",
    "plt.bar(products, sales, color = \"teal\", edgecolor = \"black\")\n",
    "plt.bar(products, profits, color = \"cyan\", edgecolor = \"black\")\n",
    "plt.title(\"Sales across Products\", loc = \"left\",fontdict= {'fontsize': 10, 'color': \"Blue\"})\n",
    "plt.xticks(rotation = 20, fontsize='x-small')\n",
    "plt.yticks(fontsize='x-small')\n",
    "plt.show()"
   ]
  },
  {
   "cell_type": "code",
   "execution_count": null,
   "id": "cf475d46-bd00-4989-b112-1fd898b5c3fa",
   "metadata": {},
   "outputs": [],
   "source": [
    "plt.figure(figsize=(10, 2))\n",
    "plt.bar(products, sales, color = \"teal\", edgecolor = \"black\", width = -0.4, align=\"edge\")\n",
    "plt.bar(products, profits, color = \"cyan\", edgecolor = \"black\", width = 0.4, align=\"edge\")\n",
    "plt.title(\"Sales across Products\", loc = \"left\",fontdict= {'fontsize': 10, 'color': \"Blue\"})\n",
    "plt.xticks(rotation = 20, fontsize='x-small')\n",
    "plt.yticks(fontsize='x-small')\n",
    "plt.show()"
   ]
  },
  {
   "cell_type": "markdown",
   "id": "dd949409-7b6d-47d0-9668-858c66ac78a3",
   "metadata": {},
   "source": [
    "<hr><hr>"
   ]
  },
  {
   "cell_type": "markdown",
   "id": "abbcf20a-5fe9-448c-802a-feac4f92c486",
   "metadata": {},
   "source": [
    "## Data Manipulation using DataFrames"
   ]
  },
  {
   "cell_type": "code",
   "execution_count": null,
   "id": "98d31dfe-a2d6-4744-9f20-fd7497addf1d",
   "metadata": {},
   "outputs": [],
   "source": [
    "!pip install sqlalchemy"
   ]
  },
  {
   "cell_type": "markdown",
   "id": "b2fd1d8c-d06b-4e7c-a1a4-a590a32487b0",
   "metadata": {},
   "source": [
    "###### Ex. Read data from employee.sqlite3"
   ]
  },
  {
   "cell_type": "code",
   "execution_count": null,
   "id": "abef981f-1558-4fb6-8888-8cb8e05aee89",
   "metadata": {},
   "outputs": [],
   "source": [
    "from sqlalchemy import create_engine, text\n",
    "conn = create_engine(\"sqlite:///employee.sqlite3\")\n",
    "conn"
   ]
  },
  {
   "cell_type": "markdown",
   "id": "9676c2b6-d5f5-4352-8a46-35a262861386",
   "metadata": {},
   "source": [
    "###### Ex. Read data from Employee table"
   ]
  },
  {
   "cell_type": "code",
   "execution_count": null,
   "id": "08949299-d6bc-4c9c-ae0c-bb101e8094f1",
   "metadata": {},
   "outputs": [],
   "source": [
    "df = pd.read_sql(\"Employee\", conn)  \n",
    "df.head(2)"
   ]
  },
  {
   "cell_type": "markdown",
   "id": "11e5c1fb-caf7-475e-a517-4da7d4d44e56",
   "metadata": {},
   "source": [
    "###### Ex. Filter all managers from the data and add to the database as new table"
   ]
  },
  {
   "cell_type": "code",
   "execution_count": null,
   "id": "51cc3a0a-1e7a-4c0e-add2-35887350d1a0",
   "metadata": {},
   "outputs": [],
   "source": [
    "df_1 = df[df.Designation == \"Manager\"]\n",
    "df_1.to_sql(\"Managers\", conn)"
   ]
  },
  {
   "cell_type": "markdown",
   "id": "5f165913-4882-4aa5-94c7-a7e409ac1eae",
   "metadata": {},
   "source": [
    "###### Ex. Read data from new Manager table"
   ]
  },
  {
   "cell_type": "code",
   "execution_count": null,
   "id": "57fdff83-b1a5-423c-a876-07520922514f",
   "metadata": {},
   "outputs": [],
   "source": [
    "df = pd.read_sql(\"Managers\", conn)"
   ]
  },
  {
   "cell_type": "markdown",
   "id": "fa9412ca-8f81-4a13-a200-866cc7bdee2d",
   "metadata": {},
   "source": [
    "###### Ex. Data Cleaning - remove index col"
   ]
  },
  {
   "cell_type": "code",
   "execution_count": null,
   "id": "b2249b0c-c18d-479e-bb5b-f5b9d49f5a5f",
   "metadata": {},
   "outputs": [],
   "source": [
    "df.drop(columns=[\"index\"], inplace=True)\n",
    "df.head()"
   ]
  },
  {
   "cell_type": "markdown",
   "id": "339616d6-dc3c-401c-888b-60126bf677a1",
   "metadata": {},
   "source": [
    "### Indexing Columns"
   ]
  },
  {
   "cell_type": "code",
   "execution_count": null,
   "id": "268aee63-6ba0-4332-9f0e-5c77e3ec1918",
   "metadata": {},
   "outputs": [],
   "source": [
    "df.head()  # first n rows n = 5 default"
   ]
  },
  {
   "cell_type": "code",
   "execution_count": null,
   "id": "5d765ee2-fcbc-428d-b853-b3e23d7ca5d2",
   "metadata": {},
   "outputs": [],
   "source": [
    "df.tail()  # last n rows n = 5 default"
   ]
  },
  {
   "cell_type": "code",
   "execution_count": null,
   "id": "b0ad49b9-5cfa-4a71-876b-770a5d6002a0",
   "metadata": {},
   "outputs": [],
   "source": [
    "df.shape"
   ]
  },
  {
   "cell_type": "code",
   "execution_count": null,
   "id": "750bb9ab-b51a-4a61-a0f4-d23893aaf5cd",
   "metadata": {},
   "outputs": [],
   "source": [
    "df.dtypes"
   ]
  },
  {
   "cell_type": "markdown",
   "id": "765d215b-4fe7-4959-a8fd-57382bfcb4d4",
   "metadata": {},
   "source": [
    "###### Ex. Extraxt Salary col"
   ]
  },
  {
   "cell_type": "code",
   "execution_count": null,
   "id": "7440864f-1b35-4323-9275-4c912d39dcb9",
   "metadata": {},
   "outputs": [],
   "source": [
    "df.Salary"
   ]
  },
  {
   "cell_type": "code",
   "execution_count": null,
   "id": "0a969240-903d-4694-a1c2-59207e05ca17",
   "metadata": {},
   "outputs": [],
   "source": [
    "df[\"Salary\"]"
   ]
  },
  {
   "cell_type": "markdown",
   "id": "879d21ac-6dc4-4e8c-8461-296d938632f4",
   "metadata": {},
   "source": [
    "###### Ex. Extract Name and Salary"
   ]
  },
  {
   "cell_type": "code",
   "execution_count": null,
   "id": "6cff50c8-9ede-4419-94e8-4210b94cf7d8",
   "metadata": {},
   "outputs": [],
   "source": [
    "df[[\"Name\", \"Salary\"]].head(2)"
   ]
  },
  {
   "cell_type": "markdown",
   "id": "b5ac14e6-0d5d-4a33-8f0c-bca18a961d9b",
   "metadata": {},
   "source": [
    "#### Filtering Data"
   ]
  },
  {
   "cell_type": "markdown",
   "id": "31e3b0f7-e8ba-4c19-b619-25b243d9be3d",
   "metadata": {},
   "source": [
    "###### Ex. Find avg salary of managers"
   ]
  },
  {
   "cell_type": "code",
   "execution_count": null,
   "id": "27f21426-b34a-400c-9372-aa96f718ccec",
   "metadata": {},
   "outputs": [],
   "source": [
    "(df.Designation == \"Manager\").any()"
   ]
  },
  {
   "cell_type": "code",
   "execution_count": null,
   "id": "d4c9c36d-b9f2-4535-8324-47395ff01856",
   "metadata": {},
   "outputs": [],
   "source": [
    "df[df.Designation == \"Manager\"]"
   ]
  },
  {
   "cell_type": "code",
   "execution_count": null,
   "id": "406c165a-96c6-4682-b576-45477b6a5044",
   "metadata": {},
   "outputs": [],
   "source": [
    "df[df.Designation == \"Manager\"].Salary.mean().round(2)"
   ]
  },
  {
   "cell_type": "markdown",
   "id": "fc9c97b1-ca95-4e47-9bf8-a2da70cea9a3",
   "metadata": {},
   "source": [
    "###### Ex. Are there any employee who age is more than 40 years?"
   ]
  },
  {
   "cell_type": "code",
   "execution_count": null,
   "id": "ca637307-b412-434e-83d9-70d8ff590974",
   "metadata": {},
   "outputs": [],
   "source": [
    "(df.Age >= 40).any()"
   ]
  },
  {
   "cell_type": "markdown",
   "id": "06bb17cb-ff21-4cd7-b320-b470b71294fb",
   "metadata": {},
   "source": [
    "###### Ex. How many employees have age > 40?"
   ]
  },
  {
   "cell_type": "code",
   "execution_count": null,
   "id": "f2b3fc76-54c1-4b37-940e-0cc73822cd7d",
   "metadata": {},
   "outputs": [],
   "source": [
    "(df.Age >= 40).sum()"
   ]
  },
  {
   "cell_type": "markdown",
   "id": "4c3d3df8-5f69-4c0f-af92-1933c00062a6",
   "metadata": {},
   "source": [
    "###### Ex. Name the employees whoes age is > 40"
   ]
  },
  {
   "cell_type": "code",
   "execution_count": null,
   "id": "0593c96a-43a3-4a90-8d13-4df10685bedb",
   "metadata": {},
   "outputs": [],
   "source": [
    "df[df.Age >= 40].Name  # Returns series object"
   ]
  },
  {
   "cell_type": "code",
   "execution_count": null,
   "id": "584fd633-15d1-4b26-8464-0a542f76a4f1",
   "metadata": {},
   "outputs": [],
   "source": [
    "df[df.Age >= 40].Name.to_list()"
   ]
  },
  {
   "cell_type": "markdown",
   "id": "377bcd6f-0efd-4e1c-8507-d3815b330a7a",
   "metadata": {},
   "source": [
    "###### Ex. Extract employees whoes age is in range of 25-45 and give the count"
   ]
  },
  {
   "cell_type": "code",
   "execution_count": null,
   "id": "303ebc68-eada-46c8-8ca6-9e53cae72efb",
   "metadata": {},
   "outputs": [],
   "source": [
    "(df.Age.between(25, 45)).sum()"
   ]
  },
  {
   "cell_type": "code",
   "execution_count": null,
   "id": "cc045f98-f188-443e-b886-89941e7f2952",
   "metadata": {},
   "outputs": [],
   "source": [
    "df[df.Age.between(25, 45)].shape[0]"
   ]
  },
  {
   "cell_type": "code",
   "execution_count": null,
   "id": "538aef63-9763-43e9-95a9-b7f0ea8ea7a9",
   "metadata": {},
   "outputs": [],
   "source": [
    "print(df[df.Age.between(25, 45)].Name.to_list())"
   ]
  },
  {
   "cell_type": "markdown",
   "id": "dc9c8a1f-a0e1-41a4-9d90-f05b4e9586aa",
   "metadata": {},
   "source": [
    "###### Ex. Give names of employees who are Managers and Team Leaders"
   ]
  },
  {
   "cell_type": "code",
   "execution_count": null,
   "id": "0ee791ea-502e-4070-a67b-2930b25b7a3c",
   "metadata": {},
   "outputs": [],
   "source": [
    "df[df.Designation.isin((\"Manager\", \"Team Lead\"))].Name"
   ]
  },
  {
   "cell_type": "markdown",
   "id": "4fa7c2a2-549f-4515-89f6-354a1b0ce789",
   "metadata": {},
   "source": [
    "###### Ex. Give list employees who are Managers but age is less than 40"
   ]
  },
  {
   "cell_type": "code",
   "execution_count": null,
   "id": "e3e077ff-0ee4-4f6d-be10-79e3eec31efc",
   "metadata": {},
   "outputs": [],
   "source": [
    "np.logical_and(df.Age < 40, df.Designation == \"Manager\").sum()"
   ]
  },
  {
   "cell_type": "code",
   "execution_count": null,
   "id": "17240583-b87a-40a0-9758-1f47ebf59c80",
   "metadata": {},
   "outputs": [],
   "source": [
    "df[np.logical_and(df.Age < 40, df.Designation == \"Manager\")].Name"
   ]
  },
  {
   "cell_type": "markdown",
   "id": "80babd4e-c86b-4ebd-a8b1-d4c6b6695f0f",
   "metadata": {},
   "source": [
    "### Data Cleaning"
   ]
  },
  {
   "cell_type": "markdown",
   "id": "eb83a01a-2770-4ad2-adae-ee418bdab171",
   "metadata": {},
   "source": [
    "###### Ex. Read data from excel file"
   ]
  },
  {
   "cell_type": "code",
   "execution_count": null,
   "id": "045d0729-a94c-468e-9b90-7fc67293c79f",
   "metadata": {},
   "outputs": [],
   "source": [
    "pd.read_excel(\"coffee_sales.xlsx\", sheet_name=\"Sheet1\")  # just for reference"
   ]
  },
  {
   "cell_type": "markdown",
   "id": "a2372142-f760-4310-9924-7ddb4b2c2798",
   "metadata": {},
   "source": [
    "###### Ex. Read data from csv file"
   ]
  },
  {
   "cell_type": "code",
   "execution_count": null,
   "id": "7bff9126-36c8-452b-81b9-1e8f1d42c647",
   "metadata": {},
   "outputs": [],
   "source": [
    "df = pd.read_csv(\"coffee_sales.csv\", header=3)\n",
    "df.dropna(axis=1, how=\"all\", inplace=True)\n",
    "df.dropna(axis=0, how=\"all\", inplace=True)\n",
    "df.head()"
   ]
  },
  {
   "cell_type": "code",
   "execution_count": null,
   "id": "59c86621-b59a-4e13-951c-f1aef805cc6d",
   "metadata": {},
   "outputs": [],
   "source": [
    "obj = str.maketrans(\"\", \"\", \"$,\")\n",
    "df[\"Sales\"] = df[\"Sales\"].str.translate(obj).astype(float)\n",
    "df[\"Target Sales\"] = df[\"Target Sales\"].str.translate(obj).astype(float)\n",
    "df[\"Profit\"] = df[\"Profit\"].str.translate(obj).astype(float)\n",
    "df[\"Target Profit\"] = df[\"Target Profit\"].str.translate(obj).astype(float)"
   ]
  },
  {
   "cell_type": "code",
   "execution_count": null,
   "id": "9df454ee-7056-46f6-8509-55d647a1f839",
   "metadata": {},
   "outputs": [],
   "source": [
    "df.head(2)"
   ]
  }
 ],
 "metadata": {
  "kernelspec": {
   "display_name": "Python 3 (ipykernel)",
   "language": "python",
   "name": "python3"
  },
  "language_info": {
   "codemirror_mode": {
    "name": "ipython",
    "version": 3
   },
   "file_extension": ".py",
   "mimetype": "text/x-python",
   "name": "python",
   "nbconvert_exporter": "python",
   "pygments_lexer": "ipython3",
   "version": "3.12.4"
  }
 },
 "nbformat": 4,
 "nbformat_minor": 5
}
