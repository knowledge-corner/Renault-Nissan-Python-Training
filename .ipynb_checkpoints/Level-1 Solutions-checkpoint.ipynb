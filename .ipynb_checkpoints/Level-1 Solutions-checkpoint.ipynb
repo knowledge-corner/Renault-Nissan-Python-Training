{
 "cells": [
  {
   "cell_type": "markdown",
   "id": "242f9316-9427-43d7-984f-b7c328e79601",
   "metadata": {},
   "source": [
    "# Data Analysis with Python"
   ]
  },
  {
   "cell_type": "markdown",
   "id": "320e3100-f9bb-4f75-b4aa-fa2c031d0a48",
   "metadata": {
    "jp-MarkdownHeadingCollapsed": true
   },
   "source": [
    "## Learning Objectives"
   ]
  },
  {
   "cell_type": "markdown",
   "id": "45300f31-1ac0-4cc1-88c3-d75e0d77dbc7",
   "metadata": {
    "jp-MarkdownHeadingCollapsed": true
   },
   "source": [
    "- Types of Data\n",
    "- Population and Sample and its characteristics\n",
    "- Arrays and Dataframes - accessing data and performing operations on data\n",
    "- Types of Variables - features and labels\n",
    "- Descriptive Statistics and EDA\n",
    "    - Univariate Analysis\n",
    "    - Bivariate Analysis\n",
    "    - Handling Null Values\n",
    "    - Handling Outliers\n",
    "    - Hypothesis Testing\n",
    "- Introduction to Machine Learning and its types\n",
    "- Linear Regression\n",
    "- Logistic Regression"
   ]
  },
  {
   "cell_type": "markdown",
   "id": "a1ace9b9-d567-44a3-b20f-9de6ac0dcdd6",
   "metadata": {
    "jp-MarkdownHeadingCollapsed": true
   },
   "source": [
    "## Types of data "
   ]
  },
  {
   "cell_type": "markdown",
   "id": "15325bbd-c24d-47c6-898a-95d48974d62b",
   "metadata": {},
   "source": [
    "#### Numerical (Quantitative) Data:\n",
    "\n",
    "Numerical data consists of numbers and is measured on a continuous or discrete scale.\n",
    "- Continuous numerical data can take any value within a range (e.g., height, temperature).\n",
    "- Discrete numerical data can take only specific, distinct values (e.g., number of siblings, number of cars).\n",
    "\n",
    "#### Categorical (Qualitative) Data:\n",
    "\n",
    "Categorical data represents categories or labels and is not inherently numerical.\n",
    "- Nominal categorical data has categories with no inherent order or ranking (e.g., gender, eye color).\n",
    "- Ordinal categorical data has categories with a specific order or ranking (e.g., education level, socioeconomic status)."
   ]
  },
  {
   "cell_type": "markdown",
   "id": "534810a8-5e6f-42fa-96c0-0236d523b533",
   "metadata": {
    "jp-MarkdownHeadingCollapsed": true
   },
   "source": [
    "## Population and Sample"
   ]
  },
  {
   "cell_type": "markdown",
   "id": "4b25ea0c-e20d-45a5-9e2f-242138c7214f",
   "metadata": {},
   "source": [
    "#### Population:\n",
    "\n",
    "The population is the entire group or set of individuals, items, or elements that you are interested in studying and drawing conclusions about. It represents the complete set of possible observations that share a common characteristic or attribute.\n",
    "For example, if you are studying the heights of all adult males in a country, the population would consist of the heights of all adult males in that country.\n",
    "\n",
    "#### Sample:\n",
    "\n",
    "A sample is a subset or a smaller representative group selected from the population.\n",
    "It is used to make inferences or draw conclusions about the population without having to collect data from every individual in the population.\n",
    "\n",
    "The process of selecting a sample from the population is known as sampling.\n",
    "For example, instead of measuring the heights of all adult males in a country (which may be impractical or too costly), you might select a random sample of adult males and measure their heights to estimate the average height of the entire population.\n",
    "\n",
    "#### Key points to note about population and sample:\n",
    "\n",
    "- The population represents the entire group under study, while the sample represents a subset of that group.\n",
    "- In many cases, it is not feasible or practical to collect data from the entire population, so researchers use samples to make inferences about the population.\n",
    "- The goal of sampling is to obtain a representative sample that accurately reflects the characteristics of the population.\n",
    "Statistical techniques are used to analyze sample data and make generalizations or predictions about th##e population.\n",
    "\n",
    "#### Characteristics of Population\n",
    "\n",
    "- Mean (Average): The mean of a population is the average value of a quantitative variable across all individuals in the population. It represents the central tendency of the population distribution.\n",
    "\n",
    "- Median: The median of a population is the middle value of a quantitative variable when all observations are arranged in ascending order. It is another measure of central tendency that is less affected by extreme values (outliers) compared to the mean.\n",
    "\n",
    "- Mode: The mode of a population is the most frequently occurring value or category of a variable. It represents the value with the highest frequency in the population distribution.\n",
    "\n",
    "- Variance: The variance of a population measures the spread or dispersion of values around the mean. It quantifies the average squared deviation of individual observations from the mean.\n",
    "\n",
    "- Standard Deviation: The standard deviation of a population is the square root of the variance. It provides a measure of the average distance between individual observations and the mean.\n",
    "\n",
    "- Range: The range of a population is the difference between the maximum and minimum values of a variable. It provides a simple measure of the spread of values in the population.\n",
    "\n",
    "- Distribution: The distribution of a population describes how the values of a variable are spread or distributed across the population. Common types of distributions include normal (bell-shaped), skewed (asymmetric), and ##uniform (evenly distributed).\n",
    "\n",
    "#### Characteristics of a Sample\n",
    "\n",
    "- Sample Size: The sample size is the number of observations or individuals included in the sample. It represents the amount of data available for analysis and inference.\n",
    "- Sampling Method: The sampling method describes how the sample was selected from the population. Common sampling methods include simple random sampling, stratified sampling, cluster sampling, and systematic sampling.\n",
    "\n",
    "- Descriptive Statistics: Descriptive statistics summarize the main features of the sample data. Common descriptive statistics include measures of central tendency (mean, median, mode), measures of dispersion (range, variance, standard deviation), and measures of shape (skewness, kurtosis).\n",
    "\n",
    "- Sample Proportion: The sample proportion represents the fraction or percentage of observations with a specific attribute or characteristic in the sample. It provides insights into the relative frequency of different categories in the sample.\n",
    "\n",
    "- Confidence Interval: The confidence interval is a range of values that is likely to contain the true population parameter with a certain level of confidence. It is used to estimate the precision or uncertainty of sample statistics, such as the sample mean or proportion.\n",
    "\n",
    "- Sampling Bias: Sampling bias refers to the systematic distortion or deviation of the sample from the population due to the sampling method used. It can affect the representativeness and generalizability of the sample data to the population. the sample data to the population. distributed)."
   ]
  },
  {
   "cell_type": "markdown",
   "id": "d5c9e14a-7a71-4d9b-95bb-251bad26d6a1",
   "metadata": {},
   "source": [
    "<hr><hr>"
   ]
  },
  {
   "cell_type": "markdown",
   "id": "522ba259-e857-4dfb-a07c-ca8fb398f536",
   "metadata": {
    "jp-MarkdownHeadingCollapsed": true
   },
   "source": [
    "## Arrays and Dataframes"
   ]
  },
  {
   "cell_type": "code",
   "execution_count": null,
   "id": "39ce4dfe-ae3f-4346-9ec6-8d9c5940bc49",
   "metadata": {},
   "outputs": [],
   "source": [
    "import numpy as np  # has all functions required for basic numeric calculations\n",
    "import pandas as pd  # has Dataframe object and is used to store and manipulate data\n",
    "import matplotlib.pyplot as plt  # used for data visualization (base library)\n",
    "import seaborn as sns  # used for data viz (wrapper over matplotlib)\n",
    "import scipy.stats as stats  # for statistical functions\n",
    "\n",
    "# Optional Parameters -\n",
    "%matplotlib inline\n",
    "pd.options.display.float_format = '{:.2f}'.format\n",
    "plt.rcParams['figure.figsize'] = (4, 3)\n",
    "# plt.rcParams['font.size'] = 10\n",
    "\n",
    "import warnings\n",
    "warnings.filterwarnings('ignore')"
   ]
  },
  {
   "cell_type": "markdown",
   "id": "9ea4b1e8-b5f0-40c3-ba58-72b27388dd4a",
   "metadata": {},
   "source": [
    "### Examples on arrays"
   ]
  },
  {
   "cell_type": "code",
   "execution_count": null,
   "id": "53f52876-6d67-46af-9a1d-9f9aa35d7258",
   "metadata": {},
   "outputs": [],
   "source": [
    "names = np.array(['Claire', 'Darrin', 'Sean', 'Brosina', 'Andrew', 'Irene', 'Harold', 'Pete', 'Alejandro', 'Zuschuss', 'Ken', 'Sandra', 'Emily', 'Eric','Tracy', 'Matt', 'Gene', 'Steve', 'Linda', 'Ruben', 'Erin', 'Odella', 'Patrick', 'Lena', 'Darren', 'Janet', 'Ted', 'Kunst', 'Paul', 'Brendan'])\n",
    "ages = np.array([35, 26, 36, 44, 33, 33, 23, 22, 35, 53, 25, 41, 24, 31, 34, 43, 22, 29, 35, 25, 47, 22, 26, 52, 25, 25, 27, 24, 27, 30])\n",
    "salary = np.array([ 88962,  67659, 117501, 149957,  32212,  63391,  14438,  22445, 72287, 195588,  17240, 115116,  18027,  55891, 109132,  83327, 22125,  29324,  54003,  18390, 141401,  19593,  57093, 130556, 22093,  13058,  26180,  23259,  34248,  27416])\n",
    "designation = np.array(['Manager', 'Team Lead', 'Manager', 'Senior Manager', 'Team Lead', 'Team Lead', 'Developer', 'Developer', 'Team Lead', 'Managing Director', 'Developer', 'Manager', 'Developer','Team Lead', 'Manager', 'Manager', 'Developer', 'Team Lead','Team Lead', 'Developer', 'Senior Manager', 'Developer', 'Team Lead', 'Senior Manager', 'Developer', 'Developer','Team Lead', 'Developer', 'Team Lead', 'Team Lead'])"
   ]
  },
  {
   "cell_type": "markdown",
   "id": "7ba48a8b-cf8f-4000-ae7c-0d6f2e46e29c",
   "metadata": {},
   "source": [
    "###### Extract the ages greater than 40"
   ]
  },
  {
   "cell_type": "code",
   "execution_count": null,
   "id": "13ed0a06-03c5-4ddd-8fd9-e7a16eb6cf3f",
   "metadata": {},
   "outputs": [],
   "source": [
    "ages[ages > 40]"
   ]
  },
  {
   "cell_type": "markdown",
   "id": "6f11b7da-cbf2-4305-8d10-e11abca6981d",
   "metadata": {},
   "source": [
    "###### Extract names of the employees whose age greater than 40"
   ]
  },
  {
   "cell_type": "code",
   "execution_count": null,
   "id": "1e7e86f6-1cb6-43bc-9422-ebd85794d4db",
   "metadata": {},
   "outputs": [],
   "source": [
    "names[ages > 40]"
   ]
  },
  {
   "cell_type": "markdown",
   "id": "25117f7c-12df-4aab-854e-f6f0abaa1b29",
   "metadata": {},
   "source": [
    "###### Apply 7% hike on salary to all employes in the array"
   ]
  },
  {
   "cell_type": "code",
   "execution_count": null,
   "id": "1e953e7c-9b37-4276-926d-311a10c89cdf",
   "metadata": {},
   "outputs": [],
   "source": [
    "salary * 1.07"
   ]
  },
  {
   "cell_type": "markdown",
   "id": "d7b2a386-3dc6-469a-b6ae-b63ddf19fda4",
   "metadata": {},
   "source": [
    "###### Apply 7% hike to all employes whose age is greater_eq than 40 and 10% hike to employees whose age is less than 40"
   ]
  },
  {
   "cell_type": "code",
   "execution_count": null,
   "id": "555bf42e-e54c-47d5-bceb-e33b4727671e",
   "metadata": {},
   "outputs": [],
   "source": [
    "salary[ages>= 40] = salary[ages>= 40] * 1.07"
   ]
  },
  {
   "cell_type": "code",
   "execution_count": null,
   "id": "649dcb1e-0738-4457-b88d-6d335f38654c",
   "metadata": {},
   "outputs": [],
   "source": [
    "salary[ages < 40] = salary[ages < 40] * 1.10"
   ]
  },
  {
   "cell_type": "markdown",
   "id": "9c0e86dd-b1a9-49ee-b35c-6ee31b7104d0",
   "metadata": {},
   "source": [
    "###### Generate 10 random numbers between 10-50"
   ]
  },
  {
   "cell_type": "code",
   "execution_count": null,
   "id": "d11eccfe-a6ab-4fad-906e-5f902247633c",
   "metadata": {},
   "outputs": [],
   "source": [
    "arr1 = np.random.randint(10, 50, size = 10)\n",
    "arr1"
   ]
  },
  {
   "cell_type": "code",
   "execution_count": null,
   "id": "fa33a396-cefe-4f04-8753-b84466408ae6",
   "metadata": {},
   "outputs": [],
   "source": [
    "arr2 = np.random.randint(10, 50, size = 10)\n",
    "arr2"
   ]
  },
  {
   "cell_type": "markdown",
   "id": "c7cade7f-5e39-4808-84ba-d9d05a99f09b",
   "metadata": {},
   "source": [
    "###### Find unique elements from arr1"
   ]
  },
  {
   "cell_type": "code",
   "execution_count": null,
   "id": "35073b31-fe68-48c3-89a3-1681af1252b8",
   "metadata": {},
   "outputs": [],
   "source": [
    "np.unique(arr1)"
   ]
  },
  {
   "cell_type": "markdown",
   "id": "17303a98-cb43-44c9-84ce-d90dedd191a9",
   "metadata": {},
   "source": [
    "###### Find the elements of arr1 also present in arr2"
   ]
  },
  {
   "cell_type": "code",
   "execution_count": null,
   "id": "65acf25b-220d-480e-8a95-9c4557666884",
   "metadata": {},
   "outputs": [],
   "source": [
    "np.in1d(arr1, arr2)"
   ]
  },
  {
   "cell_type": "code",
   "execution_count": null,
   "id": "e4cab418-7397-43c5-8b46-722d41ca3ec7",
   "metadata": {},
   "outputs": [],
   "source": [
    "arr1[np.in1d(arr1, arr2)]"
   ]
  },
  {
   "cell_type": "markdown",
   "id": "93962bc5-a9d1-4134-ba58-e16b6cbd6454",
   "metadata": {},
   "source": [
    "###### Are all elements of arr1 present in arr2"
   ]
  },
  {
   "cell_type": "code",
   "execution_count": null,
   "id": "71700f02-f5b9-4c9e-b87b-456fe126def3",
   "metadata": {},
   "outputs": [],
   "source": [
    "np.all(np.in1d(arr1, arr2))  # retuns True if all the values in the array are True"
   ]
  },
  {
   "cell_type": "code",
   "execution_count": null,
   "id": "456b72ac-74ac-4422-83b5-412cf09dc3b4",
   "metadata": {},
   "outputs": [],
   "source": [
    "np.any(np.in1d(arr1, arr2))  # returns True if any 1 value in the array is True"
   ]
  },
  {
   "cell_type": "markdown",
   "id": "094e2b9e-5510-45c2-8359-d91608052b15",
   "metadata": {},
   "source": [
    "### Examples on Dataframes"
   ]
  },
  {
   "cell_type": "code",
   "execution_count": null,
   "id": "e1dcccf9-333f-4e46-bb52-051f00aee88f",
   "metadata": {},
   "outputs": [],
   "source": [
    "df = pd.DataFrame({\"Name\" : names, \"Age\":ages, \"Salary\" : salary, \"Designation\" : designation})\n",
    "df.head()"
   ]
  },
  {
   "cell_type": "markdown",
   "id": "c88b4bfc-fe3c-4ae2-b41c-710fc13cac2d",
   "metadata": {},
   "source": [
    "###### Ex. Display all the Developers in the DF"
   ]
  },
  {
   "cell_type": "code",
   "execution_count": null,
   "id": "a3fdb3d2-ea8a-4402-a309-1681114d33ba",
   "metadata": {},
   "outputs": [],
   "source": [
    "df[df.Designation == \"Developer\"]"
   ]
  },
  {
   "cell_type": "markdown",
   "id": "fe39fe2a-1f51-469c-924d-22f56c54f301",
   "metadata": {},
   "source": [
    "###### Ex. Display details of employees whose salary is in the range of 50k-80k"
   ]
  },
  {
   "cell_type": "code",
   "execution_count": null,
   "id": "ce8c7cd1-ba6f-4d8c-9f22-cc6f48bee427",
   "metadata": {},
   "outputs": [],
   "source": [
    "df[df.Salary.between(50000, 80000)]"
   ]
  },
  {
   "cell_type": "markdown",
   "id": "76e9ea28-0229-4cb9-ab73-ce1f2cb95750",
   "metadata": {},
   "source": [
    "###### Ex. Display employees in DESC sorted order of salaries "
   ]
  },
  {
   "cell_type": "code",
   "execution_count": null,
   "id": "3d650a8d-bd9c-4e53-a5a7-da192ea0b397",
   "metadata": {},
   "outputs": [],
   "source": [
    "df.sort_values(\"Salary\", ascending=False)"
   ]
  },
  {
   "cell_type": "markdown",
   "id": "7143bc85-cd5d-48aa-8652-dac8f24e9838",
   "metadata": {},
   "source": [
    "###### Ex. Extract first 10 rows based on index positions"
   ]
  },
  {
   "cell_type": "code",
   "execution_count": null,
   "id": "fe4cfc80-e684-4970-84a1-50331c8495bb",
   "metadata": {},
   "outputs": [],
   "source": [
    "df.Salary"
   ]
  },
  {
   "cell_type": "code",
   "execution_count": null,
   "id": "c9129cb9-58b8-4dd8-83f6-fcab2144b4d7",
   "metadata": {},
   "outputs": [],
   "source": [
    "df.iloc[0:10]"
   ]
  },
  {
   "cell_type": "code",
   "execution_count": null,
   "id": "aac3ee70-6fcb-4f4c-8179-7bb67be3eacf",
   "metadata": {},
   "outputs": [],
   "source": [
    "data = df.loc[df.Salary.between(50000, 80000)]"
   ]
  },
  {
   "cell_type": "markdown",
   "id": "a1acb667-f890-4ad3-b9a2-4076378ac8b7",
   "metadata": {},
   "source": [
    "#### Adding columns and dropping columns"
   ]
  },
  {
   "cell_type": "code",
   "execution_count": null,
   "id": "4897fce9-a751-4790-9049-f25243e8ebd0",
   "metadata": {},
   "outputs": [],
   "source": [
    "df[\"Salary after hike\"] = df.Salary * 1.07\n",
    "df.head()"
   ]
  },
  {
   "cell_type": "code",
   "execution_count": null,
   "id": "396b1c05-6f61-432e-a4f1-7e7a2d77e419",
   "metadata": {},
   "outputs": [],
   "source": [
    "df.drop(columns=[\"Salary after hike\"], inplace=True)"
   ]
  },
  {
   "cell_type": "code",
   "execution_count": null,
   "id": "16b55e11-1976-4fd3-86b2-372a39c3c392",
   "metadata": {},
   "outputs": [],
   "source": [
    "df.head()"
   ]
  },
  {
   "cell_type": "code",
   "execution_count": null,
   "id": "daa0300a-9775-4fa5-9291-cf806932b5a5",
   "metadata": {},
   "outputs": [],
   "source": [
    "df.rename({\"Salary\" : \"Base Salary\"}, inplace=True, axis=1)\n",
    "df.head()"
   ]
  },
  {
   "cell_type": "markdown",
   "id": "45e143b1-cd58-44f0-86c0-7ae9b11e635a",
   "metadata": {},
   "source": [
    "#### Concatenating Dataframes"
   ]
  },
  {
   "cell_type": "markdown",
   "id": "e70d66c0-18c6-47d7-ab20-981a140ee7b4",
   "metadata": {},
   "source": [
    "#### np.where() and np.select()"
   ]
  },
  {
   "cell_type": "markdown",
   "id": "87cc609b-0920-4844-9e11-65ebc9d97af6",
   "metadata": {},
   "source": [
    "###### Salary increment by designation"
   ]
  },
  {
   "cell_type": "code",
   "execution_count": null,
   "id": "1a1251e0-d228-4e88-826d-c70b49c54d3a",
   "metadata": {},
   "outputs": [],
   "source": [
    "# Using multiple conditions to generate result using np.select()\n",
    "conditions = [df.Designation.isin(['Developer','Team Lead']), df.Designation == 'Manager', \n",
    "              df.Designation.isin([ 'Managing Director','Team Lead', 'Senior Manager']) ]\n",
    "increments = [df[\"Base Salary\"] * 1.10, df[\"Base Salary\"] * 1.09, df[\"Base Salary\"] * 1.08]\n",
    "new_sal = pd.DataFrame({\"New Salary\" : np.select(conditions, increments) })"
   ]
  },
  {
   "cell_type": "code",
   "execution_count": null,
   "id": "c7a4aa5f-c526-499e-a506-4126281b4753",
   "metadata": {},
   "outputs": [],
   "source": [
    "pd.concat((df, new_sal), axis=1)"
   ]
  },
  {
   "cell_type": "code",
   "execution_count": null,
   "id": "cc7a132b-8371-4712-9422-a5f2049d3d23",
   "metadata": {},
   "outputs": [],
   "source": [
    "# Using single conditions to generate result using np.where()\n",
    "np.where(df.Designation == \"Developer\", df[\"Base Salary\"] * 1.10, df[\"Base Salary\"] * 1.09)"
   ]
  },
  {
   "cell_type": "markdown",
   "id": "73501a4f-ab44-4b4c-8bf6-37ff17f0d2c4",
   "metadata": {},
   "source": [
    "##### Note - Be careful with the objects returned by np.where and np.select. Returns an array object"
   ]
  },
  {
   "cell_type": "markdown",
   "id": "8fed1a06-c180-45f3-aff9-e1ab901b61f1",
   "metadata": {},
   "source": [
    "#### Operations on DF"
   ]
  },
  {
   "cell_type": "code",
   "execution_count": null,
   "id": "937dfd3b-2baf-4df7-ab3e-a9e461d6cadd",
   "metadata": {},
   "outputs": [],
   "source": [
    "num_data = pd.DataFrame({\"Name\" : [\"Jane\", \"Sam\", \"Bill\"],\n",
    "                         \"English\" :[10, 20, 30], \"Maths\":[20, 40, 60], \"Science\" : [30, 20, 80]})\n",
    "num_data"
   ]
  },
  {
   "cell_type": "markdown",
   "id": "3334bd7d-a499-4c19-99f8-2deb2445fb50",
   "metadata": {},
   "source": [
    "###### Calculate total marks"
   ]
  },
  {
   "cell_type": "code",
   "execution_count": null,
   "id": "d6a32dfe-2776-4cc5-a11d-ecc2004e1e68",
   "metadata": {},
   "outputs": [],
   "source": [
    "num_data.sum()"
   ]
  },
  {
   "cell_type": "code",
   "execution_count": null,
   "id": "1e32c9ef-f073-4f63-af29-ba2c81529c69",
   "metadata": {},
   "outputs": [],
   "source": [
    "num_data.select_dtypes(\"number\")"
   ]
  },
  {
   "cell_type": "code",
   "execution_count": null,
   "id": "49293874-7e23-4684-9536-f6f1f51005e2",
   "metadata": {},
   "outputs": [],
   "source": [
    "num_data.select_dtypes(\"number\").sum(axis=1)  # performing sum() row-wise or horizantly"
   ]
  },
  {
   "cell_type": "code",
   "execution_count": null,
   "id": "7cb4b48c-859d-4f8b-aba8-c3665d6960ab",
   "metadata": {},
   "outputs": [],
   "source": [
    "num_data[\"Total Marks\"] = num_data.select_dtypes(\"number\").sum(axis=1)\n",
    "num_data[\"Percentage\"] = (num_data[\"Total Marks\"]/3).round(2)\n",
    "num_data[\"Rank\"]= num_data[\"Total Marks\"].rank(ascending=False).astype(int)\n",
    "num_data"
   ]
  },
  {
   "cell_type": "markdown",
   "id": "fa051656-5e37-4395-9499-a5465204bc81",
   "metadata": {},
   "source": [
    "#### map(), replace() and apply()"
   ]
  },
  {
   "cell_type": "code",
   "execution_count": null,
   "id": "d272e469-6039-42eb-afd9-92012c2b00af",
   "metadata": {},
   "outputs": [],
   "source": [
    "df.head(2)"
   ]
  },
  {
   "cell_type": "code",
   "execution_count": null,
   "id": "19002035-1132-4ab1-aca7-98fe0361e5ed",
   "metadata": {},
   "outputs": [],
   "source": [
    "new_values = {'Managing Director' : \"MD\", 'Senior Manager' : \"SM\", 'Manager' : \"MN\", \n",
    "              'Team Lead' : \"TL\", 'Developer' : \"DL\"}\n",
    "df[\"Designation\"].map(new_values)"
   ]
  },
  {
   "cell_type": "code",
   "execution_count": null,
   "id": "87dcd426-86e5-4e73-bd6a-b2c64f7717f6",
   "metadata": {},
   "outputs": [],
   "source": [
    "# map using function object to handle defaults\n",
    "new_values = {'Senior Manager' : \"SM\", 'Manager' : \"MN\", 'Team Lead' : \"TL\", 'Developer' : \"DL\"}\n",
    "df[\"Designation\"].map(lambda val : new_values.get(val, \"unknown\"))"
   ]
  },
  {
   "cell_type": "code",
   "execution_count": null,
   "id": "2fe786c7-e5b0-47df-b1d0-c0f68bd82966",
   "metadata": {},
   "outputs": [],
   "source": [
    "new_values = {'Managing Director' : \"MD\", 'Senior Manager' : \"SM\", 'Manager' : \"MN\", \n",
    "              'Team Lead' : \"TL\", 'Developer' : \"DL\"}\n",
    "df.replace(new_values)  # inplace = true will modify original DF"
   ]
  },
  {
   "cell_type": "markdown",
   "id": "cf372c7d-91c1-4113-94be-fb6d2558a05f",
   "metadata": {},
   "source": [
    "<hr><hr>"
   ]
  },
  {
   "cell_type": "markdown",
   "id": "3cb0025b-9a0a-4e88-9ce9-34a9af14a53c",
   "metadata": {
    "jp-MarkdownHeadingCollapsed": true
   },
   "source": [
    "## Types of Variables "
   ]
  },
  {
   "cell_type": "markdown",
   "id": "887272e7-e1d0-4579-b919-703eefdee11b",
   "metadata": {
    "jp-MarkdownHeadingCollapsed": true
   },
   "source": [
    "- Features: Features, also known as independent variables or input variables, are the attributes or characteristics of the data that are used as input to the machine learning model to make predictions. Features represent the variables that the model learns from to make predictions or classifications. Each feature can be either numerical or categorical and may have different scales or levels of measurement.\n",
    "\n",
    "- Labels: Labels, also known as target variables or dependent variables, are the outputs or predictions that the machine learning model aims to predict based on the input features. Labels represent the target variable that the model is trying to learn or predict. In supervised learning tasks, the labels are typically known for a subset of the data, and the goal is to train the model to accurately predict the labels for unseen data."
   ]
  },
  {
   "cell_type": "markdown",
   "id": "6ccf7471-e18a-4b7f-827d-4589e24eacf2",
   "metadata": {
    "jp-MarkdownHeadingCollapsed": true
   },
   "source": [
    "## Descriptive Statistics"
   ]
  },
  {
   "cell_type": "markdown",
   "id": "2f836be2-137a-4ee4-afbc-cd217bca2078",
   "metadata": {},
   "source": [
    "Descriptive statistics deals with summarizing and describing the features of a dataset or sample. Descriptive statistics provides a summary of the main features of the data, including measures of central tendency, dispersion, shape, and relationships between variables.\n",
    "\n",
    "#### Measures of Central Tendency:\n",
    "    - Mean: The average value of the data points.\n",
    "    - Median: The middle value of the data when arranged in ascending order.\n",
    "    - Mode: The most frequently occurring value in the dataset.\n",
    "\n",
    "#### Measures of Dispersion:\n",
    "    - Range: The difference between the maximum and minimum values in the dataset.\n",
    "    - Variance: The average of the squared differences from the mean.\n",
    "    - Standard Deviation: The square root of the variance, representing the average deviation from the mean.\n",
    "\n",
    "#### Measures of Shape:\n",
    "    - Skewness: A measure of the asymmetry of the distribution.\n",
    "        - Positive skewness indicates a longer right tail and a concentration of data on the left side.\n",
    "        - Negative skewness indicates a longer left tail and a concentration of data on the right side.\n",
    "        - Skewness close to zero indicates approximate symmetry around the mean.\n",
    "\n",
    "    - Kurtosis: A measure of the \"peakedness\" or \"flatness\" of the distribution.\n",
    "        - Positive kurtosis indicates heavy tails and a sharp peak (leptokurtic).\n",
    "        - Negative kurtosis indicates light tails and a flat peak (platykurtic).\n",
    "        - A kurtosis of 0 indicates a distribution with similar tails to the normal distribution (mesokurtic).\n",
    "\n",
    "#### Frequency Distribution:\n",
    "    - Frequency table: A table that shows the frequency or count of each value in the dataset.\n",
    "    - Histogram: A graphical representation of the frequency distribution, showing the distribution of values in bins or intervals.\n",
    "\n",
    "#### Measures of Association:\n",
    "    - Correlation: A measure of the strength and direction of the linear relationship between two variables.\n",
    "    - Covariance: A measure of the joint variability between two variables."
   ]
  },
  {
   "cell_type": "markdown",
   "id": "969a8a63-3d03-4763-a400-1c3f1a5b087c",
   "metadata": {},
   "source": [
    "### Example 1 - \n",
    "- Find Mean, Median, Mode, Range, Standard Deviation, Skewness, Kurtosis, Frequency Distribution - Histogram"
   ]
  },
  {
   "cell_type": "code",
   "execution_count": null,
   "id": "025f8aad-4bc2-40d8-9df2-cc33034f8e42",
   "metadata": {},
   "outputs": [],
   "source": [
    "# dataset consists of weights children in the age group of 0 to 10 years\n",
    "weights = np.array([20.8,15.3,23.2,15.5,17.5,27.3,23.3,20.5,16.4,17.4,22.6,20.8,16.7,29.1,14.2,18.5,17.6,17.1,18.2,26.0,25.6,19.1,17.8,21.6,19.6,28.4,19.4,22.8,25.9,27.1,20.8,21.9,15.4,30.2,23.0,25.0,24.0,17.1,18.8,25.8,23.2,14.9,20.4,15.0,12.3,17.6,10.3,12.1,25.8,21.9,9.9,24.8,17.9,22.0,27.6,21.7,26.3,19.9,16.6,17.8,8.0,21.5,17.9,33.6,20.4,21.9,19.8,15.3,25.6,24.7,10.6,22.1,18.8,9.8,14.9,18.7,27.6,21.2,25.1,21.9,22.1,19.6,10.4,17.2,18.3,21.2,21.1,21.0,19.1,14.8,19.2,18.3,22.1,14.1,19.3,16.2,25.6,14.8,22.3,25.0,20.8,21.2,16.6,15.0,15.6,24.7,26.1,18.1,14.1,25.5,21.4,32.7,13.8,27.4,15.8,18.4,21.3,27.5,15.8,27.2,26.9,16.2,22.6,15.3,22.5,26.6,24.7,28.4,28.0,19.9,9.9,16.5,19.5,11.7,27.9,28.1,21.1,20.0,14.5,25.9,13.3,15.8,21.3,10.7,14.6,19.9,21.6,26.6,26.0,23.7,20.5,11.8,15.6,14.9,24.6,20.9,24.5,26.8,25.3,30.9,26.1,14.9,17.9,18.5,25.7,16.4,8.2,24.1,19.5,13.1,17.6,13.4,24.4,16.4,19.9,12.9,14.3,25.4,15.4,17.7,17.3,18.7,16.1,7.4,18.4,16.2,18.7,19.8,25.6,23.7,22.5,20.5,14.9,25.0,4.7,6.8,21.8,22.2,24.4,13.4,32.1,26.6,27.2,17.8,19.6,16.8,14.4,24.9,12.6,15.0,15.4,10.1,12.9,15.9,22.3,15.0,24.4,21.0,17.2,25.2,15.6,24.6,24.9,13.6,10.3,25.6,18.3,25.1,18.1,20.2,29.1,25.7,14.9,11.4,19.2,21.5,13.9,19.5,19.1,23.0,26.8,14.8,24.4,14.7,24.3,24.5,19.9,12.1,21.2,16.4,19.5,25.8,8.5,19.8,23.4,21.3,14.7,17.9,15.7,14.9,5.2,3.8,31.5,17.4,16.0,20.7,18.4,8.1,22.9,32.8,19.0,33.0,26.0,14.2,18.4,15.1,29.5,13.9,5.1,28.1,18.2,10.5,27.8,19.4,13.1,21.9,18.6,11.0,19.7,20.2,20.1,17.6,21.6,21.2,30.0,26.1,20.5,22.8,20.5,19.6,18.0,19.8,21.8,7.0,21.4,22.5,18.9,15.1,22.0,25.5,11.1,15.4,21.5,13.5,11.2,19.3,25.5,20.2,18.3,15.3,40.3,22.1,23.2,17.1,19.4,15.3,28.6,23.0,19.4,16.7,20.9,21.1,15.9,29.6,17.0,19.0,20.8,20.4,9.8,24.0,15.2,26.2,22.0,21.4,16.2,29.2,21.4,28.9,16.9,21.9,11.2,19.0,21.2,20.8,9.3,12.5,26.9,10.7,18.9,17.5,23.3,12.5,13.4,26.3,23.0,21.8,25.6,20.7,18.0,32.5,25.6,8.4,19.8,24.5,18.0,24.7,21.3,12.9,21.6,29.1,25.8,26.4,27.0,25.6,19.0,20.0,10.4,17.5,19.5,17.5,21.1,19.6,23.1,18.2,27.0,18.5,19.3,25.4,20.8,20.8,20.6,20.4,23.1,17.6,18.7,16.2,18.9,15.2,22.5,10.0,21.1,29.3,17.8,27.1,16.8,18.0,28.3,16.5,19.8,16.7,23.2,23.6,18.5,29.8,24.2,22.4,29.3,29.3,21.5,15.5,23.0,12.8,20.8,11.5,20.0,15.2,18.7,17.2,22.5,13.5,13.1,17.6,12.1,23.2,18.0,24.2,7.3,17.0,17.0,22.7,22.1,18.0,15.6,13.9,17.7,14.7,26.1,12.2,20.3,17.8,16.5,10.2,18.2,22.2,26.3,26.6,19.2,19.5,14.3,15.6,13.9,20.2,11.6,31.2,6.3,23.4,21.1,22.0,8.5,11.5,19.3,17.7,11.9,14.8,16.9,16.1,13.0,17.9,22.0,14.2,13.9,25.4,21.1,16.3,16.4,19.3,18.3,23.0,27.4,24.2,14.9,12.7,16.7,17.8,19.5,14.9,23.9,15.2,25.4,22.9,25.2,12.7,26.0,26.7,15.8,24.9,24.4,15.5,20.0,7.8,20.6,19.0,29.8,14.1,14.1,17.8,24.9,20.7,19.8,24.2,16.7,21.3,23.7,20.9,23.6,25.3,9.9,21.7,16.7,10.3,18.9,25.2,12.7,27.4,21.4,23.0,11.8,22.1,13.0,20.0,27.2,19.8,16.9,18.8,25.0,9.0,19.0,11.1,19.6,24.0,29.3,20.7,10.7,26.9,18.6,21.5,26.2,21.5,27.9,22.1,25.1,27.9,18.9,26.4,20.0,25.6,27.5,17.7,18.9,27.0,14.9,27.6,19.6,18.1,19.2,20.2,16.4,16.6,14.1,8.9,17.6,17.3,21.0,14.3,18.7,19.9,12.3,24.4,23.3,25.1,27.9,15.1,18.3,23.2,17.8,15.5,22.0,23.0,20.4,15.5,22.8,19.5,22.2,22.3,25.1,15.0,19.9,23.8,18.8,17.0,7.9,24.0,31.4,17.6,27.4,28.1,17.9,18.3,17.3,21.6,17.8,22.4,19.2,22.8,21.4,19.1,22.4,29.4,13.6,15.0,28.8,18.2,25.8,15.1,23.6,12.2,10.1,15.4,27.0,17.2,11.6,20.8,18.8,20.4,18.1,20.9,31.1,19.0,18.5,17.9,23.1,32.0,21.7,23.4,17.1,19.0,18.1,19.3,18.8,25.8,19.8,22.1,15.8,15.9,21.3,18.4,17.8,23.1,22.2,15.3,20.0,20.8,30.2,24.0,12.6,9.2,21.7,19.8,16.6,16.5,18.0,21.1,10.0,23.5,26.9,23.7,16.8,12.7,29.8,17.9,18.6,19.9,23.6,26.4,18.2,18.1,19.2,15.3,19.4,20.2,33.2,26.2,26.9,15.3,18.9,18.3,27.6,29.0,22.5,30.2,22.8,13.8,21.4,27.3,25.1,26.7,7.9,27.3,21.9,15.6,18.1,19.9,23.0,22.9,15.0,16.5,18.9,24.8,4.9,16.7,20.2,7.9,19.3,16.1,22.5,27.4,29.6,18.7,21.9,9.9,24.6,10.1,21.5,20.6,11.4,14.0,18.4,6.5,12.8,25.5,19.5,14.6,20.5,18.9,14.8,21.7,17.3,33.1,23.1,25.1,30.2,17.0,13.2,29.2,14.8,13.5,22.3,9.0,19.2,19.1,20.4,14.2,20.6,19.3,27.6,21.4,15.5,23.4,13.2,12.1,23.2,33.8,17.5,19.1,23.2,12.6,24.6,14.6,19.5,20.1,13.4,12.4,14.6,16.8,27.5,19.5,11.5,15.4,24.0,21.1,21.8,29.1,18.9,21.3,18.9,20.1,13.7,19.7,17.0,34.0,24.0,16.9,19.3,19.9,19.4,19.3,21.5,20.8,20.1,27.1,23.5,22.9,19.4,14.8,28.6,23.2,8.7,30.1,19.1,15.1,22.3,17.4,23.8,18.1,20.4,23.1,22.4,13.7,25.5,25.9,21.3,21.6,21.4,29.7,18.1,10.3,23.6,21.0,13.1,10.6,20.8,21.7,19.4,21.4,25.1,16.6,11.1,13.8,21.1,22.0,20.8,19.1,24.4,15.2,25.1,19.2,10.5,21.8,17.5,19.6,8.2,22.1,21.8,13.6,15.1,28.4,22.0,28.6,25.3,29.3,19.1,20.8,10.8,23.6,13.5,23.2,16.9,22.9,21.3,21.8,31.3,21.1,17.1,25.5,26.1,19.2,19.9,26.4,34.9,17.4,24.2,17.5,21.7,11.3,4.9,21.3,17.2,15.6,22.4,28.2,22.3,21.3,20.5,18.4,17.5,9.7,21.4,12.8,20.0,20.7,16.1,26.2,20.9,19.2,23.6,22.4,31.7,22.5,20.3,13.8,23.3,17.4,3.0,16.6,17.1,27.8,17.4,13.7,14.1,26.4,23.9,21.2,27.4,9.9,18.7,17.0,21.1,22.9,8.7,19.1,25.1,21.0,22.3,21.5,19.6,17.6,22.7,14.7,11.5,28.6,19.9,13.5,27.3,19.6,18.7,14.0,11.6,15.0,26.5,21.7,22.1,5.7,18.3,23.4,19.5,15.8,18.6,19.3,27.0,21.7,21.9,20.7,13.5,29.7,22.3,24.0,31.1,23.9,15.7,19.6])\n",
    "print(f\"Mean - {np.mean(weights)}\")\n",
    "print(f\"Median - {np.median(weights)}\")\n",
    "print(f\"Mode - {stats.mode(weights)}\")\n",
    "print(f\"Range - {np.min(weights)} - {np.max(weights)}\")\n",
    "print(f\"Standard Deviation - {np.std(weights)}\")\n",
    "print(f\"skewness - {stats.skew(weights)}\")\n",
    "print(f\"kurtosis - {stats.kurtosis(weights)}\")"
   ]
  },
  {
   "cell_type": "code",
   "execution_count": null,
   "id": "f3898cb3-9b28-4fc2-a55b-78aceed6b3ab",
   "metadata": {},
   "outputs": [],
   "source": [
    "sns.histplot(x = weights, kde = True)\n",
    "plt.axvline(weights.mean(), color = \"red\")\n",
    "# plt.axvline(np.median(weights), color = \"Green\")"
   ]
  },
  {
   "cell_type": "markdown",
   "id": "7933ea27-ff4d-45b5-874e-26d8426c70fd",
   "metadata": {},
   "source": [
    "### Example 2 -\n",
    "- Find Mean, Median, Mode, Range, Standard Deviation, Skewness, Kurtosis, Frequency Distribution - Histogram"
   ]
  },
  {
   "cell_type": "code",
   "execution_count": null,
   "id": "a07e1ad5-76bf-4ad8-ad0c-6d2cb0fe5fb9",
   "metadata": {},
   "outputs": [],
   "source": [
    "# dataset consists of Salaries of employees in an organisation\n",
    "salaries = np.array([29756,20014,20347,57214,41327,40209,93390,122004,17725,47210,44386,48407,16837,83731,9130,66723,72525,57347,10941,18726,8913,59251,13090,37983,134656,45499,59533,82998,31440,11672,16295,30676,21822,35263,27340,65522,23380,11662,7066,22403,41230,46693,22478,82491,7347,16263,72672,20522,38409,30175,31383,98820,13605,45096,12397,90988,6602,29786,102559,31790,29768,50085,22649,24426,4059,95210,68657,17799,37370,46160,35133,40969,57201,54757,17973,13610,46004,91341,24474,48005,9473,10277,71287,9383,36492,104352,13473,51293,51911,10026,39992,125885,44462,76531,41512,47267,33231,14180,44474,55702,39554,8359,51892,98574,43638,90568,40508,34129,98497,74784,63383,47197,83519,26458,38642,9629,18404,47324,15793,120345,61126,64613,57964,47582,77944,27082,51891,98126,69008,23284,49785,72406,56418,36769,58715,42999,47333,45733,141091,3848,57584,48356,95301,95269,49894,101380,44028,54577,71055,32066,26596,66653,3179,44484,62889,62952,50903,74656,50733,38180,59410,105003,73854,33579,150293,26348,6769,26315,53038,35766,50517,64714,27523,26867,46607,9882,60052,46653,42143,37371,14475,103629,55402,6149,65128,32861,27603,75553,35641,21457,106916,50369,37731,6473,73858,7716,21144,34340,27917,18150,49270,16344,84532,28616,18452,84678,17990,26463,13671,70005,26237,7245,16941,64383,3317,7275,26981,12600,36983,40054,7283,82140,65120,8259,44235,30682,68578,80737,14009,88942,48374,43148,11447,32203,67168,50149,8607,9680,35442,47306,67316,52503,89884,18337,11798,40659,90852,25479,4737,107231,40006,34020,61695,12128,14126,71024,42150,54591,93625,23809,9698,50910,75967,36494,53497,28006,16650,50352,42133,10915,50698,19962,30772,23430,75790,72083,162101,75728,60565,40074,58299,18280,128972,76801,38314,12744,25607,22188,31862,15955,31175,11044,44390,49677,33251,85617,81684,48054,63108,33461,39505,51449,47547,49199,152777,49820,23147,35010,44921,39633,16546,35436,32229,28603,31804,21668,102866,58514,140647,22149,26732,88552,77813,75665,38038,123394,9457,28241,52657,9075,148287,70362,27398,18672,19003,17600,114609,4318,19729,23148,32015,87090,5342,56550,38458,5400,50686,46353,14777,19302,16606,21645,37117,22488,5465,28650,57321,34736,43956,37151,9776,37461,17631,98557,18773,15927,62892,35395,23658,27429,22496,60550,36644,38050,79320,7934,30101,71573,14389,4701,31291,11384,39725,123530,44408,58972,95799,10389,46232,3432,40560,35984,4665,169950,111402,18065,21540,70358,51973,26344,101435,5668,28783,6701,64979,30591,53626,89555,54550,47720,72312,32532,81224,32367,12856,45452,23288,68436,11028,48698,59988,25334,12898,76129,76496,66076,28330,66192,34221,24405,81851,52335,38502,25430,29421,7258,23734,12534,60625,23697,17543,35830,5033,17253,27189,48127,91649,58796,46586,42569,40202,70022,3922,41658,66536,67928,13621,71191,63947,89954,7543,20366,73226,55216,63823,20147,28646,62441,10910,21883,40687,5770,12349,59303,82027,45440,12710,126532,87569,69111,27004,13098,37670,125784,37616,46404,36971,20823,44255,53184,53752,9362,16464,13631,24283,57198,27205,60289,35590,21193,59034,71649,40198,22347,37446,30613,39731,23986,65414,6705,23140,42971,9792,23886,16397,17598,42024,32014,78351,31432,3978,34883,19845,10204,56595,25611,58573,31771,60213,24678,85938,22206,27750,43462,24977,22131,65617,70257,71995,75183,106608,54436,44381,61439,41163,81099,34095,36953,14703,23992,105384,20334,34145,48786,72804,71943,32757,77178,6381,77041,85234,31634,62231,7004,66194,23721,18122,82066,43339,13417,28110,26647,11703,160005,55765,78251,35519,22708,66840,6126,37952,31632,55294,13842,57847,43009,57445,41641,13437,41892,8126,55609,71439,65768,3032,12225,16758,12150,110890,58822,80581,12690,69074,49169,118185,9745,24482,35611,21100,13245,25269,26177,60738,119320,13615,120677,36560,14048,16249,73591,11789,42419,8691,44373,5698,38758,39244,36214,7654,26381,42371,42425,5167,38173,28250,11362,41671,38101,22759,29654,16846,42528,32035,51949,34841,65641,94153,55081,42157,53629,5482,6064,33333,53055,38653,54655,25486,28830,18681,38431,89032,38939,44533,44382,7073,93080,39698,68653,14900,4180,26923,27360,30629,33018,23166,4915,50098,31775,14625,48831,53413,50677,16354,24128,49869,23038,53312,43846,11263,19507,11322,86895,60729,144564,33429,36964,4437,48013,39779,71605,45697,20501,3059,39338,3228,22719,37974,72431,8486,24363,19558,64046,35799,20259,79873,13544,36404,55886,13904,42955,43750,17743,107390,86058,40137,65042,29084,8999,6357,29914,45867,75705,19543,64725,60567,58452,5015,50256,60877,91907,42209,13678,7797,23545,65227,86909,18614,12483,34314,52497,28754,112096,30756,16519,18075,9958,14076,16114,5200,40241,14275,53117,50561,27253,3998,85851,32716,44901,40698,42272,67106,73621,23828,50619,64147,89432,67240,119266,15347,50315,39374,27347,21786,7037,33320,9277,14225,25474,50546,61235,64796,38341,46464,38388,53785,8315,29782,35079,5943,9616,73662,52409,28236,40773,84419,49739,8678,46548,16583,15864,5920,42891,6635,91882,54534,32013,105413,11681,18153,98213,60754,53642,40221,43931,60076,9481,17046,26098,22609,21386,2797,11266,59378,57464,46271,10182,53724,89160,33549,19557,8022,43213,62795,42025,74820,49326,55701,65268,49257,38526,47121,32407,100592,21980,10691,10664,13298,58489,81011,24481,30354,5334,11554,62781,80241,17457,13682,12911,32340,54094,4987,15562,19126,58105,62497,34333,74015,78119,27715,20098,37580,14200,24208,36266,68885,66174,3965,143792,35892,43824,14009,7294,69932,11540,31644,55554,6756,69754,65940,26128,88712,11048,14382,34369,3908,30339,9290,22745,49669,93604,62655,50036,60244,52406,44821,37915,4894,38413,44612,19168,26668,20326,45231,12448,35082,121782,4863,7291,24332,42551,28462,67887,21226,41026,137990,53668,40922,15485,21118,118903,77715,24519,58873,61054,25674,2960,30624,103189,48284,40536,56053,37084,50773,11615,83270,4311,30367,6372,56358,14518,10602,35857,93798,51500,69148,51610,27676,16157,92788,4395,23687,11944,57418,71058,37037,23290,34201,84364,68400,24135,18615,15050,113480,83720,52761,26031,43187,11278,3710,27465,97386,3393,65371,5707,106125,46278,12099,17823,39132,34422])\n",
    "print(f\"Mean - {np.mean(salaries)}\")\n",
    "print(f\"Median - {np.median(salaries)}\")\n",
    "print(f\"Mode - {stats.mode(salaries)}\")\n",
    "print(f\"Range - {np.min(salaries)} - {np.max(salaries)}\")\n",
    "print(f\"Standard Deviation - {np.std(salaries)}\")\n",
    "print(f\"skewness - {stats.skew(salaries)}\")\n",
    "print(f\"kurtosis - {stats.kurtosis(salaries)}\")\n",
    "\n",
    "sns.histplot(x = salaries, kde = True)\n",
    "plt.axvline(salaries.mean(), color = \"red\")\n",
    "_ = plt.axvline(np.median(salaries), color = \"Green\")"
   ]
  },
  {
   "cell_type": "markdown",
   "id": "f96707e3-5f93-4717-bf5c-0273bba6d43d",
   "metadata": {},
   "source": [
    "##### mode < median < mean  - Right skewed"
   ]
  },
  {
   "cell_type": "markdown",
   "id": "7110e6f5-ab73-4173-8403-e998912860f6",
   "metadata": {},
   "source": [
    "### Example 3 -\n",
    "- Find Mean, Median, Mode, Range, Standard Deviation, Skewness, Kurtosis, Frequency Distribution - Histogram"
   ]
  },
  {
   "cell_type": "code",
   "execution_count": null,
   "id": "261ce493-f735-4f3c-8334-709f8a2d1fbf",
   "metadata": {},
   "outputs": [],
   "source": [
    "# dataset consists of life-expectancy data \n",
    "life_expectancy = np.array([52, 61, 58, 75, 74, 77, 58, 74, 54, 65, 67, 75, 74, 70, 36, 65, 35,55, 64, 28, 46, 52, 75, 42, 64, 75, 44, 65, 58, 65, 45, 73, 79, 48,55, 65, 53, 66, 56, 40, 76, 52, 77, 63, 74, 53, 22, 43, 33, 75, 60,58, 44, 69, 73, 36, 74, 72, 65, 56, 67, 68, 56, 67, 62, 59, 68, 53,59, 61, 59, 77, 76, 70, 78, 74, 64, 15, 42, 65, 70, 65, 64, 67, 65,66, 25, 65, 63, 75, 78, 63, 81, 80, 82, 66, 42, 26, 64, 72, 59, 78,69, 73, 79, 65, 60, 39, 64, 44, 77, 74, 42, 13, 73, 64, 65, 75, 78,72, 49, 75, 65, 59, 40, 70, 31, 58, 61, 79, 56, 67, 79, 61, 48, 68,52, 79, 70, 70, 59, 53, 75, 63, 31, 25, 63, 79, 60, 77, 77, 64, 33,52, 64, 40, 59, 80, 36, 64, 61, 54, 73, 21, 67, 45, 77, 78, 56, 32,81, 69, 82, 33, 16, 41, 79, 34, 77, 71, 74, 73, 44, 33, 59, 74, 43,67, 63, 73, 58, 59, 65, 55, 64, 76, 71, 60, 79, 76, 62, 50, 42, 72,60, 77, 44, 72, 54, 58, 56, 40, 61, 25, 47, 66, 74, 79, 62, 69, 22,67, 71, 40, 74, 80, 45, 68, 64, 55, 48, 52, 48, 49, 60, 62, 57, 23,67, 72, 76, 69, 56, 67, 58, 40, 78, 50, 53, 73, 66, 69, 73, 73, 37,60, 65, 60, 60, 68, 50, 33, 68, 24, 79, 52, 78, 30, 58, 81, 72, 79,75, 52, 51, 74, 66, 65, 41, 53, 57, 76, 63, 64, 48, 48, 77, 52, 60,61, 52, 39, 71, 26, 54, 68, 77, 64, 67, 62, 40, 67, 66, 47, 33, 69,74, 76, 62, 69, 54, 67, 33, 71, 56, 41, 79, 37, 64, 37, 70, 49, 60,74, 79, 65, 79, 79, 75, 78, 72, 76, 31, 70, 24, 59, 28, 78, 61, 75,40, 51, 74, 53, 72, 71, 55, 67, 39, 60, 67, 60, 72, 81, 75, 52, 63,66, 38, 57, 58, 71, 40, 72, 70,  6, 81, 41, 79, 46, 28, 48, 50, 65,76, 75, 32, 75, 70, 46, 73, 61, 48, 55, 41, 52, 48, 53, 62, 65, 69,18, 79, 78, 66, 65, 72, 65, 69, 69, 75, 83, 62, 78, 51, 46, 47, 46,82, 76, 64, 54, 72, 62, 47, 59, 63, 72, 55, 63, 78, 68, 73, 82, 61,47, 52, 78, 75, 42, 53, 65, 60, 48, 59, 52, 58, 76, 63, 76, 58, 67,40, 69, 74, 48, 60, 56, 75, 75, 54, 26, 50, 67, 59, 50, 70, 70, 62,38, 42, 63, 39, 72, 63, 42, 79, 69, 53, 59, 72, 75, 65, 37, 71, 39,43, 64, 84, 75, 80, 54, 66, 44, 60, 72, 73, 50, 62, 62, 58, 42, 61,80, 55, 73, 59, 60, 67, 50, 64, 74, 58, 73, 60, 57, 30, 70, 72, 63,54, 77, 56, 53, 73, 49, 75, 49, 47, 71, 77, 19, 77, 72, 63, 49, 67,65, 47, 71, 77, 71, 71, 53, 78, 76, 67, 65, 61, 60, 21, 60, 59, 68,43, 64, 76, 59, 72, 64, 38, 61, 65, 77, 64, 52, 78, 80, 35, 37, 80,58, 62, 71, 23, 67, 39, 67, 62, 52, 49, 61, 76, 66, 59, 42, 68, 75,60, 52, 73, 60, 70, 62, 74, 74, 61, 51, 23,  2, 39, 69, 52, 40, 46,72, 82, 77, 71, 82, 75, 77, 37, 52, 53, 70, 69, 65, 29, 54, 55, 55,75, 62, 46, 66, 77, 75, 73, 77, 71, 72, 77, 55, 51, 58, 66, 58, 80,75, 47, 78, 59, 66, 30, 76, 63, 57, 29, 53, 78, 71, 48, 58, 45, 59,63, 46, 68, 73, 69, 42, 63, 76, 59, 61, 65, 55, 70, 68, 38, 21, 64,71, 74, 77, 61, 67, 73, 78, 49, 31, 46, 64, 72, 33, 68, 76, 82, 59,59, 52, 66, 63, 11, 61, 74, 60, 61, 73, 54, 70, 45, 42, 58, 73, 36,82, 75, 51, 79, 58, 59, 68,  0, 78, 52, 61, 65, 73, 46, 81, 63, 27,82, 68, 80, 61, 79, 69, 42, 66, 52, 45, 62, 27, 76, 62, 64, 67, 43,51, 71, 77, 43, 24, 53, 52, 36, 52, 76, 69, 65, 73, 62, 68, 70, 75,70, 48, 58, 56, 66, 55, 62, 77, 62, 65, 51, 70, 60, 76, 74, 65, 72,62, 72, 42, 41, 43, 77, 68, 76, 76, 72, 56, 80, 77, 66, 57,  5, 72,67, 78, 81, 77, 66, 35, 54, 37, 42, 71, 78, 66, 68, 33, 25, 54,  8,72, 63, 38, 45, 67, 56, 64, 36, 54, 70, 71, 64, 72, 57, 59, 66, 51,77, 72, 36, 71, 70, 80, 39, 72, 74, 50, 58, 79, 25, 35, 61, 63, 50,68, 60, 82, 58, 14, 32, 77, 70, 65, 81, 73, 48, 67, 67, 30, 69, 69,59, 67, 74, 46, 53, 64, 75, 67, 54, 75, 61, 67, 19, 30, 62, 70, 76,47, 70, 73, 34, 57, 71, 56, 68, 44, 38, 47, 66, 72, 46, 68, 72, 44,58, 42, 62, 79, 45, 75, 37, 44, 24, 78, 52, 40, 75, 45, 52, 34, 74,82,  6, 78, 70, 36, 42, 75, 58, 20,  4, 53, 57, 69, 71, 53, 61, 26,67, 60, 76, 44, 68, 78, 80, 76, 55, 66, 67, 69, 71, 58, 69, 42, 53,35, 74, 56, 59, 41, 71, 64, 49, 68, 58, 69, 52, 75, 47, 77, 63, 53,42, 44, 72, 60, 59, 55, 57, 35, 78, 66, 73, 61, 47, 74, 75, 71, 45,43, 60, 53, 54, 79, 69, 46, 57, 64, 58, 36, 51, 77, 64, 72, 64, 44,54, 69, 59, 54, 58, 59, 68, 58, 75, 73, 62, 78, 51, 60])\n",
    "\n",
    "print(f\"Mean - {np.mean(life_expectancy)}\")\n",
    "print(f\"Median - {np.median(life_expectancy)}\")\n",
    "print(f\"Mode - {stats.mode(life_expectancy)}\")\n",
    "print(f\"Range - {np.min(life_expectancy)} - {np.max(life_expectancy)}\")\n",
    "print(f\"Standard Deviation - {np.std(life_expectancy)}\")\n",
    "print(f\"skewness - {stats.skew(life_expectancy)}\")\n",
    "print(f\"kurtosis - {stats.kurtosis(life_expectancy)}\")\n",
    "\n",
    "sns.histplot(x = life_expectancy, kde = True)\n",
    "plt.axvline(life_expectancy.mean(), color = \"red\")\n",
    "_ = plt.axvline(np.median(life_expectancy), color = \"Green\")\n"
   ]
  },
  {
   "cell_type": "markdown",
   "id": "0d061f96-38bd-47c0-9c79-8f3ec351a4eb",
   "metadata": {},
   "source": [
    "##### mode > median > mean  - left skewed"
   ]
  },
  {
   "cell_type": "markdown",
   "id": "db404fcb-b51f-4b6c-b0e8-3f58fd41b5f1",
   "metadata": {},
   "source": [
    "<hr><hr>"
   ]
  },
  {
   "cell_type": "markdown",
   "id": "5d249eb7-ceeb-4d1d-ac43-b99f465a3a50",
   "metadata": {
    "jp-MarkdownHeadingCollapsed": true
   },
   "source": [
    "## Explolatory Data Analysis"
   ]
  },
  {
   "cell_type": "markdown",
   "id": "5ff5b3fc-426c-4c43-b8f6-23e50785bc17",
   "metadata": {},
   "source": [
    "### Handling Null/Missing Values\n",
    "\n",
    "- Deletion:\n",
    "    - Listwise Deletion: Remove entire rows containing null values.\n",
    "    - Pairwise Deletion: Analyze data based on available pairs of variables, ignoring rows with null values in other variables.\n",
    "- Imputation:\n",
    "    - Mean/Median/Mode Imputation: Replace null values with the mean, median, or mode of the respective column.\n",
    "    - Forward Fill/Backward Fill: Fill null values with the preceding or succeeding non-null value in the same column.\n",
    "    - Linear Interpolation: Interpolate null values using linear interpolation based on neighboring data points.\n",
    "    - K-Nearest Neighbors (KNN) Imputation: Use the values of nearest neighbors to impute null values.\n",
    "    - Random Imputation: Replace null values with random values from the same column's distribution.\n",
    "- Bucketing: Group data into buckets or categories and treat null values as a separate category."
   ]
  },
  {
   "cell_type": "code",
   "execution_count": null,
   "id": "2bdfd2c7-365b-4d73-af8d-c4906d16db07",
   "metadata": {},
   "outputs": [],
   "source": [
    "ages = pd.DataFrame({'Age' : [49, 45, 40, 29, 57, np.nan, 49, 26, 32, np.nan, 27, 20, np.nan, 40, 37, 32, 39, 43]})"
   ]
  },
  {
   "cell_type": "code",
   "execution_count": null,
   "id": "f97adaef-3f09-4a62-af57-92da4bc9cd7b",
   "metadata": {},
   "outputs": [],
   "source": [
    "ages.isna().any()"
   ]
  },
  {
   "cell_type": "code",
   "execution_count": null,
   "id": "c1934f1c-197c-494a-9fad-9dd72488247f",
   "metadata": {},
   "outputs": [],
   "source": [
    "ages.isna().sum()"
   ]
  },
  {
   "cell_type": "markdown",
   "id": "6ed98c78-ca81-4584-881e-48ee120b407d",
   "metadata": {},
   "source": [
    "#### using df.dropna()"
   ]
  },
  {
   "cell_type": "code",
   "execution_count": null,
   "id": "b4ea8219-c5c7-4e32-ac1e-a23e7d6df3c0",
   "metadata": {},
   "outputs": [],
   "source": [
    "ages.dropna()  # drop the null values"
   ]
  },
  {
   "cell_type": "code",
   "execution_count": null,
   "id": "739633fa-f404-404d-88d4-75eef5dbbe9a",
   "metadata": {},
   "outputs": [],
   "source": [
    "data = pd.DataFrame({'Age' : [49, 45, 40, 29, 57, np.nan, 49, 26, 32, np.nan, 27, 20, np.nan, 40, 37, 32, 39, 43, 30, np.nan],\n",
    "                    \"Name\" : ['Claire', 'Darrin', 'Sean', 'Brosina', 'Andrew', 'Irene', 'Harold','Pete', 'Alejandro', 'Zuschuss', 'Ken', 'Sandra', 'Emily', 'Eric','Tracy', 'Matt', 'Gene', 'Steve', 'Linda', np.nan]})"
   ]
  },
  {
   "cell_type": "code",
   "execution_count": null,
   "id": "965b07c3-9a77-4ea5-a679-4610fc26de06",
   "metadata": {},
   "outputs": [],
   "source": [
    "data.dropna()  # removes all the rows with a single null"
   ]
  },
  {
   "cell_type": "code",
   "execution_count": null,
   "id": "602f1e6d-3f86-4b6e-b2a1-273e7c1b4b46",
   "metadata": {},
   "outputs": [],
   "source": [
    "data.dropna(axis=1)  # removes all the columns with a single null"
   ]
  },
  {
   "cell_type": "code",
   "execution_count": null,
   "id": "70726822-0994-4cf3-99dc-c19b333947d6",
   "metadata": {},
   "outputs": [],
   "source": [
    "data.dropna(how=\"all\", inplace=True)  # removes all the rows with a all null values"
   ]
  },
  {
   "cell_type": "code",
   "execution_count": null,
   "id": "f83cca7f-1fa4-4b7f-bc1a-89cc11d204d5",
   "metadata": {},
   "outputs": [],
   "source": [
    "data.fillna(df.Age.mean()) # mean Impute"
   ]
  },
  {
   "cell_type": "code",
   "execution_count": null,
   "id": "0258f476-4e83-4fd5-aa09-d1fecd6f6b18",
   "metadata": {},
   "outputs": [],
   "source": [
    "data.fillna(method=\"ffill\") # bbfill - backwards"
   ]
  },
  {
   "cell_type": "code",
   "execution_count": null,
   "id": "027e1c52-049b-4f92-ba67-6f04cad8c38c",
   "metadata": {},
   "outputs": [],
   "source": [
    "from sklearn.impute import SimpleImputer\n",
    "imputer = SimpleImputer(strategy=\"mean\")\n",
    "imputer.fit_transform(ages)\n",
    "imputer.fit_transform(df.Age.to_frame())"
   ]
  },
  {
   "cell_type": "markdown",
   "id": "68939d30-c9c2-4091-bec3-6fcd8e58b0ff",
   "metadata": {},
   "source": [
    "### Handling Outliers - \n",
    "\n",
    "#### `Z-Score Method:`\n",
    "\n",
    "- The z-score method involves calculating the z-score for each data point, which represents the number of standard deviations away from the mean.\n",
    "Data points with z-scores beyond a certain threshold (e.g., |z-score| > 3) are considered outliers and can be removed or treated separately.\n",
    "The z-score method is sensitive to the mean and standard deviation of the data, and it assumes that the data is normally distributed.\n",
    "This method is useful when the data is approximately normally distributed and when the goal is to identify outliers based on their deviation from the mean.\n",
    "\n",
    "#### `IQR Method:`\n",
    "\n",
    "- The IQR method involves calculating the interquartile range (IQR), which is the difference between the third quartile (Q3) and the first quartile (Q1) of the data.\n",
    "Outliers are defined as data points that fall below Q1 - 1.5 * IQR or above Q3 + 1.5 * IQR.\n",
    "The IQR method is robust to outliers and does not assume any specific distribution of the data.\n",
    "This method is useful when the data is skewed or not normally distributed, as it focuses on the middle 50% of the data and is less influenced by extreme values.\n",
    "In general, if the data is approximately normally distributed and the goal is to identify outliers based on their deviation from the mean, the z-score method may be more appropriate. On the other hand, if the data is skewed or not normally distributed, or if the goal is to identify outliers based on their relative position within the dataset, the IQR method may be a better choice."
   ]
  },
  {
   "cell_type": "code",
   "execution_count": null,
   "id": "d780904c-9e5e-402e-8c95-73098cde4768",
   "metadata": {},
   "outputs": [],
   "source": [
    "salaries = np.array([29756,20014,20347,57214,41327,40209,93390,122004,17725,47210,44386,48407,16837,83731,9130,66723,72525,57347,10941,18726,8913,59251,13090,37983,134656,45499,59533,82998,31440,11672,16295,30676,21822,35263,27340,65522,23380,11662,7066,22403,41230,46693,22478,82491,7347,16263,72672,20522,38409,30175,31383,98820,13605,45096,12397,90988,6602,29786,102559,31790,29768,50085,22649,24426,4059,95210,68657,17799,37370,46160,35133,40969,57201,54757,17973,13610,46004,91341,24474,48005,9473,10277,71287,9383,36492,104352,13473,51293,51911,10026,39992,125885,44462,76531,41512,47267,33231,14180,44474,55702,39554,8359,51892,98574,43638,90568,40508,34129,98497,74784,63383,47197,83519,26458,38642,9629,18404,47324,15793,120345,61126,64613,57964,47582,77944,27082,51891,98126,69008,23284,49785,72406,56418,36769,58715,42999,47333,45733,141091,3848,57584,48356,95301,95269,49894,101380,44028,54577,71055,32066,26596,66653,3179,44484,62889,62952,50903,74656,50733,38180,59410,105003,73854,33579,150293,26348,6769,26315,53038,35766,50517,64714,27523,26867,46607,9882,60052,46653,42143,37371,14475,103629,55402,6149,65128,32861,27603,75553,35641,21457,106916,50369,37731,6473,73858,7716,21144,34340,27917,18150,49270,16344,84532,28616,18452,84678,17990,26463,13671,70005,26237,7245,16941,64383,3317,7275,26981,12600,36983,40054,7283,82140,65120,8259,44235,30682,68578,80737,14009,88942,48374,43148,11447,32203,67168,50149,8607,9680,35442,47306,67316,52503,89884,18337,11798,40659,90852,25479,4737,107231,40006,34020,61695,12128,14126,71024,42150,54591,93625,23809,9698,50910,75967,36494,53497,28006,16650,50352,42133,10915,50698,19962,30772,23430,75790,72083,162101,75728,60565,40074,58299,18280,128972,76801,38314,12744,25607,22188,31862,15955,31175,11044,44390,49677,33251,85617,81684,48054,63108,33461,39505,51449,47547,49199,152777,49820,23147,35010,44921,39633,16546,35436,32229,28603,31804,21668,102866,58514,140647,22149,26732,88552,77813,75665,38038,123394,9457,28241,52657,9075,148287,70362,27398,18672,19003,17600,114609,4318,19729,23148,32015,87090,5342,56550,38458,5400,50686,46353,14777,19302,16606,21645,37117,22488,5465,28650,57321,34736,43956,37151,9776,37461,17631,98557,18773,15927,62892,35395,23658,27429,22496,60550,36644,38050,79320,7934,30101,71573,14389,4701,31291,11384,39725,123530,44408,58972,95799,10389,46232,3432,40560,35984,4665,169950,111402,18065,21540,70358,51973,26344,101435,5668,28783,6701,64979,30591,53626,89555,54550,47720,72312,32532,81224,32367,12856,45452,23288,68436,11028,48698,59988,25334,12898,76129,76496,66076,28330,66192,34221,24405,81851,52335,38502,25430,29421,7258,23734,12534,60625,23697,17543,35830,5033,17253,27189,48127,91649,58796,46586,42569,40202,70022,3922,41658,66536,67928,13621,71191,63947,89954,7543,20366,73226,55216,63823,20147,28646,62441,10910,21883,40687,5770,12349,59303,82027,45440,12710,126532,87569,69111,27004,13098,37670,125784,37616,46404,36971,20823,44255,53184,53752,9362,16464,13631,24283,57198,27205,60289,35590,21193,59034,71649,40198,22347,37446,30613,39731,23986,65414,6705,23140,42971,9792,23886,16397,17598,42024,32014,78351,31432,3978,34883,19845,10204,56595,25611,58573,31771,60213,24678,85938,22206,27750,43462,24977,22131,65617,70257,71995,75183,106608,54436,44381,61439,41163,81099,34095,36953,14703,23992,105384,20334,34145,48786,72804,71943,32757,77178,6381,77041,85234,31634,62231,7004,66194,23721,18122,82066,43339,13417,28110,26647,11703,160005,55765,78251,35519,22708,66840,6126,37952,31632,55294,13842,57847,43009,57445,41641,13437,41892,8126,55609,71439,65768,3032,12225,16758,12150,110890,58822,80581,12690,69074,49169,118185,9745,24482,35611,21100,13245,25269,26177,60738,119320,13615,120677,36560,14048,16249,73591,11789,42419,8691,44373,5698,38758,39244,36214,7654,26381,42371,42425,5167,38173,28250,11362,41671,38101,22759,29654,16846,42528,32035,51949,34841,65641,94153,55081,42157,53629,5482,6064,33333,53055,38653,54655,25486,28830,18681,38431,89032,38939,44533,44382,7073,93080,39698,68653,14900,4180,26923,27360,30629,33018,23166,4915,50098,31775,14625,48831,53413,50677,16354,24128,49869,23038,53312,43846,11263,19507,11322,86895,60729,144564,33429,36964,4437,48013,39779,71605,45697,20501,3059,39338,3228,22719,37974,72431,8486,24363,19558,64046,35799,20259,79873,13544,36404,55886,13904,42955,43750,17743,107390,86058,40137,65042,29084,8999,6357,29914,45867,75705,19543,64725,60567,58452,5015,50256,60877,91907,42209,13678,7797,23545,65227,86909,18614,12483,34314,52497,28754,112096,30756,16519,18075,9958,14076,16114,5200,40241,14275,53117,50561,27253,3998,85851,32716,44901,40698,42272,67106,73621,23828,50619,64147,89432,67240,119266,15347,50315,39374,27347,21786,7037,33320,9277,14225,25474,50546,61235,64796,38341,46464,38388,53785,8315,29782,35079,5943,9616,73662,52409,28236,40773,84419,49739,8678,46548,16583,15864,5920,42891,6635,91882,54534,32013,105413,11681,18153,98213,60754,53642,40221,43931,60076,9481,17046,26098,22609,21386,2797,11266,59378,57464,46271,10182,53724,89160,33549,19557,8022,43213,62795,42025,74820,49326,55701,65268,49257,38526,47121,32407,100592,21980,10691,10664,13298,58489,81011,24481,30354,5334,11554,62781,80241,17457,13682,12911,32340,54094,4987,15562,19126,58105,62497,34333,74015,78119,27715,20098,37580,14200,24208,36266,68885,66174,3965,143792,35892,43824,14009,7294,69932,11540,31644,55554,6756,69754,65940,26128,88712,11048,14382,34369,3908,30339,9290,22745,49669,93604,62655,50036,60244,52406,44821,37915,4894,38413,44612,19168,26668,20326,45231,12448,35082,121782,4863,7291,24332,42551,28462,67887,21226,41026,137990,53668,40922,15485,21118,118903,77715,24519,58873,61054,25674,2960,30624,103189,48284,40536,56053,37084,50773,11615,83270,4311,30367,6372,56358,14518,10602,35857,93798,51500,69148,51610,27676,16157,92788,4395,23687,11944,57418,71058,37037,23290,34201,84364,68400,24135,18615,15050,113480,83720,52761,26031,43187,11278,3710,27465,97386,3393,65371,5707,106125,46278,12099,17823,39132,34422])"
   ]
  },
  {
   "cell_type": "markdown",
   "id": "0da18055-e8a7-4793-85c1-58112f4a73eb",
   "metadata": {},
   "source": [
    "#### IQR Method"
   ]
  },
  {
   "cell_type": "code",
   "execution_count": null,
   "id": "d49c8ddc-f281-47a4-a9f2-bcf94e63c4b0",
   "metadata": {},
   "outputs": [],
   "source": [
    "sns.histplot(salaries, kde = True)"
   ]
  },
  {
   "cell_type": "code",
   "execution_count": null,
   "id": "c01f4c32-2d5c-4b4b-878a-fdc950866515",
   "metadata": {},
   "outputs": [],
   "source": [
    "Q1 = np.percentile(salaries, 25)\n",
    "Q3 = np.percentile(salaries, 75)\n",
    "IQR = Q3 - Q1   # Inter Quartile Range\n",
    "max_w = Q3 + 1.5 * IQR\n",
    "min_w = Q1 - 1.5 * IQR"
   ]
  },
  {
   "cell_type": "code",
   "execution_count": null,
   "id": "a32a4dac-f54f-4a7d-b4b5-037c6f43d716",
   "metadata": {},
   "outputs": [],
   "source": [
    "sns.boxplot(y = salaries)\n",
    "plt.axhline(Q1, color = \"Green\", label = \"Q1\")\n",
    "plt.axhline(Q3, color = \"Green\", label = \"Q3\")\n",
    "plt.axhline(min_w, color = \"Red\", label = \"Min\")\n",
    "plt.axhline(max_w, color = \"Red\", label = \"Max\")\n",
    "plt.axhline(min(salaries), color = \"Blue\", label = \"Min\")\n",
    "plt.axhline(max(salaries), color = \"Blue\", label = \"Min\")\n",
    "# _ = plt.legend()"
   ]
  },
  {
   "cell_type": "code",
   "execution_count": null,
   "id": "c1449214-fdbc-4ab2-853f-b0e6b30bb369",
   "metadata": {},
   "outputs": [],
   "source": [
    "salaries[salaries > max_w].size  # count of outliers"
   ]
  },
  {
   "cell_type": "code",
   "execution_count": null,
   "id": "a55c9a46-8a5f-4168-9c04-534948ed8ebb",
   "metadata": {},
   "outputs": [],
   "source": [
    "salaries[np.logical_and(salaries>= min_w, salaries <= max_w)]"
   ]
  },
  {
   "cell_type": "code",
   "execution_count": null,
   "id": "1f48a4e9-1418-4d6b-8046-60e4617053dd",
   "metadata": {},
   "outputs": [],
   "source": [
    "sns.boxplot(y = weights)"
   ]
  },
  {
   "cell_type": "code",
   "execution_count": null,
   "id": "9841e936-8da8-4668-94d3-cfaf5f42ea10",
   "metadata": {},
   "outputs": [],
   "source": [
    "sns.histplot(weights, kde = True)\n",
    "plt.axvline(weights.mean(), color = \"red\")"
   ]
  },
  {
   "cell_type": "code",
   "execution_count": null,
   "id": "4d949662-91cc-4f69-ab31-a824931b0972",
   "metadata": {},
   "outputs": [],
   "source": [
    "mean = np.mean(weights)\n",
    "std = np.std(weights)"
   ]
  },
  {
   "cell_type": "markdown",
   "id": "2200a16c-e21f-4707-93fc-abbead830207",
   "metadata": {},
   "source": [
    "#### Z-score Method"
   ]
  },
  {
   "cell_type": "code",
   "execution_count": null,
   "id": "f884e74c-1543-4f3a-9a8c-2edd3e60e71d",
   "metadata": {},
   "outputs": [],
   "source": [
    "zscore = (28 - mean) / std\n",
    "zscore  # 28 is 1.5std times aways from the mean"
   ]
  },
  {
   "cell_type": "code",
   "execution_count": null,
   "id": "cbacb520-85e6-4e9b-a597-4584458c5454",
   "metadata": {},
   "outputs": [],
   "source": [
    "zscores = stats.zscore(weights)"
   ]
  },
  {
   "cell_type": "code",
   "execution_count": null,
   "id": "6aee040b-a262-4c88-9bae-5c57d43b8576",
   "metadata": {},
   "outputs": [],
   "source": [
    "sns.histplot(zscores, kde = True)"
   ]
  },
  {
   "cell_type": "code",
   "execution_count": null,
   "id": "d6aeeab6-fef1-4b42-b112-3d33fe3ef0f8",
   "metadata": {},
   "outputs": [],
   "source": [
    "outiliers = zscores[np.abs(zscores) > 3.5]\n",
    "outiliers"
   ]
  },
  {
   "cell_type": "code",
   "execution_count": null,
   "id": "ee9733cc-cac3-48f4-b306-d4571592cecd",
   "metadata": {},
   "outputs": [],
   "source": [
    "zscores_s = stats.zscore(salaries)\n",
    "sns.histplot(zscores_s, kde = True)\n",
    "zscores_s[np.abs(zscores_s) > 3].size"
   ]
  },
  {
   "cell_type": "code",
   "execution_count": null,
   "id": "700d0970-6aac-417d-8012-21b7dacaaa36",
   "metadata": {},
   "outputs": [],
   "source": [
    "min(weights)"
   ]
  },
  {
   "cell_type": "markdown",
   "id": "18219751-0219-4f36-bf55-ba00493c3604",
   "metadata": {},
   "source": [
    "### Univariate Analysis\n",
    "Univariate analysis is a statistical method used to describe and analyze data consisting of only one variable. It focuses on understanding the characteristics and distribution of a single variable without considering the relationship with other variables.\n",
    "\n",
    "- Descriptive Statistics\n",
    "- Frequency Distribution\n",
    "- Measures of Central Tendency\n",
    "- Measures of Dispersion\n",
    "- Visualization:\n",
    "    - Box plots: Displaying the distribution of data using quartiles.\n",
    "    - Histograms: Showing the frequency distribution of continuous variables.\n",
    "    - Bar charts: Displaying the frequency distribution of categorical variables.\n",
    "- Probability Distribution:\n",
    "  - Normal distribution: Assessing if the data follows a normal distribution using graphical methods or statistical tests."
   ]
  },
  {
   "cell_type": "code",
   "execution_count": null,
   "id": "05cfc56f-d667-4449-beea-82cd96d69378",
   "metadata": {},
   "outputs": [],
   "source": [
    "df = pd.read_csv(\"employees.csv\")\n",
    "df.rename({\"Owns Car\" : \"Car\"}, inplace=True, axis=1)\n",
    "df.head()"
   ]
  },
  {
   "cell_type": "markdown",
   "id": "64250dee-ead0-4c4a-8b70-de5468af2211",
   "metadata": {},
   "source": [
    "#### Numeric Columns"
   ]
  },
  {
   "cell_type": "code",
   "execution_count": null,
   "id": "bafd1881-9b9d-4247-bc2f-bdbce324ef91",
   "metadata": {},
   "outputs": [],
   "source": [
    "numeric_cols = df.select_dtypes(\"number\")\n",
    "numeric_cols"
   ]
  },
  {
   "cell_type": "code",
   "execution_count": null,
   "id": "1c6291b4-783e-41c7-a04b-ac7751fa4d40",
   "metadata": {},
   "outputs": [],
   "source": [
    "numeric_cols.describe()"
   ]
  },
  {
   "cell_type": "code",
   "execution_count": null,
   "id": "25779145-e5dc-4020-b6a0-1e2b38d74898",
   "metadata": {},
   "outputs": [],
   "source": [
    "# Descriptive statistics, Histogram"
   ]
  },
  {
   "cell_type": "markdown",
   "id": "ad04a00f-240c-4a7c-8f9b-290215eed764",
   "metadata": {},
   "source": [
    "#### Categorial Columns"
   ]
  },
  {
   "cell_type": "code",
   "execution_count": null,
   "id": "16cb20a7-d46f-41f4-bb51-f6e0e83133b3",
   "metadata": {},
   "outputs": [],
   "source": [
    "categorial_cols = df.select_dtypes(include = \"object\")\n",
    "categorial_cols"
   ]
  },
  {
   "cell_type": "code",
   "execution_count": null,
   "id": "40466178-f9e4-4689-9a9f-299b73cef383",
   "metadata": {},
   "outputs": [],
   "source": [
    "categorial_cols.describe()"
   ]
  },
  {
   "cell_type": "code",
   "execution_count": null,
   "id": "57b65cb8-94df-41d7-afe2-ca43540459ff",
   "metadata": {},
   "outputs": [],
   "source": [
    "df.Car.value_counts()"
   ]
  },
  {
   "cell_type": "code",
   "execution_count": null,
   "id": "c6cbfc22-25b8-446b-be11-dc8cafc6f2c3",
   "metadata": {},
   "outputs": [],
   "source": [
    "df.Car.value_counts(normalize=True) * 100"
   ]
  },
  {
   "cell_type": "code",
   "execution_count": null,
   "id": "85eebf1e-eb5a-4757-8ac0-e4c14441888b",
   "metadata": {},
   "outputs": [],
   "source": [
    "sns.countplot(data = df, x = \"Car\")"
   ]
  },
  {
   "cell_type": "code",
   "execution_count": null,
   "id": "56a9d25c-fab6-426e-ba21-570ce3f2de0d",
   "metadata": {},
   "outputs": [],
   "source": [
    "sns.countplot(data = df, x = \"Gender\", hue = \"Car\")"
   ]
  },
  {
   "cell_type": "code",
   "execution_count": null,
   "id": "5519a8c1-28f7-429f-89f8-a85a27ec9ac4",
   "metadata": {},
   "outputs": [],
   "source": [
    "sns.countplot(data = df, x = \"Gender\", hue = \"Car\")"
   ]
  },
  {
   "cell_type": "code",
   "execution_count": null,
   "id": "76260e4c-060f-4a1f-89de-0311d7aa2bd4",
   "metadata": {},
   "outputs": [],
   "source": [
    "new_values = {'Managing Director' : \"MD\", 'Senior Manager' : \"SM\", 'Manager' : \"MN\", 'Team Lead' : \"TL\", 'Developer' : \"DL\"}\n",
    "desg = df[\"Designation\"].map(new_values)\n",
    "sns.countplot(data = df, x = desg, hue = \"Car\")\n",
    "# _ = plt.xticks(rotation = 90)"
   ]
  },
  {
   "cell_type": "code",
   "execution_count": null,
   "id": "fbca4d0b-3307-4cdb-a742-6e3e490e6503",
   "metadata": {},
   "outputs": [],
   "source": [
    "sns.countplot(data = df, x = \"Gender\", hue = \"Car\")"
   ]
  },
  {
   "cell_type": "markdown",
   "id": "9a7b40b3-8c9f-46ba-b8d6-d590aca2d1f7",
   "metadata": {},
   "source": [
    "### Bivariate Analysis\n",
    "\n",
    "Bivariate analysis is a statistical method used to analyze the relationship between two variables simultaneously. \r\n",
    "\r\n",
    "#### Numerical-Numerical Analysis:\r\n",
    "\r\n",
    "- Scatter Plots: Scatter plots with a regression line can show the relationship between two continuous variables. Each data point represents a combination of values from both variables.\r\n",
    "\r\n",
    "- Correlation Analysis: Quantifies the strength and direction of the linear relationship between two continuous variables. Pearson correlation coefficient (r) measures the degree of linear association between variables. \r\n",
    "\t- It ranges from -1 to 1, where:\r\n",
    "\t- r = 1: Perfect positive correlation\r\n",
    "\t- r = -1: Perfect negative correlation\r\n",
    "\t- r = 0: No correlation\r\n",
    "\r\n",
    "#### Categorical-Categorical Analysis:\r\n",
    "\r\n",
    "- Contingency tables (also known as cross-tabulations) display the frequency distribution of categories for two categorical variables. \r\n",
    "\r\n",
    "- Chi-square test assesses the independence or association between two categorical variables.\r\n",
    "\r\n",
    "#### Categorical-Numerical Analysis:\r\n",
    "\r\n",
    "- Box plots or bar charts with groupings display the distribution of a numerical variable across different categories of a categorical variable.\r\n",
    "\r\n",
    "- ANOVA (Analysis of Variance) tests the equality of means across different categories of a categorical variable.\r\n"
   ]
  },
  {
   "cell_type": "markdown",
   "id": "068e6492-cc79-49fc-ae6e-877a77436cec",
   "metadata": {},
   "source": [
    "### Example 1 (Numerical-Numerical)"
   ]
  },
  {
   "cell_type": "code",
   "execution_count": null,
   "id": "64779859-edff-4869-a5c3-311e7d881c7f",
   "metadata": {},
   "outputs": [],
   "source": [
    "df.head()"
   ]
  },
  {
   "cell_type": "markdown",
   "id": "6f01260f-1c71-47dd-a350-b6556314028b",
   "metadata": {},
   "source": [
    "###### Correlation between Salary and Age"
   ]
  },
  {
   "cell_type": "code",
   "execution_count": null,
   "id": "b5eff178-27a2-44c4-86b2-a920a98501a9",
   "metadata": {},
   "outputs": [],
   "source": [
    "sns.scatterplot(data = df, x = \"Salary\", y = \"Age\")"
   ]
  },
  {
   "cell_type": "code",
   "execution_count": null,
   "id": "39b083a3-3b9c-4e37-96e5-ac02b982c584",
   "metadata": {},
   "outputs": [],
   "source": [
    "sns.lmplot(data = df, x = \"Salary\", y = \"Age\")"
   ]
  },
  {
   "cell_type": "code",
   "execution_count": null,
   "id": "86715d9f-6478-4d4f-81ca-27968ec6919b",
   "metadata": {},
   "outputs": [],
   "source": [
    "sns.pairplot(df)  # Creates scatter plot for all the numerics column"
   ]
  },
  {
   "cell_type": "code",
   "execution_count": null,
   "id": "21976e81-0777-413b-98e9-b0e8cb77d63e",
   "metadata": {},
   "outputs": [],
   "source": [
    "numeric_cols.corr()"
   ]
  },
  {
   "cell_type": "markdown",
   "id": "319ab9b8-874d-44e8-b759-2ab7ebaa875f",
   "metadata": {},
   "source": [
    "##### Interpreting correlation - \n",
    "- values range between 1 and -1\n",
    "- value near 0 means no correlation  -  no of childern and salary\n",
    "- value near 1 means high positive correlation  - sales and profit\n",
    "- value near -1 means high negative correlation  - profit and discount"
   ]
  },
  {
   "cell_type": "code",
   "execution_count": null,
   "id": "fdfef76b-0c93-49c8-ada1-396d99af9550",
   "metadata": {},
   "outputs": [],
   "source": [
    "sns.heatmap(numeric_cols.corr(), annot= True)"
   ]
  },
  {
   "cell_type": "markdown",
   "id": "c70d5c9d-9c7d-45c4-b339-afcf3c13b7e7",
   "metadata": {},
   "source": [
    "### Example 2 (Numerical-Categorial)"
   ]
  },
  {
   "cell_type": "markdown",
   "id": "a80cf5a3-6804-4909-a712-f735683e7695",
   "metadata": {},
   "source": [
    "###### Ex. Average age and salary for employees belonging to each designation"
   ]
  },
  {
   "cell_type": "code",
   "execution_count": null,
   "id": "8ad1e7d6-3e01-4389-8eba-00719ab75a2b",
   "metadata": {},
   "outputs": [],
   "source": [
    "df.groupby(\"Designation\")[[\"Age\", \"Salary\"]].mean()"
   ]
  },
  {
   "cell_type": "code",
   "execution_count": null,
   "id": "4bbec27e-0d07-4455-b941-dbc9b201f431",
   "metadata": {},
   "outputs": [],
   "source": [
    "sns.barplot(data = df, x = \"Designation\", y = \"Salary\")  # default aggregation - mean\n",
    "_ = plt.xticks(rotation = 90)"
   ]
  },
  {
   "cell_type": "code",
   "execution_count": null,
   "id": "644920d9-182b-4703-b6fd-559b32cb398a",
   "metadata": {},
   "outputs": [],
   "source": [
    "sns.barplot(data = df, x = \"Designation\", y = \"Salary\", estimator=sum)\n",
    "_ = plt.xticks(rotation = 90)"
   ]
  },
  {
   "cell_type": "code",
   "execution_count": null,
   "id": "c278b7e5-7e0f-434c-b4d2-41f4c8a766d1",
   "metadata": {},
   "outputs": [],
   "source": [
    "data = df.groupby(\"Designation\")[[\"Age\", \"Salary\"]].mean()\n",
    "_ = plt.pie(data.Salary, labels=data.index, autopct = \"%1.1f%%\")"
   ]
  },
  {
   "attachments": {},
   "cell_type": "markdown",
   "id": "48ac0516-e747-4b30-9766-4fa31a5bbd39",
   "metadata": {},
   "source": [
    "#### ANOVA (Analysis of Variance)\n",
    "\n",
    "The ANOVA test has important assumptions that must be satisfied in order for the associated p-value to be valid.\n",
    "\n",
    "- The samples are independent.\n",
    "- Each sample is from a normally distributed population.\n",
    "- The population standard deviations of the groups are all equal. This property is known as homoscedasticity.\n",
    "\n",
    "#### f-statistics\n",
    "\n",
    "The F-statistic, also known as the F-ratio or F-value, is a statistical measure used in analysis of variance (ANOVA) and regression analysis. It is a ratio of two variances and is used to assess whether the means of two or more groups are significantly different from each other.\r\n",
    "\r\n",
    "The F-statistic is calculated by dividing the variance between group means by the variance within groups. It is used to test the null hypothesis that the means of the groups are equal. A larger F-statistic indicates a larger difference between group means relative to the variation within groups, which suggests that the difference is more likely to be statistically significant\n",
    ".\n",
    "#### p-value\n",
    "The p-value, or probability value, is a measure that helps determine the significance of the results in statistical hypothesis testing. It represents the probability of obtaining an observed result (or more extreme) under the assumption that the null hypothesis is true.\n",
    "\n",
    "The range of possible p-values is between 0 and 1. Here's what different ranges of p-values typically indicate:\n",
    "\n",
    "- p ≤ 0.05: Usually considered statistically significant. This means that there is strong evidence against the null hypothesis, and it is likely to be rejected. The results are unlikely to occur by chance alone.\n",
    "\n",
    "- 0.05 < p ≤ 0.10: Marginally significant. The evidence against the null hypothesis is weaker compared to p ≤ 0.05, but it may still be worth considering depending on the context and specific requirements of the analysis.\n",
    "\n",
    "- 0.10 < p ≤ 0.50: Not statistically significant. There is insufficient evidence to reject the null hypothesis at the commonly used significance level of α = 0.05. The results are not considered to be statistically meaningful or reliable.\n",
    "\n",
    "- p > 0.50: Highly likely to occur by chance. This range of p-values suggests that the observed result is not unusual or significant. The null hypothesis cannot be rejected based on this evidence."
   ]
  },
  {
   "cell_type": "markdown",
   "id": "1e9832ec-39fe-431c-ad8e-fa7b8a1ef5c7",
   "metadata": {},
   "source": [
    "f-statistic = MSSb/MSSw"
   ]
  },
  {
   "cell_type": "code",
   "execution_count": null,
   "id": "bdd663fb-4381-4637-a834-e79b007c8606",
   "metadata": {},
   "outputs": [],
   "source": [
    "df.head()"
   ]
  },
  {
   "cell_type": "markdown",
   "id": "7a090364-6202-4560-85eb-54982aa8071c",
   "metadata": {},
   "source": [
    "Ho = Salary impacts purchasing a car<br>\n",
    "Ha = Salary is not significant in buying a car"
   ]
  },
  {
   "cell_type": "code",
   "execution_count": null,
   "id": "9890ce10-fafe-42f1-8c59-1afe9cb19e5a",
   "metadata": {},
   "outputs": [],
   "source": [
    "df.Car.unique()"
   ]
  },
  {
   "cell_type": "code",
   "execution_count": null,
   "id": "9245b34b-93c7-4d28-a93d-c2843d18346b",
   "metadata": {},
   "outputs": [],
   "source": [
    "groups = df.groupby(\"Car\")[\"Salary\"]\n",
    "yes= groups.get_group(\"Yes\")\n",
    "no = groups.get_group(\"No\")"
   ]
  },
  {
   "cell_type": "code",
   "execution_count": null,
   "id": "2375b1b3-1efb-4f63-8569-e357ed7545bf",
   "metadata": {},
   "outputs": [],
   "source": [
    "f_stats, p_value = stats.f_oneway(yes, no)\n",
    "\n",
    "f_stats\n",
    "\n",
    "p_value < 0.05\n",
    "\n",
    "if p_value < 0.05:\n",
    "    print(\"Reject the null hypothesis\", \"Salary is not significant in buying a car\")\n",
    "else:\n",
    "    print(\"Fail to reject the null hypothesis\", \"Salary impacts purchasing a car\")"
   ]
  },
  {
   "cell_type": "markdown",
   "id": "932107dd-795d-4e05-8b78-60958e3f0a84",
   "metadata": {},
   "source": [
    "### Example 3 (Categorial-Categorial)"
   ]
  },
  {
   "cell_type": "markdown",
   "id": "2ad25436-ede9-4984-8647-c2b516196fc9",
   "metadata": {},
   "source": [
    "#### pd.crosstab"
   ]
  },
  {
   "cell_type": "code",
   "execution_count": null,
   "id": "24b25ca5-ea1b-4f37-8b38-6d8cc24428aa",
   "metadata": {},
   "outputs": [],
   "source": [
    "df.head()"
   ]
  },
  {
   "cell_type": "code",
   "execution_count": null,
   "id": "35353697-2986-43e8-91f2-f0eb975074f5",
   "metadata": {},
   "outputs": [],
   "source": [
    "pd.crosstab(df.Gender, df.Car)"
   ]
  },
  {
   "cell_type": "code",
   "execution_count": null,
   "id": "991f09a0-26e2-473d-bd42-0269332304a2",
   "metadata": {},
   "outputs": [],
   "source": [
    "pd.crosstab(df.Designation, df.Car)"
   ]
  },
  {
   "cell_type": "markdown",
   "id": "d5f5c115-8365-41f5-890f-706e8c7dc38e",
   "metadata": {},
   "source": [
    "#### Chi-square\n",
    "\n",
    "The chi-square test is a statistical test used to determine whether there is a significant association between two categorical variables. It is commonly used to analyze contingency tables, which display the frequency distributions of categorical variables in a cross-tabulation format.\n",
    "\n",
    "- Formulation of Hypotheses:\n",
    "    - Null Hypothesis (H0): There is no association between the categorical variables.\n",
    "    - Alternative Hypothesis (H1): There is an association between the categorical variables.\n",
    "      \n",
    "- Calculation of Expected Frequencies:\n",
    "    - Calculate the expected frequencies for each cell in the contingency table under the assumption that the variables are independent (i.e., if the null hypothesis is true).\n",
    "    - Expected frequency = (row total * column total) / total number of observations\n",
    "\n",
    "- Calculation of Test Statistic:\n",
    "    - Summation of ((Oi - Ei) ** 2 / Ei), where Oi is observerd frequency and Ei is expected frequency\n",
    "\n",
    "- Determination of Degrees of Freedom:\n",
    "    - Degrees of freedom = (number of rows - 1) * (number of columns - 1)\n",
    "\n",
    "- Interpretation of Results:\n",
    "    - Compare the calculated chi-square test statistic to the critical value from the chi-square distribution table at a specified significance level (usually α = 0.05).\n",
    "        - If the calculated chi-square statistic exceeds the critical value, reject the null hypothesis and conclude that there is a significant association between the categorical variables.\n",
    "        - If the calculated chi-square statistic does not exceed the critical value, fail to reject the null hypothesis, and conclude that there is no significant association between the categorical variables."
   ]
  },
  {
   "cell_type": "markdown",
   "id": "269225b0-aac8-48fe-bff7-cc58fc00974c",
   "metadata": {},
   "source": [
    "Ho = There is no association between gender and car<br>\n",
    "Ha = There is significant association between gender and car"
   ]
  },
  {
   "cell_type": "code",
   "execution_count": null,
   "id": "eb99bac6-c744-4e51-a6d5-2464f2f94e02",
   "metadata": {},
   "outputs": [],
   "source": [
    "contingency_matrix = pd.crosstab(df.Gender, df.Car)\n",
    "contingency_matrix"
   ]
  },
  {
   "cell_type": "code",
   "execution_count": null,
   "id": "77f24eda-ef0b-4c5a-a0b7-3f1ab3adc41c",
   "metadata": {},
   "outputs": [],
   "source": [
    "stats.chi2_contingency(contingency_matrix)"
   ]
  },
  {
   "cell_type": "code",
   "execution_count": null,
   "id": "da6471f6-3ea8-4d18-b695-f45edd019263",
   "metadata": {},
   "outputs": [],
   "source": [
    "p_value=0.6726038174415168\n",
    "if p_value < 0.05:\n",
    "    print(\"Reject the null hypothesis\", )\n",
    "else:\n",
    "    print(\"Fail to reject the null hypothesis\", )"
   ]
  },
  {
   "cell_type": "code",
   "execution_count": null,
   "id": "843d3664-ec4b-415e-b6a0-189a2b5be79a",
   "metadata": {},
   "outputs": [],
   "source": [
    "contingency_matrix = pd.crosstab(df.Designation, df.Car)\n",
    "p_value = stats.chi2_contingency(contingency_matrix).pvalue\n",
    "if p_value < 0.05:\n",
    "    print(\"Reject the null hypothesis\", )\n",
    "else:\n",
    "    print(\"Fail to reject the null hypothesis\", )"
   ]
  },
  {
   "cell_type": "markdown",
   "id": "cf5d93f2-0f08-42e9-be32-02fbbe8c3faf",
   "metadata": {},
   "source": [
    "<hr><hr>"
   ]
  },
  {
   "cell_type": "markdown",
   "id": "ab6f6f2e-7392-4081-91a5-bf6526866894",
   "metadata": {},
   "source": [
    "## Introduction to Machine Learning"
   ]
  },
  {
   "cell_type": "markdown",
   "id": "3b684580-f141-493d-908c-f96d45445e7e",
   "metadata": {},
   "source": [
    "Machine learning is a branch of artificial intelligence (AI) that focuses on the development of algorithms and statistical models that enable computers to learn and improve their performance on a specific task or problem without being explicitly programmed. In essence, it involves creating and training models that can learn from data and make predictions or decisions based on that data.\n",
    "\n",
    "The core idea behind machine learning is to use data to uncover patterns, relationships, and insights that can be used to make predictions or take actions. This is typically done through the following steps:\n",
    "\n",
    "1. Data Collection: Gathering relevant data from various sources, which may include structured data (e.g., databases) and unstructured data (e.g., text, images, videos).\n",
    "\n",
    "2. Data Preprocessing: Cleaning, transforming, and preparing the data for analysis. This may involve tasks such as handling missing values, encoding categorical variables, and scaling numerical features.\n",
    "\n",
    "3. Model Training: Selecting an appropriate machine learning algorithm and training a model on the prepared data. During training, the model learns patterns and relationships in the data by adjusting its internal parameters.\n",
    "\n",
    "4. Model Evaluation: Assessing the performance of the trained model using evaluation metrics and validation techniques. This helps determine how well the model generalizes to new, unseen data.\n",
    "\n",
    "5. Model Deployment: Deploying the trained model to make predictions or decisions on new, real-world data. This may involve integrating the model into existing systems or applications.\n",
    "\n",
    "<img src = \"images/ML1.png\">\n",
    "\n",
    "### Machine learning Categories:\n",
    "\n",
    "- Supervised Learning: In supervised learning, the model is trained on labeled data, where each example in the training dataset is associated with a target label or output. The goal is to learn a mapping from input features to output labels, allowing the model to make predictions on new, unseen data.\n",
    "\n",
    "- Unsupervised Learning: In unsupervised learning, the model is trained on unlabeled data, and the goal is to uncover hidden patterns or structures in the data. This may involve tasks such as clustering similar data points together or dimensionality reduction.\n",
    "\n",
    "- Reinforcement Learning: In reinforcement learning, the model learns to make decisions by interacting with an environment and receiving feedback or rewards. The goal is to learn a policy that maximizes the cumulative reward over time.\n",
    "\n",
    "### Types of Supervised Learning\n",
    "\n",
    "- Classification: Classification is a type of supervised learning where the goal is to predict the categorical class labels of new instances based on past observations. In classification, the output variable is discrete and belongs to a specific class or category. Some common classification algorithms include:\r\n",
    "\r\n",
    "\t- Logistic Regression\r\n",
    "\t- Decision Trees\r\n",
    "\t- Random Forest\r\n",
    "\t- Support Vector Machines (SVM)\r\n",
    "\t- k-Nearest Neighbors (k-NN)\r\n",
    "\t- Naive Bayes\r\n",
    "\r\n",
    "- Regression: Regression is another type of supervised learning where the goal is to predict continuous numerical values based on input features. In regression, the output variable is continuous and can take any value within a range. Some common regression algorithms include:\r\n",
    "\r\n",
    "\t- Linear Regression\r\n",
    "\t- Polynomial Regression\r\n",
    "\t- Ridge Regression\r\n",
    "\t- Lasso Regression\r\n",
    "\t- Support Vector Regression (SVR)\r\n",
    "\t- Decision Tree Regression"
   ]
  },
  {
   "cell_type": "markdown",
   "id": "85e70858-afc1-4d5b-9154-b275a7b0abf7",
   "metadata": {},
   "source": [
    "## Linear Regression Example"
   ]
  },
  {
   "attachments": {},
   "cell_type": "markdown",
   "id": "147b486b-d6ef-4007-a584-dc2088440a20",
   "metadata": {},
   "source": [
    "- Linear regression is a statistical method used for modeling the relationship between a dependent variable (target variable) and one or more independent variables (predictor variables).\n",
    "- It is a supervised learning algorithm because it learns from labeled data, where the input features and their corresponding target values are provided during training.\n",
    "- In linear regression, the goal is to fit a linear equation to the data that best describes the relationship between the independent variables and the dependent variable. \n",
    "\n",
    "#### Assumptions of Linear Regression\n",
    "\n",
    "\n",
    "- `Linearity:` The relationship between the independent variables and the dependent variable should be linear. This means that the change in the dependent variable is proportional to the change in the independent variable\n",
    "  s.\n",
    "- `Independence of errors:` The errors (residuals) should be independent of each other. In other words, the error term for one observation should not be correlated with the error term for another observa  on.\n",
    "- `Constant Variance:` The variance of the errors should be constant across all values of the independent variables. This means that the spread of the residuals should be the same at all levels of the independent variab\n",
    "  les.\n",
    "- `Normality of residuals:` The residuals should be normally distributed. This means that the distribution of the residuals should be symmetric around zero, with the majority of residuals clustered near zero and fewer residuals further away from \n",
    "  zero.\n",
    "- `No perfect multicollinearity:` There should be no perfect linear relationship among the independent variables. This means that the independent variables should not be highly correlated with each \n",
    "  other.\n",
    "- `No outliers:` There should be no outliers in the data that can unduly influence the estimation of the regression coeffi\n",
    "  cients.\n",
    "- `Additivity:` The effect of changes in the independent variables on the dependent variable is additive. This means that the effect of changing one independent variable is independent of the values of the other independent variables.t variables."
   ]
  },
  {
   "cell_type": "markdown",
   "id": "62fb1e45-2725-4d6a-9361-6e409e1aee9b",
   "metadata": {},
   "source": [
    "### Housing Data Case Study\n",
    "\n",
    "#### Problem Statement:\n",
    "\n",
    "Consider a real estate company that has a dataset containing the prices of properties in the Mumbai region. It wishes to use the data to optimize the sale prices of the properties based on important factors such as area, bedrooms, parking, etc.\n",
    "\n",
    "Essentially, the company wants —\n",
    "\n",
    "- To identify the variables affecting house prices, e.g. area, number of rooms, bathrooms, etc.\n",
    "\n",
    "- To create a linear model that quantitatively relates house prices with variables such as number of rooms, area, number of bathrooms, etc.\n",
    "\n",
    "- To know the accuracy of the model, i.e. how well these variables can predict house prices.\n"
   ]
  },
  {
   "cell_type": "markdown",
   "id": "06edd94a-6d0d-4795-92e3-326315da13ae",
   "metadata": {},
   "source": [
    "#### Reading and Understanding the Data"
   ]
  },
  {
   "cell_type": "code",
   "execution_count": null,
   "id": "49d752af-782b-46b1-90c1-70c363ac663e",
   "metadata": {},
   "outputs": [],
   "source": [
    "# Import the basic packages\n",
    "\n",
    "import numpy as np\n",
    "import pandas as pd\n",
    "import matplotlib.pyplot as plt \n",
    "import seaborn as sns\n",
    "import scipy.stats as stats\n",
    "\n",
    "%matplotlib inline\n",
    "pd.options.display.float_format = '{:.2f}'.format\n",
    "plt.rcParams['figure.figsize'] = (4, 3)\n",
    "# plt.rcParams['font.size'] = 10\n",
    "\n",
    "import warnings\n",
    "warnings.filterwarnings('ignore')\n",
    "\n",
    "df = pd.read_csv(\"Housing.csv\")\n",
    "df.head()"
   ]
  },
  {
   "cell_type": "code",
   "execution_count": null,
   "id": "169f328a-70ec-4645-a0f2-373ad9f2a04d",
   "metadata": {},
   "outputs": [],
   "source": [
    "df.shape"
   ]
  },
  {
   "cell_type": "code",
   "execution_count": null,
   "id": "6e0f1c7c-104d-4104-996f-046ad31cac7c",
   "metadata": {},
   "outputs": [],
   "source": [
    "df.dtypes"
   ]
  },
  {
   "cell_type": "markdown",
   "id": "2f66748f-76a3-47b0-9812-835258fd7f6f",
   "metadata": {},
   "source": [
    "#### Handling Nulls"
   ]
  },
  {
   "cell_type": "code",
   "execution_count": null,
   "id": "f9888127-ba31-4ae6-9ae9-0fd858f9f5e2",
   "metadata": {},
   "outputs": [],
   "source": [
    "df.isna().sum()"
   ]
  },
  {
   "cell_type": "markdown",
   "id": "3e3b4b2b-9308-45a3-ac62-ca36caf7f9f6",
   "metadata": {},
   "source": [
    "#### Outlier Analysis"
   ]
  },
  {
   "cell_type": "code",
   "execution_count": null,
   "id": "ed5d3c34-e38a-47a5-ab22-8c287b482c30",
   "metadata": {},
   "outputs": [],
   "source": [
    "def outliers(col) :\n",
    "    figure, axes = plt.subplots(ncols = 2, figsize = (4, 2))\n",
    "    sns.histplot(col, kde = True, ax = axes[0])\n",
    "    sns.boxplot(col, ax = axes[1])\n",
    "    IQR_factor = (np.percentile(col, 75) - np.percentile(col, 25)) * 1.5\n",
    "    return (np.percentile(col, 25) - IQR_factor), (np.percentile(col, 75) + IQR_factor)"
   ]
  },
  {
   "cell_type": "code",
   "execution_count": null,
   "id": "146f6884-a258-4e5a-a424-fb303a26597c",
   "metadata": {},
   "outputs": [],
   "source": [
    "min_w, max_w = outliers(df.price)\n",
    "df = df.loc[df.price.between(min_w, max_w)]"
   ]
  },
  {
   "cell_type": "code",
   "execution_count": null,
   "id": "2b0e2712-053d-40a7-a1cc-a8efacb138a5",
   "metadata": {},
   "outputs": [],
   "source": [
    "len(df)"
   ]
  },
  {
   "cell_type": "code",
   "execution_count": null,
   "id": "daa55c25-bedd-4214-829d-6b2c7110b491",
   "metadata": {},
   "outputs": [],
   "source": [
    "min_w, max_w = outliers(df.area)\n",
    "df = df.loc[df.area.between(min_w, max_w)]"
   ]
  },
  {
   "cell_type": "code",
   "execution_count": null,
   "id": "f5c03365-cb05-48da-bc7b-ed58af5c7e63",
   "metadata": {},
   "outputs": [],
   "source": [
    "len(df)"
   ]
  },
  {
   "cell_type": "markdown",
   "id": "efdce3dc-eb87-433a-b092-ed02be94a4ed",
   "metadata": {},
   "source": [
    "### Encoding Techniques\r\n",
    "\r\n",
    "Converting categorical variables to numeric variables is called \"encoding\" or \"categorical encoding.\" This process involves transforming categorical data, which represents categories or labels, into numerical values that can be used in machine learning models.\r\n",
    "\r\n",
    "There are several methods for encoding categorical variables into numerical format, including:\r\n",
    "\r\n",
    "- `Ordinal Encoding:` Assigns a unique integer to each category based on the order or ranking of the categories.\r\n",
    "\r\n",
    "- `One-Hot Encoding:` Creates binary columns for each category, where each column represents whether a sample belongs to that category or not (1 or 0).\r\n",
    "\r\n",
    "- `Label Encoding:` Encodes target labels with values between 0 and n_that category."
   ]
  },
  {
   "cell_type": "markdown",
   "id": "59fcf1d7-df88-4e65-96e8-e616dc930534",
   "metadata": {},
   "source": [
    "#### Encoding column hotwaterheating using map()"
   ]
  },
  {
   "cell_type": "code",
   "execution_count": null,
   "id": "ec3f52d6-25c8-4b65-8380-d733ea4f899e",
   "metadata": {},
   "outputs": [],
   "source": [
    "df.head()"
   ]
  },
  {
   "cell_type": "code",
   "execution_count": null,
   "id": "ba64979f-5539-4411-8639-f1f48e8788ff",
   "metadata": {},
   "outputs": [],
   "source": [
    "df.hotwaterheating.unique()"
   ]
  },
  {
   "cell_type": "code",
   "execution_count": null,
   "id": "272dede1-30b4-4d0e-afd2-3fa80c5c95ed",
   "metadata": {},
   "outputs": [],
   "source": [
    "df.hotwaterheating = df.hotwaterheating.map({\"yes\" : 1, \"no\" : 2})\n",
    "df.head()"
   ]
  },
  {
   "cell_type": "markdown",
   "id": "90066e62-2c0b-4359-b049-96dcaf9f7f42",
   "metadata": {},
   "source": [
    "### OneHotEncoding\n",
    "\n",
    "OneHotEncoder is a preprocessing technique used in machine learning to convert categorical variables into a one-hot encoded representation.\n",
    "\n",
    "In many machine learning algorithms, categorical variables cannot be directly used as input, as they are non-numeric and don't have an inherent order or magnitude. One way to handle categorical variables is to convert them into a numerical representation that can be fed into machine learning models.\n",
    "\n",
    "The one-hot encoding technique converts categorical variables into a binary matrix, where each category is represented by a binary vector of length equal to the number of unique categories in the variable. In this binary matrix, each column represents a category, and each row corresponds to an observation.\n",
    "\n",
    "For each observation, the value is 1 in the column corresponding to the category of that observation, and 0 in all other columns. This ensures that the numerical representation is not biased by the original categorical values and preserves the categorical nature of the variable."
   ]
  },
  {
   "cell_type": "markdown",
   "id": "13d201b4-0267-432f-8789-73707f05b67b",
   "metadata": {},
   "source": [
    "#### Ecoding furnishingstatus using OneHotEncoder"
   ]
  },
  {
   "cell_type": "code",
   "execution_count": null,
   "id": "00cfc75c-aeab-496c-a905-46c612965ae6",
   "metadata": {},
   "outputs": [],
   "source": [
    "df.furnishingstatus.unique()"
   ]
  },
  {
   "cell_type": "code",
   "execution_count": null,
   "id": "9dbccc0a-af88-484c-bf62-d4ea1c921b00",
   "metadata": {},
   "outputs": [],
   "source": [
    "from sklearn.preprocessing import OneHotEncoder\n",
    "\n",
    "encoder = OneHotEncoder()\n",
    "encoded_data = encoder.fit_transform(df.furnishingstatus.to_frame())"
   ]
  },
  {
   "cell_type": "code",
   "execution_count": null,
   "id": "6c0fb52b-e9c9-4c04-b169-85676162f111",
   "metadata": {},
   "outputs": [],
   "source": [
    "encoded_data.toarray().astype(int).shape"
   ]
  },
  {
   "cell_type": "code",
   "execution_count": null,
   "id": "dd0155d5-f050-4610-9dcc-e6764e415a11",
   "metadata": {},
   "outputs": [],
   "source": [
    "data = pd.DataFrame(encoded_data.toarray().astype(int), columns=['Unfurnished', 'Semi-furnished', 'Furnished'])\n",
    "data.head()"
   ]
  },
  {
   "cell_type": "code",
   "execution_count": null,
   "id": "e4cd3708-41db-4d12-ae72-d3589f215a73",
   "metadata": {},
   "outputs": [],
   "source": [
    "df.shape"
   ]
  },
  {
   "cell_type": "code",
   "execution_count": null,
   "id": "6abceb14-d797-49da-8122-c3483c59f89f",
   "metadata": {},
   "outputs": [],
   "source": [
    "df.reset_index(drop=True, inplace=True)"
   ]
  },
  {
   "cell_type": "code",
   "execution_count": null,
   "id": "d06eb641-4160-4c32-b6fe-730dbefa5e73",
   "metadata": {},
   "outputs": [],
   "source": [
    "df = pd.concat((df, data), axis=1, ignore_index=True)\n",
    "df.head()"
   ]
  },
  {
   "cell_type": "markdown",
   "id": "f04d1322-01cb-4869-b1f0-a5367686efcf",
   "metadata": {},
   "source": [
    "### pd.getdummies()\n",
    "\n",
    "pd.get_dummies() performs the following steps:\n",
    "\n",
    "- Identifies categorical variables in the input data.\n",
    "- Creates binary columns for each unique category in each categorical variable.\n",
    "- Assigns a value of 1 to the appropriate column for each observation based on its category, and 0 to all other columns.\n",
    "\n",
    "This function is useful for quickly converting categorical variables into a format suitable for machine learning algorithms that require numerical input. It's commonly used during data preprocessing and feature engineering steps in data analysis and machine learning workflows.\n",
    "\n",
    "\n",
    "\n",
    "\n",
    "\n",
    "\n"
   ]
  },
  {
   "cell_type": "code",
   "execution_count": null,
   "id": "4e43962c-e05a-4a29-8f1d-de6b3f427650",
   "metadata": {},
   "outputs": [],
   "source": [
    "df.head()"
   ]
  },
  {
   "cell_type": "markdown",
   "id": "53a5a553-70f5-4855-b7a5-6468d964f2b6",
   "metadata": {},
   "source": [
    "#### Ecoding furnishingstatus using pd.getdummies()"
   ]
  },
  {
   "cell_type": "code",
   "execution_count": null,
   "id": "d418825c-4d2c-4580-b738-36b1c1cb13f3",
   "metadata": {},
   "outputs": [],
   "source": [
    "df = pd.get_dummies(data=df, columns=[\"furnishingstatus\"], dtype=int)\n",
    "df.head()"
   ]
  },
  {
   "cell_type": "code",
   "execution_count": null,
   "id": "f626ff2b-aaa8-4839-adb6-1ce23af7603b",
   "metadata": {},
   "outputs": [],
   "source": [
    "df.dtypes"
   ]
  },
  {
   "cell_type": "markdown",
   "id": "b227790a-7307-4db3-8791-8faaae60a4bd",
   "metadata": {},
   "source": [
    "### Scaling of Numerical Variables\n",
    "\n",
    "#### Standardization (Z-score normalization):\n",
    "\n",
    "Standardization scales the features so that they have a mean of 0 and a standard deviation of 1. It subtracts the mean of the feature and then divides by the standard deviation. This method assumes that the data follows a Gaussian distribution (normal distribution). Standardization is less affected by outliers compared to min-max scaling.\n",
    "\n",
    "#### Min-Max Scaling:\n",
    "\n",
    "Min-Max scaling scales the features to a fixed range, typically [0, 1]. It subtracts the minimum value of the feature and then divides by the range (maximum value minus minimum value). Min-Max scaling preserves the shape of the original distribution and is used when the algorithm does not assume a normal distribution of the features. However, it is sensitive to outliers.to outliers.utliers."
   ]
  },
  {
   "cell_type": "code",
   "execution_count": null,
   "id": "27692d60-cec9-4eca-90b0-f44b5aa399ef",
   "metadata": {},
   "outputs": [],
   "source": [
    "df.head()"
   ]
  },
  {
   "cell_type": "code",
   "execution_count": null,
   "id": "6004ff02-757e-420f-a0a9-a5bcabcaccb4",
   "metadata": {},
   "outputs": [],
   "source": [
    "from sklearn.preprocessing import MinMaxScaler\n",
    "scaler = MinMaxScaler()\n",
    "df = pd.DataFrame(scaler.fit_transform(df), columns=df.columns)\n",
    "df.head()"
   ]
  },
  {
   "cell_type": "markdown",
   "id": "6cf7433d-87d7-4b2b-b42e-469e302b578a",
   "metadata": {},
   "source": [
    "###### background process"
   ]
  },
  {
   "cell_type": "code",
   "execution_count": null,
   "id": "10aa692a-5ce5-4cd3-b1fc-895eec5c5c40",
   "metadata": {},
   "outputs": [],
   "source": [
    "(131904400 - df.price.min()) / (df.price.max() - df.price.min())"
   ]
  },
  {
   "cell_type": "markdown",
   "id": "c174017f-ecc4-4aef-841a-6fc4bb1099bf",
   "metadata": {},
   "source": [
    "### Multicolinearity"
   ]
  },
  {
   "cell_type": "markdown",
   "id": "566df828-0ea7-4c76-b6f6-9e1e82d73645",
   "metadata": {},
   "source": [
    "- Multicollinearity exists when there is a correlation between multiple independent variables in a multiple regression model.\n",
    "-  When two variables have a correlation coefficient of either +1.0 or -1.0, they are considered perfectly collinear.\r",
    "- \n",
    "The presence of multicollinearity among independent variables can lead to less dependable statistical conclusions."
   ]
  },
  {
   "cell_type": "markdown",
   "id": "53518761-592f-481d-8b66-a15a00bb2421",
   "metadata": {},
   "source": [
    "#### Correlation matrix"
   ]
  },
  {
   "cell_type": "code",
   "execution_count": null,
   "id": "0a3f4c57-78f4-4582-99fd-630c04bd33e7",
   "metadata": {},
   "outputs": [],
   "source": [
    "features = df.drop(columns=[\"price\"])\n",
    "features.head(2)"
   ]
  },
  {
   "cell_type": "code",
   "execution_count": null,
   "id": "70251f61-3a1c-44a1-8bb1-1d36c10ba83c",
   "metadata": {},
   "outputs": [],
   "source": [
    "features.corr()"
   ]
  },
  {
   "cell_type": "code",
   "execution_count": null,
   "id": "e23f53ce-caef-4f5b-a198-48be005dafbb",
   "metadata": {},
   "outputs": [],
   "source": [
    "plt.figure(figsize = (7, 4))\n",
    "sns.heatmap(features.corr(), annot=True, cmap = \"RdYlGn\")"
   ]
  },
  {
   "cell_type": "code",
   "execution_count": null,
   "id": "e3a35b03-0392-446e-aca0-ac9486d02ea5",
   "metadata": {},
   "outputs": [],
   "source": [
    "df.drop(columns=[\"Furnished\"], inplace=True)"
   ]
  },
  {
   "cell_type": "markdown",
   "id": "96035311-3522-493e-b696-058b313bbaa8",
   "metadata": {},
   "source": [
    "#### Variance Inflation Factor (VIF) Thresholding:\n",
    "- A variance inflation factor (VIF) is a measure of the amount of multicollinearity in regression analysis.\n",
    "- VIF determines the strength of the correlation between the independent variables. \n",
    "- It is predicted by taking a variable and regressing it against every other variable. \n",
    "- VIF score of an independent variable represents how well the variable is explained by other independent variables.\n",
    "- R^2 value is determined to find out how well an independent variable is described by the other independent variables. A high value of R^2 means that the variable is highly correlated with the other variables.\n",
    "- Set a threshold for VIF values and remove predictor variables with VIF values exceeding the threshold.\n",
    "    - `VIF < 5: Low multicollinearity.` The variance of the estimated regression coefficient is moderately affected by multicollinearity.\n",
    "    - `5 ≤ VIF < 10: Moderate multicollinearity.` The variance of the estimated regression coefficient is significantly affected by multicollinearity.\n",
    "    - `VIF ≥ 10: High multicollinearity.` The variance of the estimated regression coefficient is highly affected by multicollinearity, and the coefficient may be unreliable."
   ]
  },
  {
   "cell_type": "code",
   "execution_count": null,
   "id": "7d6ca982-287c-4d69-a7ad-0d08c3095541",
   "metadata": {},
   "outputs": [],
   "source": [
    "from statsmodels.stats.outliers_influence import variance_inflation_factor\n",
    "features = df.drop(columns=[\"price\"])\n",
    "\n",
    "vif_result = pd.DataFrame()\n",
    "vif_result[\"Variable\"] = features.columns\n",
    "vif_result[\"VIF value\"] = [variance_inflation_factor(features.values, i) for i in range(features.shape[1])] \n",
    "vif_result"
   ]
  },
  {
   "cell_type": "markdown",
   "id": "03208b4c-4f73-4130-a027-4ede87ea1903",
   "metadata": {},
   "source": [
    "###### after adding conostant"
   ]
  },
  {
   "cell_type": "code",
   "execution_count": null,
   "id": "f1839749-8237-4286-a672-76b936858586",
   "metadata": {},
   "outputs": [],
   "source": [
    "from statsmodels.stats.outliers_influence import variance_inflation_factor\n",
    "from statsmodels import api\n",
    "\n",
    "features = df.drop(columns=[\"price\"])\n",
    "features = api.add_constant(features)\n",
    "\n",
    "vif_result = pd.DataFrame()\n",
    "vif_result[\"Variable\"] = features.columns\n",
    "vif_result[\"VIF value\"] = [variance_inflation_factor(features.values, i) for i in range(features.shape[1])] \n",
    "vif_result"
   ]
  },
  {
   "cell_type": "code",
   "execution_count": null,
   "id": "2c41f28a-9a48-45b0-9c58-ebfdae1d35aa",
   "metadata": {},
   "outputs": [],
   "source": [
    "df.drop(columns=[\"bedrooms\"], inplace=True)"
   ]
  },
  {
   "cell_type": "code",
   "execution_count": null,
   "id": "38a5b2c2-9180-4d8b-a447-447fa766a144",
   "metadata": {},
   "outputs": [],
   "source": [
    "from statsmodels.stats.outliers_influence import variance_inflation_factor\n",
    "from statsmodels import api\n",
    "\n",
    "features = df.drop(columns=[\"price\"])\n",
    "features = api.add_constant(features)\n",
    "\n",
    "vif_result = pd.DataFrame()\n",
    "vif_result[\"Variable\"] = features.columns\n",
    "vif_result[\"VIF value\"] = [variance_inflation_factor(features.values, i) for i in range(features.shape[1])] \n",
    "vif_result"
   ]
  },
  {
   "cell_type": "markdown",
   "id": "8d0fa20e-8372-4749-b643-7388b04df9fe",
   "metadata": {},
   "source": [
    "#### Final Code - "
   ]
  },
  {
   "cell_type": "code",
   "execution_count": 216,
   "id": "09c2ecf5-48cf-4c51-9f8f-b6189bb57fc8",
   "metadata": {},
   "outputs": [
    {
     "data": {
      "text/html": [
       "<div>\n",
       "<style scoped>\n",
       "    .dataframe tbody tr th:only-of-type {\n",
       "        vertical-align: middle;\n",
       "    }\n",
       "\n",
       "    .dataframe tbody tr th {\n",
       "        vertical-align: top;\n",
       "    }\n",
       "\n",
       "    .dataframe thead th {\n",
       "        text-align: right;\n",
       "    }\n",
       "</style>\n",
       "<table border=\"1\" class=\"dataframe\">\n",
       "  <thead>\n",
       "    <tr style=\"text-align: right;\">\n",
       "      <th></th>\n",
       "      <th>price</th>\n",
       "      <th>area</th>\n",
       "      <th>bathrooms</th>\n",
       "      <th>hotwaterheating</th>\n",
       "      <th>parking</th>\n",
       "      <th>Unfurnished</th>\n",
       "      <th>Semi-furnished</th>\n",
       "    </tr>\n",
       "  </thead>\n",
       "  <tbody>\n",
       "    <tr>\n",
       "      <th>0</th>\n",
       "      <td>0.44</td>\n",
       "      <td>0.64</td>\n",
       "      <td>1.00</td>\n",
       "      <td>0.00</td>\n",
       "      <td>0.67</td>\n",
       "      <td>0.00</td>\n",
       "      <td>0.00</td>\n",
       "    </tr>\n",
       "    <tr>\n",
       "      <th>1</th>\n",
       "      <td>0.18</td>\n",
       "      <td>0.29</td>\n",
       "      <td>0.75</td>\n",
       "      <td>0.00</td>\n",
       "      <td>0.33</td>\n",
       "      <td>0.00</td>\n",
       "      <td>1.00</td>\n",
       "    </tr>\n",
       "    <tr>\n",
       "      <th>2</th>\n",
       "      <td>0.50</td>\n",
       "      <td>0.66</td>\n",
       "      <td>0.75</td>\n",
       "      <td>0.00</td>\n",
       "      <td>1.00</td>\n",
       "      <td>0.00</td>\n",
       "      <td>0.00</td>\n",
       "    </tr>\n",
       "    <tr>\n",
       "      <th>3</th>\n",
       "      <td>0.48</td>\n",
       "      <td>0.64</td>\n",
       "      <td>0.75</td>\n",
       "      <td>0.00</td>\n",
       "      <td>0.67</td>\n",
       "      <td>0.00</td>\n",
       "      <td>1.00</td>\n",
       "    </tr>\n",
       "    <tr>\n",
       "      <th>4</th>\n",
       "      <td>0.43</td>\n",
       "      <td>0.66</td>\n",
       "      <td>1.00</td>\n",
       "      <td>0.00</td>\n",
       "      <td>0.67</td>\n",
       "      <td>0.00</td>\n",
       "      <td>1.00</td>\n",
       "    </tr>\n",
       "  </tbody>\n",
       "</table>\n",
       "</div>"
      ],
      "text/plain": [
       "   price  area  bathrooms  hotwaterheating  parking  Unfurnished  \\\n",
       "0   0.44  0.64       1.00             0.00     0.67         0.00   \n",
       "1   0.18  0.29       0.75             0.00     0.33         0.00   \n",
       "2   0.50  0.66       0.75             0.00     1.00         0.00   \n",
       "3   0.48  0.64       0.75             0.00     0.67         0.00   \n",
       "4   0.43  0.66       1.00             0.00     0.67         0.00   \n",
       "\n",
       "   Semi-furnished  \n",
       "0            0.00  \n",
       "1            1.00  \n",
       "2            0.00  \n",
       "3            1.00  \n",
       "4            1.00  "
      ]
     },
     "execution_count": 216,
     "metadata": {},
     "output_type": "execute_result"
    }
   ],
   "source": [
    "# Import the basic packages\n",
    "\n",
    "import numpy as np\n",
    "import pandas as pd\n",
    "import matplotlib.pyplot as plt \n",
    "import seaborn as sns\n",
    "import scipy.stats as stats\n",
    "\n",
    "%matplotlib inline\n",
    "pd.options.display.float_format = '{:.2f}'.format\n",
    "plt.rcParams['figure.figsize'] = (4, 3)\n",
    "# plt.rcParams['font.size'] = 10\n",
    "\n",
    "import warnings\n",
    "warnings.filterwarnings('ignore')\n",
    "\n",
    "def outliers(col) :\n",
    "    # figure, axes = plt.subplots(ncols = 2, figsize = (4, 2))\n",
    "    # sns.histplot(col, kde = True, ax = axes[0])\n",
    "    # sns.boxplot(col, ax = axes[1])\n",
    "    IQR_factor = (np.percentile(col, 75) - np.percentile(col, 25)) * 1.5\n",
    "    return (np.percentile(col, 25) - IQR_factor), (np.percentile(col, 75) + IQR_factor)\n",
    "\n",
    "# Reading data\n",
    "df = pd.read_csv(\"Housing.csv\")\n",
    "# No Nulls \n",
    "\n",
    "# Handling Outliers\n",
    "min_w, max_w = outliers(df.price)\n",
    "df = df.loc[df.price.between(min_w, max_w)]\n",
    "min_w, max_w = outliers(df.area)\n",
    "df = df.loc[df.area.between(min_w, max_w)]\n",
    "\n",
    "df.reset_index(drop=True, inplace=True)\n",
    "\n",
    "# Encoding data\n",
    "df.hotwaterheating = df.hotwaterheating.map({\"yes\" : 1, \"no\" : 2})\n",
    "\n",
    "from sklearn.preprocessing import OneHotEncoder\n",
    "encoder = OneHotEncoder()\n",
    "encoded_data = encoder.fit_transform(df.furnishingstatus.to_frame())\n",
    "data = pd.DataFrame(encoded_data.toarray().astype(int), columns=['Unfurnished', 'Semi-furnished', 'Furnished'])\n",
    "df = pd.concat((df, data), axis=1)\n",
    "df.drop(columns=[\"furnishingstatus\"], inplace=True)\n",
    "\n",
    "# Scalling of data\n",
    "from sklearn.preprocessing import MinMaxScaler\n",
    "scaler = MinMaxScaler()\n",
    "df = pd.DataFrame(scaler.fit_transform(df), columns=df.columns)\n",
    "\n",
    "# Handling Multicolinearity\n",
    "df.drop(columns=[\"Furnished\", \"bedrooms\"], inplace = True)\n",
    "\n",
    "df.head()"
   ]
  },
  {
   "cell_type": "markdown",
   "id": "a8049a4f-32ba-45fc-a500-61bce06211bf",
   "metadata": {},
   "source": [
    "### Other Feature Selection alternatives\n",
    "- Dimensionality Reduction - PCA, LDA\n",
    "- RFE"
   ]
  },
  {
   "cell_type": "markdown",
   "id": "3253d213-39ea-426c-bfdd-468c6cd9cc05",
   "metadata": {},
   "source": [
    "### Identifying Features and label"
   ]
  },
  {
   "cell_type": "markdown",
   "id": "c2b8c81a-6bf2-4996-a9c0-d61929dc0a57",
   "metadata": {},
   "source": [
    "- We have labelled data thus using supervised ML \n",
    "- Labeled data is continious thus using Regression Algorithm\n",
    "- There is linear correlation between features and label and thus using Linear Regression"
   ]
  },
  {
   "cell_type": "code",
   "execution_count": 217,
   "id": "19d92264-2f69-4d11-b5f3-c0cbe5b513fa",
   "metadata": {},
   "outputs": [],
   "source": [
    "features = df.drop(columns=[\"price\"])\n",
    "label = df.price"
   ]
  },
  {
   "cell_type": "markdown",
   "id": "2435bbd6-0147-4ec7-bc97-5437a3f3de53",
   "metadata": {},
   "source": [
    "### 1. Split data into test and train"
   ]
  },
  {
   "cell_type": "code",
   "execution_count": 218,
   "id": "57d60b8f-632d-4747-8755-543d8dae8ddf",
   "metadata": {},
   "outputs": [],
   "source": [
    "from sklearn.model_selection import train_test_split\n",
    "\n",
    "X_train, X_test, y_train, y_test = train_test_split(features, label, test_size=0.3, random_state=42)"
   ]
  },
  {
   "cell_type": "markdown",
   "id": "9b556435-f6fb-4ae4-b2fe-e3c6bfd8af8a",
   "metadata": {},
   "source": [
    "### 2. Fit Linear Regression Model"
   ]
  },
  {
   "cell_type": "code",
   "execution_count": 219,
   "id": "502d81fc-f2a8-46af-8ffa-6d5ad66ea519",
   "metadata": {},
   "outputs": [
    {
     "data": {
      "text/html": [
       "<style>#sk-container-id-4 {\n",
       "  /* Definition of color scheme common for light and dark mode */\n",
       "  --sklearn-color-text: black;\n",
       "  --sklearn-color-line: gray;\n",
       "  /* Definition of color scheme for unfitted estimators */\n",
       "  --sklearn-color-unfitted-level-0: #fff5e6;\n",
       "  --sklearn-color-unfitted-level-1: #f6e4d2;\n",
       "  --sklearn-color-unfitted-level-2: #ffe0b3;\n",
       "  --sklearn-color-unfitted-level-3: chocolate;\n",
       "  /* Definition of color scheme for fitted estimators */\n",
       "  --sklearn-color-fitted-level-0: #f0f8ff;\n",
       "  --sklearn-color-fitted-level-1: #d4ebff;\n",
       "  --sklearn-color-fitted-level-2: #b3dbfd;\n",
       "  --sklearn-color-fitted-level-3: cornflowerblue;\n",
       "\n",
       "  /* Specific color for light theme */\n",
       "  --sklearn-color-text-on-default-background: var(--sg-text-color, var(--theme-code-foreground, var(--jp-content-font-color1, black)));\n",
       "  --sklearn-color-background: var(--sg-background-color, var(--theme-background, var(--jp-layout-color0, white)));\n",
       "  --sklearn-color-border-box: var(--sg-text-color, var(--theme-code-foreground, var(--jp-content-font-color1, black)));\n",
       "  --sklearn-color-icon: #696969;\n",
       "\n",
       "  @media (prefers-color-scheme: dark) {\n",
       "    /* Redefinition of color scheme for dark theme */\n",
       "    --sklearn-color-text-on-default-background: var(--sg-text-color, var(--theme-code-foreground, var(--jp-content-font-color1, white)));\n",
       "    --sklearn-color-background: var(--sg-background-color, var(--theme-background, var(--jp-layout-color0, #111)));\n",
       "    --sklearn-color-border-box: var(--sg-text-color, var(--theme-code-foreground, var(--jp-content-font-color1, white)));\n",
       "    --sklearn-color-icon: #878787;\n",
       "  }\n",
       "}\n",
       "\n",
       "#sk-container-id-4 {\n",
       "  color: var(--sklearn-color-text);\n",
       "}\n",
       "\n",
       "#sk-container-id-4 pre {\n",
       "  padding: 0;\n",
       "}\n",
       "\n",
       "#sk-container-id-4 input.sk-hidden--visually {\n",
       "  border: 0;\n",
       "  clip: rect(1px 1px 1px 1px);\n",
       "  clip: rect(1px, 1px, 1px, 1px);\n",
       "  height: 1px;\n",
       "  margin: -1px;\n",
       "  overflow: hidden;\n",
       "  padding: 0;\n",
       "  position: absolute;\n",
       "  width: 1px;\n",
       "}\n",
       "\n",
       "#sk-container-id-4 div.sk-dashed-wrapped {\n",
       "  border: 1px dashed var(--sklearn-color-line);\n",
       "  margin: 0 0.4em 0.5em 0.4em;\n",
       "  box-sizing: border-box;\n",
       "  padding-bottom: 0.4em;\n",
       "  background-color: var(--sklearn-color-background);\n",
       "}\n",
       "\n",
       "#sk-container-id-4 div.sk-container {\n",
       "  /* jupyter's `normalize.less` sets `[hidden] { display: none; }`\n",
       "     but bootstrap.min.css set `[hidden] { display: none !important; }`\n",
       "     so we also need the `!important` here to be able to override the\n",
       "     default hidden behavior on the sphinx rendered scikit-learn.org.\n",
       "     See: https://github.com/scikit-learn/scikit-learn/issues/21755 */\n",
       "  display: inline-block !important;\n",
       "  position: relative;\n",
       "}\n",
       "\n",
       "#sk-container-id-4 div.sk-text-repr-fallback {\n",
       "  display: none;\n",
       "}\n",
       "\n",
       "div.sk-parallel-item,\n",
       "div.sk-serial,\n",
       "div.sk-item {\n",
       "  /* draw centered vertical line to link estimators */\n",
       "  background-image: linear-gradient(var(--sklearn-color-text-on-default-background), var(--sklearn-color-text-on-default-background));\n",
       "  background-size: 2px 100%;\n",
       "  background-repeat: no-repeat;\n",
       "  background-position: center center;\n",
       "}\n",
       "\n",
       "/* Parallel-specific style estimator block */\n",
       "\n",
       "#sk-container-id-4 div.sk-parallel-item::after {\n",
       "  content: \"\";\n",
       "  width: 100%;\n",
       "  border-bottom: 2px solid var(--sklearn-color-text-on-default-background);\n",
       "  flex-grow: 1;\n",
       "}\n",
       "\n",
       "#sk-container-id-4 div.sk-parallel {\n",
       "  display: flex;\n",
       "  align-items: stretch;\n",
       "  justify-content: center;\n",
       "  background-color: var(--sklearn-color-background);\n",
       "  position: relative;\n",
       "}\n",
       "\n",
       "#sk-container-id-4 div.sk-parallel-item {\n",
       "  display: flex;\n",
       "  flex-direction: column;\n",
       "}\n",
       "\n",
       "#sk-container-id-4 div.sk-parallel-item:first-child::after {\n",
       "  align-self: flex-end;\n",
       "  width: 50%;\n",
       "}\n",
       "\n",
       "#sk-container-id-4 div.sk-parallel-item:last-child::after {\n",
       "  align-self: flex-start;\n",
       "  width: 50%;\n",
       "}\n",
       "\n",
       "#sk-container-id-4 div.sk-parallel-item:only-child::after {\n",
       "  width: 0;\n",
       "}\n",
       "\n",
       "/* Serial-specific style estimator block */\n",
       "\n",
       "#sk-container-id-4 div.sk-serial {\n",
       "  display: flex;\n",
       "  flex-direction: column;\n",
       "  align-items: center;\n",
       "  background-color: var(--sklearn-color-background);\n",
       "  padding-right: 1em;\n",
       "  padding-left: 1em;\n",
       "}\n",
       "\n",
       "\n",
       "/* Toggleable style: style used for estimator/Pipeline/ColumnTransformer box that is\n",
       "clickable and can be expanded/collapsed.\n",
       "- Pipeline and ColumnTransformer use this feature and define the default style\n",
       "- Estimators will overwrite some part of the style using the `sk-estimator` class\n",
       "*/\n",
       "\n",
       "/* Pipeline and ColumnTransformer style (default) */\n",
       "\n",
       "#sk-container-id-4 div.sk-toggleable {\n",
       "  /* Default theme specific background. It is overwritten whether we have a\n",
       "  specific estimator or a Pipeline/ColumnTransformer */\n",
       "  background-color: var(--sklearn-color-background);\n",
       "}\n",
       "\n",
       "/* Toggleable label */\n",
       "#sk-container-id-4 label.sk-toggleable__label {\n",
       "  cursor: pointer;\n",
       "  display: block;\n",
       "  width: 100%;\n",
       "  margin-bottom: 0;\n",
       "  padding: 0.5em;\n",
       "  box-sizing: border-box;\n",
       "  text-align: center;\n",
       "}\n",
       "\n",
       "#sk-container-id-4 label.sk-toggleable__label-arrow:before {\n",
       "  /* Arrow on the left of the label */\n",
       "  content: \"▸\";\n",
       "  float: left;\n",
       "  margin-right: 0.25em;\n",
       "  color: var(--sklearn-color-icon);\n",
       "}\n",
       "\n",
       "#sk-container-id-4 label.sk-toggleable__label-arrow:hover:before {\n",
       "  color: var(--sklearn-color-text);\n",
       "}\n",
       "\n",
       "/* Toggleable content - dropdown */\n",
       "\n",
       "#sk-container-id-4 div.sk-toggleable__content {\n",
       "  max-height: 0;\n",
       "  max-width: 0;\n",
       "  overflow: hidden;\n",
       "  text-align: left;\n",
       "  /* unfitted */\n",
       "  background-color: var(--sklearn-color-unfitted-level-0);\n",
       "}\n",
       "\n",
       "#sk-container-id-4 div.sk-toggleable__content.fitted {\n",
       "  /* fitted */\n",
       "  background-color: var(--sklearn-color-fitted-level-0);\n",
       "}\n",
       "\n",
       "#sk-container-id-4 div.sk-toggleable__content pre {\n",
       "  margin: 0.2em;\n",
       "  border-radius: 0.25em;\n",
       "  color: var(--sklearn-color-text);\n",
       "  /* unfitted */\n",
       "  background-color: var(--sklearn-color-unfitted-level-0);\n",
       "}\n",
       "\n",
       "#sk-container-id-4 div.sk-toggleable__content.fitted pre {\n",
       "  /* unfitted */\n",
       "  background-color: var(--sklearn-color-fitted-level-0);\n",
       "}\n",
       "\n",
       "#sk-container-id-4 input.sk-toggleable__control:checked~div.sk-toggleable__content {\n",
       "  /* Expand drop-down */\n",
       "  max-height: 200px;\n",
       "  max-width: 100%;\n",
       "  overflow: auto;\n",
       "}\n",
       "\n",
       "#sk-container-id-4 input.sk-toggleable__control:checked~label.sk-toggleable__label-arrow:before {\n",
       "  content: \"▾\";\n",
       "}\n",
       "\n",
       "/* Pipeline/ColumnTransformer-specific style */\n",
       "\n",
       "#sk-container-id-4 div.sk-label input.sk-toggleable__control:checked~label.sk-toggleable__label {\n",
       "  color: var(--sklearn-color-text);\n",
       "  background-color: var(--sklearn-color-unfitted-level-2);\n",
       "}\n",
       "\n",
       "#sk-container-id-4 div.sk-label.fitted input.sk-toggleable__control:checked~label.sk-toggleable__label {\n",
       "  background-color: var(--sklearn-color-fitted-level-2);\n",
       "}\n",
       "\n",
       "/* Estimator-specific style */\n",
       "\n",
       "/* Colorize estimator box */\n",
       "#sk-container-id-4 div.sk-estimator input.sk-toggleable__control:checked~label.sk-toggleable__label {\n",
       "  /* unfitted */\n",
       "  background-color: var(--sklearn-color-unfitted-level-2);\n",
       "}\n",
       "\n",
       "#sk-container-id-4 div.sk-estimator.fitted input.sk-toggleable__control:checked~label.sk-toggleable__label {\n",
       "  /* fitted */\n",
       "  background-color: var(--sklearn-color-fitted-level-2);\n",
       "}\n",
       "\n",
       "#sk-container-id-4 div.sk-label label.sk-toggleable__label,\n",
       "#sk-container-id-4 div.sk-label label {\n",
       "  /* The background is the default theme color */\n",
       "  color: var(--sklearn-color-text-on-default-background);\n",
       "}\n",
       "\n",
       "/* On hover, darken the color of the background */\n",
       "#sk-container-id-4 div.sk-label:hover label.sk-toggleable__label {\n",
       "  color: var(--sklearn-color-text);\n",
       "  background-color: var(--sklearn-color-unfitted-level-2);\n",
       "}\n",
       "\n",
       "/* Label box, darken color on hover, fitted */\n",
       "#sk-container-id-4 div.sk-label.fitted:hover label.sk-toggleable__label.fitted {\n",
       "  color: var(--sklearn-color-text);\n",
       "  background-color: var(--sklearn-color-fitted-level-2);\n",
       "}\n",
       "\n",
       "/* Estimator label */\n",
       "\n",
       "#sk-container-id-4 div.sk-label label {\n",
       "  font-family: monospace;\n",
       "  font-weight: bold;\n",
       "  display: inline-block;\n",
       "  line-height: 1.2em;\n",
       "}\n",
       "\n",
       "#sk-container-id-4 div.sk-label-container {\n",
       "  text-align: center;\n",
       "}\n",
       "\n",
       "/* Estimator-specific */\n",
       "#sk-container-id-4 div.sk-estimator {\n",
       "  font-family: monospace;\n",
       "  border: 1px dotted var(--sklearn-color-border-box);\n",
       "  border-radius: 0.25em;\n",
       "  box-sizing: border-box;\n",
       "  margin-bottom: 0.5em;\n",
       "  /* unfitted */\n",
       "  background-color: var(--sklearn-color-unfitted-level-0);\n",
       "}\n",
       "\n",
       "#sk-container-id-4 div.sk-estimator.fitted {\n",
       "  /* fitted */\n",
       "  background-color: var(--sklearn-color-fitted-level-0);\n",
       "}\n",
       "\n",
       "/* on hover */\n",
       "#sk-container-id-4 div.sk-estimator:hover {\n",
       "  /* unfitted */\n",
       "  background-color: var(--sklearn-color-unfitted-level-2);\n",
       "}\n",
       "\n",
       "#sk-container-id-4 div.sk-estimator.fitted:hover {\n",
       "  /* fitted */\n",
       "  background-color: var(--sklearn-color-fitted-level-2);\n",
       "}\n",
       "\n",
       "/* Specification for estimator info (e.g. \"i\" and \"?\") */\n",
       "\n",
       "/* Common style for \"i\" and \"?\" */\n",
       "\n",
       ".sk-estimator-doc-link,\n",
       "a:link.sk-estimator-doc-link,\n",
       "a:visited.sk-estimator-doc-link {\n",
       "  float: right;\n",
       "  font-size: smaller;\n",
       "  line-height: 1em;\n",
       "  font-family: monospace;\n",
       "  background-color: var(--sklearn-color-background);\n",
       "  border-radius: 1em;\n",
       "  height: 1em;\n",
       "  width: 1em;\n",
       "  text-decoration: none !important;\n",
       "  margin-left: 1ex;\n",
       "  /* unfitted */\n",
       "  border: var(--sklearn-color-unfitted-level-1) 1pt solid;\n",
       "  color: var(--sklearn-color-unfitted-level-1);\n",
       "}\n",
       "\n",
       ".sk-estimator-doc-link.fitted,\n",
       "a:link.sk-estimator-doc-link.fitted,\n",
       "a:visited.sk-estimator-doc-link.fitted {\n",
       "  /* fitted */\n",
       "  border: var(--sklearn-color-fitted-level-1) 1pt solid;\n",
       "  color: var(--sklearn-color-fitted-level-1);\n",
       "}\n",
       "\n",
       "/* On hover */\n",
       "div.sk-estimator:hover .sk-estimator-doc-link:hover,\n",
       ".sk-estimator-doc-link:hover,\n",
       "div.sk-label-container:hover .sk-estimator-doc-link:hover,\n",
       ".sk-estimator-doc-link:hover {\n",
       "  /* unfitted */\n",
       "  background-color: var(--sklearn-color-unfitted-level-3);\n",
       "  color: var(--sklearn-color-background);\n",
       "  text-decoration: none;\n",
       "}\n",
       "\n",
       "div.sk-estimator.fitted:hover .sk-estimator-doc-link.fitted:hover,\n",
       ".sk-estimator-doc-link.fitted:hover,\n",
       "div.sk-label-container:hover .sk-estimator-doc-link.fitted:hover,\n",
       ".sk-estimator-doc-link.fitted:hover {\n",
       "  /* fitted */\n",
       "  background-color: var(--sklearn-color-fitted-level-3);\n",
       "  color: var(--sklearn-color-background);\n",
       "  text-decoration: none;\n",
       "}\n",
       "\n",
       "/* Span, style for the box shown on hovering the info icon */\n",
       ".sk-estimator-doc-link span {\n",
       "  display: none;\n",
       "  z-index: 9999;\n",
       "  position: relative;\n",
       "  font-weight: normal;\n",
       "  right: .2ex;\n",
       "  padding: .5ex;\n",
       "  margin: .5ex;\n",
       "  width: min-content;\n",
       "  min-width: 20ex;\n",
       "  max-width: 50ex;\n",
       "  color: var(--sklearn-color-text);\n",
       "  box-shadow: 2pt 2pt 4pt #999;\n",
       "  /* unfitted */\n",
       "  background: var(--sklearn-color-unfitted-level-0);\n",
       "  border: .5pt solid var(--sklearn-color-unfitted-level-3);\n",
       "}\n",
       "\n",
       ".sk-estimator-doc-link.fitted span {\n",
       "  /* fitted */\n",
       "  background: var(--sklearn-color-fitted-level-0);\n",
       "  border: var(--sklearn-color-fitted-level-3);\n",
       "}\n",
       "\n",
       ".sk-estimator-doc-link:hover span {\n",
       "  display: block;\n",
       "}\n",
       "\n",
       "/* \"?\"-specific style due to the `<a>` HTML tag */\n",
       "\n",
       "#sk-container-id-4 a.estimator_doc_link {\n",
       "  float: right;\n",
       "  font-size: 1rem;\n",
       "  line-height: 1em;\n",
       "  font-family: monospace;\n",
       "  background-color: var(--sklearn-color-background);\n",
       "  border-radius: 1rem;\n",
       "  height: 1rem;\n",
       "  width: 1rem;\n",
       "  text-decoration: none;\n",
       "  /* unfitted */\n",
       "  color: var(--sklearn-color-unfitted-level-1);\n",
       "  border: var(--sklearn-color-unfitted-level-1) 1pt solid;\n",
       "}\n",
       "\n",
       "#sk-container-id-4 a.estimator_doc_link.fitted {\n",
       "  /* fitted */\n",
       "  border: var(--sklearn-color-fitted-level-1) 1pt solid;\n",
       "  color: var(--sklearn-color-fitted-level-1);\n",
       "}\n",
       "\n",
       "/* On hover */\n",
       "#sk-container-id-4 a.estimator_doc_link:hover {\n",
       "  /* unfitted */\n",
       "  background-color: var(--sklearn-color-unfitted-level-3);\n",
       "  color: var(--sklearn-color-background);\n",
       "  text-decoration: none;\n",
       "}\n",
       "\n",
       "#sk-container-id-4 a.estimator_doc_link.fitted:hover {\n",
       "  /* fitted */\n",
       "  background-color: var(--sklearn-color-fitted-level-3);\n",
       "}\n",
       "</style><div id=\"sk-container-id-4\" class=\"sk-top-container\"><div class=\"sk-text-repr-fallback\"><pre>LinearRegression()</pre><b>In a Jupyter environment, please rerun this cell to show the HTML representation or trust the notebook. <br />On GitHub, the HTML representation is unable to render, please try loading this page with nbviewer.org.</b></div><div class=\"sk-container\" hidden><div class=\"sk-item\"><div class=\"sk-estimator fitted sk-toggleable\"><input class=\"sk-toggleable__control sk-hidden--visually\" id=\"sk-estimator-id-4\" type=\"checkbox\" checked><label for=\"sk-estimator-id-4\" class=\"sk-toggleable__label fitted sk-toggleable__label-arrow fitted\">&nbsp;&nbsp;LinearRegression<a class=\"sk-estimator-doc-link fitted\" rel=\"noreferrer\" target=\"_blank\" href=\"https://scikit-learn.org/1.4/modules/generated/sklearn.linear_model.LinearRegression.html\">?<span>Documentation for LinearRegression</span></a><span class=\"sk-estimator-doc-link fitted\">i<span>Fitted</span></span></label><div class=\"sk-toggleable__content fitted\"><pre>LinearRegression()</pre></div> </div></div></div></div>"
      ],
      "text/plain": [
       "LinearRegression()"
      ]
     },
     "execution_count": 219,
     "metadata": {},
     "output_type": "execute_result"
    }
   ],
   "source": [
    "from sklearn.linear_model import LinearRegression\n",
    "\n",
    "model = LinearRegression()\n",
    "model.fit(X_train, y_train)"
   ]
  },
  {
   "cell_type": "markdown",
   "id": "762624a1-28db-434a-a62f-c58c43af80c8",
   "metadata": {},
   "source": [
    "### 3. Predict y values using test data"
   ]
  },
  {
   "cell_type": "code",
   "execution_count": 220,
   "id": "91a98208-849c-4ee1-ac6a-b5d4da223ac1",
   "metadata": {},
   "outputs": [],
   "source": [
    "y_pred = model.predict(X_test)"
   ]
  },
  {
   "cell_type": "markdown",
   "id": "db2b0d34-a847-4e32-a9fe-3e63566cebf4",
   "metadata": {},
   "source": [
    "### 4. Model Evaluaion"
   ]
  },
  {
   "cell_type": "markdown",
   "id": "da1083ef-9fd8-4168-9c45-829c99752ab3",
   "metadata": {},
   "source": [
    "Evaluating a linear regression model involves assessing how well it performs in predicting the target variable based on the input features. Here are some commonly used evaluation metrics for linear regression:\n",
    "\n",
    "#### 1. Mean Absolute Error (MAE): \n",
    "    MAE measures the average absolute difference between the observed values and the predicted values. It is less sensitive to outliers compared to MSE.\n",
    "\n",
    "#### 2. Mean Squared Error (MSE):\n",
    "    MSE measures the average squared difference between the observed values and the predicted values. It gives higher weight to large errors.\n",
    "\n",
    "#### 3. Root Mean Squared Error (RMSE):\t\n",
    "\tRMSE is the square root of the MSE. It provides an interpretable measure of the average magnitude of the errors in the same units as the target variable.\n",
    "\t\n",
    "#### 4. R-squared (R2) Score:\n",
    "\tR2 score measures the proportion of the variance in the dependent variable that is predictable from the independent variables. It ranges from 0 to 1, with higher values indicating a better fit."
   ]
  },
  {
   "cell_type": "code",
   "execution_count": 221,
   "id": "67558bfb-3b2b-417f-862c-e1706bc567de",
   "metadata": {},
   "outputs": [
    {
     "data": {
      "text/html": [
       "<div>\n",
       "<style scoped>\n",
       "    .dataframe tbody tr th:only-of-type {\n",
       "        vertical-align: middle;\n",
       "    }\n",
       "\n",
       "    .dataframe tbody tr th {\n",
       "        vertical-align: top;\n",
       "    }\n",
       "\n",
       "    .dataframe thead th {\n",
       "        text-align: right;\n",
       "    }\n",
       "</style>\n",
       "<table border=\"1\" class=\"dataframe\">\n",
       "  <thead>\n",
       "    <tr style=\"text-align: right;\">\n",
       "      <th></th>\n",
       "      <th>Predicted</th>\n",
       "      <th>Actual</th>\n",
       "    </tr>\n",
       "  </thead>\n",
       "  <tbody>\n",
       "    <tr>\n",
       "      <th>304</th>\n",
       "      <td>0.35</td>\n",
       "      <td>0.31</td>\n",
       "    </tr>\n",
       "    <tr>\n",
       "      <th>497</th>\n",
       "      <td>0.36</td>\n",
       "      <td>0.35</td>\n",
       "    </tr>\n",
       "    <tr>\n",
       "      <th>440</th>\n",
       "      <td>0.55</td>\n",
       "      <td>0.57</td>\n",
       "    </tr>\n",
       "    <tr>\n",
       "      <th>153</th>\n",
       "      <td>0.47</td>\n",
       "      <td>0.42</td>\n",
       "    </tr>\n",
       "    <tr>\n",
       "      <th>499</th>\n",
       "      <td>0.24</td>\n",
       "      <td>0.14</td>\n",
       "    </tr>\n",
       "  </tbody>\n",
       "</table>\n",
       "</div>"
      ],
      "text/plain": [
       "     Predicted  Actual\n",
       "304       0.35    0.31\n",
       "497       0.36    0.35\n",
       "440       0.55    0.57\n",
       "153       0.47    0.42\n",
       "499       0.24    0.14"
      ]
     },
     "execution_count": 221,
     "metadata": {},
     "output_type": "execute_result"
    }
   ],
   "source": [
    "pd.DataFrame({\"Predicted\" : y_pred, \"Actual\" : y_test}).head()"
   ]
  },
  {
   "cell_type": "code",
   "execution_count": 222,
   "id": "0389342b-d108-472f-8156-632b767a3187",
   "metadata": {},
   "outputs": [
    {
     "name": "stdout",
     "output_type": "stream",
     "text": [
      "MAE -  0.041106425747638134\n",
      "MSE -  0.002876546293680422\n",
      "RMSE -  0.05363344379844\n",
      "R-sqaured -  0.9316395818633878\n"
     ]
    }
   ],
   "source": [
    "from sklearn.metrics import mean_absolute_error, mean_squared_error, root_mean_squared_error, r2_score\n",
    "\n",
    "print(\"MAE - \", mean_absolute_error(y_test, y_pred))\n",
    "print(\"MSE - \", mean_squared_error(y_test, y_pred))\n",
    "print(\"RMSE - \", root_mean_squared_error(y_test, y_pred))\n",
    "print(\"R-sqaured - \", r2_score(y_test, y_pred))"
   ]
  },
  {
   "cell_type": "markdown",
   "id": "d1ce1a3a-1b07-4a5e-a832-85955761d771",
   "metadata": {},
   "source": [
    "#### Residual Analysis\n",
    "\n",
    "Residual analysis is a statistical technique used to assess the quality of a regression model by examining the differences between the observed values of the dependent variable and the values predicted by the model (i.e., the residuals). Residuals are the vertical distances between the observed data points and the regression line or surface.\n",
    "\n"
   ]
  },
  {
   "cell_type": "code",
   "execution_count": 223,
   "id": "45d4429a-44fa-41ef-b2a8-52a413d10679",
   "metadata": {},
   "outputs": [
    {
     "data": {
      "text/plain": [
       "<matplotlib.lines.Line2D at 0x22029da7dd0>"
      ]
     },
     "execution_count": 223,
     "metadata": {},
     "output_type": "execute_result"
    },
    {
     "data": {
      "image/png": "[encoded data removed]",
      "text/plain": [
       "<Figure size 400x300 with 1 Axes>"
      ]
     },
     "metadata": {},
     "output_type": "display_data"
    }
   ],
   "source": [
    "residuals = y_test - y_pred\n",
    "sns.histplot(residuals, kde = True)\n",
    "plt.axvline(residuals.mean(), color = \"red\")"
   ]
  },
  {
   "cell_type": "code",
   "execution_count": 224,
   "id": "b6d3c1e1-7e97-40d1-a51b-443e2c21321e",
   "metadata": {},
   "outputs": [
    {
     "data": {
      "text/plain": [
       "<Axes: >"
      ]
     },
     "execution_count": 224,
     "metadata": {},
     "output_type": "execute_result"
    },
    {
     "data": {
      "image/png": "[encoded data removed]",
      "text/plain": [
       "<Figure size 400x300 with 1 Axes>"
      ]
     },
     "metadata": {},
     "output_type": "display_data"
    }
   ],
   "source": [
    "sns.boxplot(residuals)"
   ]
  },
  {
   "cell_type": "code",
   "execution_count": 225,
   "id": "92a31002-87fd-446a-b2bb-856cd54ebda1",
   "metadata": {},
   "outputs": [
    {
     "data": {
      "text/plain": [
       "-0.16283999104936606"
      ]
     },
     "execution_count": 225,
     "metadata": {},
     "output_type": "execute_result"
    }
   ],
   "source": [
    "stats.skew(residuals)"
   ]
  },
  {
   "cell_type": "code",
   "execution_count": 226,
   "id": "5a49a324-5a98-41b7-8ffb-39c13d27a6b5",
   "metadata": {},
   "outputs": [
    {
     "data": {
      "text/plain": [
       "1.1134170976892657"
      ]
     },
     "execution_count": 226,
     "metadata": {},
     "output_type": "execute_result"
    }
   ],
   "source": [
    "stats.kurtosis(residuals)"
   ]
  },
  {
   "cell_type": "code",
   "execution_count": 227,
   "id": "81bb6c5e-0b51-4fcc-89ad-cab70d4c42a9",
   "metadata": {},
   "outputs": [
    {
     "data": {
      "text/plain": [
       "8"
      ]
     },
     "execution_count": 227,
     "metadata": {},
     "output_type": "execute_result"
    }
   ],
   "source": [
    "IQR_factor = (np.percentile(residuals, 75) - np.percentile(residuals, 25)) * 1.5\n",
    "min_w, max_w = (np.percentile(residuals, 25) - IQR_factor), (np.percentile(residuals, 75) + IQR_factor)\n",
    "residuals[np.logical_or(residuals<min_w, residuals>max_w)].size"
   ]
  },
  {
   "cell_type": "markdown",
   "id": "e24ec88e-3236-405d-8bd2-4c0ef8826d83",
   "metadata": {},
   "source": [
    "#### Recursive Feature Elimination (RFE):\n",
    "- Feature Selection technique\n",
    "- Purpose: RFE is a feature selection technique used to select the most important features from a dataset by recursively removing the least significant features based on a specified model (e.g., linear regression, support vector machine).\n",
    "- Method: RFE starts with all features and recursively eliminates the least important features until the desired number of features is reached.\n",
    "- Model Performance: RFE evaluates the model performance (e.g., using cross-validation) at each step to determine the importance of features.\n",
    "- Output: The output of RFE is a ranking of features based on their importance, along with the selected subset of features."
   ]
  },
  {
   "cell_type": "code",
   "execution_count": 228,
   "id": "935641d9-3c97-4718-9b7b-099dc9d05630",
   "metadata": {},
   "outputs": [
    {
     "data": {
      "text/plain": [
       "array([[0.64048204, 0.        , 0.        ],\n",
       "       [0.28743584, 0.        , 0.        ],\n",
       "       [0.65833519, 0.        , 0.        ],\n",
       "       ...,\n",
       "       [0.43963401, 0.        , 1.        ],\n",
       "       [0.28118723, 0.        , 0.        ],\n",
       "       [0.49096184, 0.        , 0.        ]])"
      ]
     },
     "execution_count": 228,
     "metadata": {},
     "output_type": "execute_result"
    }
   ],
   "source": [
    "from sklearn.feature_selection import RFE\n",
    "from sklearn.linear_model import LinearRegression\n",
    "\n",
    "features = df.drop(columns=[\"price\"])\n",
    "label = df.price\n",
    "\n",
    "model = LinearRegression()\n",
    "\n",
    "rfe = RFE(model)\n",
    "rfe.fit_transform(features, label)"
   ]
  },
  {
   "cell_type": "code",
   "execution_count": 229,
   "id": "7795330f-013a-415c-9405-d12a68d601a3",
   "metadata": {},
   "outputs": [
    {
     "data": {
      "text/html": [
       "<div>\n",
       "<style scoped>\n",
       "    .dataframe tbody tr th:only-of-type {\n",
       "        vertical-align: middle;\n",
       "    }\n",
       "\n",
       "    .dataframe tbody tr th {\n",
       "        vertical-align: top;\n",
       "    }\n",
       "\n",
       "    .dataframe thead th {\n",
       "        text-align: right;\n",
       "    }\n",
       "</style>\n",
       "<table border=\"1\" class=\"dataframe\">\n",
       "  <thead>\n",
       "    <tr style=\"text-align: right;\">\n",
       "      <th></th>\n",
       "      <th>area</th>\n",
       "      <th>hotwaterheating</th>\n",
       "      <th>Unfurnished</th>\n",
       "    </tr>\n",
       "  </thead>\n",
       "  <tbody>\n",
       "    <tr>\n",
       "      <th>0</th>\n",
       "      <td>0.64</td>\n",
       "      <td>0.00</td>\n",
       "      <td>0.00</td>\n",
       "    </tr>\n",
       "    <tr>\n",
       "      <th>1</th>\n",
       "      <td>0.29</td>\n",
       "      <td>0.00</td>\n",
       "      <td>0.00</td>\n",
       "    </tr>\n",
       "    <tr>\n",
       "      <th>2</th>\n",
       "      <td>0.66</td>\n",
       "      <td>0.00</td>\n",
       "      <td>0.00</td>\n",
       "    </tr>\n",
       "    <tr>\n",
       "      <th>3</th>\n",
       "      <td>0.64</td>\n",
       "      <td>0.00</td>\n",
       "      <td>0.00</td>\n",
       "    </tr>\n",
       "    <tr>\n",
       "      <th>4</th>\n",
       "      <td>0.66</td>\n",
       "      <td>0.00</td>\n",
       "      <td>0.00</td>\n",
       "    </tr>\n",
       "  </tbody>\n",
       "</table>\n",
       "</div>"
      ],
      "text/plain": [
       "   area  hotwaterheating  Unfurnished\n",
       "0  0.64             0.00         0.00\n",
       "1  0.29             0.00         0.00\n",
       "2  0.66             0.00         0.00\n",
       "3  0.64             0.00         0.00\n",
       "4  0.66             0.00         0.00"
      ]
     },
     "execution_count": 229,
     "metadata": {},
     "output_type": "execute_result"
    }
   ],
   "source": [
    "features_rfe = features[features.columns[rfe.support_]]\n",
    "features_rfe.head()"
   ]
  },
  {
   "cell_type": "code",
   "execution_count": 230,
   "id": "e26f01bd-f891-45b3-b10b-cca78e04cb8e",
   "metadata": {},
   "outputs": [],
   "source": [
    "features = features_rfe\n",
    "label = df.price"
   ]
  },
  {
   "cell_type": "markdown",
   "id": "b5a5d9ee-7031-49a2-b98d-25e0c8cdbd27",
   "metadata": {},
   "source": [
    "### 1. Split data into test and train"
   ]
  },
  {
   "cell_type": "code",
   "execution_count": 231,
   "id": "2725488f-63c0-4a42-8bc6-e11b62fb0889",
   "metadata": {},
   "outputs": [],
   "source": [
    "from sklearn.model_selection import train_test_split\n",
    "\n",
    "X_train, X_test, y_train, y_test = train_test_split(features, label, test_size=0.3, random_state=42)"
   ]
  },
  {
   "cell_type": "markdown",
   "id": "8c4530f3-82ce-4ac5-85b2-d1fac86532d6",
   "metadata": {},
   "source": [
    "### 2. Fit Linear Regression Model"
   ]
  },
  {
   "cell_type": "code",
   "execution_count": 232,
   "id": "6dae2124-f1ee-4019-be42-f0d7453ba79f",
   "metadata": {},
   "outputs": [
    {
     "data": {
      "text/html": [
       "<style>#sk-container-id-5 {\n",
       "  /* Definition of color scheme common for light and dark mode */\n",
       "  --sklearn-color-text: black;\n",
       "  --sklearn-color-line: gray;\n",
       "  /* Definition of color scheme for unfitted estimators */\n",
       "  --sklearn-color-unfitted-level-0: #fff5e6;\n",
       "  --sklearn-color-unfitted-level-1: #f6e4d2;\n",
       "  --sklearn-color-unfitted-level-2: #ffe0b3;\n",
       "  --sklearn-color-unfitted-level-3: chocolate;\n",
       "  /* Definition of color scheme for fitted estimators */\n",
       "  --sklearn-color-fitted-level-0: #f0f8ff;\n",
       "  --sklearn-color-fitted-level-1: #d4ebff;\n",
       "  --sklearn-color-fitted-level-2: #b3dbfd;\n",
       "  --sklearn-color-fitted-level-3: cornflowerblue;\n",
       "\n",
       "  /* Specific color for light theme */\n",
       "  --sklearn-color-text-on-default-background: var(--sg-text-color, var(--theme-code-foreground, var(--jp-content-font-color1, black)));\n",
       "  --sklearn-color-background: var(--sg-background-color, var(--theme-background, var(--jp-layout-color0, white)));\n",
       "  --sklearn-color-border-box: var(--sg-text-color, var(--theme-code-foreground, var(--jp-content-font-color1, black)));\n",
       "  --sklearn-color-icon: #696969;\n",
       "\n",
       "  @media (prefers-color-scheme: dark) {\n",
       "    /* Redefinition of color scheme for dark theme */\n",
       "    --sklearn-color-text-on-default-background: var(--sg-text-color, var(--theme-code-foreground, var(--jp-content-font-color1, white)));\n",
       "    --sklearn-color-background: var(--sg-background-color, var(--theme-background, var(--jp-layout-color0, #111)));\n",
       "    --sklearn-color-border-box: var(--sg-text-color, var(--theme-code-foreground, var(--jp-content-font-color1, white)));\n",
       "    --sklearn-color-icon: #878787;\n",
       "  }\n",
       "}\n",
       "\n",
       "#sk-container-id-5 {\n",
       "  color: var(--sklearn-color-text);\n",
       "}\n",
       "\n",
       "#sk-container-id-5 pre {\n",
       "  padding: 0;\n",
       "}\n",
       "\n",
       "#sk-container-id-5 input.sk-hidden--visually {\n",
       "  border: 0;\n",
       "  clip: rect(1px 1px 1px 1px);\n",
       "  clip: rect(1px, 1px, 1px, 1px);\n",
       "  height: 1px;\n",
       "  margin: -1px;\n",
       "  overflow: hidden;\n",
       "  padding: 0;\n",
       "  position: absolute;\n",
       "  width: 1px;\n",
       "}\n",
       "\n",
       "#sk-container-id-5 div.sk-dashed-wrapped {\n",
       "  border: 1px dashed var(--sklearn-color-line);\n",
       "  margin: 0 0.4em 0.5em 0.4em;\n",
       "  box-sizing: border-box;\n",
       "  padding-bottom: 0.4em;\n",
       "  background-color: var(--sklearn-color-background);\n",
       "}\n",
       "\n",
       "#sk-container-id-5 div.sk-container {\n",
       "  /* jupyter's `normalize.less` sets `[hidden] { display: none; }`\n",
       "     but bootstrap.min.css set `[hidden] { display: none !important; }`\n",
       "     so we also need the `!important` here to be able to override the\n",
       "     default hidden behavior on the sphinx rendered scikit-learn.org.\n",
       "     See: https://github.com/scikit-learn/scikit-learn/issues/21755 */\n",
       "  display: inline-block !important;\n",
       "  position: relative;\n",
       "}\n",
       "\n",
       "#sk-container-id-5 div.sk-text-repr-fallback {\n",
       "  display: none;\n",
       "}\n",
       "\n",
       "div.sk-parallel-item,\n",
       "div.sk-serial,\n",
       "div.sk-item {\n",
       "  /* draw centered vertical line to link estimators */\n",
       "  background-image: linear-gradient(var(--sklearn-color-text-on-default-background), var(--sklearn-color-text-on-default-background));\n",
       "  background-size: 2px 100%;\n",
       "  background-repeat: no-repeat;\n",
       "  background-position: center center;\n",
       "}\n",
       "\n",
       "/* Parallel-specific style estimator block */\n",
       "\n",
       "#sk-container-id-5 div.sk-parallel-item::after {\n",
       "  content: \"\";\n",
       "  width: 100%;\n",
       "  border-bottom: 2px solid var(--sklearn-color-text-on-default-background);\n",
       "  flex-grow: 1;\n",
       "}\n",
       "\n",
       "#sk-container-id-5 div.sk-parallel {\n",
       "  display: flex;\n",
       "  align-items: stretch;\n",
       "  justify-content: center;\n",
       "  background-color: var(--sklearn-color-background);\n",
       "  position: relative;\n",
       "}\n",
       "\n",
       "#sk-container-id-5 div.sk-parallel-item {\n",
       "  display: flex;\n",
       "  flex-direction: column;\n",
       "}\n",
       "\n",
       "#sk-container-id-5 div.sk-parallel-item:first-child::after {\n",
       "  align-self: flex-end;\n",
       "  width: 50%;\n",
       "}\n",
       "\n",
       "#sk-container-id-5 div.sk-parallel-item:last-child::after {\n",
       "  align-self: flex-start;\n",
       "  width: 50%;\n",
       "}\n",
       "\n",
       "#sk-container-id-5 div.sk-parallel-item:only-child::after {\n",
       "  width: 0;\n",
       "}\n",
       "\n",
       "/* Serial-specific style estimator block */\n",
       "\n",
       "#sk-container-id-5 div.sk-serial {\n",
       "  display: flex;\n",
       "  flex-direction: column;\n",
       "  align-items: center;\n",
       "  background-color: var(--sklearn-color-background);\n",
       "  padding-right: 1em;\n",
       "  padding-left: 1em;\n",
       "}\n",
       "\n",
       "\n",
       "/* Toggleable style: style used for estimator/Pipeline/ColumnTransformer box that is\n",
       "clickable and can be expanded/collapsed.\n",
       "- Pipeline and ColumnTransformer use this feature and define the default style\n",
       "- Estimators will overwrite some part of the style using the `sk-estimator` class\n",
       "*/\n",
       "\n",
       "/* Pipeline and ColumnTransformer style (default) */\n",
       "\n",
       "#sk-container-id-5 div.sk-toggleable {\n",
       "  /* Default theme specific background. It is overwritten whether we have a\n",
       "  specific estimator or a Pipeline/ColumnTransformer */\n",
       "  background-color: var(--sklearn-color-background);\n",
       "}\n",
       "\n",
       "/* Toggleable label */\n",
       "#sk-container-id-5 label.sk-toggleable__label {\n",
       "  cursor: pointer;\n",
       "  display: block;\n",
       "  width: 100%;\n",
       "  margin-bottom: 0;\n",
       "  padding: 0.5em;\n",
       "  box-sizing: border-box;\n",
       "  text-align: center;\n",
       "}\n",
       "\n",
       "#sk-container-id-5 label.sk-toggleable__label-arrow:before {\n",
       "  /* Arrow on the left of the label */\n",
       "  content: \"▸\";\n",
       "  float: left;\n",
       "  margin-right: 0.25em;\n",
       "  color: var(--sklearn-color-icon);\n",
       "}\n",
       "\n",
       "#sk-container-id-5 label.sk-toggleable__label-arrow:hover:before {\n",
       "  color: var(--sklearn-color-text);\n",
       "}\n",
       "\n",
       "/* Toggleable content - dropdown */\n",
       "\n",
       "#sk-container-id-5 div.sk-toggleable__content {\n",
       "  max-height: 0;\n",
       "  max-width: 0;\n",
       "  overflow: hidden;\n",
       "  text-align: left;\n",
       "  /* unfitted */\n",
       "  background-color: var(--sklearn-color-unfitted-level-0);\n",
       "}\n",
       "\n",
       "#sk-container-id-5 div.sk-toggleable__content.fitted {\n",
       "  /* fitted */\n",
       "  background-color: var(--sklearn-color-fitted-level-0);\n",
       "}\n",
       "\n",
       "#sk-container-id-5 div.sk-toggleable__content pre {\n",
       "  margin: 0.2em;\n",
       "  border-radius: 0.25em;\n",
       "  color: var(--sklearn-color-text);\n",
       "  /* unfitted */\n",
       "  background-color: var(--sklearn-color-unfitted-level-0);\n",
       "}\n",
       "\n",
       "#sk-container-id-5 div.sk-toggleable__content.fitted pre {\n",
       "  /* unfitted */\n",
       "  background-color: var(--sklearn-color-fitted-level-0);\n",
       "}\n",
       "\n",
       "#sk-container-id-5 input.sk-toggleable__control:checked~div.sk-toggleable__content {\n",
       "  /* Expand drop-down */\n",
       "  max-height: 200px;\n",
       "  max-width: 100%;\n",
       "  overflow: auto;\n",
       "}\n",
       "\n",
       "#sk-container-id-5 input.sk-toggleable__control:checked~label.sk-toggleable__label-arrow:before {\n",
       "  content: \"▾\";\n",
       "}\n",
       "\n",
       "/* Pipeline/ColumnTransformer-specific style */\n",
       "\n",
       "#sk-container-id-5 div.sk-label input.sk-toggleable__control:checked~label.sk-toggleable__label {\n",
       "  color: var(--sklearn-color-text);\n",
       "  background-color: var(--sklearn-color-unfitted-level-2);\n",
       "}\n",
       "\n",
       "#sk-container-id-5 div.sk-label.fitted input.sk-toggleable__control:checked~label.sk-toggleable__label {\n",
       "  background-color: var(--sklearn-color-fitted-level-2);\n",
       "}\n",
       "\n",
       "/* Estimator-specific style */\n",
       "\n",
       "/* Colorize estimator box */\n",
       "#sk-container-id-5 div.sk-estimator input.sk-toggleable__control:checked~label.sk-toggleable__label {\n",
       "  /* unfitted */\n",
       "  background-color: var(--sklearn-color-unfitted-level-2);\n",
       "}\n",
       "\n",
       "#sk-container-id-5 div.sk-estimator.fitted input.sk-toggleable__control:checked~label.sk-toggleable__label {\n",
       "  /* fitted */\n",
       "  background-color: var(--sklearn-color-fitted-level-2);\n",
       "}\n",
       "\n",
       "#sk-container-id-5 div.sk-label label.sk-toggleable__label,\n",
       "#sk-container-id-5 div.sk-label label {\n",
       "  /* The background is the default theme color */\n",
       "  color: var(--sklearn-color-text-on-default-background);\n",
       "}\n",
       "\n",
       "/* On hover, darken the color of the background */\n",
       "#sk-container-id-5 div.sk-label:hover label.sk-toggleable__label {\n",
       "  color: var(--sklearn-color-text);\n",
       "  background-color: var(--sklearn-color-unfitted-level-2);\n",
       "}\n",
       "\n",
       "/* Label box, darken color on hover, fitted */\n",
       "#sk-container-id-5 div.sk-label.fitted:hover label.sk-toggleable__label.fitted {\n",
       "  color: var(--sklearn-color-text);\n",
       "  background-color: var(--sklearn-color-fitted-level-2);\n",
       "}\n",
       "\n",
       "/* Estimator label */\n",
       "\n",
       "#sk-container-id-5 div.sk-label label {\n",
       "  font-family: monospace;\n",
       "  font-weight: bold;\n",
       "  display: inline-block;\n",
       "  line-height: 1.2em;\n",
       "}\n",
       "\n",
       "#sk-container-id-5 div.sk-label-container {\n",
       "  text-align: center;\n",
       "}\n",
       "\n",
       "/* Estimator-specific */\n",
       "#sk-container-id-5 div.sk-estimator {\n",
       "  font-family: monospace;\n",
       "  border: 1px dotted var(--sklearn-color-border-box);\n",
       "  border-radius: 0.25em;\n",
       "  box-sizing: border-box;\n",
       "  margin-bottom: 0.5em;\n",
       "  /* unfitted */\n",
       "  background-color: var(--sklearn-color-unfitted-level-0);\n",
       "}\n",
       "\n",
       "#sk-container-id-5 div.sk-estimator.fitted {\n",
       "  /* fitted */\n",
       "  background-color: var(--sklearn-color-fitted-level-0);\n",
       "}\n",
       "\n",
       "/* on hover */\n",
       "#sk-container-id-5 div.sk-estimator:hover {\n",
       "  /* unfitted */\n",
       "  background-color: var(--sklearn-color-unfitted-level-2);\n",
       "}\n",
       "\n",
       "#sk-container-id-5 div.sk-estimator.fitted:hover {\n",
       "  /* fitted */\n",
       "  background-color: var(--sklearn-color-fitted-level-2);\n",
       "}\n",
       "\n",
       "/* Specification for estimator info (e.g. \"i\" and \"?\") */\n",
       "\n",
       "/* Common style for \"i\" and \"?\" */\n",
       "\n",
       ".sk-estimator-doc-link,\n",
       "a:link.sk-estimator-doc-link,\n",
       "a:visited.sk-estimator-doc-link {\n",
       "  float: right;\n",
       "  font-size: smaller;\n",
       "  line-height: 1em;\n",
       "  font-family: monospace;\n",
       "  background-color: var(--sklearn-color-background);\n",
       "  border-radius: 1em;\n",
       "  height: 1em;\n",
       "  width: 1em;\n",
       "  text-decoration: none !important;\n",
       "  margin-left: 1ex;\n",
       "  /* unfitted */\n",
       "  border: var(--sklearn-color-unfitted-level-1) 1pt solid;\n",
       "  color: var(--sklearn-color-unfitted-level-1);\n",
       "}\n",
       "\n",
       ".sk-estimator-doc-link.fitted,\n",
       "a:link.sk-estimator-doc-link.fitted,\n",
       "a:visited.sk-estimator-doc-link.fitted {\n",
       "  /* fitted */\n",
       "  border: var(--sklearn-color-fitted-level-1) 1pt solid;\n",
       "  color: var(--sklearn-color-fitted-level-1);\n",
       "}\n",
       "\n",
       "/* On hover */\n",
       "div.sk-estimator:hover .sk-estimator-doc-link:hover,\n",
       ".sk-estimator-doc-link:hover,\n",
       "div.sk-label-container:hover .sk-estimator-doc-link:hover,\n",
       ".sk-estimator-doc-link:hover {\n",
       "  /* unfitted */\n",
       "  background-color: var(--sklearn-color-unfitted-level-3);\n",
       "  color: var(--sklearn-color-background);\n",
       "  text-decoration: none;\n",
       "}\n",
       "\n",
       "div.sk-estimator.fitted:hover .sk-estimator-doc-link.fitted:hover,\n",
       ".sk-estimator-doc-link.fitted:hover,\n",
       "div.sk-label-container:hover .sk-estimator-doc-link.fitted:hover,\n",
       ".sk-estimator-doc-link.fitted:hover {\n",
       "  /* fitted */\n",
       "  background-color: var(--sklearn-color-fitted-level-3);\n",
       "  color: var(--sklearn-color-background);\n",
       "  text-decoration: none;\n",
       "}\n",
       "\n",
       "/* Span, style for the box shown on hovering the info icon */\n",
       ".sk-estimator-doc-link span {\n",
       "  display: none;\n",
       "  z-index: 9999;\n",
       "  position: relative;\n",
       "  font-weight: normal;\n",
       "  right: .2ex;\n",
       "  padding: .5ex;\n",
       "  margin: .5ex;\n",
       "  width: min-content;\n",
       "  min-width: 20ex;\n",
       "  max-width: 50ex;\n",
       "  color: var(--sklearn-color-text);\n",
       "  box-shadow: 2pt 2pt 4pt #999;\n",
       "  /* unfitted */\n",
       "  background: var(--sklearn-color-unfitted-level-0);\n",
       "  border: .5pt solid var(--sklearn-color-unfitted-level-3);\n",
       "}\n",
       "\n",
       ".sk-estimator-doc-link.fitted span {\n",
       "  /* fitted */\n",
       "  background: var(--sklearn-color-fitted-level-0);\n",
       "  border: var(--sklearn-color-fitted-level-3);\n",
       "}\n",
       "\n",
       ".sk-estimator-doc-link:hover span {\n",
       "  display: block;\n",
       "}\n",
       "\n",
       "/* \"?\"-specific style due to the `<a>` HTML tag */\n",
       "\n",
       "#sk-container-id-5 a.estimator_doc_link {\n",
       "  float: right;\n",
       "  font-size: 1rem;\n",
       "  line-height: 1em;\n",
       "  font-family: monospace;\n",
       "  background-color: var(--sklearn-color-background);\n",
       "  border-radius: 1rem;\n",
       "  height: 1rem;\n",
       "  width: 1rem;\n",
       "  text-decoration: none;\n",
       "  /* unfitted */\n",
       "  color: var(--sklearn-color-unfitted-level-1);\n",
       "  border: var(--sklearn-color-unfitted-level-1) 1pt solid;\n",
       "}\n",
       "\n",
       "#sk-container-id-5 a.estimator_doc_link.fitted {\n",
       "  /* fitted */\n",
       "  border: var(--sklearn-color-fitted-level-1) 1pt solid;\n",
       "  color: var(--sklearn-color-fitted-level-1);\n",
       "}\n",
       "\n",
       "/* On hover */\n",
       "#sk-container-id-5 a.estimator_doc_link:hover {\n",
       "  /* unfitted */\n",
       "  background-color: var(--sklearn-color-unfitted-level-3);\n",
       "  color: var(--sklearn-color-background);\n",
       "  text-decoration: none;\n",
       "}\n",
       "\n",
       "#sk-container-id-5 a.estimator_doc_link.fitted:hover {\n",
       "  /* fitted */\n",
       "  background-color: var(--sklearn-color-fitted-level-3);\n",
       "}\n",
       "</style><div id=\"sk-container-id-5\" class=\"sk-top-container\"><div class=\"sk-text-repr-fallback\"><pre>LinearRegression()</pre><b>In a Jupyter environment, please rerun this cell to show the HTML representation or trust the notebook. <br />On GitHub, the HTML representation is unable to render, please try loading this page with nbviewer.org.</b></div><div class=\"sk-container\" hidden><div class=\"sk-item\"><div class=\"sk-estimator fitted sk-toggleable\"><input class=\"sk-toggleable__control sk-hidden--visually\" id=\"sk-estimator-id-5\" type=\"checkbox\" checked><label for=\"sk-estimator-id-5\" class=\"sk-toggleable__label fitted sk-toggleable__label-arrow fitted\">&nbsp;&nbsp;LinearRegression<a class=\"sk-estimator-doc-link fitted\" rel=\"noreferrer\" target=\"_blank\" href=\"https://scikit-learn.org/1.4/modules/generated/sklearn.linear_model.LinearRegression.html\">?<span>Documentation for LinearRegression</span></a><span class=\"sk-estimator-doc-link fitted\">i<span>Fitted</span></span></label><div class=\"sk-toggleable__content fitted\"><pre>LinearRegression()</pre></div> </div></div></div></div>"
      ],
      "text/plain": [
       "LinearRegression()"
      ]
     },
     "execution_count": 232,
     "metadata": {},
     "output_type": "execute_result"
    }
   ],
   "source": [
    "from sklearn.linear_model import LinearRegression\n",
    "\n",
    "model = LinearRegression()\n",
    "model.fit(X_train, y_train)"
   ]
  },
  {
   "cell_type": "markdown",
   "id": "eca02c10-2329-4cff-8668-e60a1142f22f",
   "metadata": {},
   "source": [
    "### 3. Predict y values using test data"
   ]
  },
  {
   "cell_type": "code",
   "execution_count": 233,
   "id": "320a0b71-0553-49d5-b887-94df6040b479",
   "metadata": {},
   "outputs": [],
   "source": [
    "y_pred = model.predict(X_test)"
   ]
  },
  {
   "cell_type": "markdown",
   "id": "33ec6633-5f2c-4851-9d7f-9df25e7a175f",
   "metadata": {},
   "source": [
    "### 4. Model Evaluaion"
   ]
  },
  {
   "cell_type": "markdown",
   "id": "7e686ce5-4122-4499-a3af-41e1d4d83b9a",
   "metadata": {},
   "source": [
    "Evaluating a linear regression model involves assessing how well it performs in predicting the target variable based on the input features. Here are some commonly used evaluation metrics for linear regression:\n",
    "\n",
    "#### 1. Mean Absolute Error (MAE): \n",
    "    MAE measures the average absolute difference between the observed values and the predicted values. It is less sensitive to outliers compared to MSE.\n",
    "\n",
    "#### 2. Mean Squared Error (MSE):\n",
    "    MSE measures the average squared difference between the observed values and the predicted values. It gives higher weight to large errors.\n",
    "\n",
    "#### 3. Root Mean Squared Error (RMSE):\t\n",
    "\tRMSE is the square root of the MSE. It provides an interpretable measure of the average magnitude of the errors in the same units as the target variable.\n",
    "\t\n",
    "#### 4. R-squared (R2) Score:\n",
    "\tR2 score measures the proportion of the variance in the dependent variable that is predictable from the independent variables. It ranges from 0 to 1, with higher values indicating a better fit."
   ]
  },
  {
   "cell_type": "code",
   "execution_count": 234,
   "id": "bd2a1bc4-5aa2-4c5e-ace8-5e95939cb4a4",
   "metadata": {},
   "outputs": [
    {
     "data": {
      "text/html": [
       "<div>\n",
       "<style scoped>\n",
       "    .dataframe tbody tr th:only-of-type {\n",
       "        vertical-align: middle;\n",
       "    }\n",
       "\n",
       "    .dataframe tbody tr th {\n",
       "        vertical-align: top;\n",
       "    }\n",
       "\n",
       "    .dataframe thead th {\n",
       "        text-align: right;\n",
       "    }\n",
       "</style>\n",
       "<table border=\"1\" class=\"dataframe\">\n",
       "  <thead>\n",
       "    <tr style=\"text-align: right;\">\n",
       "      <th></th>\n",
       "      <th>Predicted</th>\n",
       "      <th>Actual</th>\n",
       "    </tr>\n",
       "  </thead>\n",
       "  <tbody>\n",
       "    <tr>\n",
       "      <th>304</th>\n",
       "      <td>0.36</td>\n",
       "      <td>0.31</td>\n",
       "    </tr>\n",
       "    <tr>\n",
       "      <th>497</th>\n",
       "      <td>0.36</td>\n",
       "      <td>0.35</td>\n",
       "    </tr>\n",
       "    <tr>\n",
       "      <th>440</th>\n",
       "      <td>0.55</td>\n",
       "      <td>0.57</td>\n",
       "    </tr>\n",
       "    <tr>\n",
       "      <th>153</th>\n",
       "      <td>0.47</td>\n",
       "      <td>0.42</td>\n",
       "    </tr>\n",
       "    <tr>\n",
       "      <th>499</th>\n",
       "      <td>0.24</td>\n",
       "      <td>0.14</td>\n",
       "    </tr>\n",
       "  </tbody>\n",
       "</table>\n",
       "</div>"
      ],
      "text/plain": [
       "     Predicted  Actual\n",
       "304       0.36    0.31\n",
       "497       0.36    0.35\n",
       "440       0.55    0.57\n",
       "153       0.47    0.42\n",
       "499       0.24    0.14"
      ]
     },
     "execution_count": 234,
     "metadata": {},
     "output_type": "execute_result"
    }
   ],
   "source": [
    "pd.DataFrame({\"Predicted\" : y_pred, \"Actual\" : y_test}).head()"
   ]
  },
  {
   "cell_type": "code",
   "execution_count": 235,
   "id": "f736ba2f-7e6d-42fa-8bfe-7b6a0191c3c6",
   "metadata": {},
   "outputs": [
    {
     "name": "stdout",
     "output_type": "stream",
     "text": [
      "MAE -  0.041568756988546625\n",
      "MSE -  0.0029225481059950943\n",
      "RMSE -  0.05406059661153486\n",
      "R-sqaured -  0.9305463600606372\n"
     ]
    }
   ],
   "source": [
    "from sklearn.metrics import mean_absolute_error, mean_squared_error, root_mean_squared_error, r2_score\n",
    "\n",
    "print(\"MAE - \", mean_absolute_error(y_test, y_pred))\n",
    "print(\"MSE - \", mean_squared_error(y_test, y_pred))\n",
    "print(\"RMSE - \", root_mean_squared_error(y_test, y_pred))\n",
    "print(\"R-sqaured - \", r2_score(y_test, y_pred))"
   ]
  },
  {
   "cell_type": "markdown",
   "id": "c7641bc0-0f36-4f6b-a86b-92aab69973a7",
   "metadata": {},
   "source": [
    "#### Residual Analysis\n",
    "\n",
    "Residual analysis is a statistical technique used to assess the quality of a regression model by examining the differences between the observed values of the dependent variable and the values predicted by the model (i.e., the residuals). Residuals are the vertical distances between the observed data points and the regression line or surface.\n",
    "\n"
   ]
  },
  {
   "cell_type": "code",
   "execution_count": 236,
   "id": "adb30925-6ee7-4208-9b0c-019af026339d",
   "metadata": {},
   "outputs": [
    {
     "data": {
      "text/plain": [
       "<matplotlib.lines.Line2D at 0x220293d0ad0>"
      ]
     },
     "execution_count": 236,
     "metadata": {},
     "output_type": "execute_result"
    },
    {
     "data": {
      "image/png": "[encoded data removed]",
      "text/plain": [
       "<Figure size 400x300 with 1 Axes>"
      ]
     },
     "metadata": {},
     "output_type": "display_data"
    }
   ],
   "source": [
    "residuals = y_test - y_pred\n",
    "sns.histplot(residuals, kde = True)\n",
    "plt.axvline(residuals.mean(), color = \"red\")"
   ]
  },
  {
   "cell_type": "code",
   "execution_count": 237,
   "id": "3eb74be9-ec12-4796-a158-0d0be23743fd",
   "metadata": {},
   "outputs": [
    {
     "data": {
      "text/plain": [
       "<Axes: >"
      ]
     },
     "execution_count": 237,
     "metadata": {},
     "output_type": "execute_result"
    },
    {
     "data": {
      "image/png": "[encoded data removed]",
      "text/plain": [
       "<Figure size 400x300 with 1 Axes>"
      ]
     },
     "metadata": {},
     "output_type": "display_data"
    }
   ],
   "source": [
    "sns.boxplot(residuals)"
   ]
  },
  {
   "cell_type": "code",
   "execution_count": 211,
   "id": "30c9a802-d4e0-4fb8-a5aa-91de4803a212",
   "metadata": {},
   "outputs": [
    {
     "data": {
      "text/plain": [
       "-0.14389914484198313"
      ]
     },
     "execution_count": 211,
     "metadata": {},
     "output_type": "execute_result"
    }
   ],
   "source": [
    "stats.skew(residuals)"
   ]
  },
  {
   "cell_type": "code",
   "execution_count": 238,
   "id": "c4b8fd47-bc83-43ce-8669-7b333d2ec62f",
   "metadata": {},
   "outputs": [
    {
     "data": {
      "text/plain": [
       "1.0797292169524413"
      ]
     },
     "execution_count": 238,
     "metadata": {},
     "output_type": "execute_result"
    }
   ],
   "source": [
    "stats.kurtosis(residuals)"
   ]
  },
  {
   "cell_type": "code",
   "execution_count": 239,
   "id": "b6c2c528-5e54-4fef-9cb1-3431fd74ff33",
   "metadata": {},
   "outputs": [
    {
     "data": {
      "text/plain": [
       "7"
      ]
     },
     "execution_count": 239,
     "metadata": {},
     "output_type": "execute_result"
    }
   ],
   "source": [
    "IQR_factor = (np.percentile(residuals, 75) - np.percentile(residuals, 25)) * 1.5\n",
    "min_w, max_w = (np.percentile(residuals, 25) - IQR_factor), (np.percentile(residuals, 75) + IQR_factor)\n",
    "residuals[np.logical_or(residuals<min_w, residuals>max_w)].size"
   ]
  },
  {
   "cell_type": "markdown",
   "id": "309d09a0-0db1-4761-8a95-a76b68d1001c",
   "metadata": {},
   "source": [
    "###### Conclusion - \n",
    "\n",
    "- The r-squared value and residual analysis remains similar after applying RFE.\n",
    "- The features extracted during RFE are sufficient to build the model (area, hotwaterheating, unfurnished)"
   ]
  },
  {
   "cell_type": "markdown",
   "id": "22ad4db2-9c54-41ab-b623-b764bcb61348",
   "metadata": {},
   "source": [
    "<hr><hr>"
   ]
  },
  {
   "cell_type": "markdown",
   "id": "310de9fb-b162-410e-b484-2939c23643b3",
   "metadata": {},
   "source": [
    "## Logistic Regression\n",
    "\n",
    "- Logistic Regression is a statistical method used for modeling the probability of a binary outcome or a categorical outcome with more than two categories.\n",
    "- In logistic regression, the dependent variable (or target variable) is binary, meaning it can take only two possible outcomes, typically coded as 0 and 1 (e.g., \"yes\" or \"no\", \"success\" or \"failure\", \"positive\" or \"negative\").\n",
    "- The goal of logistic regression is to model the probability that the dependent variable belongs to a particular category as a function of one or more independent variables (or features).\n",
    "\n",
    "#### Assumptions\n",
    "\n",
    "- Binary Dependent Variable: Logistic regression assumes that the dependent variable (or target variable) is binary, meaning it has only two possible outcomes (e.g., 0 or 1, \"yes\" or \"no\").\r\n",
    "\r\n",
    "- Independence of Observations: Logistic regression assumes that the observations (data points) are independent of each other. In other words, the probability of one observation belonging to a particular category does not depend on the outcomes of other observations.\r\n",
    "\r\n",
    "- Linearity of Independent Variables and Log-Odds: Logistic regression assumes that the relationship between the independent variables and the log-odds of the dependent variable is linear. This means that the log-odds of the dependent variable are a linear combination of the independent variables after applying the logistic transformation.\r\n",
    "\r\n",
    "- No Multicollinearity: Logistic regression assumes that there is little or no multicollinearity among the independent variables. Multicollinearity occurs when two or more independent variables are highly correlated with each other, which can make it difficult to estimate the coefficients accurately.\r\n",
    "\r\n",
    "- Absence of Outliers: Logistic regression is sensitive to outliers, which are data points that significantly deviate from the overall pattern of the data. Outliers can influence the estimated coefficients and affect the model's predictions.\r\n"
   ]
  },
  {
   "cell_type": "code",
   "execution_count": null,
   "id": "b145084f-08cf-4d7a-863c-7a20bed10c17",
   "metadata": {},
   "outputs": [],
   "source": [
    "# Import the basic packages\n",
    "\n",
    "import numpy as np\n",
    "import pandas as pd\n",
    "import matplotlib.pyplot as plt \n",
    "import seaborn as sns\n",
    "\n",
    "%matplotlib inline\n",
    "pd.options.display.float_format = '{:.2f}'.format\n",
    "plt.rcParams['figure.figsize'] = (4, 3)\n",
    "plt.rcParams['font.size'] = 10\n",
    "\n",
    "import warnings\n",
    "warnings.filterwarnings('ignore')"
   ]
  },
  {
   "cell_type": "markdown",
   "id": "412dfc64-6900-4ac3-9058-bb2954f14f36",
   "metadata": {},
   "source": [
    "### Data Preparation"
   ]
  },
  {
   "cell_type": "markdown",
   "id": "07f1065c-6c79-4cbb-b384-ee717a92c32b",
   "metadata": {},
   "source": [
    "#### Reading data from file"
   ]
  },
  {
   "cell_type": "code",
   "execution_count": 240,
   "id": "34c3e3ca-6625-4724-9a15-a443aabe7957",
   "metadata": {},
   "outputs": [
    {
     "data": {
      "text/html": [
       "<div>\n",
       "<style scoped>\n",
       "    .dataframe tbody tr th:only-of-type {\n",
       "        vertical-align: middle;\n",
       "    }\n",
       "\n",
       "    .dataframe tbody tr th {\n",
       "        vertical-align: top;\n",
       "    }\n",
       "\n",
       "    .dataframe thead th {\n",
       "        text-align: right;\n",
       "    }\n",
       "</style>\n",
       "<table border=\"1\" class=\"dataframe\">\n",
       "  <thead>\n",
       "    <tr style=\"text-align: right;\">\n",
       "      <th></th>\n",
       "      <th>Income</th>\n",
       "      <th>Age</th>\n",
       "      <th>Loan</th>\n",
       "      <th>Loan to Income</th>\n",
       "      <th>Default</th>\n",
       "    </tr>\n",
       "  </thead>\n",
       "  <tbody>\n",
       "    <tr>\n",
       "      <th>0</th>\n",
       "      <td>66155.93</td>\n",
       "      <td>59.02</td>\n",
       "      <td>8106.53</td>\n",
       "      <td>0.12</td>\n",
       "      <td>no</td>\n",
       "    </tr>\n",
       "    <tr>\n",
       "      <th>1</th>\n",
       "      <td>34415.15</td>\n",
       "      <td>48.12</td>\n",
       "      <td>6564.75</td>\n",
       "      <td>0.19</td>\n",
       "      <td>no</td>\n",
       "    </tr>\n",
       "    <tr>\n",
       "      <th>2</th>\n",
       "      <td>57317.17</td>\n",
       "      <td>63.11</td>\n",
       "      <td>8020.95</td>\n",
       "      <td>0.14</td>\n",
       "      <td>no</td>\n",
       "    </tr>\n",
       "    <tr>\n",
       "      <th>3</th>\n",
       "      <td>42709.53</td>\n",
       "      <td>45.75</td>\n",
       "      <td>6103.64</td>\n",
       "      <td>0.14</td>\n",
       "      <td>no</td>\n",
       "    </tr>\n",
       "    <tr>\n",
       "      <th>4</th>\n",
       "      <td>66952.69</td>\n",
       "      <td>18.58</td>\n",
       "      <td>8770.10</td>\n",
       "      <td>0.13</td>\n",
       "      <td>yes</td>\n",
       "    </tr>\n",
       "  </tbody>\n",
       "</table>\n",
       "</div>"
      ],
      "text/plain": [
       "    Income   Age    Loan  Loan to Income Default\n",
       "0 66155.93 59.02 8106.53            0.12      no\n",
       "1 34415.15 48.12 6564.75            0.19      no\n",
       "2 57317.17 63.11 8020.95            0.14      no\n",
       "3 42709.53 45.75 6103.64            0.14      no\n",
       "4 66952.69 18.58 8770.10            0.13     yes"
      ]
     },
     "execution_count": 240,
     "metadata": {},
     "output_type": "execute_result"
    }
   ],
   "source": [
    "df = pd.read_csv(\"Credit Default.csv\")\n",
    "df.head()"
   ]
  },
  {
   "cell_type": "code",
   "execution_count": 241,
   "id": "fb028121-7a72-469d-997a-6a9d83316aff",
   "metadata": {},
   "outputs": [
    {
     "data": {
      "text/plain": [
       "(2000, 5)"
      ]
     },
     "execution_count": 241,
     "metadata": {},
     "output_type": "execute_result"
    }
   ],
   "source": [
    "df.shape"
   ]
  },
  {
   "cell_type": "code",
   "execution_count": 242,
   "id": "5e8405db-fe5b-41ab-8987-9a646537fc65",
   "metadata": {},
   "outputs": [
    {
     "data": {
      "text/plain": [
       "Income            float64\n",
       "Age               float64\n",
       "Loan              float64\n",
       "Loan to Income    float64\n",
       "Default            object\n",
       "dtype: object"
      ]
     },
     "execution_count": 242,
     "metadata": {},
     "output_type": "execute_result"
    }
   ],
   "source": [
    "df.dtypes"
   ]
  },
  {
   "cell_type": "markdown",
   "id": "3ef1f85d-8efa-43ef-bf24-be549f2f2dee",
   "metadata": {},
   "source": [
    "#### Handling Nulls"
   ]
  },
  {
   "cell_type": "code",
   "execution_count": 243,
   "id": "3a306e6a-f7f4-461f-985d-7890d8a88f24",
   "metadata": {},
   "outputs": [
    {
     "data": {
      "text/plain": [
       "Income            False\n",
       "Age               False\n",
       "Loan              False\n",
       "Loan to Income    False\n",
       "Default           False\n",
       "dtype: bool"
      ]
     },
     "execution_count": 243,
     "metadata": {},
     "output_type": "execute_result"
    }
   ],
   "source": [
    "df.isna().any()"
   ]
  },
  {
   "cell_type": "markdown",
   "id": "88988106-8ab3-4ed7-95f6-59a31831b485",
   "metadata": {},
   "source": [
    "#### Handlilng Outliers"
   ]
  },
  {
   "cell_type": "code",
   "execution_count": 244,
   "id": "6cb81437-8345-42a5-a73d-27006efa7ea1",
   "metadata": {},
   "outputs": [],
   "source": [
    "def outliers(col) :\n",
    "    figure, axes = plt.subplots(ncols = 2, figsize = (4, 2))\n",
    "    sns.histplot(col, kde = True, ax = axes[0])\n",
    "    sns.boxplot(col, ax = axes[1])\n",
    "    IQR_factor = (np.percentile(col, 75) - np.percentile(col, 25)) * 1.5\n",
    "    return (np.percentile(col, 25) - IQR_factor), (np.percentile(col, 75) + IQR_factor)"
   ]
  },
  {
   "cell_type": "code",
   "execution_count": 245,
   "id": "dc0b387f-39e4-4bdd-ba1d-b440a6954691",
   "metadata": {},
   "outputs": [
    {
     "data": {
      "text/plain": [
       "(-4695.773204999998, 95283.51459499999)"
      ]
     },
     "execution_count": 245,
     "metadata": {},
     "output_type": "execute_result"
    },
    {
     "data": {
      "image/png": "[encoded data removed]",
      "text/plain": [
       "<Figure size 400x200 with 2 Axes>"
      ]
     },
     "metadata": {},
     "output_type": "display_data"
    }
   ],
   "source": [
    "outliers(df.Income)"
   ]
  },
  {
   "cell_type": "code",
   "execution_count": 246,
   "id": "5743c74c-27ad-44cd-ac99-c13a2e8cf235",
   "metadata": {},
   "outputs": [
    {
     "data": {
      "text/plain": [
       "(-6.23925879374999, 87.89874433624999)"
      ]
     },
     "execution_count": 246,
     "metadata": {},
     "output_type": "execute_result"
    },
    {
     "data": {
      "image/png": "[encoded data removed]",
      "text/plain": [
       "<Figure size 400x200 with 2 Axes>"
      ]
     },
     "metadata": {},
     "output_type": "display_data"
    }
   ],
   "source": [
    "outliers(df.Age)"
   ]
  },
  {
   "cell_type": "code",
   "execution_count": 250,
   "id": "4657ac22-e7b5-46ab-9748-2d61fe34e0be",
   "metadata": {},
   "outputs": [
    {
     "data": {
      "text/plain": [
       "(-4774.498266250001, 13117.719543750001)"
      ]
     },
     "execution_count": 250,
     "metadata": {},
     "output_type": "execute_result"
    },
    {
     "data": {
      "image/png": "[encoded data removed]",
      "text/plain": [
       "<Figure size 400x200 with 2 Axes>"
      ]
     },
     "metadata": {},
     "output_type": "display_data"
    },
    {
     "data": {
      "image/png": "[encoded data removed]",
      "text/plain": [
       "<Figure size 400x200 with 2 Axes>"
      ]
     },
     "metadata": {},
     "output_type": "display_data"
    }
   ],
   "source": [
    "df = df[df.Loan.between(*outliers(df.Loan))]\n",
    "outliers(df.Loan)"
   ]
  },
  {
   "cell_type": "markdown",
   "id": "95083c8c-333c-42ea-a880-d6cb9c404808",
   "metadata": {},
   "source": [
    "#### Encoding"
   ]
  },
  {
   "cell_type": "code",
   "execution_count": 252,
   "id": "0e36ab24-7e0a-4eed-bac1-03d7c332b6e0",
   "metadata": {},
   "outputs": [
    {
     "data": {
      "text/html": [
       "<div>\n",
       "<style scoped>\n",
       "    .dataframe tbody tr th:only-of-type {\n",
       "        vertical-align: middle;\n",
       "    }\n",
       "\n",
       "    .dataframe tbody tr th {\n",
       "        vertical-align: top;\n",
       "    }\n",
       "\n",
       "    .dataframe thead th {\n",
       "        text-align: right;\n",
       "    }\n",
       "</style>\n",
       "<table border=\"1\" class=\"dataframe\">\n",
       "  <thead>\n",
       "    <tr style=\"text-align: right;\">\n",
       "      <th></th>\n",
       "      <th>Income</th>\n",
       "      <th>Age</th>\n",
       "      <th>Loan</th>\n",
       "      <th>Loan to Income</th>\n",
       "      <th>Default</th>\n",
       "    </tr>\n",
       "  </thead>\n",
       "  <tbody>\n",
       "    <tr>\n",
       "      <th>0</th>\n",
       "      <td>66155.93</td>\n",
       "      <td>59.02</td>\n",
       "      <td>8106.53</td>\n",
       "      <td>0.12</td>\n",
       "      <td>0</td>\n",
       "    </tr>\n",
       "    <tr>\n",
       "      <th>1</th>\n",
       "      <td>34415.15</td>\n",
       "      <td>48.12</td>\n",
       "      <td>6564.75</td>\n",
       "      <td>0.19</td>\n",
       "      <td>0</td>\n",
       "    </tr>\n",
       "    <tr>\n",
       "      <th>2</th>\n",
       "      <td>57317.17</td>\n",
       "      <td>63.11</td>\n",
       "      <td>8020.95</td>\n",
       "      <td>0.14</td>\n",
       "      <td>0</td>\n",
       "    </tr>\n",
       "    <tr>\n",
       "      <th>3</th>\n",
       "      <td>42709.53</td>\n",
       "      <td>45.75</td>\n",
       "      <td>6103.64</td>\n",
       "      <td>0.14</td>\n",
       "      <td>0</td>\n",
       "    </tr>\n",
       "    <tr>\n",
       "      <th>4</th>\n",
       "      <td>66952.69</td>\n",
       "      <td>18.58</td>\n",
       "      <td>8770.10</td>\n",
       "      <td>0.13</td>\n",
       "      <td>1</td>\n",
       "    </tr>\n",
       "  </tbody>\n",
       "</table>\n",
       "</div>"
      ],
      "text/plain": [
       "    Income   Age    Loan  Loan to Income  Default\n",
       "0 66155.93 59.02 8106.53            0.12        0\n",
       "1 34415.15 48.12 6564.75            0.19        0\n",
       "2 57317.17 63.11 8020.95            0.14        0\n",
       "3 42709.53 45.75 6103.64            0.14        0\n",
       "4 66952.69 18.58 8770.10            0.13        1"
      ]
     },
     "execution_count": 252,
     "metadata": {},
     "output_type": "execute_result"
    }
   ],
   "source": [
    "from sklearn.preprocessing import LabelEncoder\n",
    "\n",
    "encoder = LabelEncoder()\n",
    "df[\"Default\"] = encoder.fit_transform(df[\"Default\"])\n",
    "df.head()"
   ]
  },
  {
   "cell_type": "markdown",
   "id": "149f9573-f80c-409a-ade4-3a782b354a5a",
   "metadata": {},
   "source": [
    "### Final Code"
   ]
  },
  {
   "cell_type": "code",
   "execution_count": 253,
   "id": "603ee304-4888-4f1a-886d-5428bf9d92fb",
   "metadata": {},
   "outputs": [
    {
     "data": {
      "text/html": [
       "<div>\n",
       "<style scoped>\n",
       "    .dataframe tbody tr th:only-of-type {\n",
       "        vertical-align: middle;\n",
       "    }\n",
       "\n",
       "    .dataframe tbody tr th {\n",
       "        vertical-align: top;\n",
       "    }\n",
       "\n",
       "    .dataframe thead th {\n",
       "        text-align: right;\n",
       "    }\n",
       "</style>\n",
       "<table border=\"1\" class=\"dataframe\">\n",
       "  <thead>\n",
       "    <tr style=\"text-align: right;\">\n",
       "      <th></th>\n",
       "      <th>Income</th>\n",
       "      <th>Age</th>\n",
       "      <th>Loan</th>\n",
       "      <th>Loan to Income</th>\n",
       "      <th>Default</th>\n",
       "    </tr>\n",
       "  </thead>\n",
       "  <tbody>\n",
       "    <tr>\n",
       "      <th>0</th>\n",
       "      <td>66155.93</td>\n",
       "      <td>59.02</td>\n",
       "      <td>8106.53</td>\n",
       "      <td>0.12</td>\n",
       "      <td>0</td>\n",
       "    </tr>\n",
       "    <tr>\n",
       "      <th>1</th>\n",
       "      <td>34415.15</td>\n",
       "      <td>48.12</td>\n",
       "      <td>6564.75</td>\n",
       "      <td>0.19</td>\n",
       "      <td>0</td>\n",
       "    </tr>\n",
       "    <tr>\n",
       "      <th>2</th>\n",
       "      <td>57317.17</td>\n",
       "      <td>63.11</td>\n",
       "      <td>8020.95</td>\n",
       "      <td>0.14</td>\n",
       "      <td>0</td>\n",
       "    </tr>\n",
       "    <tr>\n",
       "      <th>3</th>\n",
       "      <td>42709.53</td>\n",
       "      <td>45.75</td>\n",
       "      <td>6103.64</td>\n",
       "      <td>0.14</td>\n",
       "      <td>0</td>\n",
       "    </tr>\n",
       "    <tr>\n",
       "      <th>4</th>\n",
       "      <td>66952.69</td>\n",
       "      <td>18.58</td>\n",
       "      <td>8770.10</td>\n",
       "      <td>0.13</td>\n",
       "      <td>1</td>\n",
       "    </tr>\n",
       "  </tbody>\n",
       "</table>\n",
       "</div>"
      ],
      "text/plain": [
       "    Income   Age    Loan  Loan to Income  Default\n",
       "0 66155.93 59.02 8106.53            0.12        0\n",
       "1 34415.15 48.12 6564.75            0.19        0\n",
       "2 57317.17 63.11 8020.95            0.14        0\n",
       "3 42709.53 45.75 6103.64            0.14        0\n",
       "4 66952.69 18.58 8770.10            0.13        1"
      ]
     },
     "execution_count": 253,
     "metadata": {},
     "output_type": "execute_result"
    }
   ],
   "source": [
    "def outliers(col) :\n",
    "    IQR_factor = (np.percentile(col, 75) - np.percentile(col, 25)) * 1.5\n",
    "    return (np.percentile(col, 25) - IQR_factor), (np.percentile(col, 75) + IQR_factor)\n",
    "    \n",
    "# Read data from file - \n",
    "df = pd.read_csv(\"Credit Default.csv\")\n",
    "# Handling outliers\n",
    "df = df[df.Loan.between(*outliers(df.Loan))]\n",
    "# Encoding the data\n",
    "from sklearn.preprocessing import LabelEncoder\n",
    "encoder = LabelEncoder()\n",
    "df[\"Default\"] = encoder.fit_transform(df[\"Default\"])\n",
    "df.head()"
   ]
  },
  {
   "cell_type": "markdown",
   "id": "c3b2a648-6248-4305-be4d-fe3ecfe17c71",
   "metadata": {},
   "source": [
    "#### Checking for Linearity and Multicolinearity"
   ]
  },
  {
   "cell_type": "code",
   "execution_count": 265,
   "id": "256fc840-b8bc-4650-bcb1-bc8e918c79a7",
   "metadata": {},
   "outputs": [
    {
     "data": {
      "text/html": [
       "<div>\n",
       "<style scoped>\n",
       "    .dataframe tbody tr th:only-of-type {\n",
       "        vertical-align: middle;\n",
       "    }\n",
       "\n",
       "    .dataframe tbody tr th {\n",
       "        vertical-align: top;\n",
       "    }\n",
       "\n",
       "    .dataframe thead th {\n",
       "        text-align: right;\n",
       "    }\n",
       "</style>\n",
       "<table border=\"1\" class=\"dataframe\">\n",
       "  <thead>\n",
       "    <tr style=\"text-align: right;\">\n",
       "      <th></th>\n",
       "      <th>Income</th>\n",
       "      <th>Age</th>\n",
       "      <th>Loan</th>\n",
       "      <th>Loan to Income</th>\n",
       "      <th>Default</th>\n",
       "    </tr>\n",
       "  </thead>\n",
       "  <tbody>\n",
       "    <tr>\n",
       "      <th>Income</th>\n",
       "      <td>1.00</td>\n",
       "      <td>-0.04</td>\n",
       "      <td>0.40</td>\n",
       "      <td>-0.03</td>\n",
       "      <td>-0.00</td>\n",
       "    </tr>\n",
       "    <tr>\n",
       "      <th>Age</th>\n",
       "      <td>-0.04</td>\n",
       "      <td>1.00</td>\n",
       "      <td>0.01</td>\n",
       "      <td>0.02</td>\n",
       "      <td>-0.44</td>\n",
       "    </tr>\n",
       "    <tr>\n",
       "      <th>Loan</th>\n",
       "      <td>0.40</td>\n",
       "      <td>0.01</td>\n",
       "      <td>1.00</td>\n",
       "      <td>0.88</td>\n",
       "      <td>0.37</td>\n",
       "    </tr>\n",
       "    <tr>\n",
       "      <th>Loan to Income</th>\n",
       "      <td>-0.03</td>\n",
       "      <td>0.02</td>\n",
       "      <td>0.88</td>\n",
       "      <td>1.00</td>\n",
       "      <td>0.43</td>\n",
       "    </tr>\n",
       "    <tr>\n",
       "      <th>Default</th>\n",
       "      <td>-0.00</td>\n",
       "      <td>-0.44</td>\n",
       "      <td>0.37</td>\n",
       "      <td>0.43</td>\n",
       "      <td>1.00</td>\n",
       "    </tr>\n",
       "  </tbody>\n",
       "</table>\n",
       "</div>"
      ],
      "text/plain": [
       "                Income   Age  Loan  Loan to Income  Default\n",
       "Income            1.00 -0.04  0.40           -0.03    -0.00\n",
       "Age              -0.04  1.00  0.01            0.02    -0.44\n",
       "Loan              0.40  0.01  1.00            0.88     0.37\n",
       "Loan to Income   -0.03  0.02  0.88            1.00     0.43\n",
       "Default          -0.00 -0.44  0.37            0.43     1.00"
      ]
     },
     "execution_count": 265,
     "metadata": {},
     "output_type": "execute_result"
    }
   ],
   "source": [
    "df.corr(method=\"spearman\")"
   ]
  },
  {
   "cell_type": "code",
   "execution_count": 266,
   "id": "6a2c3786-6e8f-4365-8f0a-c4999cca6d3c",
   "metadata": {},
   "outputs": [
    {
     "data": {
      "text/plain": [
       "<Axes: >"
      ]
     },
     "execution_count": 266,
     "metadata": {},
     "output_type": "execute_result"
    },
    {
     "data": {
      "image/png": "[encoded data removed]",
      "text/plain": [
       "<Figure size 400x300 with 2 Axes>"
      ]
     },
     "metadata": {},
     "output_type": "display_data"
    }
   ],
   "source": [
    "sns.heatmap(df.corr(method=\"spearman\"), annot=True, cmap=\"RdYlGn\")"
   ]
  },
  {
   "cell_type": "markdown",
   "id": "1157ca66-fc03-44eb-b914-015adc65b820",
   "metadata": {},
   "source": [
    "##### Conclusion - \n",
    "\n",
    "- LI is positively correlated - higher the value of LI more chance of defult; higher LI value - more Loan smaller income\n",
    "- Age and default are negatively correlated - more age less chance of default"
   ]
  },
  {
   "cell_type": "code",
   "execution_count": 256,
   "id": "3eb1af97-a614-4eee-a5f1-86a02272b5f9",
   "metadata": {},
   "outputs": [
    {
     "data": {
      "text/html": [
       "<div>\n",
       "<style scoped>\n",
       "    .dataframe tbody tr th:only-of-type {\n",
       "        vertical-align: middle;\n",
       "    }\n",
       "\n",
       "    .dataframe tbody tr th {\n",
       "        vertical-align: top;\n",
       "    }\n",
       "\n",
       "    .dataframe thead th {\n",
       "        text-align: right;\n",
       "    }\n",
       "</style>\n",
       "<table border=\"1\" class=\"dataframe\">\n",
       "  <thead>\n",
       "    <tr style=\"text-align: right;\">\n",
       "      <th></th>\n",
       "      <th>Income</th>\n",
       "      <th>Age</th>\n",
       "      <th>Loan</th>\n",
       "      <th>Loan to Income</th>\n",
       "    </tr>\n",
       "  </thead>\n",
       "  <tbody>\n",
       "    <tr>\n",
       "      <th>Income</th>\n",
       "      <td>1.00</td>\n",
       "      <td>-0.03</td>\n",
       "      <td>0.44</td>\n",
       "      <td>-0.03</td>\n",
       "    </tr>\n",
       "    <tr>\n",
       "      <th>Age</th>\n",
       "      <td>-0.03</td>\n",
       "      <td>1.00</td>\n",
       "      <td>0.01</td>\n",
       "      <td>0.02</td>\n",
       "    </tr>\n",
       "    <tr>\n",
       "      <th>Loan</th>\n",
       "      <td>0.44</td>\n",
       "      <td>0.01</td>\n",
       "      <td>1.00</td>\n",
       "      <td>0.85</td>\n",
       "    </tr>\n",
       "    <tr>\n",
       "      <th>Loan to Income</th>\n",
       "      <td>-0.03</td>\n",
       "      <td>0.02</td>\n",
       "      <td>0.85</td>\n",
       "      <td>1.00</td>\n",
       "    </tr>\n",
       "  </tbody>\n",
       "</table>\n",
       "</div>"
      ],
      "text/plain": [
       "                Income   Age  Loan  Loan to Income\n",
       "Income            1.00 -0.03  0.44           -0.03\n",
       "Age              -0.03  1.00  0.01            0.02\n",
       "Loan              0.44  0.01  1.00            0.85\n",
       "Loan to Income   -0.03  0.02  0.85            1.00"
      ]
     },
     "execution_count": 256,
     "metadata": {},
     "output_type": "execute_result"
    }
   ],
   "source": [
    "data = df.drop(columns=\"Default\")\n",
    "data.corr()"
   ]
  },
  {
   "cell_type": "code",
   "execution_count": 258,
   "id": "8b9760c2-08a9-4c44-b1cb-001fd0d48967",
   "metadata": {},
   "outputs": [
    {
     "data": {
      "text/plain": [
       "<Axes: >"
      ]
     },
     "execution_count": 258,
     "metadata": {},
     "output_type": "execute_result"
    },
    {
     "data": {
      "image/png": "[encoded data removed]",
      "text/plain": [
       "<Figure size 400x300 with 2 Axes>"
      ]
     },
     "metadata": {},
     "output_type": "display_data"
    }
   ],
   "source": [
    "sns.heatmap(data.corr(), annot=True, cmap=\"RdYlGn\")"
   ]
  },
  {
   "cell_type": "markdown",
   "id": "a1b08351-4c0e-4418-86ed-57a2cf88a276",
   "metadata": {},
   "source": [
    "#### Scaling"
   ]
  },
  {
   "cell_type": "code",
   "execution_count": 261,
   "id": "46815120-cef7-4a0f-aa06-c25ca76da186",
   "metadata": {},
   "outputs": [
    {
     "data": {
      "text/html": [
       "<div>\n",
       "<style scoped>\n",
       "    .dataframe tbody tr th:only-of-type {\n",
       "        vertical-align: middle;\n",
       "    }\n",
       "\n",
       "    .dataframe tbody tr th {\n",
       "        vertical-align: top;\n",
       "    }\n",
       "\n",
       "    .dataframe thead th {\n",
       "        text-align: right;\n",
       "    }\n",
       "</style>\n",
       "<table border=\"1\" class=\"dataframe\">\n",
       "  <thead>\n",
       "    <tr style=\"text-align: right;\">\n",
       "      <th></th>\n",
       "      <th>Income</th>\n",
       "      <th>Age</th>\n",
       "      <th>Loan</th>\n",
       "      <th>Loan to Income</th>\n",
       "      <th>Default</th>\n",
       "    </tr>\n",
       "  </thead>\n",
       "  <tbody>\n",
       "    <tr>\n",
       "      <th>0</th>\n",
       "      <td>0.92</td>\n",
       "      <td>0.89</td>\n",
       "      <td>0.62</td>\n",
       "      <td>0.61</td>\n",
       "      <td>0.00</td>\n",
       "    </tr>\n",
       "    <tr>\n",
       "      <th>1</th>\n",
       "      <td>0.29</td>\n",
       "      <td>0.65</td>\n",
       "      <td>0.50</td>\n",
       "      <td>0.95</td>\n",
       "      <td>0.00</td>\n",
       "    </tr>\n",
       "    <tr>\n",
       "      <th>2</th>\n",
       "      <td>0.75</td>\n",
       "      <td>0.98</td>\n",
       "      <td>0.61</td>\n",
       "      <td>0.70</td>\n",
       "      <td>0.00</td>\n",
       "    </tr>\n",
       "    <tr>\n",
       "      <th>3</th>\n",
       "      <td>0.45</td>\n",
       "      <td>0.60</td>\n",
       "      <td>0.47</td>\n",
       "      <td>0.71</td>\n",
       "      <td>0.00</td>\n",
       "    </tr>\n",
       "    <tr>\n",
       "      <th>4</th>\n",
       "      <td>0.94</td>\n",
       "      <td>0.01</td>\n",
       "      <td>0.67</td>\n",
       "      <td>0.66</td>\n",
       "      <td>1.00</td>\n",
       "    </tr>\n",
       "  </tbody>\n",
       "</table>\n",
       "</div>"
      ],
      "text/plain": [
       "   Income  Age  Loan  Loan to Income  Default\n",
       "0    0.92 0.89  0.62            0.61     0.00\n",
       "1    0.29 0.65  0.50            0.95     0.00\n",
       "2    0.75 0.98  0.61            0.70     0.00\n",
       "3    0.45 0.60  0.47            0.71     0.00\n",
       "4    0.94 0.01  0.67            0.66     1.00"
      ]
     },
     "execution_count": 261,
     "metadata": {},
     "output_type": "execute_result"
    }
   ],
   "source": [
    "from sklearn.preprocessing import MinMaxScaler\n",
    "\n",
    "scaler = MinMaxScaler()\n",
    "df = pd.DataFrame(scaler.fit_transform(df), columns=df.columns)\n",
    "df.head()"
   ]
  },
  {
   "cell_type": "markdown",
   "id": "3391265f-b82f-408e-a201-2076575e04bb",
   "metadata": {},
   "source": [
    "#### Feature Selection using RFE"
   ]
  },
  {
   "cell_type": "code",
   "execution_count": 272,
   "id": "eeba4169-a280-4145-b9a3-32cc3bf03eaa",
   "metadata": {},
   "outputs": [
    {
     "data": {
      "text/html": [
       "<div>\n",
       "<style scoped>\n",
       "    .dataframe tbody tr th:only-of-type {\n",
       "        vertical-align: middle;\n",
       "    }\n",
       "\n",
       "    .dataframe tbody tr th {\n",
       "        vertical-align: top;\n",
       "    }\n",
       "\n",
       "    .dataframe thead th {\n",
       "        text-align: right;\n",
       "    }\n",
       "</style>\n",
       "<table border=\"1\" class=\"dataframe\">\n",
       "  <thead>\n",
       "    <tr style=\"text-align: right;\">\n",
       "      <th></th>\n",
       "      <th>Age</th>\n",
       "      <th>Loan to Income</th>\n",
       "    </tr>\n",
       "  </thead>\n",
       "  <tbody>\n",
       "    <tr>\n",
       "      <th>0</th>\n",
       "      <td>0.89</td>\n",
       "      <td>0.61</td>\n",
       "    </tr>\n",
       "    <tr>\n",
       "      <th>1</th>\n",
       "      <td>0.65</td>\n",
       "      <td>0.95</td>\n",
       "    </tr>\n",
       "    <tr>\n",
       "      <th>2</th>\n",
       "      <td>0.98</td>\n",
       "      <td>0.70</td>\n",
       "    </tr>\n",
       "    <tr>\n",
       "      <th>3</th>\n",
       "      <td>0.60</td>\n",
       "      <td>0.71</td>\n",
       "    </tr>\n",
       "    <tr>\n",
       "      <th>4</th>\n",
       "      <td>0.01</td>\n",
       "      <td>0.66</td>\n",
       "    </tr>\n",
       "    <tr>\n",
       "      <th>...</th>\n",
       "      <td>...</td>\n",
       "      <td>...</td>\n",
       "    </tr>\n",
       "    <tr>\n",
       "      <th>1990</th>\n",
       "      <td>0.66</td>\n",
       "      <td>0.16</td>\n",
       "    </tr>\n",
       "    <tr>\n",
       "      <th>1991</th>\n",
       "      <td>0.11</td>\n",
       "      <td>0.25</td>\n",
       "    </tr>\n",
       "    <tr>\n",
       "      <th>1992</th>\n",
       "      <td>0.22</td>\n",
       "      <td>0.62</td>\n",
       "    </tr>\n",
       "    <tr>\n",
       "      <th>1993</th>\n",
       "      <td>1.00</td>\n",
       "      <td>0.19</td>\n",
       "    </tr>\n",
       "    <tr>\n",
       "      <th>1994</th>\n",
       "      <td>0.83</td>\n",
       "      <td>0.53</td>\n",
       "    </tr>\n",
       "  </tbody>\n",
       "</table>\n",
       "<p>1995 rows × 2 columns</p>\n",
       "</div>"
      ],
      "text/plain": [
       "      Age  Loan to Income\n",
       "0    0.89            0.61\n",
       "1    0.65            0.95\n",
       "2    0.98            0.70\n",
       "3    0.60            0.71\n",
       "4    0.01            0.66\n",
       "...   ...             ...\n",
       "1990 0.66            0.16\n",
       "1991 0.11            0.25\n",
       "1992 0.22            0.62\n",
       "1993 1.00            0.19\n",
       "1994 0.83            0.53\n",
       "\n",
       "[1995 rows x 2 columns]"
      ]
     },
     "execution_count": 272,
     "metadata": {},
     "output_type": "execute_result"
    }
   ],
   "source": [
    "from sklearn.feature_selection import RFE\n",
    "from sklearn.linear_model import LogisticRegression\n",
    "\n",
    "features = df.drop(columns=\"Default\")\n",
    "target = df.Default\n",
    "\n",
    "model = LogisticRegression()\n",
    "rfe = RFE(model)\n",
    "\n",
    "rfe_result = rfe.fit_transform(features, target)\n",
    "features[features.columns[rfe.support_]]"
   ]
  },
  {
   "cell_type": "markdown",
   "id": "62330f27-1b71-428e-b44b-33d51bf709fb",
   "metadata": {},
   "source": [
    "### Data Modelling"
   ]
  },
  {
   "cell_type": "markdown",
   "id": "d9da8e1e-a544-4c15-b4bc-e6067c110f6a",
   "metadata": {},
   "source": [
    "#### Select Features and Label"
   ]
  },
  {
   "cell_type": "code",
   "execution_count": 273,
   "id": "6f38e23b-5119-4085-b179-cb811cf69c36",
   "metadata": {},
   "outputs": [],
   "source": [
    "features = features[features.columns[rfe.support_]]\n",
    "label = df.Default"
   ]
  },
  {
   "cell_type": "markdown",
   "id": "7950c401-8f51-404c-98d2-da7099403c34",
   "metadata": {},
   "source": [
    "#### Split data into Train and Test"
   ]
  },
  {
   "cell_type": "code",
   "execution_count": 274,
   "id": "01707c4e-e1b3-4467-9911-0da9a92c91cd",
   "metadata": {},
   "outputs": [],
   "source": [
    "from sklearn.model_selection import train_test_split\n",
    "\n",
    "X_train, X_test, y_train, y_test = train_test_split(features, label, test_size=0.3, random_state=45)"
   ]
  },
  {
   "cell_type": "markdown",
   "id": "0b20b516-a3a6-49d1-b02d-fba718da2b10",
   "metadata": {},
   "source": [
    "#### Build Logistic Regression Model"
   ]
  },
  {
   "cell_type": "code",
   "execution_count": 275,
   "id": "e8938f37-495f-4e44-b9e6-ee5e887a2dd7",
   "metadata": {},
   "outputs": [
    {
     "data": {
      "text/html": [
       "<style>#sk-container-id-6 {\n",
       "  /* Definition of color scheme common for light and dark mode */\n",
       "  --sklearn-color-text: black;\n",
       "  --sklearn-color-line: gray;\n",
       "  /* Definition of color scheme for unfitted estimators */\n",
       "  --sklearn-color-unfitted-level-0: #fff5e6;\n",
       "  --sklearn-color-unfitted-level-1: #f6e4d2;\n",
       "  --sklearn-color-unfitted-level-2: #ffe0b3;\n",
       "  --sklearn-color-unfitted-level-3: chocolate;\n",
       "  /* Definition of color scheme for fitted estimators */\n",
       "  --sklearn-color-fitted-level-0: #f0f8ff;\n",
       "  --sklearn-color-fitted-level-1: #d4ebff;\n",
       "  --sklearn-color-fitted-level-2: #b3dbfd;\n",
       "  --sklearn-color-fitted-level-3: cornflowerblue;\n",
       "\n",
       "  /* Specific color for light theme */\n",
       "  --sklearn-color-text-on-default-background: var(--sg-text-color, var(--theme-code-foreground, var(--jp-content-font-color1, black)));\n",
       "  --sklearn-color-background: var(--sg-background-color, var(--theme-background, var(--jp-layout-color0, white)));\n",
       "  --sklearn-color-border-box: var(--sg-text-color, var(--theme-code-foreground, var(--jp-content-font-color1, black)));\n",
       "  --sklearn-color-icon: #696969;\n",
       "\n",
       "  @media (prefers-color-scheme: dark) {\n",
       "    /* Redefinition of color scheme for dark theme */\n",
       "    --sklearn-color-text-on-default-background: var(--sg-text-color, var(--theme-code-foreground, var(--jp-content-font-color1, white)));\n",
       "    --sklearn-color-background: var(--sg-background-color, var(--theme-background, var(--jp-layout-color0, #111)));\n",
       "    --sklearn-color-border-box: var(--sg-text-color, var(--theme-code-foreground, var(--jp-content-font-color1, white)));\n",
       "    --sklearn-color-icon: #878787;\n",
       "  }\n",
       "}\n",
       "\n",
       "#sk-container-id-6 {\n",
       "  color: var(--sklearn-color-text);\n",
       "}\n",
       "\n",
       "#sk-container-id-6 pre {\n",
       "  padding: 0;\n",
       "}\n",
       "\n",
       "#sk-container-id-6 input.sk-hidden--visually {\n",
       "  border: 0;\n",
       "  clip: rect(1px 1px 1px 1px);\n",
       "  clip: rect(1px, 1px, 1px, 1px);\n",
       "  height: 1px;\n",
       "  margin: -1px;\n",
       "  overflow: hidden;\n",
       "  padding: 0;\n",
       "  position: absolute;\n",
       "  width: 1px;\n",
       "}\n",
       "\n",
       "#sk-container-id-6 div.sk-dashed-wrapped {\n",
       "  border: 1px dashed var(--sklearn-color-line);\n",
       "  margin: 0 0.4em 0.5em 0.4em;\n",
       "  box-sizing: border-box;\n",
       "  padding-bottom: 0.4em;\n",
       "  background-color: var(--sklearn-color-background);\n",
       "}\n",
       "\n",
       "#sk-container-id-6 div.sk-container {\n",
       "  /* jupyter's `normalize.less` sets `[hidden] { display: none; }`\n",
       "     but bootstrap.min.css set `[hidden] { display: none !important; }`\n",
       "     so we also need the `!important` here to be able to override the\n",
       "     default hidden behavior on the sphinx rendered scikit-learn.org.\n",
       "     See: https://github.com/scikit-learn/scikit-learn/issues/21755 */\n",
       "  display: inline-block !important;\n",
       "  position: relative;\n",
       "}\n",
       "\n",
       "#sk-container-id-6 div.sk-text-repr-fallback {\n",
       "  display: none;\n",
       "}\n",
       "\n",
       "div.sk-parallel-item,\n",
       "div.sk-serial,\n",
       "div.sk-item {\n",
       "  /* draw centered vertical line to link estimators */\n",
       "  background-image: linear-gradient(var(--sklearn-color-text-on-default-background), var(--sklearn-color-text-on-default-background));\n",
       "  background-size: 2px 100%;\n",
       "  background-repeat: no-repeat;\n",
       "  background-position: center center;\n",
       "}\n",
       "\n",
       "/* Parallel-specific style estimator block */\n",
       "\n",
       "#sk-container-id-6 div.sk-parallel-item::after {\n",
       "  content: \"\";\n",
       "  width: 100%;\n",
       "  border-bottom: 2px solid var(--sklearn-color-text-on-default-background);\n",
       "  flex-grow: 1;\n",
       "}\n",
       "\n",
       "#sk-container-id-6 div.sk-parallel {\n",
       "  display: flex;\n",
       "  align-items: stretch;\n",
       "  justify-content: center;\n",
       "  background-color: var(--sklearn-color-background);\n",
       "  position: relative;\n",
       "}\n",
       "\n",
       "#sk-container-id-6 div.sk-parallel-item {\n",
       "  display: flex;\n",
       "  flex-direction: column;\n",
       "}\n",
       "\n",
       "#sk-container-id-6 div.sk-parallel-item:first-child::after {\n",
       "  align-self: flex-end;\n",
       "  width: 50%;\n",
       "}\n",
       "\n",
       "#sk-container-id-6 div.sk-parallel-item:last-child::after {\n",
       "  align-self: flex-start;\n",
       "  width: 50%;\n",
       "}\n",
       "\n",
       "#sk-container-id-6 div.sk-parallel-item:only-child::after {\n",
       "  width: 0;\n",
       "}\n",
       "\n",
       "/* Serial-specific style estimator block */\n",
       "\n",
       "#sk-container-id-6 div.sk-serial {\n",
       "  display: flex;\n",
       "  flex-direction: column;\n",
       "  align-items: center;\n",
       "  background-color: var(--sklearn-color-background);\n",
       "  padding-right: 1em;\n",
       "  padding-left: 1em;\n",
       "}\n",
       "\n",
       "\n",
       "/* Toggleable style: style used for estimator/Pipeline/ColumnTransformer box that is\n",
       "clickable and can be expanded/collapsed.\n",
       "- Pipeline and ColumnTransformer use this feature and define the default style\n",
       "- Estimators will overwrite some part of the style using the `sk-estimator` class\n",
       "*/\n",
       "\n",
       "/* Pipeline and ColumnTransformer style (default) */\n",
       "\n",
       "#sk-container-id-6 div.sk-toggleable {\n",
       "  /* Default theme specific background. It is overwritten whether we have a\n",
       "  specific estimator or a Pipeline/ColumnTransformer */\n",
       "  background-color: var(--sklearn-color-background);\n",
       "}\n",
       "\n",
       "/* Toggleable label */\n",
       "#sk-container-id-6 label.sk-toggleable__label {\n",
       "  cursor: pointer;\n",
       "  display: block;\n",
       "  width: 100%;\n",
       "  margin-bottom: 0;\n",
       "  padding: 0.5em;\n",
       "  box-sizing: border-box;\n",
       "  text-align: center;\n",
       "}\n",
       "\n",
       "#sk-container-id-6 label.sk-toggleable__label-arrow:before {\n",
       "  /* Arrow on the left of the label */\n",
       "  content: \"▸\";\n",
       "  float: left;\n",
       "  margin-right: 0.25em;\n",
       "  color: var(--sklearn-color-icon);\n",
       "}\n",
       "\n",
       "#sk-container-id-6 label.sk-toggleable__label-arrow:hover:before {\n",
       "  color: var(--sklearn-color-text);\n",
       "}\n",
       "\n",
       "/* Toggleable content - dropdown */\n",
       "\n",
       "#sk-container-id-6 div.sk-toggleable__content {\n",
       "  max-height: 0;\n",
       "  max-width: 0;\n",
       "  overflow: hidden;\n",
       "  text-align: left;\n",
       "  /* unfitted */\n",
       "  background-color: var(--sklearn-color-unfitted-level-0);\n",
       "}\n",
       "\n",
       "#sk-container-id-6 div.sk-toggleable__content.fitted {\n",
       "  /* fitted */\n",
       "  background-color: var(--sklearn-color-fitted-level-0);\n",
       "}\n",
       "\n",
       "#sk-container-id-6 div.sk-toggleable__content pre {\n",
       "  margin: 0.2em;\n",
       "  border-radius: 0.25em;\n",
       "  color: var(--sklearn-color-text);\n",
       "  /* unfitted */\n",
       "  background-color: var(--sklearn-color-unfitted-level-0);\n",
       "}\n",
       "\n",
       "#sk-container-id-6 div.sk-toggleable__content.fitted pre {\n",
       "  /* unfitted */\n",
       "  background-color: var(--sklearn-color-fitted-level-0);\n",
       "}\n",
       "\n",
       "#sk-container-id-6 input.sk-toggleable__control:checked~div.sk-toggleable__content {\n",
       "  /* Expand drop-down */\n",
       "  max-height: 200px;\n",
       "  max-width: 100%;\n",
       "  overflow: auto;\n",
       "}\n",
       "\n",
       "#sk-container-id-6 input.sk-toggleable__control:checked~label.sk-toggleable__label-arrow:before {\n",
       "  content: \"▾\";\n",
       "}\n",
       "\n",
       "/* Pipeline/ColumnTransformer-specific style */\n",
       "\n",
       "#sk-container-id-6 div.sk-label input.sk-toggleable__control:checked~label.sk-toggleable__label {\n",
       "  color: var(--sklearn-color-text);\n",
       "  background-color: var(--sklearn-color-unfitted-level-2);\n",
       "}\n",
       "\n",
       "#sk-container-id-6 div.sk-label.fitted input.sk-toggleable__control:checked~label.sk-toggleable__label {\n",
       "  background-color: var(--sklearn-color-fitted-level-2);\n",
       "}\n",
       "\n",
       "/* Estimator-specific style */\n",
       "\n",
       "/* Colorize estimator box */\n",
       "#sk-container-id-6 div.sk-estimator input.sk-toggleable__control:checked~label.sk-toggleable__label {\n",
       "  /* unfitted */\n",
       "  background-color: var(--sklearn-color-unfitted-level-2);\n",
       "}\n",
       "\n",
       "#sk-container-id-6 div.sk-estimator.fitted input.sk-toggleable__control:checked~label.sk-toggleable__label {\n",
       "  /* fitted */\n",
       "  background-color: var(--sklearn-color-fitted-level-2);\n",
       "}\n",
       "\n",
       "#sk-container-id-6 div.sk-label label.sk-toggleable__label,\n",
       "#sk-container-id-6 div.sk-label label {\n",
       "  /* The background is the default theme color */\n",
       "  color: var(--sklearn-color-text-on-default-background);\n",
       "}\n",
       "\n",
       "/* On hover, darken the color of the background */\n",
       "#sk-container-id-6 div.sk-label:hover label.sk-toggleable__label {\n",
       "  color: var(--sklearn-color-text);\n",
       "  background-color: var(--sklearn-color-unfitted-level-2);\n",
       "}\n",
       "\n",
       "/* Label box, darken color on hover, fitted */\n",
       "#sk-container-id-6 div.sk-label.fitted:hover label.sk-toggleable__label.fitted {\n",
       "  color: var(--sklearn-color-text);\n",
       "  background-color: var(--sklearn-color-fitted-level-2);\n",
       "}\n",
       "\n",
       "/* Estimator label */\n",
       "\n",
       "#sk-container-id-6 div.sk-label label {\n",
       "  font-family: monospace;\n",
       "  font-weight: bold;\n",
       "  display: inline-block;\n",
       "  line-height: 1.2em;\n",
       "}\n",
       "\n",
       "#sk-container-id-6 div.sk-label-container {\n",
       "  text-align: center;\n",
       "}\n",
       "\n",
       "/* Estimator-specific */\n",
       "#sk-container-id-6 div.sk-estimator {\n",
       "  font-family: monospace;\n",
       "  border: 1px dotted var(--sklearn-color-border-box);\n",
       "  border-radius: 0.25em;\n",
       "  box-sizing: border-box;\n",
       "  margin-bottom: 0.5em;\n",
       "  /* unfitted */\n",
       "  background-color: var(--sklearn-color-unfitted-level-0);\n",
       "}\n",
       "\n",
       "#sk-container-id-6 div.sk-estimator.fitted {\n",
       "  /* fitted */\n",
       "  background-color: var(--sklearn-color-fitted-level-0);\n",
       "}\n",
       "\n",
       "/* on hover */\n",
       "#sk-container-id-6 div.sk-estimator:hover {\n",
       "  /* unfitted */\n",
       "  background-color: var(--sklearn-color-unfitted-level-2);\n",
       "}\n",
       "\n",
       "#sk-container-id-6 div.sk-estimator.fitted:hover {\n",
       "  /* fitted */\n",
       "  background-color: var(--sklearn-color-fitted-level-2);\n",
       "}\n",
       "\n",
       "/* Specification for estimator info (e.g. \"i\" and \"?\") */\n",
       "\n",
       "/* Common style for \"i\" and \"?\" */\n",
       "\n",
       ".sk-estimator-doc-link,\n",
       "a:link.sk-estimator-doc-link,\n",
       "a:visited.sk-estimator-doc-link {\n",
       "  float: right;\n",
       "  font-size: smaller;\n",
       "  line-height: 1em;\n",
       "  font-family: monospace;\n",
       "  background-color: var(--sklearn-color-background);\n",
       "  border-radius: 1em;\n",
       "  height: 1em;\n",
       "  width: 1em;\n",
       "  text-decoration: none !important;\n",
       "  margin-left: 1ex;\n",
       "  /* unfitted */\n",
       "  border: var(--sklearn-color-unfitted-level-1) 1pt solid;\n",
       "  color: var(--sklearn-color-unfitted-level-1);\n",
       "}\n",
       "\n",
       ".sk-estimator-doc-link.fitted,\n",
       "a:link.sk-estimator-doc-link.fitted,\n",
       "a:visited.sk-estimator-doc-link.fitted {\n",
       "  /* fitted */\n",
       "  border: var(--sklearn-color-fitted-level-1) 1pt solid;\n",
       "  color: var(--sklearn-color-fitted-level-1);\n",
       "}\n",
       "\n",
       "/* On hover */\n",
       "div.sk-estimator:hover .sk-estimator-doc-link:hover,\n",
       ".sk-estimator-doc-link:hover,\n",
       "div.sk-label-container:hover .sk-estimator-doc-link:hover,\n",
       ".sk-estimator-doc-link:hover {\n",
       "  /* unfitted */\n",
       "  background-color: var(--sklearn-color-unfitted-level-3);\n",
       "  color: var(--sklearn-color-background);\n",
       "  text-decoration: none;\n",
       "}\n",
       "\n",
       "div.sk-estimator.fitted:hover .sk-estimator-doc-link.fitted:hover,\n",
       ".sk-estimator-doc-link.fitted:hover,\n",
       "div.sk-label-container:hover .sk-estimator-doc-link.fitted:hover,\n",
       ".sk-estimator-doc-link.fitted:hover {\n",
       "  /* fitted */\n",
       "  background-color: var(--sklearn-color-fitted-level-3);\n",
       "  color: var(--sklearn-color-background);\n",
       "  text-decoration: none;\n",
       "}\n",
       "\n",
       "/* Span, style for the box shown on hovering the info icon */\n",
       ".sk-estimator-doc-link span {\n",
       "  display: none;\n",
       "  z-index: 9999;\n",
       "  position: relative;\n",
       "  font-weight: normal;\n",
       "  right: .2ex;\n",
       "  padding: .5ex;\n",
       "  margin: .5ex;\n",
       "  width: min-content;\n",
       "  min-width: 20ex;\n",
       "  max-width: 50ex;\n",
       "  color: var(--sklearn-color-text);\n",
       "  box-shadow: 2pt 2pt 4pt #999;\n",
       "  /* unfitted */\n",
       "  background: var(--sklearn-color-unfitted-level-0);\n",
       "  border: .5pt solid var(--sklearn-color-unfitted-level-3);\n",
       "}\n",
       "\n",
       ".sk-estimator-doc-link.fitted span {\n",
       "  /* fitted */\n",
       "  background: var(--sklearn-color-fitted-level-0);\n",
       "  border: var(--sklearn-color-fitted-level-3);\n",
       "}\n",
       "\n",
       ".sk-estimator-doc-link:hover span {\n",
       "  display: block;\n",
       "}\n",
       "\n",
       "/* \"?\"-specific style due to the `<a>` HTML tag */\n",
       "\n",
       "#sk-container-id-6 a.estimator_doc_link {\n",
       "  float: right;\n",
       "  font-size: 1rem;\n",
       "  line-height: 1em;\n",
       "  font-family: monospace;\n",
       "  background-color: var(--sklearn-color-background);\n",
       "  border-radius: 1rem;\n",
       "  height: 1rem;\n",
       "  width: 1rem;\n",
       "  text-decoration: none;\n",
       "  /* unfitted */\n",
       "  color: var(--sklearn-color-unfitted-level-1);\n",
       "  border: var(--sklearn-color-unfitted-level-1) 1pt solid;\n",
       "}\n",
       "\n",
       "#sk-container-id-6 a.estimator_doc_link.fitted {\n",
       "  /* fitted */\n",
       "  border: var(--sklearn-color-fitted-level-1) 1pt solid;\n",
       "  color: var(--sklearn-color-fitted-level-1);\n",
       "}\n",
       "\n",
       "/* On hover */\n",
       "#sk-container-id-6 a.estimator_doc_link:hover {\n",
       "  /* unfitted */\n",
       "  background-color: var(--sklearn-color-unfitted-level-3);\n",
       "  color: var(--sklearn-color-background);\n",
       "  text-decoration: none;\n",
       "}\n",
       "\n",
       "#sk-container-id-6 a.estimator_doc_link.fitted:hover {\n",
       "  /* fitted */\n",
       "  background-color: var(--sklearn-color-fitted-level-3);\n",
       "}\n",
       "</style><div id=\"sk-container-id-6\" class=\"sk-top-container\"><div class=\"sk-text-repr-fallback\"><pre>LogisticRegression()</pre><b>In a Jupyter environment, please rerun this cell to show the HTML representation or trust the notebook. <br />On GitHub, the HTML representation is unable to render, please try loading this page with nbviewer.org.</b></div><div class=\"sk-container\" hidden><div class=\"sk-item\"><div class=\"sk-estimator fitted sk-toggleable\"><input class=\"sk-toggleable__control sk-hidden--visually\" id=\"sk-estimator-id-6\" type=\"checkbox\" checked><label for=\"sk-estimator-id-6\" class=\"sk-toggleable__label fitted sk-toggleable__label-arrow fitted\">&nbsp;&nbsp;LogisticRegression<a class=\"sk-estimator-doc-link fitted\" rel=\"noreferrer\" target=\"_blank\" href=\"https://scikit-learn.org/1.4/modules/generated/sklearn.linear_model.LogisticRegression.html\">?<span>Documentation for LogisticRegression</span></a><span class=\"sk-estimator-doc-link fitted\">i<span>Fitted</span></span></label><div class=\"sk-toggleable__content fitted\"><pre>LogisticRegression()</pre></div> </div></div></div></div>"
      ],
      "text/plain": [
       "LogisticRegression()"
      ]
     },
     "execution_count": 275,
     "metadata": {},
     "output_type": "execute_result"
    }
   ],
   "source": [
    "from sklearn.linear_model import LogisticRegression\n",
    "\n",
    "model = LogisticRegression()\n",
    "model.fit(X_train, y_train)"
   ]
  },
  {
   "cell_type": "markdown",
   "id": "0f31d6a2-5ea7-4f9a-b0f3-0efdf0eb644c",
   "metadata": {},
   "source": [
    "#### Predict Values"
   ]
  },
  {
   "cell_type": "code",
   "execution_count": 276,
   "id": "e74b68f3-6680-492c-aaa0-9d2d4551b650",
   "metadata": {},
   "outputs": [],
   "source": [
    "y_pred = model.predict(X_test)"
   ]
  },
  {
   "cell_type": "markdown",
   "id": "22ec894b-317b-498c-94a9-a2e318468b00",
   "metadata": {},
   "source": [
    "#### Model Evaluation"
   ]
  },
  {
   "cell_type": "markdown",
   "id": "ea5b38d1-d1dc-4762-9bb0-59876cba6c20",
   "metadata": {},
   "source": [
    "#### Accuracy: \n",
    "The proportion of correctly predicted instances (both positive and negative) out of the total number of instances"
   ]
  },
  {
   "cell_type": "code",
   "execution_count": 278,
   "id": "21a5a873-44fe-4c9e-afc1-783443084d91",
   "metadata": {},
   "outputs": [
    {
     "data": {
      "text/plain": [
       "93.32220367278798"
      ]
     },
     "execution_count": 278,
     "metadata": {},
     "output_type": "execute_result"
    }
   ],
   "source": [
    "from sklearn.metrics import accuracy_score\n",
    "accuracy_score(y_test, y_pred) * 100"
   ]
  },
  {
   "cell_type": "markdown",
   "id": "c36a3e3b-c377-453c-a32e-0901c0c7a130",
   "metadata": {},
   "source": [
    "#### Confusion Matrix: \n",
    "A table showing the counts of true positives (TP), true negatives (TN), false positives (FP), and false negatives (FN). From the confusion matrix, other evaluation metrics can be calculated.\n",
    "\n",
    "- Interpreting confusion matrix\n",
    "  \n",
    "    - True Positive (TP): The number of instances that were correctly predicted as positive (or belonging to the positive class) by the model.\n",
    "\n",
    "    - True Negative (TN): The number of instances that were correctly predicted as negative (or belonging to the negative class) by the model.\n",
    "\n",
    "    - False Positive (FP): The number of instances that were incorrectly predicted as positive (predicted positive, but actually negative) by the model. Also known as Type I error.\n",
    "\n",
    "    - False Negative (FN): The number of instances that were incorrectly predicted as negative (predicted negative, but actually positive) by the model. Also known as Type II error."
   ]
  },
  {
   "cell_type": "code",
   "execution_count": 279,
   "id": "3ccfe836-c1bb-46a5-a592-96ecb9ba388d",
   "metadata": {},
   "outputs": [
    {
     "data": {
      "text/plain": [
       "array([[505,   7],\n",
       "       [ 33,  54]], dtype=int64)"
      ]
     },
     "execution_count": 279,
     "metadata": {},
     "output_type": "execute_result"
    }
   ],
   "source": [
    "from sklearn.metrics import confusion_matrix, ConfusionMatrixDisplay\n",
    "\n",
    "confusion_matrix(y_test, y_pred)"
   ]
  },
  {
   "cell_type": "code",
   "execution_count": 280,
   "id": "1acfc2b3-27c6-48fe-9095-1b121724dda2",
   "metadata": {},
   "outputs": [
    {
     "data": {
      "text/plain": [
       "<sklearn.metrics._plot.confusion_matrix.ConfusionMatrixDisplay at 0x2202e545310>"
      ]
     },
     "execution_count": 280,
     "metadata": {},
     "output_type": "execute_result"
    },
    {
     "data": {
      "image/png": "[encoded data removed]",
      "text/plain": [
       "<Figure size 400x300 with 2 Axes>"
      ]
     },
     "metadata": {},
     "output_type": "display_data"
    }
   ],
   "source": [
    "disp = ConfusionMatrixDisplay(confusion_matrix(y_test, y_pred), display_labels=[\"Yes\", \"No\"])\n",
    "disp.plot()"
   ]
  },
  {
   "cell_type": "code",
   "execution_count": 282,
   "id": "0745f781-590d-4369-8bd0-eadfda635e49",
   "metadata": {},
   "outputs": [
    {
     "data": {
      "text/plain": [
       "0.9332220367278798"
      ]
     },
     "execution_count": 282,
     "metadata": {},
     "output_type": "execute_result"
    }
   ],
   "source": [
    "(505+54)/(505+7+33+54)"
   ]
  },
  {
   "cell_type": "markdown",
   "id": "3f7bf4ed-e3bf-4551-b34e-6642ad748f81",
   "metadata": {},
   "source": [
    "### Without using RFE"
   ]
  },
  {
   "cell_type": "markdown",
   "id": "38979da9-64f6-4156-89f2-2c0a21ed9a2d",
   "metadata": {},
   "source": [
    "#### Select Features and Label"
   ]
  },
  {
   "cell_type": "code",
   "execution_count": 302,
   "id": "8367ea58-c5c4-434f-919b-ee3fb17aa689",
   "metadata": {},
   "outputs": [],
   "source": [
    "features = df.drop(columns=[\"Default\"])\n",
    "label = df.Default"
   ]
  },
  {
   "cell_type": "markdown",
   "id": "f936c5ca-86a8-496b-912a-1321ec6879fd",
   "metadata": {},
   "source": [
    "#### Split data into Train and Test"
   ]
  },
  {
   "cell_type": "code",
   "execution_count": 296,
   "id": "8711a313-827d-4e64-bba0-762798828d7f",
   "metadata": {},
   "outputs": [],
   "source": [
    "from sklearn.model_selection import train_test_split\n",
    "\n",
    "X_train, X_test, y_train, y_test = train_test_split(features, label, test_size=0.3, random_state=45)"
   ]
  },
  {
   "cell_type": "markdown",
   "id": "b9dcfc87-08b4-4d71-82aa-6bb357397129",
   "metadata": {},
   "source": [
    "#### Build Logistic Regression Model"
   ]
  },
  {
   "cell_type": "code",
   "execution_count": 297,
   "id": "2270da7a-6ef0-4dac-9fcd-327e3ec1cf87",
   "metadata": {},
   "outputs": [
    {
     "data": {
      "text/html": [
       "<style>#sk-container-id-8 {\n",
       "  /* Definition of color scheme common for light and dark mode */\n",
       "  --sklearn-color-text: black;\n",
       "  --sklearn-color-line: gray;\n",
       "  /* Definition of color scheme for unfitted estimators */\n",
       "  --sklearn-color-unfitted-level-0: #fff5e6;\n",
       "  --sklearn-color-unfitted-level-1: #f6e4d2;\n",
       "  --sklearn-color-unfitted-level-2: #ffe0b3;\n",
       "  --sklearn-color-unfitted-level-3: chocolate;\n",
       "  /* Definition of color scheme for fitted estimators */\n",
       "  --sklearn-color-fitted-level-0: #f0f8ff;\n",
       "  --sklearn-color-fitted-level-1: #d4ebff;\n",
       "  --sklearn-color-fitted-level-2: #b3dbfd;\n",
       "  --sklearn-color-fitted-level-3: cornflowerblue;\n",
       "\n",
       "  /* Specific color for light theme */\n",
       "  --sklearn-color-text-on-default-background: var(--sg-text-color, var(--theme-code-foreground, var(--jp-content-font-color1, black)));\n",
       "  --sklearn-color-background: var(--sg-background-color, var(--theme-background, var(--jp-layout-color0, white)));\n",
       "  --sklearn-color-border-box: var(--sg-text-color, var(--theme-code-foreground, var(--jp-content-font-color1, black)));\n",
       "  --sklearn-color-icon: #696969;\n",
       "\n",
       "  @media (prefers-color-scheme: dark) {\n",
       "    /* Redefinition of color scheme for dark theme */\n",
       "    --sklearn-color-text-on-default-background: var(--sg-text-color, var(--theme-code-foreground, var(--jp-content-font-color1, white)));\n",
       "    --sklearn-color-background: var(--sg-background-color, var(--theme-background, var(--jp-layout-color0, #111)));\n",
       "    --sklearn-color-border-box: var(--sg-text-color, var(--theme-code-foreground, var(--jp-content-font-color1, white)));\n",
       "    --sklearn-color-icon: #878787;\n",
       "  }\n",
       "}\n",
       "\n",
       "#sk-container-id-8 {\n",
       "  color: var(--sklearn-color-text);\n",
       "}\n",
       "\n",
       "#sk-container-id-8 pre {\n",
       "  padding: 0;\n",
       "}\n",
       "\n",
       "#sk-container-id-8 input.sk-hidden--visually {\n",
       "  border: 0;\n",
       "  clip: rect(1px 1px 1px 1px);\n",
       "  clip: rect(1px, 1px, 1px, 1px);\n",
       "  height: 1px;\n",
       "  margin: -1px;\n",
       "  overflow: hidden;\n",
       "  padding: 0;\n",
       "  position: absolute;\n",
       "  width: 1px;\n",
       "}\n",
       "\n",
       "#sk-container-id-8 div.sk-dashed-wrapped {\n",
       "  border: 1px dashed var(--sklearn-color-line);\n",
       "  margin: 0 0.4em 0.5em 0.4em;\n",
       "  box-sizing: border-box;\n",
       "  padding-bottom: 0.4em;\n",
       "  background-color: var(--sklearn-color-background);\n",
       "}\n",
       "\n",
       "#sk-container-id-8 div.sk-container {\n",
       "  /* jupyter's `normalize.less` sets `[hidden] { display: none; }`\n",
       "     but bootstrap.min.css set `[hidden] { display: none !important; }`\n",
       "     so we also need the `!important` here to be able to override the\n",
       "     default hidden behavior on the sphinx rendered scikit-learn.org.\n",
       "     See: https://github.com/scikit-learn/scikit-learn/issues/21755 */\n",
       "  display: inline-block !important;\n",
       "  position: relative;\n",
       "}\n",
       "\n",
       "#sk-container-id-8 div.sk-text-repr-fallback {\n",
       "  display: none;\n",
       "}\n",
       "\n",
       "div.sk-parallel-item,\n",
       "div.sk-serial,\n",
       "div.sk-item {\n",
       "  /* draw centered vertical line to link estimators */\n",
       "  background-image: linear-gradient(var(--sklearn-color-text-on-default-background), var(--sklearn-color-text-on-default-background));\n",
       "  background-size: 2px 100%;\n",
       "  background-repeat: no-repeat;\n",
       "  background-position: center center;\n",
       "}\n",
       "\n",
       "/* Parallel-specific style estimator block */\n",
       "\n",
       "#sk-container-id-8 div.sk-parallel-item::after {\n",
       "  content: \"\";\n",
       "  width: 100%;\n",
       "  border-bottom: 2px solid var(--sklearn-color-text-on-default-background);\n",
       "  flex-grow: 1;\n",
       "}\n",
       "\n",
       "#sk-container-id-8 div.sk-parallel {\n",
       "  display: flex;\n",
       "  align-items: stretch;\n",
       "  justify-content: center;\n",
       "  background-color: var(--sklearn-color-background);\n",
       "  position: relative;\n",
       "}\n",
       "\n",
       "#sk-container-id-8 div.sk-parallel-item {\n",
       "  display: flex;\n",
       "  flex-direction: column;\n",
       "}\n",
       "\n",
       "#sk-container-id-8 div.sk-parallel-item:first-child::after {\n",
       "  align-self: flex-end;\n",
       "  width: 50%;\n",
       "}\n",
       "\n",
       "#sk-container-id-8 div.sk-parallel-item:last-child::after {\n",
       "  align-self: flex-start;\n",
       "  width: 50%;\n",
       "}\n",
       "\n",
       "#sk-container-id-8 div.sk-parallel-item:only-child::after {\n",
       "  width: 0;\n",
       "}\n",
       "\n",
       "/* Serial-specific style estimator block */\n",
       "\n",
       "#sk-container-id-8 div.sk-serial {\n",
       "  display: flex;\n",
       "  flex-direction: column;\n",
       "  align-items: center;\n",
       "  background-color: var(--sklearn-color-background);\n",
       "  padding-right: 1em;\n",
       "  padding-left: 1em;\n",
       "}\n",
       "\n",
       "\n",
       "/* Toggleable style: style used for estimator/Pipeline/ColumnTransformer box that is\n",
       "clickable and can be expanded/collapsed.\n",
       "- Pipeline and ColumnTransformer use this feature and define the default style\n",
       "- Estimators will overwrite some part of the style using the `sk-estimator` class\n",
       "*/\n",
       "\n",
       "/* Pipeline and ColumnTransformer style (default) */\n",
       "\n",
       "#sk-container-id-8 div.sk-toggleable {\n",
       "  /* Default theme specific background. It is overwritten whether we have a\n",
       "  specific estimator or a Pipeline/ColumnTransformer */\n",
       "  background-color: var(--sklearn-color-background);\n",
       "}\n",
       "\n",
       "/* Toggleable label */\n",
       "#sk-container-id-8 label.sk-toggleable__label {\n",
       "  cursor: pointer;\n",
       "  display: block;\n",
       "  width: 100%;\n",
       "  margin-bottom: 0;\n",
       "  padding: 0.5em;\n",
       "  box-sizing: border-box;\n",
       "  text-align: center;\n",
       "}\n",
       "\n",
       "#sk-container-id-8 label.sk-toggleable__label-arrow:before {\n",
       "  /* Arrow on the left of the label */\n",
       "  content: \"▸\";\n",
       "  float: left;\n",
       "  margin-right: 0.25em;\n",
       "  color: var(--sklearn-color-icon);\n",
       "}\n",
       "\n",
       "#sk-container-id-8 label.sk-toggleable__label-arrow:hover:before {\n",
       "  color: var(--sklearn-color-text);\n",
       "}\n",
       "\n",
       "/* Toggleable content - dropdown */\n",
       "\n",
       "#sk-container-id-8 div.sk-toggleable__content {\n",
       "  max-height: 0;\n",
       "  max-width: 0;\n",
       "  overflow: hidden;\n",
       "  text-align: left;\n",
       "  /* unfitted */\n",
       "  background-color: var(--sklearn-color-unfitted-level-0);\n",
       "}\n",
       "\n",
       "#sk-container-id-8 div.sk-toggleable__content.fitted {\n",
       "  /* fitted */\n",
       "  background-color: var(--sklearn-color-fitted-level-0);\n",
       "}\n",
       "\n",
       "#sk-container-id-8 div.sk-toggleable__content pre {\n",
       "  margin: 0.2em;\n",
       "  border-radius: 0.25em;\n",
       "  color: var(--sklearn-color-text);\n",
       "  /* unfitted */\n",
       "  background-color: var(--sklearn-color-unfitted-level-0);\n",
       "}\n",
       "\n",
       "#sk-container-id-8 div.sk-toggleable__content.fitted pre {\n",
       "  /* unfitted */\n",
       "  background-color: var(--sklearn-color-fitted-level-0);\n",
       "}\n",
       "\n",
       "#sk-container-id-8 input.sk-toggleable__control:checked~div.sk-toggleable__content {\n",
       "  /* Expand drop-down */\n",
       "  max-height: 200px;\n",
       "  max-width: 100%;\n",
       "  overflow: auto;\n",
       "}\n",
       "\n",
       "#sk-container-id-8 input.sk-toggleable__control:checked~label.sk-toggleable__label-arrow:before {\n",
       "  content: \"▾\";\n",
       "}\n",
       "\n",
       "/* Pipeline/ColumnTransformer-specific style */\n",
       "\n",
       "#sk-container-id-8 div.sk-label input.sk-toggleable__control:checked~label.sk-toggleable__label {\n",
       "  color: var(--sklearn-color-text);\n",
       "  background-color: var(--sklearn-color-unfitted-level-2);\n",
       "}\n",
       "\n",
       "#sk-container-id-8 div.sk-label.fitted input.sk-toggleable__control:checked~label.sk-toggleable__label {\n",
       "  background-color: var(--sklearn-color-fitted-level-2);\n",
       "}\n",
       "\n",
       "/* Estimator-specific style */\n",
       "\n",
       "/* Colorize estimator box */\n",
       "#sk-container-id-8 div.sk-estimator input.sk-toggleable__control:checked~label.sk-toggleable__label {\n",
       "  /* unfitted */\n",
       "  background-color: var(--sklearn-color-unfitted-level-2);\n",
       "}\n",
       "\n",
       "#sk-container-id-8 div.sk-estimator.fitted input.sk-toggleable__control:checked~label.sk-toggleable__label {\n",
       "  /* fitted */\n",
       "  background-color: var(--sklearn-color-fitted-level-2);\n",
       "}\n",
       "\n",
       "#sk-container-id-8 div.sk-label label.sk-toggleable__label,\n",
       "#sk-container-id-8 div.sk-label label {\n",
       "  /* The background is the default theme color */\n",
       "  color: var(--sklearn-color-text-on-default-background);\n",
       "}\n",
       "\n",
       "/* On hover, darken the color of the background */\n",
       "#sk-container-id-8 div.sk-label:hover label.sk-toggleable__label {\n",
       "  color: var(--sklearn-color-text);\n",
       "  background-color: var(--sklearn-color-unfitted-level-2);\n",
       "}\n",
       "\n",
       "/* Label box, darken color on hover, fitted */\n",
       "#sk-container-id-8 div.sk-label.fitted:hover label.sk-toggleable__label.fitted {\n",
       "  color: var(--sklearn-color-text);\n",
       "  background-color: var(--sklearn-color-fitted-level-2);\n",
       "}\n",
       "\n",
       "/* Estimator label */\n",
       "\n",
       "#sk-container-id-8 div.sk-label label {\n",
       "  font-family: monospace;\n",
       "  font-weight: bold;\n",
       "  display: inline-block;\n",
       "  line-height: 1.2em;\n",
       "}\n",
       "\n",
       "#sk-container-id-8 div.sk-label-container {\n",
       "  text-align: center;\n",
       "}\n",
       "\n",
       "/* Estimator-specific */\n",
       "#sk-container-id-8 div.sk-estimator {\n",
       "  font-family: monospace;\n",
       "  border: 1px dotted var(--sklearn-color-border-box);\n",
       "  border-radius: 0.25em;\n",
       "  box-sizing: border-box;\n",
       "  margin-bottom: 0.5em;\n",
       "  /* unfitted */\n",
       "  background-color: var(--sklearn-color-unfitted-level-0);\n",
       "}\n",
       "\n",
       "#sk-container-id-8 div.sk-estimator.fitted {\n",
       "  /* fitted */\n",
       "  background-color: var(--sklearn-color-fitted-level-0);\n",
       "}\n",
       "\n",
       "/* on hover */\n",
       "#sk-container-id-8 div.sk-estimator:hover {\n",
       "  /* unfitted */\n",
       "  background-color: var(--sklearn-color-unfitted-level-2);\n",
       "}\n",
       "\n",
       "#sk-container-id-8 div.sk-estimator.fitted:hover {\n",
       "  /* fitted */\n",
       "  background-color: var(--sklearn-color-fitted-level-2);\n",
       "}\n",
       "\n",
       "/* Specification for estimator info (e.g. \"i\" and \"?\") */\n",
       "\n",
       "/* Common style for \"i\" and \"?\" */\n",
       "\n",
       ".sk-estimator-doc-link,\n",
       "a:link.sk-estimator-doc-link,\n",
       "a:visited.sk-estimator-doc-link {\n",
       "  float: right;\n",
       "  font-size: smaller;\n",
       "  line-height: 1em;\n",
       "  font-family: monospace;\n",
       "  background-color: var(--sklearn-color-background);\n",
       "  border-radius: 1em;\n",
       "  height: 1em;\n",
       "  width: 1em;\n",
       "  text-decoration: none !important;\n",
       "  margin-left: 1ex;\n",
       "  /* unfitted */\n",
       "  border: var(--sklearn-color-unfitted-level-1) 1pt solid;\n",
       "  color: var(--sklearn-color-unfitted-level-1);\n",
       "}\n",
       "\n",
       ".sk-estimator-doc-link.fitted,\n",
       "a:link.sk-estimator-doc-link.fitted,\n",
       "a:visited.sk-estimator-doc-link.fitted {\n",
       "  /* fitted */\n",
       "  border: var(--sklearn-color-fitted-level-1) 1pt solid;\n",
       "  color: var(--sklearn-color-fitted-level-1);\n",
       "}\n",
       "\n",
       "/* On hover */\n",
       "div.sk-estimator:hover .sk-estimator-doc-link:hover,\n",
       ".sk-estimator-doc-link:hover,\n",
       "div.sk-label-container:hover .sk-estimator-doc-link:hover,\n",
       ".sk-estimator-doc-link:hover {\n",
       "  /* unfitted */\n",
       "  background-color: var(--sklearn-color-unfitted-level-3);\n",
       "  color: var(--sklearn-color-background);\n",
       "  text-decoration: none;\n",
       "}\n",
       "\n",
       "div.sk-estimator.fitted:hover .sk-estimator-doc-link.fitted:hover,\n",
       ".sk-estimator-doc-link.fitted:hover,\n",
       "div.sk-label-container:hover .sk-estimator-doc-link.fitted:hover,\n",
       ".sk-estimator-doc-link.fitted:hover {\n",
       "  /* fitted */\n",
       "  background-color: var(--sklearn-color-fitted-level-3);\n",
       "  color: var(--sklearn-color-background);\n",
       "  text-decoration: none;\n",
       "}\n",
       "\n",
       "/* Span, style for the box shown on hovering the info icon */\n",
       ".sk-estimator-doc-link span {\n",
       "  display: none;\n",
       "  z-index: 9999;\n",
       "  position: relative;\n",
       "  font-weight: normal;\n",
       "  right: .2ex;\n",
       "  padding: .5ex;\n",
       "  margin: .5ex;\n",
       "  width: min-content;\n",
       "  min-width: 20ex;\n",
       "  max-width: 50ex;\n",
       "  color: var(--sklearn-color-text);\n",
       "  box-shadow: 2pt 2pt 4pt #999;\n",
       "  /* unfitted */\n",
       "  background: var(--sklearn-color-unfitted-level-0);\n",
       "  border: .5pt solid var(--sklearn-color-unfitted-level-3);\n",
       "}\n",
       "\n",
       ".sk-estimator-doc-link.fitted span {\n",
       "  /* fitted */\n",
       "  background: var(--sklearn-color-fitted-level-0);\n",
       "  border: var(--sklearn-color-fitted-level-3);\n",
       "}\n",
       "\n",
       ".sk-estimator-doc-link:hover span {\n",
       "  display: block;\n",
       "}\n",
       "\n",
       "/* \"?\"-specific style due to the `<a>` HTML tag */\n",
       "\n",
       "#sk-container-id-8 a.estimator_doc_link {\n",
       "  float: right;\n",
       "  font-size: 1rem;\n",
       "  line-height: 1em;\n",
       "  font-family: monospace;\n",
       "  background-color: var(--sklearn-color-background);\n",
       "  border-radius: 1rem;\n",
       "  height: 1rem;\n",
       "  width: 1rem;\n",
       "  text-decoration: none;\n",
       "  /* unfitted */\n",
       "  color: var(--sklearn-color-unfitted-level-1);\n",
       "  border: var(--sklearn-color-unfitted-level-1) 1pt solid;\n",
       "}\n",
       "\n",
       "#sk-container-id-8 a.estimator_doc_link.fitted {\n",
       "  /* fitted */\n",
       "  border: var(--sklearn-color-fitted-level-1) 1pt solid;\n",
       "  color: var(--sklearn-color-fitted-level-1);\n",
       "}\n",
       "\n",
       "/* On hover */\n",
       "#sk-container-id-8 a.estimator_doc_link:hover {\n",
       "  /* unfitted */\n",
       "  background-color: var(--sklearn-color-unfitted-level-3);\n",
       "  color: var(--sklearn-color-background);\n",
       "  text-decoration: none;\n",
       "}\n",
       "\n",
       "#sk-container-id-8 a.estimator_doc_link.fitted:hover {\n",
       "  /* fitted */\n",
       "  background-color: var(--sklearn-color-fitted-level-3);\n",
       "}\n",
       "</style><div id=\"sk-container-id-8\" class=\"sk-top-container\"><div class=\"sk-text-repr-fallback\"><pre>LogisticRegression()</pre><b>In a Jupyter environment, please rerun this cell to show the HTML representation or trust the notebook. <br />On GitHub, the HTML representation is unable to render, please try loading this page with nbviewer.org.</b></div><div class=\"sk-container\" hidden><div class=\"sk-item\"><div class=\"sk-estimator fitted sk-toggleable\"><input class=\"sk-toggleable__control sk-hidden--visually\" id=\"sk-estimator-id-8\" type=\"checkbox\" checked><label for=\"sk-estimator-id-8\" class=\"sk-toggleable__label fitted sk-toggleable__label-arrow fitted\">&nbsp;&nbsp;LogisticRegression<a class=\"sk-estimator-doc-link fitted\" rel=\"noreferrer\" target=\"_blank\" href=\"https://scikit-learn.org/1.4/modules/generated/sklearn.linear_model.LogisticRegression.html\">?<span>Documentation for LogisticRegression</span></a><span class=\"sk-estimator-doc-link fitted\">i<span>Fitted</span></span></label><div class=\"sk-toggleable__content fitted\"><pre>LogisticRegression()</pre></div> </div></div></div></div>"
      ],
      "text/plain": [
       "LogisticRegression()"
      ]
     },
     "execution_count": 297,
     "metadata": {},
     "output_type": "execute_result"
    }
   ],
   "source": [
    "from sklearn.linear_model import LogisticRegression\n",
    "\n",
    "model = LogisticRegression()\n",
    "model.fit(X_train, y_train)"
   ]
  },
  {
   "cell_type": "markdown",
   "id": "86021a33-b0b8-403c-ac50-5c1214a15d96",
   "metadata": {},
   "source": [
    "#### Predict Values"
   ]
  },
  {
   "cell_type": "code",
   "execution_count": 298,
   "id": "6fd76899-05fc-4c52-8a36-7d71ec417ebb",
   "metadata": {},
   "outputs": [],
   "source": [
    "y_pred = model.predict(X_test)"
   ]
  },
  {
   "cell_type": "markdown",
   "id": "9b769d7e-20ab-4923-92f7-00de24903f6c",
   "metadata": {},
   "source": [
    "#### Model Evaluation"
   ]
  },
  {
   "cell_type": "markdown",
   "id": "a1ddaf25-b020-4be7-b465-ad85bf66ab9f",
   "metadata": {},
   "source": [
    "#### Accuracy: \n",
    "The proportion of correctly predicted instances (both positive and negative) out of the total number of instances"
   ]
  },
  {
   "cell_type": "code",
   "execution_count": 299,
   "id": "81835b67-fdde-4270-87ed-b91e81f97fbc",
   "metadata": {},
   "outputs": [
    {
     "data": {
      "text/plain": [
       "93.15525876460768"
      ]
     },
     "execution_count": 299,
     "metadata": {},
     "output_type": "execute_result"
    }
   ],
   "source": [
    "from sklearn.metrics import accuracy_score\n",
    "accuracy_score(y_test, y_pred) * 100"
   ]
  },
  {
   "cell_type": "markdown",
   "id": "8fd24d3e-897f-47dd-8693-a6d275fcfdc2",
   "metadata": {},
   "source": [
    "#### Confusion Matrix: \n",
    "A table showing the counts of true positives (TP), true negatives (TN), false positives (FP), and false negatives (FN). From the confusion matrix, other evaluation metrics can be calculated.\n",
    "\n",
    "- Interpreting confusion matrix\n",
    "  \n",
    "    - True Positive (TP): The number of instances that were correctly predicted as positive (or belonging to the positive class) by the model.\n",
    "\n",
    "    - True Negative (TN): The number of instances that were correctly predicted as negative (or belonging to the negative class) by the model.\n",
    "\n",
    "    - False Positive (FP): The number of instances that were incorrectly predicted as positive (predicted positive, but actually negative) by the model. Also known as Type I error.\n",
    "\n",
    "    - False Negative (FN): The number of instances that were incorrectly predicted as negative (predicted negative, but actually positive) by the model. Also known as Type II error."
   ]
  },
  {
   "cell_type": "code",
   "execution_count": 300,
   "id": "563d99eb-b3be-41f3-a374-73824d7535da",
   "metadata": {},
   "outputs": [
    {
     "data": {
      "text/plain": [
       "array([[504,   8],\n",
       "       [ 33,  54]], dtype=int64)"
      ]
     },
     "execution_count": 300,
     "metadata": {},
     "output_type": "execute_result"
    }
   ],
   "source": [
    "from sklearn.metrics import confusion_matrix, ConfusionMatrixDisplay\n",
    "\n",
    "confusion_matrix(y_test, y_pred)"
   ]
  },
  {
   "cell_type": "code",
   "execution_count": 301,
   "id": "7b072098-8b65-4c4a-8460-89f01d60a1d4",
   "metadata": {},
   "outputs": [
    {
     "data": {
      "text/plain": [
       "<sklearn.metrics._plot.confusion_matrix.ConfusionMatrixDisplay at 0x2202e61bdd0>"
      ]
     },
     "execution_count": 301,
     "metadata": {},
     "output_type": "execute_result"
    },
    {
     "data": {
      "image/png": "[encoded data removed]",
      "text/plain": [
       "<Figure size 400x300 with 2 Axes>"
      ]
     },
     "metadata": {},
     "output_type": "display_data"
    }
   ],
   "source": [
    "disp = ConfusionMatrixDisplay(confusion_matrix(y_test, y_pred), display_labels=[\"Yes\", \"No\"])\n",
    "disp.plot()"
   ]
  },
  {
   "cell_type": "code",
   "execution_count": null,
   "id": "7085a43b-6d1e-4a54-bc99-488755ceefa5",
   "metadata": {},
   "outputs": [],
   "source": []
  },
  {
   "cell_type": "code",
   "execution_count": null,
   "id": "f379f3c9-e78d-42e9-bd91-f73a863b0005",
   "metadata": {},
   "outputs": [],
   "source": []
  },
  {
   "cell_type": "code",
   "execution_count": null,
   "id": "7a040cbb-06d6-43dd-9884-a8d9c681099c",
   "metadata": {},
   "outputs": [],
   "source": []
  },
  {
   "cell_type": "code",
   "execution_count": null,
   "id": "9d2c5ed0-9db3-4bbd-afe9-d3a341312020",
   "metadata": {},
   "outputs": [],
   "source": []
  },
  {
   "cell_type": "code",
   "execution_count": null,
   "id": "5906d09d-74d9-4d91-9851-eaaa894ba357",
   "metadata": {},
   "outputs": [],
   "source": []
  },
  {
   "cell_type": "code",
   "execution_count": null,
   "id": "5d83b854-8adc-4fb1-8677-e40ae1bc28fb",
   "metadata": {},
   "outputs": [],
   "source": []
  },
  {
   "cell_type": "code",
   "execution_count": null,
   "id": "2b961faf-fae5-4371-83d6-0e9e0a6e803e",
   "metadata": {},
   "outputs": [],
   "source": []
  },
  {
   "cell_type": "code",
   "execution_count": null,
   "id": "f42f6488-2e2e-41c9-b73d-0c086561d6d8",
   "metadata": {},
   "outputs": [],
   "source": []
  },
  {
   "cell_type": "code",
   "execution_count": null,
   "id": "eab8460a-5e0c-4b4b-9ee2-216a0d894f75",
   "metadata": {},
   "outputs": [],
   "source": []
  },
  {
   "cell_type": "code",
   "execution_count": null,
   "id": "cd936920-905e-4cdd-ab65-12e6d344abcc",
   "metadata": {},
   "outputs": [],
   "source": []
  },
  {
   "cell_type": "code",
   "execution_count": null,
   "id": "e20de920-966f-4f8c-b951-30d77812939f",
   "metadata": {},
   "outputs": [],
   "source": []
  },
  {
   "cell_type": "code",
   "execution_count": null,
   "id": "8805976f-eda9-4471-9527-1273328e9a8d",
   "metadata": {},
   "outputs": [],
   "source": []
  },
  {
   "cell_type": "code",
   "execution_count": null,
   "id": "48e0e28d-1046-4038-9520-b013e1853148",
   "metadata": {},
   "outputs": [],
   "source": []
  },
  {
   "cell_type": "code",
   "execution_count": null,
   "id": "52e01b95-06ad-41e7-8600-9f600566deb2",
   "metadata": {},
   "outputs": [],
   "source": []
  },
  {
   "cell_type": "code",
   "execution_count": null,
   "id": "761afeb3-1c37-454b-b851-a7e2725f21f7",
   "metadata": {},
   "outputs": [],
   "source": []
  },
  {
   "cell_type": "code",
   "execution_count": null,
   "id": "3cd889bf-c356-48ad-b3f9-705de43b82f7",
   "metadata": {},
   "outputs": [],
   "source": []
  },
  {
   "cell_type": "code",
   "execution_count": null,
   "id": "9a1d4304-685d-4fff-880c-bf77d3313f01",
   "metadata": {},
   "outputs": [],
   "source": []
  },
  {
   "cell_type": "code",
   "execution_count": null,
   "id": "9b16bdbc-c94a-44b5-9f7f-a4f355fe3d1d",
   "metadata": {},
   "outputs": [],
   "source": []
  },
  {
   "cell_type": "code",
   "execution_count": null,
   "id": "05b59be4-d1e3-410a-9c80-9f39f01dfd42",
   "metadata": {},
   "outputs": [],
   "source": []
  },
  {
   "cell_type": "code",
   "execution_count": null,
   "id": "395a73f5-fa12-42ab-895b-97bcf8c31a3f",
   "metadata": {},
   "outputs": [],
   "source": []
  },
  {
   "cell_type": "code",
   "execution_count": null,
   "id": "ce525591-5579-4226-b835-c3496d97d070",
   "metadata": {},
   "outputs": [],
   "source": []
  },
  {
   "cell_type": "code",
   "execution_count": null,
   "id": "62a54e82-3814-4d8f-9daf-74f92b662d2d",
   "metadata": {},
   "outputs": [],
   "source": []
  },
  {
   "cell_type": "code",
   "execution_count": null,
   "id": "02f73826-d4e6-4a35-98af-bd805513ccc3",
   "metadata": {},
   "outputs": [],
   "source": []
  },
  {
   "cell_type": "code",
   "execution_count": null,
   "id": "9d158c8d-54b5-42ec-8848-40bb127a26ce",
   "metadata": {},
   "outputs": [],
   "source": []
  },
  {
   "cell_type": "code",
   "execution_count": null,
   "id": "025be169-adea-4326-b453-e560c20e6a9d",
   "metadata": {},
   "outputs": [],
   "source": []
  },
  {
   "cell_type": "code",
   "execution_count": null,
   "id": "7e4ee625-cdef-44a8-94c7-933b32002860",
   "metadata": {},
   "outputs": [],
   "source": []
  },
  {
   "cell_type": "code",
   "execution_count": null,
   "id": "862cf4b9-cdae-414c-bfa2-2005a21983c1",
   "metadata": {},
   "outputs": [],
   "source": []
  },
  {
   "cell_type": "code",
   "execution_count": null,
   "id": "fe9d8e10-8efd-4d3f-9b59-7eeaa5e502eb",
   "metadata": {},
   "outputs": [],
   "source": []
  },
  {
   "cell_type": "code",
   "execution_count": null,
   "id": "3226a668-83c0-4366-b1fb-6165d415832c",
   "metadata": {},
   "outputs": [],
   "source": []
  },
  {
   "cell_type": "code",
   "execution_count": null,
   "id": "2c6bd7c1-dad4-41b9-8984-977dd4967129",
   "metadata": {},
   "outputs": [],
   "source": []
  },
  {
   "cell_type": "code",
   "execution_count": null,
   "id": "90207e43-2a71-4ad2-a5e8-7ca75c0b13c7",
   "metadata": {},
   "outputs": [],
   "source": []
  },
  {
   "cell_type": "code",
   "execution_count": null,
   "id": "23556ada-3dd3-4db3-8388-d04581a2e2a9",
   "metadata": {},
   "outputs": [],
   "source": []
  },
  {
   "cell_type": "code",
   "execution_count": null,
   "id": "7bb080a7-bdfa-4e46-8226-ce6cfc26116a",
   "metadata": {},
   "outputs": [],
   "source": []
  },
  {
   "cell_type": "code",
   "execution_count": null,
   "id": "c6ac7fe0-cdf4-4443-b756-0a3c9c3f83bf",
   "metadata": {},
   "outputs": [],
   "source": []
  },
  {
   "cell_type": "code",
   "execution_count": null,
   "id": "852876df-9771-472f-aefb-233328b50023",
   "metadata": {},
   "outputs": [],
   "source": []
  },
  {
   "cell_type": "code",
   "execution_count": null,
   "id": "9c807c20-0c98-483a-b223-20bee2685bc5",
   "metadata": {},
   "outputs": [],
   "source": []
  },
  {
   "cell_type": "markdown",
   "id": "09bea05d-6cb3-4d34-ba77-86dc7ffcc15a",
   "metadata": {},
   "source": []
  },
  {
   "cell_type": "code",
   "execution_count": null,
   "id": "2c54ac96-32b7-40e3-8659-359b96db69e6",
   "metadata": {},
   "outputs": [],
   "source": []
  },
  {
   "cell_type": "code",
   "execution_count": null,
   "id": "e0c9ed69-c911-42ca-86d7-1dd4dcbdb1b1",
   "metadata": {},
   "outputs": [],
   "source": []
  },
  {
   "cell_type": "code",
   "execution_count": null,
   "id": "d864c79f-a1bb-403f-9ea4-b4f3b201ef84",
   "metadata": {},
   "outputs": [],
   "source": []
  },
  {
   "cell_type": "code",
   "execution_count": null,
   "id": "e40a20cb-31f2-4c0b-8ab8-85e42ccf258c",
   "metadata": {},
   "outputs": [],
   "source": []
  },
  {
   "cell_type": "code",
   "execution_count": null,
   "id": "0f7ed966-0aba-4c1a-9afc-cc0e85e37630",
   "metadata": {},
   "outputs": [],
   "source": []
  },
  {
   "cell_type": "code",
   "execution_count": null,
   "id": "40491e7b-f385-4c38-a312-80dcef1336fc",
   "metadata": {},
   "outputs": [],
   "source": []
  }
 ],
 "metadata": {
  "kernelspec": {
   "display_name": "Python 3 (ipykernel)",
   "language": "python",
   "name": "python3"
  },
  "language_info": {
   "codemirror_mode": {
    "name": "ipython",
    "version": 3
   },
   "file_extension": ".py",
   "mimetype": "text/x-python",
   "name": "python",
   "nbconvert_exporter": "python",
   "pygments_lexer": "ipython3",
   "version": "3.11.4"
  }
 },
 "nbformat": 4,
 "nbformat_minor": 5
}
