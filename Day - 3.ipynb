{
 "cells": [
  {
   "cell_type": "markdown",
   "id": "ab85e60d-aec8-4fce-ae80-7a65839ed8c3",
   "metadata": {},
   "source": [
    "## Arrays Datastructure"
   ]
  },
  {
   "cell_type": "code",
   "execution_count": 1,
   "id": "03cfe0eb-d8bb-4843-852d-60134d41fe05",
   "metadata": {},
   "outputs": [],
   "source": [
    "import numpy as np"
   ]
  },
  {
   "cell_type": "code",
   "execution_count": 3,
   "id": "912817a7-75ea-43bf-bff7-bc2399a4950e",
   "metadata": {},
   "outputs": [],
   "source": [
    "names = np.array(['Claire', 'Darrin', 'Sean', 'Brosina', 'Andrew', 'Irene', 'Harold', 'Pete', 'Alejandro', 'Zuschuss', 'Ken', 'Sandra', 'Emily', 'Eric','Tracy', 'Matt', 'Gene', 'Steve', 'Linda', 'Ruben', 'Erin', 'Odella', 'Patrick', 'Lena', 'Darren', 'Janet', 'Ted', 'Kunst', 'Paul', 'Brendan'])\n",
    "ages = np.array([35, 26, 36, 44, 33, 33, 23, 22, 35, 53, 25, 41, 24, 31, 34, 43, 22, 29, 35, 25, 47, 22, 26, 52, 25, 25, 27, 24, 27, 30])\n",
    "salary = np.array([ 88962,  67659, 117501, 149957,  32212,  63391,  14438,  22445, 72287, 195588,  17240, 115116,  18027,  55891, 109132,  83327, 22125,  29324,  54003,  18390, 141401,  19593,  57093, 130556, 22093,  13058,  26180,  23259,  34248,  27416])\n",
    "designation = np.array(['Manager', 'Team Lead', 'Manager', 'Senior Manager', 'Team Lead', 'Team Lead', 'Developer', 'Developer', 'Team Lead', 'Managing Director', 'Developer', 'Manager', 'Developer','Team Lead', 'Manager', 'Manager', 'Developer', 'Team Lead','Team Lead', 'Developer', 'Senior Manager', 'Developer', 'Team Lead', 'Senior Manager', 'Developer', 'Developer','Team Lead', 'Developer', 'Team Lead', 'Team Lead'])"
   ]
  },
  {
   "cell_type": "markdown",
   "id": "14bdf2d2-703b-48dd-b101-457c1addd0fd",
   "metadata": {},
   "source": [
    "### Indexing and Slicing on arrays"
   ]
  },
  {
   "cell_type": "code",
   "execution_count": 33,
   "id": "49d7f950-703b-4dc2-badc-7122d437b5ad",
   "metadata": {},
   "outputs": [
    {
     "data": {
      "text/plain": [
       "array([45, 12, 29, 27, 26, 22, 41, 10, 19, 10], dtype=int32)"
      ]
     },
     "execution_count": 33,
     "metadata": {},
     "output_type": "execute_result"
    }
   ],
   "source": [
    "arr = np.random.randint(5, 50, 10)\n",
    "arr"
   ]
  },
  {
   "cell_type": "code",
   "execution_count": 37,
   "id": "f9c14fcc-a65b-42cd-a71c-8e13ed5fe05a",
   "metadata": {},
   "outputs": [
    {
     "data": {
      "text/plain": [
       "np.int32(29)"
      ]
     },
     "execution_count": 37,
     "metadata": {},
     "output_type": "execute_result"
    }
   ],
   "source": [
    "arr[2]"
   ]
  },
  {
   "cell_type": "code",
   "execution_count": 38,
   "id": "d80634d8-bb6f-4386-91be-efa98452e1d9",
   "metadata": {},
   "outputs": [
    {
     "data": {
      "text/plain": [
       "np.int32(19)"
      ]
     },
     "execution_count": 38,
     "metadata": {},
     "output_type": "execute_result"
    }
   ],
   "source": [
    "arr[-2]"
   ]
  },
  {
   "cell_type": "code",
   "execution_count": 39,
   "id": "5f9a5fc5-6f7c-471f-ba56-a5d6db59799b",
   "metadata": {},
   "outputs": [
    {
     "data": {
      "text/plain": [
       "array([45, 12, 29], dtype=int32)"
      ]
     },
     "execution_count": 39,
     "metadata": {},
     "output_type": "execute_result"
    }
   ],
   "source": [
    "arr[0:3]"
   ]
  },
  {
   "cell_type": "code",
   "execution_count": 40,
   "id": "064ed443-5fc2-4960-bc62-46e0225769d0",
   "metadata": {},
   "outputs": [
    {
     "data": {
      "text/plain": [
       "array([22, 41, 10, 19, 10], dtype=int32)"
      ]
     },
     "execution_count": 40,
     "metadata": {},
     "output_type": "execute_result"
    }
   ],
   "source": [
    "arr[-5:]"
   ]
  },
  {
   "cell_type": "code",
   "execution_count": 42,
   "id": "dbc2f379-0f9f-4452-bc24-0a21efb3b7af",
   "metadata": {},
   "outputs": [
    {
     "data": {
      "text/plain": [
       "array([27, 12, 41], dtype=int32)"
      ]
     },
     "execution_count": 42,
     "metadata": {},
     "output_type": "execute_result"
    }
   ],
   "source": [
    "arr[[3, 1, 6]]"
   ]
  },
  {
   "cell_type": "code",
   "execution_count": 43,
   "id": "bdfa88f9-2443-4e45-b9fb-542502d68c52",
   "metadata": {},
   "outputs": [
    {
     "data": {
      "text/plain": [
       "array([[12, 22,  9],\n",
       "       [37,  7, 17],\n",
       "       [41,  6, 35],\n",
       "       [19, 25, 43]], dtype=int32)"
      ]
     },
     "execution_count": 43,
     "metadata": {},
     "output_type": "execute_result"
    }
   ],
   "source": [
    "arr = np.random.randint(5, 50, (4, 3))\n",
    "arr"
   ]
  },
  {
   "cell_type": "code",
   "execution_count": 44,
   "id": "64583955-e2b5-41c6-93e1-4d1d2b50757f",
   "metadata": {},
   "outputs": [
    {
     "data": {
      "text/plain": [
       "np.int32(17)"
      ]
     },
     "execution_count": 44,
     "metadata": {},
     "output_type": "execute_result"
    }
   ],
   "source": [
    "arr[1, 2]"
   ]
  },
  {
   "cell_type": "code",
   "execution_count": 45,
   "id": "e8f21a52-cf0e-4ed0-9df9-89957b2db90a",
   "metadata": {},
   "outputs": [
    {
     "data": {
      "text/plain": [
       "array([[12, 22,  9],\n",
       "       [37,  7, 17]], dtype=int32)"
      ]
     },
     "execution_count": 45,
     "metadata": {},
     "output_type": "execute_result"
    }
   ],
   "source": [
    "arr[0:2, :] # first 2 rows"
   ]
  },
  {
   "cell_type": "code",
   "execution_count": 46,
   "id": "6b1c8610-2c9f-471c-9aa7-da285d3a6156",
   "metadata": {},
   "outputs": [
    {
     "data": {
      "text/plain": [
       "array([[37,  7, 17],\n",
       "       [19, 25, 43]], dtype=int32)"
      ]
     },
     "execution_count": 46,
     "metadata": {},
     "output_type": "execute_result"
    }
   ],
   "source": [
    "arr[[1, 3], :] # Row index 1 and 3 and all columns"
   ]
  },
  {
   "cell_type": "code",
   "execution_count": 46,
   "id": "89bfc991-9e17-4ff6-8e8e-03a8d910537b",
   "metadata": {},
   "outputs": [
    {
     "data": {
      "text/plain": [
       "array([[37,  7, 17],\n",
       "       [19, 25, 43]], dtype=int32)"
      ]
     },
     "execution_count": 46,
     "metadata": {},
     "output_type": "execute_result"
    }
   ],
   "source": [
    "arr[[1, 3]] # : for columns is not mandatory here"
   ]
  },
  {
   "cell_type": "code",
   "execution_count": 49,
   "id": "de348de1-96bc-4552-9f72-6dd8cf380820",
   "metadata": {},
   "outputs": [
    {
     "data": {
      "text/plain": [
       "array([[22,  9],\n",
       "       [ 7, 17],\n",
       "       [ 6, 35],\n",
       "       [25, 43]], dtype=int32)"
      ]
     },
     "execution_count": 49,
     "metadata": {},
     "output_type": "execute_result"
    }
   ],
   "source": [
    "arr[ :, 1:3] # : for rows is mandatory here"
   ]
  },
  {
   "cell_type": "markdown",
   "id": "f4057a96-f166-4ff9-92f8-6ec3f1dee2de",
   "metadata": {},
   "source": [
    "###### Extract the ages greater than 40"
   ]
  },
  {
   "cell_type": "code",
   "execution_count": 5,
   "id": "77ec3723-363e-4598-9c34-b04e7a85f660",
   "metadata": {},
   "outputs": [
    {
     "data": {
      "text/plain": [
       "array([44, 53, 41, 43, 47, 52])"
      ]
     },
     "execution_count": 5,
     "metadata": {},
     "output_type": "execute_result"
    }
   ],
   "source": [
    "ages[ages > 40] # Conditional Indexing"
   ]
  },
  {
   "cell_type": "markdown",
   "id": "46531e1d-35e8-446d-9f5f-752d0365e303",
   "metadata": {},
   "source": [
    "### Operations on Arrays"
   ]
  },
  {
   "cell_type": "markdown",
   "id": "d1b586a2-040f-42cf-bd3e-ebf27e3745e8",
   "metadata": {},
   "source": [
    "###### Extract names of the employees whose age greater than 40"
   ]
  },
  {
   "cell_type": "code",
   "execution_count": 6,
   "id": "ea34a859-a6ad-4f46-845f-3866168e5a76",
   "metadata": {},
   "outputs": [
    {
     "data": {
      "text/plain": [
       "array(['Brosina', 'Zuschuss', 'Sandra', 'Matt', 'Erin', 'Lena'],\n",
       "      dtype='<U9')"
      ]
     },
     "execution_count": 6,
     "metadata": {},
     "output_type": "execute_result"
    }
   ],
   "source": [
    "names[ages > 40]"
   ]
  },
  {
   "cell_type": "markdown",
   "id": "517f0484-54fb-4d4f-9f05-60c70445d043",
   "metadata": {},
   "source": [
    "###### Apply 7% hike on salary to all employes in the array"
   ]
  },
  {
   "cell_type": "code",
   "execution_count": 7,
   "id": "a8532d86-27b1-43ea-9691-e05d4fd63f0a",
   "metadata": {},
   "outputs": [
    {
     "data": {
      "text/plain": [
       "array([ 95189.34,  72395.13, 125726.07, 160453.99,  34466.84,  67828.37,\n",
       "        15448.66,  24016.15,  77347.09, 209279.16,  18446.8 , 123174.12,\n",
       "        19288.89,  59803.37, 116771.24,  89159.89,  23673.75,  31376.68,\n",
       "        57783.21,  19677.3 , 151299.07,  20964.51,  61089.51, 139694.92,\n",
       "        23639.51,  13972.06,  28012.6 ,  24887.13,  36645.36,  29335.12])"
      ]
     },
     "execution_count": 7,
     "metadata": {},
     "output_type": "execute_result"
    }
   ],
   "source": [
    "salary * 1.07"
   ]
  },
  {
   "cell_type": "markdown",
   "id": "f60ab370-2454-494c-868e-69c5b3362d1d",
   "metadata": {},
   "source": [
    "###### Apply 7% hike to all employes whose age is greater_eq than 40 and 10% hike to employees whose age is less than 40"
   ]
  },
  {
   "cell_type": "code",
   "execution_count": 9,
   "id": "e8947d8f-0b39-4e09-a32e-118f04c7cf10",
   "metadata": {},
   "outputs": [
    {
     "data": {
      "text/plain": [
       "array([ 97858.2 ,  74424.9 , 129251.1 , 160453.99,  35433.2 ,  69730.1 ,\n",
       "        15881.8 ,  24689.5 ,  79515.7 , 209279.16,  18964.  , 123174.12,\n",
       "        19829.7 ,  61480.1 , 120045.2 ,  89159.89,  24337.5 ,  32256.4 ,\n",
       "        59403.3 ,  20229.  , 151299.07,  21552.3 ,  62802.3 , 139694.92,\n",
       "        24302.3 ,  14363.8 ,  28798.  ,  25584.9 ,  37672.8 ,  30157.6 ])"
      ]
     },
     "execution_count": 9,
     "metadata": {},
     "output_type": "execute_result"
    }
   ],
   "source": [
    "np.where(ages >= 40, salary * 1.07, salary * 1.10)"
   ]
  },
  {
   "cell_type": "markdown",
   "id": "e1db9c3a-f944-417b-b0e1-6c2ad11cb318",
   "metadata": {},
   "source": [
    "###### Ex. Applying multiple conditions"
   ]
  },
  {
   "cell_type": "code",
   "execution_count": 10,
   "id": "d5ff26f9-8324-4935-b821-61adb1ff0c95",
   "metadata": {},
   "outputs": [
    {
     "data": {
      "text/plain": [
       "array([ 95189.34,  74424.9 , 125726.07, 160453.99,  35433.2 ,  69730.1 ,\n",
       "        15881.8 ,  24689.5 ,  77347.09, 205367.4 ,  18964.  , 123174.12,\n",
       "        19829.7 ,  61480.1 , 120045.2 ,  89159.89,  24337.5 ,  32256.4 ,\n",
       "        57783.21,  20229.  , 148471.05,  21552.3 ,  62802.3 , 137083.8 ,\n",
       "        24302.3 ,  14363.8 ,  28798.  ,  25584.9 ,  37672.8 ,  30157.6 ])"
      ]
     },
     "execution_count": 10,
     "metadata": {},
     "output_type": "execute_result"
    }
   ],
   "source": [
    "conditions = [ages < 35, ages < 45, ages >= 45]\n",
    "results = [salary * 1.10, salary * 1.07, salary * 1.05]\n",
    "\n",
    "np.select(conditions, results)"
   ]
  },
  {
   "cell_type": "code",
   "execution_count": 15,
   "id": "37f6b8a7-650e-4305-ac9f-2edd7d3bb699",
   "metadata": {},
   "outputs": [
    {
     "data": {
      "text/plain": [
       "array([[59, 61, 78],\n",
       "       [91, 24, 99]], dtype=int32)"
      ]
     },
     "execution_count": 15,
     "metadata": {},
     "output_type": "execute_result"
    }
   ],
   "source": [
    "marks = np.random.randint(20, 100,(2, 3)) # 2D array\n",
    "marks"
   ]
  },
  {
   "cell_type": "markdown",
   "id": "325d9816-8c46-4947-bbb9-61ebe64312cc",
   "metadata": {},
   "source": [
    "###### Ex. Assign grades to students based on marks"
   ]
  },
  {
   "cell_type": "code",
   "execution_count": 26,
   "id": "ad89d326-fce1-4bd8-bf13-b9104d87e946",
   "metadata": {},
   "outputs": [
    {
     "data": {
      "text/plain": [
       "array([97, 30, 39, 42, 86, 49, 61, 24, 33, 40, 99, 63, 26, 37, 49],\n",
       "      dtype=int32)"
      ]
     },
     "execution_count": 26,
     "metadata": {},
     "output_type": "execute_result"
    }
   ],
   "source": [
    "marks = np.random.randint(20, 100, 15)\n",
    "marks"
   ]
  },
  {
   "cell_type": "code",
   "execution_count": 27,
   "id": "1ab23066-afa7-4ad9-98ef-516539670112",
   "metadata": {},
   "outputs": [
    {
     "data": {
      "text/plain": [
       "array([1, 4, 4, 3, 1, 3, 2, 4, 4, 0, 1, 2, 4, 4, 3])"
      ]
     },
     "execution_count": 27,
     "metadata": {},
     "output_type": "execute_result"
    }
   ],
   "source": [
    "conditions = [marks >= 75, marks >= 60, marks > 40, marks < 40]\n",
    "# grades = [\"Grade A\", \"Grade B\", \"Grade C\", \"Grade D\"]\n",
    "grades = [1, 2, 3, 4]\n",
    "np.select(conditions, grades)"
   ]
  },
  {
   "cell_type": "code",
   "execution_count": 28,
   "id": "c54b6b95-6b09-422d-8a96-04a7f2e029d6",
   "metadata": {},
   "outputs": [
    {
     "data": {
      "text/plain": [
       "array(['Grade A', 'Grade D', 'Grade D', 'Grade C', 'Grade A', 'Grade C',\n",
       "       'Grade B', 'Grade D', 'Grade D', 'NA', 'Grade A', 'Grade B',\n",
       "       'Grade D', 'Grade D', 'Grade C'], dtype='<U7')"
      ]
     },
     "execution_count": 28,
     "metadata": {},
     "output_type": "execute_result"
    }
   ],
   "source": [
    "conditions = [marks >= 75, marks >= 60, marks > 40, marks < 40]\n",
    "grades = [\"Grade A\", \"Grade B\", \"Grade C\", \"Grade D\"]\n",
    "np.select(conditions, grades, default= \"NA\")"
   ]
  },
  {
   "cell_type": "code",
   "execution_count": 29,
   "id": "d73d231e-219f-4bd1-8d64-07ea8a92f3ec",
   "metadata": {},
   "outputs": [
    {
     "data": {
      "text/plain": [
       "array(['Grade A', 'Grade D', 'Grade D', 'Grade C', 'Grade A', 'Grade C',\n",
       "       'Grade B', 'Grade D', 'Grade D', 'Grade C', 'Grade A', 'Grade B',\n",
       "       'Grade D', 'Grade D', 'Grade C'], dtype='<U7')"
      ]
     },
     "execution_count": 29,
     "metadata": {},
     "output_type": "execute_result"
    }
   ],
   "source": [
    "conditions = [marks >= 75, marks >= 60, marks >= 40]\n",
    "grades = [\"Grade A\", \"Grade B\", \"Grade C\"]\n",
    "np.select(conditions, grades, default= \"Grade D\")"
   ]
  },
  {
   "cell_type": "code",
   "execution_count": 18,
   "id": "378444ba-91e6-4edc-a895-57c59833a75c",
   "metadata": {},
   "outputs": [
    {
     "name": "stdout",
     "output_type": "stream",
     "text": [
      "Help on _ArrayFunctionDispatcher in module numpy:\n",
      "\n",
      "select(condlist, choicelist, default=0)\n",
      "    Return an array drawn from elements in choicelist, depending on conditions.\n",
      "\n",
      "    Parameters\n",
      "    ----------\n",
      "    condlist : list of bool ndarrays\n",
      "        The list of conditions which determine from which array in `choicelist`\n",
      "        the output elements are taken. When multiple conditions are satisfied,\n",
      "        the first one encountered in `condlist` is used.\n",
      "    choicelist : list of ndarrays\n",
      "        The list of arrays from which the output elements are taken. It has\n",
      "        to be of the same length as `condlist`.\n",
      "    default : scalar, optional\n",
      "        The element inserted in `output` when all conditions evaluate to False.\n",
      "\n",
      "    Returns\n",
      "    -------\n",
      "    output : ndarray\n",
      "        The output at position m is the m-th element of the array in\n",
      "        `choicelist` where the m-th element of the corresponding array in\n",
      "        `condlist` is True.\n",
      "\n",
      "    See Also\n",
      "    --------\n",
      "    where : Return elements from one of two arrays depending on condition.\n",
      "    take, choose, compress, diag, diagonal\n",
      "\n",
      "    Examples\n",
      "    --------\n",
      "    Beginning with an array of integers from 0 to 5 (inclusive),\n",
      "    elements less than ``3`` are negated, elements greater than ``3``\n",
      "    are squared, and elements not meeting either of these conditions\n",
      "    (exactly ``3``) are replaced with a `default` value of ``42``.\n",
      "\n",
      "    >>> x = np.arange(6)\n",
      "    >>> condlist = [x<3, x>3]\n",
      "    >>> choicelist = [x, x**2]\n",
      "    >>> np.select(condlist, choicelist, 42)\n",
      "    array([ 0,  1,  2, 42, 16, 25])\n",
      "\n",
      "    When multiple conditions are satisfied, the first one encountered in\n",
      "    `condlist` is used.\n",
      "\n",
      "    >>> condlist = [x<=4, x>3]\n",
      "    >>> choicelist = [x, x**2]\n",
      "    >>> np.select(condlist, choicelist, 55)\n",
      "    array([ 0,  1,  2,  3,  4, 25])\n",
      "\n"
     ]
    }
   ],
   "source": [
    "help(np.select)"
   ]
  },
  {
   "cell_type": "markdown",
   "id": "fea4d5e2-e727-43e9-b59c-37f3877173d6",
   "metadata": {},
   "source": [
    "### Utility functions in NumPy Library"
   ]
  },
  {
   "cell_type": "markdown",
   "id": "99eaee3d-35b0-4822-bf9c-ca188b379f81",
   "metadata": {},
   "source": [
    "- np.all(), np.any()\n",
    "- arr.sum()\n",
    "- arr.min(), arr.max(), arr.argmin(), arr.agrmax()\n",
    "- np.round()\n",
    "- np.mean(), np.median(), np.average(), np.percentile()"
   ]
  },
  {
   "cell_type": "code",
   "execution_count": 57,
   "id": "51499db5-aa5e-4551-a628-50c5309f490f",
   "metadata": {},
   "outputs": [],
   "source": [
    "products = np.array(['Caffe Latte', 'Cappuccino', 'Colombian', 'Darjeeling', 'Decaf Irish Cream', 'Earl Grey', 'Green Tea', 'Lemon', 'Mint', 'Regular Espresso'])\n",
    "sales = np.array([52248.0, 14068.0, 71060.0, 60014.0, 69925.0, 27711.0, 19231.0, 24873.0, 32825.0, 44109.0])\n",
    "profits = np.array([17444.0, 5041.0, 28390.0, 20459.0, 23432.0, 7691.0, -2954.0, 7159.0, 10722.0, 14902.0])"
   ]
  },
  {
   "cell_type": "markdown",
   "id": "1fd18a0c-ed4b-4224-a718-336992f67db8",
   "metadata": {},
   "source": [
    "###### Ex. Total Sales"
   ]
  },
  {
   "cell_type": "code",
   "execution_count": 58,
   "id": "5a75101b-6d71-4d3a-a8c8-871833c2fa09",
   "metadata": {},
   "outputs": [
    {
     "data": {
      "text/plain": [
       "np.float64(416064.0)"
      ]
     },
     "execution_count": 58,
     "metadata": {},
     "output_type": "execute_result"
    }
   ],
   "source": [
    "sales.sum()"
   ]
  },
  {
   "cell_type": "code",
   "execution_count": 68,
   "id": "b9ce357d-bf4b-4a2b-a289-252ef9b36fd2",
   "metadata": {},
   "outputs": [
    {
     "data": {
      "text/plain": [
       "np.float64(416064.0)"
      ]
     },
     "execution_count": 68,
     "metadata": {},
     "output_type": "execute_result"
    }
   ],
   "source": [
    "np.sum(sales)"
   ]
  },
  {
   "cell_type": "markdown",
   "id": "29e86c0b-80f5-4eac-a519-0dd5244c0fb9",
   "metadata": {},
   "source": [
    "###### Ex. Avg sales"
   ]
  },
  {
   "cell_type": "code",
   "execution_count": 59,
   "id": "759133b2-4ae0-426a-be69-3203024cbf13",
   "metadata": {},
   "outputs": [
    {
     "data": {
      "text/plain": [
       "np.float64(41606.4)"
      ]
     },
     "execution_count": 59,
     "metadata": {},
     "output_type": "execute_result"
    }
   ],
   "source": [
    "sales.mean()"
   ]
  },
  {
   "cell_type": "markdown",
   "id": "ae26ba55-d237-44c2-813b-a33793033338",
   "metadata": {},
   "source": [
    "###### Ex. Identify the products generating sales more than the average"
   ]
  },
  {
   "cell_type": "code",
   "execution_count": 74,
   "id": "254e21b2-b4ed-4e71-a940-757531db3bed",
   "metadata": {},
   "outputs": [
    {
     "data": {
      "text/plain": [
       "array(['Caffe Latte', 'Colombian', 'Darjeeling', 'Decaf Irish Cream',\n",
       "       'Regular Espresso'], dtype='<U17')"
      ]
     },
     "execution_count": 74,
     "metadata": {},
     "output_type": "execute_result"
    }
   ],
   "source": [
    "sales_p = products[sales >= sales.mean()]\n",
    "sales_p"
   ]
  },
  {
   "cell_type": "markdown",
   "id": "adfc667e-52b1-4fe7-a29b-0c9b05210ba8",
   "metadata": {},
   "source": [
    "###### Ex. Identify the products generating profits more than the average"
   ]
  },
  {
   "cell_type": "code",
   "execution_count": 84,
   "id": "c80c08c1-1635-469b-a0a3-845576c831d1",
   "metadata": {},
   "outputs": [
    {
     "data": {
      "text/plain": [
       "array(['Caffe Latte', 'Colombian', 'Darjeeling', 'Decaf Irish Cream',\n",
       "       'Regular Espresso'], dtype='<U17')"
      ]
     },
     "execution_count": 84,
     "metadata": {},
     "output_type": "execute_result"
    }
   ],
   "source": [
    "profits_p = products[profits >= profits.mean()]\n",
    "profits_p"
   ]
  },
  {
   "cell_type": "markdown",
   "id": "977fb224-8184-4ed0-b051-8311859d9f01",
   "metadata": {},
   "source": [
    "###### Ex. Do all products that surpass their average sales also exceed their average profit? If not, identify the products that don’t."
   ]
  },
  {
   "cell_type": "code",
   "execution_count": 63,
   "id": "d460fdad-3077-4b4e-9b42-4930135f89bc",
   "metadata": {},
   "outputs": [
    {
     "data": {
      "text/plain": [
       "np.True_"
      ]
     },
     "execution_count": 63,
     "metadata": {},
     "output_type": "execute_result"
    }
   ],
   "source": [
    "np.isin(sales_p, profits_p).all()"
   ]
  },
  {
   "cell_type": "code",
   "execution_count": 67,
   "id": "79b62186-3407-45ef-af94-f38f233ad6d8",
   "metadata": {},
   "outputs": [
    {
     "data": {
      "text/plain": [
       "np.True_"
      ]
     },
     "execution_count": 67,
     "metadata": {},
     "output_type": "execute_result"
    }
   ],
   "source": [
    "np.any(np.isin(sales_p, profits_p))"
   ]
  },
  {
   "cell_type": "code",
   "execution_count": 65,
   "id": "d0f82656-8797-4372-8204-7fe60d8e0642",
   "metadata": {},
   "outputs": [
    {
     "data": {
      "text/plain": [
       "False"
      ]
     },
     "execution_count": 65,
     "metadata": {},
     "output_type": "execute_result"
    }
   ],
   "source": [
    "all([1, 2, 3, 4, 0]) # checks if all values are true"
   ]
  },
  {
   "cell_type": "code",
   "execution_count": 66,
   "id": "ec2e1d36-76fc-4892-9930-645febb9a0cc",
   "metadata": {},
   "outputs": [
    {
     "data": {
      "text/plain": [
       "True"
      ]
     },
     "execution_count": 66,
     "metadata": {},
     "output_type": "execute_result"
    }
   ],
   "source": [
    "any([1, 2, 3, 4, 0]) # checks if any one value is true"
   ]
  },
  {
   "cell_type": "markdown",
   "id": "70939232-d652-4fcc-913c-af7408684e5f",
   "metadata": {},
   "source": [
    "###### Ex. Manipulating the results to explore set function on arrays"
   ]
  },
  {
   "cell_type": "code",
   "execution_count": 75,
   "id": "0861b7b5-5f54-48e6-8bfd-1ffed12e0178",
   "metadata": {},
   "outputs": [
    {
     "data": {
      "text/plain": [
       "array(['Caffe Latte', 'Colombian', 'Darjeeling', 'Decaf Irish Cream',\n",
       "       'Regular Espresso', 'Green Tea'], dtype='<U17')"
      ]
     },
     "execution_count": 75,
     "metadata": {},
     "output_type": "execute_result"
    }
   ],
   "source": [
    "sales_p = np.append(sales_p, \"Green Tea\")  # np.append() is a function\n",
    "sales_p"
   ]
  },
  {
   "cell_type": "code",
   "execution_count": 89,
   "id": "11820cf4-e7c7-40b1-afaa-574d2f69e34e",
   "metadata": {},
   "outputs": [
    {
     "data": {
      "text/plain": [
       "array(['Caffe Latte', 'Colombian', 'Filter Coffee', 'Darjeeling',\n",
       "       'Decaf Irish Cream', 'Regular Espresso', 'Filter Coffee'],\n",
       "      dtype='<U17')"
      ]
     },
     "execution_count": 89,
     "metadata": {},
     "output_type": "execute_result"
    }
   ],
   "source": [
    "profits_p = np.insert(profits_p, 2, \"Filter Coffee\")  # np.insert() is a function\n",
    "profits_p"
   ]
  },
  {
   "cell_type": "code",
   "execution_count": 90,
   "id": "e4d3e637-734b-47f7-b718-b94498a05f11",
   "metadata": {},
   "outputs": [
    {
     "data": {
      "text/plain": [
       "array(['Caffe Latte', 'Colombian', 'Filter Coffee', 'Darjeeling',\n",
       "       'Decaf Irish Cream', 'Regular Espresso'], dtype='<U17')"
      ]
     },
     "execution_count": 90,
     "metadata": {},
     "output_type": "execute_result"
    }
   ],
   "source": [
    "profits_p = np.delete(profits_p, 6)  # np.delete() is a function to remove\n",
    "profits_p"
   ]
  },
  {
   "cell_type": "code",
   "execution_count": 86,
   "id": "dc062cde-1306-42d4-bcec-a2d5c3069442",
   "metadata": {},
   "outputs": [
    {
     "data": {
      "text/plain": [
       "array([ True,  True,  True,  True,  True, False])"
      ]
     },
     "execution_count": 86,
     "metadata": {},
     "output_type": "execute_result"
    }
   ],
   "source": [
    "np.isin(sales_p, profits_p)"
   ]
  },
  {
   "cell_type": "markdown",
   "id": "546ce404-2093-48f7-9612-65c060fc93c4",
   "metadata": {},
   "source": [
    "###### Ex. Find elements in sales_p but not in profit_p"
   ]
  },
  {
   "cell_type": "code",
   "execution_count": 87,
   "id": "9ed4b6c8-d7a9-42af-becd-b80167fa7f58",
   "metadata": {},
   "outputs": [
    {
     "data": {
      "text/plain": [
       "array(['Green Tea'], dtype='<U17')"
      ]
     },
     "execution_count": 87,
     "metadata": {},
     "output_type": "execute_result"
    }
   ],
   "source": [
    "np.setdiff1d(sales_p, profits_p)"
   ]
  },
  {
   "cell_type": "markdown",
   "id": "0e8f3c82-6ea3-4425-bd3c-102a8b1ef9bb",
   "metadata": {},
   "source": [
    "###### Ex. Common elements"
   ]
  },
  {
   "cell_type": "code",
   "execution_count": 88,
   "id": "c42f838a-ed5b-426c-b636-1ddbf5613690",
   "metadata": {},
   "outputs": [
    {
     "data": {
      "text/plain": [
       "array(['Caffe Latte', 'Colombian', 'Darjeeling', 'Decaf Irish Cream',\n",
       "       'Regular Espresso'], dtype='<U17')"
      ]
     },
     "execution_count": 88,
     "metadata": {},
     "output_type": "execute_result"
    }
   ],
   "source": [
    "np.intersect1d(sales_p, profits_p)"
   ]
  },
  {
   "cell_type": "markdown",
   "id": "0ac70f72-c4a2-492a-b3f3-47bd4e53c583",
   "metadata": {},
   "source": [
    "###### Ex. Identify the product with maximum Sales"
   ]
  },
  {
   "cell_type": "code",
   "execution_count": 96,
   "id": "4c59c366-bbdf-49e4-82ca-f09a94fe57c6",
   "metadata": {},
   "outputs": [
    {
     "data": {
      "text/plain": [
       "array(['Colombian'], dtype='<U17')"
      ]
     },
     "execution_count": 96,
     "metadata": {},
     "output_type": "execute_result"
    }
   ],
   "source": [
    "# Option 1\n",
    "products[np.max(sales) == sales] # Conditional indexing"
   ]
  },
  {
   "cell_type": "code",
   "execution_count": 94,
   "id": "4eb09e37-5bc6-4e66-b3c2-a2661340a5c6",
   "metadata": {},
   "outputs": [
    {
     "data": {
      "text/plain": [
       "np.int64(2)"
      ]
     },
     "execution_count": 94,
     "metadata": {},
     "output_type": "execute_result"
    }
   ],
   "source": [
    "np.argmax(sales) # returns index position of the max value"
   ]
  },
  {
   "cell_type": "code",
   "execution_count": 95,
   "id": "cadecc29-584d-4195-ac40-0378606ea848",
   "metadata": {},
   "outputs": [
    {
     "data": {
      "text/plain": [
       "np.str_('Colombian')"
      ]
     },
     "execution_count": 95,
     "metadata": {},
     "output_type": "execute_result"
    }
   ],
   "source": [
    "# Option 2\n",
    "products[np.argmax(sales)] # Indexing"
   ]
  },
  {
   "cell_type": "code",
   "execution_count": 101,
   "id": "46001c6a-bfd7-4c09-8d79-b8f9969d428f",
   "metadata": {},
   "outputs": [
    {
     "data": {
      "text/plain": [
       "np.int64(5)"
      ]
     },
     "execution_count": 101,
     "metadata": {},
     "output_type": "execute_result"
    }
   ],
   "source": [
    "arr = np.array([2, 3, 5, 5 ])\n",
    "names = np.array([\"Jane\", \"George\", \"Rosie\", \"Sam\"])\n",
    "arr.max()"
   ]
  },
  {
   "cell_type": "code",
   "execution_count": 102,
   "id": "e96dc706-adf2-4717-b0b0-2bcac1949fc8",
   "metadata": {},
   "outputs": [
    {
     "data": {
      "text/plain": [
       "np.int64(2)"
      ]
     },
     "execution_count": 102,
     "metadata": {},
     "output_type": "execute_result"
    }
   ],
   "source": [
    "arr.argmax()"
   ]
  },
  {
   "cell_type": "code",
   "execution_count": 105,
   "id": "6e7ebaae-5b8b-485b-9f34-3e60fd950a9c",
   "metadata": {},
   "outputs": [
    {
     "data": {
      "text/plain": [
       "np.str_('Rosie')"
      ]
     },
     "execution_count": 105,
     "metadata": {},
     "output_type": "execute_result"
    }
   ],
   "source": [
    "names[arr.argmax()]"
   ]
  },
  {
   "cell_type": "code",
   "execution_count": 106,
   "id": "688284ad-f30d-4262-8a6d-450f528a27dd",
   "metadata": {},
   "outputs": [
    {
     "data": {
      "text/plain": [
       "array(['Rosie', 'Sam'], dtype='<U6')"
      ]
     },
     "execution_count": 106,
     "metadata": {},
     "output_type": "execute_result"
    }
   ],
   "source": [
    "names[arr == np.max(arr)]"
   ]
  },
  {
   "cell_type": "code",
   "execution_count": 107,
   "id": "435728d0-2f52-43be-9387-b93cdb0aad04",
   "metadata": {},
   "outputs": [
    {
     "data": {
      "text/plain": [
       "array([[2, 7, 6, 9, 4],\n",
       "       [4, 8, 5, 4, 9],\n",
       "       [2, 6, 4, 9, 6]], dtype=int32)"
      ]
     },
     "execution_count": 107,
     "metadata": {},
     "output_type": "execute_result"
    }
   ],
   "source": [
    "arr = np.random.randint(1, 10, (3, 5))\n",
    "arr"
   ]
  },
  {
   "cell_type": "code",
   "execution_count": 108,
   "id": "26b74ee9-8d90-43ea-843c-c00f80cbce10",
   "metadata": {},
   "outputs": [
    {
     "data": {
      "text/plain": [
       "array([2, 7, 6, 9, 4, 1, 4, 8, 5, 4, 9, 2, 6, 4, 9, 6], dtype=int32)"
      ]
     },
     "execution_count": 108,
     "metadata": {},
     "output_type": "execute_result"
    }
   ],
   "source": [
    "np.insert(arr, 5, 1)"
   ]
  },
  {
   "cell_type": "markdown",
   "id": "f6e9ffe0-9421-460d-9f51-be22cae324b8",
   "metadata": {},
   "source": [
    "###### Flattening the array"
   ]
  },
  {
   "cell_type": "code",
   "execution_count": 109,
   "id": "b32cae0a-90b0-4c31-92bd-c9556011a1c9",
   "metadata": {},
   "outputs": [
    {
     "data": {
      "text/plain": [
       "array([2, 7, 6, 9, 4, 4, 8, 5, 4, 9, 2, 6, 4, 9, 6], dtype=int32)"
      ]
     },
     "execution_count": 109,
     "metadata": {},
     "output_type": "execute_result"
    }
   ],
   "source": [
    "arr.flatten() # converted 2D array to 1D"
   ]
  },
  {
   "cell_type": "code",
   "execution_count": 112,
   "id": "f28275bc-1477-4a71-9680-db2a494c3877",
   "metadata": {},
   "outputs": [
    {
     "data": {
      "text/plain": [
       "array([[2, 1, 7, 6, 9, 4],\n",
       "       [4, 2, 8, 5, 4, 9],\n",
       "       [2, 3, 6, 4, 9, 6]], dtype=int32)"
      ]
     },
     "execution_count": 112,
     "metadata": {},
     "output_type": "execute_result"
    }
   ],
   "source": [
    "np.insert(arr, 1, [1, 2, 3], axis=1)"
   ]
  },
  {
   "cell_type": "code",
   "execution_count": 118,
   "id": "2b9cde5c-a6cb-486b-9331-ccd35c5702bd",
   "metadata": {},
   "outputs": [
    {
     "data": {
      "text/plain": [
       "array([[2, 7, 6, 9, 4],\n",
       "       [1, 2, 3, 4, 5],\n",
       "       [4, 8, 5, 4, 9],\n",
       "       [2, 6, 4, 9, 6]], dtype=int32)"
      ]
     },
     "execution_count": 118,
     "metadata": {},
     "output_type": "execute_result"
    }
   ],
   "source": [
    "np.insert(arr, 1, [1, 2, 3, 4, 5], axis=0)"
   ]
  },
  {
   "cell_type": "markdown",
   "id": "f5fc5912-cd5d-43bc-a42d-1f6e5c820eb7",
   "metadata": {},
   "source": [
    "<hr><hr>"
   ]
  },
  {
   "cell_type": "markdown",
   "id": "7efce237-d32c-43e9-b511-19e20f5259e5",
   "metadata": {},
   "source": [
    "## Basics of Data Visualisation using Matplotlib"
   ]
  },
  {
   "cell_type": "code",
   "execution_count": 119,
   "id": "cb03251a-220e-4205-a039-f1b08debdcc1",
   "metadata": {},
   "outputs": [],
   "source": [
    "import numpy as np\n",
    "import matplotlib.pyplot as plt\n",
    "dates = np.arange('2019-01', '2022-01', dtype='datetime64[M]')\n",
    "sales = np.array([42390, 77560, 77385, 76039, 42968, 53833, 47205, 68936, 51175, 48186, 71520, 66387, 62717, 52614, 42866, 64275, 44749, 68560,66258, 62221, 66303, 52428, 42300, 65645, 59215, 66944, 67519,46231, 79780, 59746, 59992, 70805, 64609, 72995, 60402, 76956])\n",
    "profits = np.array([ 7206.3 ,  8531.6 , 13155.45,  9885.07,  7304.56,  9689.94, 5664.6 , 11029.76,  6141.  ,  5300.46,  9297.6 , 11285.79, 7526.04,  5787.54,  6429.9 , 12212.25,  5369.88, 12340.8 , 12589.02,  6222.1 ,  7293.33,  8388.48,  6768.  , 11816.1 , 7697.95, 11380.48,  7427.09,  6934.65,  8775.8 ,  7169.52, 7199.04,  9204.65, 10337.44,  9489.35, 10268.34, 14621.64])"
   ]
  },
  {
   "cell_type": "markdown",
   "id": "84e6dc19-b74f-4d44-82ca-c78e1d22a582",
   "metadata": {},
   "source": [
    "#### Line Chart"
   ]
  },
  {
   "cell_type": "code",
   "execution_count": 165,
   "id": "5f224691-da05-4c22-95c8-23d2de8b9ff1",
   "metadata": {},
   "outputs": [
    {
     "data": {
      "image/png": "[encoded data removed]",
      "text/plain": [
       "<Figure size 1000x300 with 1 Axes>"
      ]
     },
     "metadata": {},
     "output_type": "display_data"
    }
   ],
   "source": [
    "plt.figure(figsize=(10, 3))\n",
    "plt.plot(dates, sales, color = \"Teal\", marker = \"o\")\n",
    "\n",
    "plt.title(\"Sales over Months \", loc = \"left\", \n",
    "          fontdict= {'fontsize': 10, 'color': \"Blue\"})\n",
    "\n",
    "y_tcks = np.arange((sales.min() - 1000), (sales.max() + 1000), 5000)\n",
    "\n",
    "plt.xlabel(\"Months\")\n",
    "plt.ylabel(\"Sales\")\n",
    "\n",
    "plt.yticks(y_tcks)\n",
    "\n",
    "plt.grid(axis=\"y\", color = \"orange\", alpha = 0.4, ls = \"--\")\n",
    "\n",
    "plt.show()"
   ]
  },
  {
   "cell_type": "code",
   "execution_count": 168,
   "id": "5f9f51e8-951f-4d86-a7cb-229450f2c4c3",
   "metadata": {},
   "outputs": [
    {
     "data": {
      "image/png": "[encoded data removed]",
      "text/plain": [
       "<Figure size 1000x300 with 1 Axes>"
      ]
     },
     "metadata": {},
     "output_type": "display_data"
    }
   ],
   "source": [
    "plt.figure(figsize=(10, 3))\n",
    "plt.plot(dates, sales, color = \"Teal\", marker = \"o\")\n",
    "plt.plot(dates, profits, color = \"Cyan\", marker = \"o\")\n",
    "plt.title(\"Sales over Months \", loc = \"left\", fontdict= {'fontsize': 10, 'color': \"Blue\"})\n",
    "plt.xlabel(\"Months\")\n",
    "plt.ylabel(\"Sales\")\n",
    "plt.grid(axis=\"y\", color = \"orange\", alpha = 0.4, ls = \"--\")\n",
    "\n",
    "plt.show()"
   ]
  },
  {
   "cell_type": "code",
   "execution_count": 190,
   "id": "5386f280-3f8c-4a65-9c98-888a76a8e0c9",
   "metadata": {},
   "outputs": [
    {
     "data": {
      "image/png": "[encoded data removed]",
      "text/plain": [
       "<Figure size 1200x400 with 2 Axes>"
      ]
     },
     "metadata": {},
     "output_type": "display_data"
    }
   ],
   "source": [
    "fig, ax = plt.subplots(nrows=2, figsize = (12, 4))\n",
    "ax[0].plot(dates, sales, color = \"Teal\", marker = \"o\")\n",
    "ax[1].plot(dates, profits, color = \"Cyan\", marker = \"o\")\n",
    "\n",
    "ax[0].set_title(\"Sales\", loc = \"left\")\n",
    "ax[1].set_title(\"Profit\", loc = \"left\")\n",
    "\n",
    "ax[0].set_xticks([])\n",
    "\n",
    "plt.show()"
   ]
  },
  {
   "cell_type": "code",
   "execution_count": 193,
   "id": "c0aa778b-9bfc-42fb-89cc-3684b46de6d3",
   "metadata": {},
   "outputs": [],
   "source": [
    "products = np.array(['Caffe Latte', 'Cappuccino', 'Colombian', 'Darjeeling', 'Decaf Irish Cream', 'Earl Grey', 'Green Tea', 'Lemon', 'Mint', 'Regular Espresso'])\n",
    "sales = np.array([52248.0, 14068.0, 71060.0, 60014.0, 69925.0, 27711.0, 19231.0, 24873.0, 32825.0, 44109.0])\n",
    "profits = np.array([17444.0, 5041.0, 28390.0, 20459.0, 23432.0, 7691.0, -2954.0, 7159.0, 10722.0, 14902.0])"
   ]
  },
  {
   "cell_type": "markdown",
   "id": "43e884b3-4c52-4dd6-9481-c2de8c599a24",
   "metadata": {},
   "source": [
    "#### Bar Chart"
   ]
  },
  {
   "cell_type": "code",
   "execution_count": 207,
   "id": "f73ad0d3-3383-4c9a-97f3-9afb0ddc32d8",
   "metadata": {},
   "outputs": [
    {
     "data": {
      "text/plain": [
       "array([14068., 19231., 24873., 27711., 32825., 44109., 52248., 60014.,\n",
       "       69925., 71060.])"
      ]
     },
     "execution_count": 207,
     "metadata": {},
     "output_type": "execute_result"
    }
   ],
   "source": [
    "np.sort(sales)"
   ]
  },
  {
   "cell_type": "code",
   "execution_count": 209,
   "id": "6fd55239-deda-41ce-906e-3312a6da3262",
   "metadata": {},
   "outputs": [],
   "source": [
    "sort_ord = np.argsort(sales)[::-1]"
   ]
  },
  {
   "cell_type": "code",
   "execution_count": 210,
   "id": "c8262cde-5b6f-4a00-bd57-ef9bcdcba672",
   "metadata": {},
   "outputs": [
    {
     "data": {
      "image/png": "[encoded data removed]",
      "text/plain": [
       "<Figure size 1000x200 with 1 Axes>"
      ]
     },
     "metadata": {},
     "output_type": "display_data"
    }
   ],
   "source": [
    "plt.figure(figsize=(10, 2))\n",
    "plt.bar(products[sort_ord], sales[sort_ord], color = \"teal\", edgecolor = \"black\")\n",
    "plt.title(\"Sales across Products\", loc = \"left\",fontdict= {'fontsize': 10, 'color': \"Blue\"})\n",
    "plt.xticks(rotation = 20, fontsize='x-small')\n",
    "plt.yticks(fontsize='x-small')\n",
    "plt.show()"
   ]
  },
  {
   "cell_type": "code",
   "execution_count": 212,
   "id": "a23e5afe-a6eb-44db-bdf2-22536edf65f3",
   "metadata": {},
   "outputs": [
    {
     "data": {
      "image/png": "[encoded data removed]",
      "text/plain": [
       "<Figure size 1000x200 with 1 Axes>"
      ]
     },
     "metadata": {},
     "output_type": "display_data"
    }
   ],
   "source": [
    "plt.figure(figsize=(10, 2))\n",
    "plt.bar(products, sales, color = \"teal\", edgecolor = \"black\")\n",
    "plt.bar(products, profits, color = \"cyan\", edgecolor = \"black\")\n",
    "plt.title(\"Sales across Products\", loc = \"left\",fontdict= {'fontsize': 10, 'color': \"Blue\"})\n",
    "plt.xticks(rotation = 20, fontsize='x-small')\n",
    "plt.yticks(fontsize='x-small')\n",
    "plt.show()"
   ]
  },
  {
   "cell_type": "code",
   "execution_count": 215,
   "id": "cf475d46-bd00-4989-b112-1fd898b5c3fa",
   "metadata": {},
   "outputs": [
    {
     "data": {
      "image/png": "[encoded data removed]",
      "text/plain": [
       "<Figure size 1000x200 with 1 Axes>"
      ]
     },
     "metadata": {},
     "output_type": "display_data"
    }
   ],
   "source": [
    "plt.figure(figsize=(10, 2))\n",
    "plt.bar(products, sales, color = \"teal\", edgecolor = \"black\", width = 0.4, align=\"edge\")\n",
    "plt.bar(products, profits, color = \"cyan\", edgecolor = \"black\", width = 0.4, align=\"edge\")\n",
    "plt.title(\"Sales across Products\", loc = \"left\",fontdict= {'fontsize': 10, 'color': \"Blue\"})\n",
    "plt.xticks(rotation = 20, fontsize='x-small')\n",
    "plt.yticks(fontsize='x-small')\n",
    "plt.show()"
   ]
  },
  {
   "cell_type": "code",
   "execution_count": null,
   "id": "42cd917e-b77d-47aa-a66d-91368c3faf20",
   "metadata": {},
   "outputs": [],
   "source": []
  },
  {
   "cell_type": "code",
   "execution_count": null,
   "id": "b3561598-b751-4c41-941d-4e3495fb447f",
   "metadata": {},
   "outputs": [],
   "source": []
  },
  {
   "cell_type": "code",
   "execution_count": null,
   "id": "7cfa6424-237d-4988-b10d-2173a88dbe0e",
   "metadata": {},
   "outputs": [],
   "source": []
  },
  {
   "cell_type": "code",
   "execution_count": null,
   "id": "c629134d-fcbb-4778-889f-9bebc63d7558",
   "metadata": {},
   "outputs": [],
   "source": []
  },
  {
   "cell_type": "code",
   "execution_count": null,
   "id": "d4388992-31d0-4148-9aa2-262c7cca919c",
   "metadata": {},
   "outputs": [],
   "source": []
  },
  {
   "cell_type": "code",
   "execution_count": null,
   "id": "7cbde395-3633-45a1-91c7-6ebcbda92448",
   "metadata": {},
   "outputs": [],
   "source": []
  },
  {
   "cell_type": "code",
   "execution_count": null,
   "id": "4322f809-ef14-4b24-8dbe-6185b7f48212",
   "metadata": {},
   "outputs": [],
   "source": []
  },
  {
   "cell_type": "markdown",
   "id": "dd949409-7b6d-47d0-9668-858c66ac78a3",
   "metadata": {},
   "source": [
    "<hr><hr>"
   ]
  },
  {
   "cell_type": "markdown",
   "id": "abbcf20a-5fe9-448c-802a-feac4f92c486",
   "metadata": {},
   "source": [
    "## Data Manipulation using DataFrames"
   ]
  },
  {
   "cell_type": "markdown",
   "id": "b2fd1d8c-d06b-4e7c-a1a4-a590a32487b0",
   "metadata": {},
   "source": [
    "###### Ex. Read data from employee.sqlite3"
   ]
  },
  {
   "cell_type": "code",
   "execution_count": null,
   "id": "98d31dfe-a2d6-4744-9f20-fd7497addf1d",
   "metadata": {},
   "outputs": [],
   "source": []
  },
  {
   "cell_type": "markdown",
   "id": "339616d6-dc3c-401c-888b-60126bf677a1",
   "metadata": {},
   "source": [
    "### Indexing Columns"
   ]
  },
  {
   "cell_type": "code",
   "execution_count": null,
   "id": "268aee63-6ba0-4332-9f0e-5c77e3ec1918",
   "metadata": {},
   "outputs": [],
   "source": []
  },
  {
   "cell_type": "markdown",
   "id": "b5ac14e6-0d5d-4a33-8f0c-bca18a961d9b",
   "metadata": {},
   "source": [
    "### Filtering Data"
   ]
  },
  {
   "cell_type": "code",
   "execution_count": null,
   "id": "f29d6952-a8fc-4615-9808-7e7f06cbf52a",
   "metadata": {},
   "outputs": [],
   "source": []
  },
  {
   "cell_type": "markdown",
   "id": "80babd4e-c86b-4ebd-a8b1-d4c6b6695f0f",
   "metadata": {},
   "source": [
    "### Data Cleaning"
   ]
  },
  {
   "cell_type": "markdown",
   "id": "eb83a01a-2770-4ad2-adae-ee418bdab171",
   "metadata": {},
   "source": [
    "###### Ex. Read data from csv file"
   ]
  },
  {
   "cell_type": "code",
   "execution_count": null,
   "id": "fbbe9d9c-e0e7-4232-9e6c-2aef66a7b42b",
   "metadata": {},
   "outputs": [],
   "source": []
  },
  {
   "cell_type": "markdown",
   "id": "cd817e3e-8518-4f63-bcfd-999b09b5bac2",
   "metadata": {},
   "source": [
    "### Operations on DataFrame"
   ]
  },
  {
   "cell_type": "markdown",
   "id": "bf7f55ed-02a4-4567-ae67-efd812b87b6d",
   "metadata": {},
   "source": [
    "- Adding new column by calculation\n",
    "- Sorting and Ranking\n",
    "- map(), replace(), apply()"
   ]
  },
  {
   "cell_type": "code",
   "execution_count": null,
   "id": "57d77031-2f7f-43a0-b823-92061d493468",
   "metadata": {},
   "outputs": [],
   "source": []
  },
  {
   "cell_type": "code",
   "execution_count": null,
   "id": "208350d4-3508-4066-a271-061b4fa9717b",
   "metadata": {},
   "outputs": [],
   "source": []
  },
  {
   "cell_type": "code",
   "execution_count": null,
   "id": "39709982-3bdc-47b4-974e-6e7a666aa413",
   "metadata": {},
   "outputs": [],
   "source": []
  },
  {
   "cell_type": "code",
   "execution_count": null,
   "id": "b5fe832a-fcba-4ac2-8181-4fbe1a760bfc",
   "metadata": {},
   "outputs": [],
   "source": []
  },
  {
   "cell_type": "markdown",
   "id": "cae47f37-25c8-47ec-9fe4-deead86dbecb",
   "metadata": {},
   "source": [
    "<hr><hr>"
   ]
  },
  {
   "cell_type": "markdown",
   "id": "7103bad3-94f1-403d-b5d3-e30bdd0fe36a",
   "metadata": {},
   "source": [
    "## Explolatory Data Analysis"
   ]
  },
  {
   "cell_type": "markdown",
   "id": "b544292d-9814-48a3-ba7b-19d0fa15fb4e",
   "metadata": {},
   "source": [
    "### Types of data "
   ]
  },
  {
   "cell_type": "markdown",
   "id": "7e25e16c-0d79-4087-9d3c-750bc1bf7a3b",
   "metadata": {},
   "source": [
    "#### Numerical (Quantitative) Data:\n",
    "\n",
    "Numerical data consists of numbers and is measured on a continuous or discrete scale.\n",
    "- Continuous numerical data can take any value within a range (e.g., height, temperature).\n",
    "- Discrete numerical data can take only specific, distinct values (e.g., number of siblings, number of cars).\n",
    "\n",
    "#### Categorical (Qualitative) Data:\n",
    "\n",
    "Categorical data represents categories or labels and is not inherently numerical.\n",
    "- Nominal categorical data has categories with no inherent order or ranking (e.g., gender, eye color).\n",
    "- Ordinal categorical data has categories with a specific order or ranking (e.g., education level, socioeconomic status)."
   ]
  },
  {
   "cell_type": "markdown",
   "id": "8d40cbfd-4420-48b0-9072-3f0d77a9d09f",
   "metadata": {},
   "source": [
    "### Population and Sample"
   ]
  },
  {
   "cell_type": "markdown",
   "id": "af1c5c23-dee1-4c97-975b-8f0bf8358249",
   "metadata": {},
   "source": [
    "#### Population:\n",
    "\n",
    "The population is the entire group or set of individuals, items, or elements that you are interested in studying and drawing conclusions about. It represents the complete set of possible observations that share a common characteristic or attribute.\n",
    "For example, if you are studying the heights of all adult males in a country, the population would consist of the heights of all adult males in that country.\n",
    "\n",
    "#### Sample:\n",
    "\n",
    "A sample is a subset or a smaller representative group selected from the population.\n",
    "It is used to make inferences or draw conclusions about the population without having to collect data from every individual in the population.\n",
    "\n",
    "The process of selecting a sample from the population is known as sampling.\n",
    "For example, instead of measuring the heights of all adult males in a country (which may be impractical or too costly), you might select a random sample of adult males and measure their heights to estimate the average height of the entire population.\n",
    "\n",
    "#### Key points to note about population and sample:\n",
    "\n",
    "- The population represents the entire group under study, while the sample represents a subset of that group.\n",
    "- In many cases, it is not feasible or practical to collect data from the entire population, so researchers use samples to make inferences about the population.\n",
    "- The goal of sampling is to obtain a representative sample that accurately reflects the characteristics of the population.\n",
    "Statistical techniques are used to analyze sample data and make generalizations or predictions about th##e population.\n",
    "\n",
    "#### Characteristics of Population\n",
    "\n",
    "- Mean (Average): The mean of a population is the average value of a quantitative variable across all individuals in the population. It represents the central tendency of the population distribution.\n",
    "\n",
    "- Median: The median of a population is the middle value of a quantitative variable when all observations are arranged in ascending order. It is another measure of central tendency that is less affected by extreme values (outliers) compared to the mean.\n",
    "\n",
    "- Mode: The mode of a population is the most frequently occurring value or category of a variable. It represents the value with the highest frequency in the population distribution.\n",
    "\n",
    "- Variance: The variance of a population measures the spread or dispersion of values around the mean. It quantifies the average squared deviation of individual observations from the mean.\n",
    "\n",
    "- Standard Deviation: The standard deviation of a population is the square root of the variance. It provides a measure of the average distance between individual observations and the mean.\n",
    "\n",
    "- Range: The range of a population is the difference between the maximum and minimum values of a variable. It provides a simple measure of the spread of values in the population.\n",
    "\n",
    "- Distribution: The distribution of a population describes how the values of a variable are spread or distributed across the population. Common types of distributions include normal (bell-shaped), skewed (asymmetric), and ##uniform (evenly distributed).\n",
    "\n",
    "#### Characteristics of a Sample\n",
    "\n",
    "- Sample Size: The sample size is the number of observations or individuals included in the sample. It represents the amount of data available for analysis and inference.\n",
    "- Sampling Method: The sampling method describes how the sample was selected from the population. Common sampling methods include simple random sampling, stratified sampling, cluster sampling, and systematic sampling.\n",
    "\n",
    "- Descriptive Statistics: Descriptive statistics summarize the main features of the sample data. Common descriptive statistics include measures of central tendency (mean, median, mode), measures of dispersion (range, variance, standard deviation), and measures of shape (skewness, kurtosis).\n",
    "\n",
    "- Sample Proportion: The sample proportion represents the fraction or percentage of observations with a specific attribute or characteristic in the sample. It provides insights into the relative frequency of different categories in the sample.\n",
    "\n",
    "- Confidence Interval: The confidence interval is a range of values that is likely to contain the true population parameter with a certain level of confidence. It is used to estimate the precision or uncertainty of sample statistics, such as the sample mean or proportion.\n",
    "\n",
    "- Sampling Bias: Sampling bias refers to the systematic distortion or deviation of the sample from the population due to the sampling method used. It can affect the representativeness and generalizability of the sample data to the population. the sample data to the population. distributed)."
   ]
  },
  {
   "cell_type": "markdown",
   "id": "ae914ec5-38ff-4137-ab6a-7948be63f376",
   "metadata": {},
   "source": [
    "## Types of Variables "
   ]
  },
  {
   "cell_type": "markdown",
   "id": "d9e64e24-2f9a-43a0-b6ad-d0c1a47eb242",
   "metadata": {},
   "source": [
    "- **`Features`**: Features, also known as independent variables or input variables, are the attributes or characteristics of the data that are used as input to the machine learning model to make predictions. Features represent the variables that the model learns from to make predictions or classifications. Each feature can be either numerical or categorical and may have different scales or levels of measurement.\n",
    "\n",
    "- **`Labels`**: Labels, also known as target variables or dependent variables, are the outputs or predictions that the machine learning model aims to predict based on the input features. Labels represent the target variable that the model is trying to learn or predict. In supervised learning tasks, the labels are typically known for a subset of the data, and the goal is to train the model to accurately predict the labels for unseen data."
   ]
  },
  {
   "cell_type": "markdown",
   "id": "4d6ab35c-5512-49d2-a371-0e05f6409e6b",
   "metadata": {},
   "source": [
    "## Descriptive Statistics"
   ]
  },
  {
   "cell_type": "markdown",
   "id": "1f1bdc43-ab56-40a8-9971-d7517d850c4c",
   "metadata": {},
   "source": [
    "Descriptive statistics deals with summarizing and describing the features of a dataset or sample. Descriptive statistics provides a summary of the main features of the data, including measures of central tendency, dispersion, shape, and relationships between variables.\n",
    "\n",
    "#### Measures of Central Tendency:\n",
    "    - Mean: The average value of the data points.\n",
    "    - Median: The middle value of the data when arranged in ascending order.\n",
    "    - Mode: The most frequently occurring value in the dataset.\n",
    "\n",
    "#### Measures of Dispersion:\n",
    "    - Range: The difference between the maximum and minimum values in the dataset.\n",
    "    - Variance: The average of the squared differences from the mean.\n",
    "    - Standard Deviation: The square root of the variance, representing the average deviation from the mean.\n",
    "\n",
    "#### Measures of Shape:\n",
    "    - Skewness: A measure of the asymmetry of the distribution.\n",
    "        - Positive skewness indicates a longer right tail and a concentration of data on the left side.\n",
    "        - Negative skewness indicates a longer left tail and a concentration of data on the right side.\n",
    "        - Skewness close to zero indicates approximate symmetry around the mean.\n",
    "\n",
    "    - Kurtosis: A measure of the \"peakedness\" or \"flatness\" of the distribution.\n",
    "        - Positive kurtosis indicates heavy tails and a sharp peak (leptokurtic).\n",
    "        - Negative kurtosis indicates light tails and a flat peak (platykurtic).\n",
    "        - A kurtosis of 0 indicates a distribution with similar tails to the normal distribution (mesokurtic).\n",
    "\n",
    "#### Frequency Distribution:\n",
    "    - Frequency table: A table that shows the frequency or count of each value in the dataset.\n",
    "    - Histogram: A graphical representation of the frequency distribution, showing the distribution of values in bins or intervals.\n",
    "\n",
    "#### Measures of Association:\n",
    "    - Correlation: A measure of the strength and direction of the linear relationship between two variables.\n",
    "    - Covariance: A measure of the joint variability between two variables."
   ]
  },
  {
   "cell_type": "markdown",
   "id": "bafa74ed-2ab2-4854-889f-4d81810763a6",
   "metadata": {},
   "source": [
    "###### Ex. Find Mean, Median, Mode, Range, Standard Deviation, Skewness, Kurtosis, Frequency Distribution - Histogram"
   ]
  },
  {
   "cell_type": "markdown",
   "id": "1f01f5d4-741b-439f-aac5-9b3b7db66717",
   "metadata": {},
   "source": [
    "Example 1"
   ]
  },
  {
   "cell_type": "code",
   "execution_count": null,
   "id": "2d2e5762-86f6-4319-96e5-33c08e25e449",
   "metadata": {},
   "outputs": [],
   "source": [
    "# dataset consists of weights children in the age group of 0 to 10 years\n",
    "weights = np.array([20.8,15.3,23.2,15.5,17.5,27.3,23.3,20.5,16.4,17.4,22.6,20.8,16.7,29.1,14.2,18.5,17.6,17.1,18.2,26.0,25.6,19.1,17.8,21.6,19.6,28.4,19.4,22.8,25.9,27.1,20.8,21.9,15.4,30.2,23.0,25.0,24.0,17.1,18.8,25.8,23.2,14.9,20.4,15.0,12.3,17.6,10.3,12.1,25.8,21.9,9.9,24.8,17.9,22.0,27.6,21.7,26.3,19.9,16.6,17.8,8.0,21.5,17.9,33.6,20.4,21.9,19.8,15.3,25.6,24.7,10.6,22.1,18.8,9.8,14.9,18.7,27.6,21.2,25.1,21.9,22.1,19.6,10.4,17.2,18.3,21.2,21.1,21.0,19.1,14.8,19.2,18.3,22.1,14.1,19.3,16.2,25.6,14.8,22.3,25.0,20.8,21.2,16.6,15.0,15.6,24.7,26.1,18.1,14.1,25.5,21.4,32.7,13.8,27.4,15.8,18.4,21.3,27.5,15.8,27.2,26.9,16.2,22.6,15.3,22.5,26.6,24.7,28.4,28.0,19.9,9.9,16.5,19.5,11.7,27.9,28.1,21.1,20.0,14.5,25.9,13.3,15.8,21.3,10.7,14.6,19.9,21.6,26.6,26.0,23.7,20.5,11.8,15.6,14.9,24.6,20.9,24.5,26.8,25.3,30.9,26.1,14.9,17.9,18.5,25.7,16.4,8.2,24.1,19.5,13.1,17.6,13.4,24.4,16.4,19.9,12.9,14.3,25.4,15.4,17.7,17.3,18.7,16.1,7.4,18.4,16.2,18.7,19.8,25.6,23.7,22.5,20.5,14.9,25.0,4.7,6.8,21.8,22.2,24.4,13.4,32.1,26.6,27.2,17.8,19.6,16.8,14.4,24.9,12.6,15.0,15.4,10.1,12.9,15.9,22.3,15.0,24.4,21.0,17.2,25.2,15.6,24.6,24.9,13.6,10.3,25.6,18.3,25.1,18.1,20.2,29.1,25.7,14.9,11.4,19.2,21.5,13.9,19.5,19.1,23.0,26.8,14.8,24.4,14.7,24.3,24.5,19.9,12.1,21.2,16.4,19.5,25.8,8.5,19.8,23.4,21.3,14.7,17.9,15.7,14.9,5.2,3.8,31.5,17.4,16.0,20.7,18.4,8.1,22.9,32.8,19.0,33.0,26.0,14.2,18.4,15.1,29.5,13.9,5.1,28.1,18.2,10.5,27.8,19.4,13.1,21.9,18.6,11.0,19.7,20.2,20.1,17.6,21.6,21.2,30.0,26.1,20.5,22.8,20.5,19.6,18.0,19.8,21.8,7.0,21.4,22.5,18.9,15.1,22.0,25.5,11.1,15.4,21.5,13.5,11.2,19.3,25.5,20.2,18.3,15.3,40.3,22.1,23.2,17.1,19.4,15.3,28.6,23.0,19.4,16.7,20.9,21.1,15.9,29.6,17.0,19.0,20.8,20.4,9.8,24.0,15.2,26.2,22.0,21.4,16.2,29.2,21.4,28.9,16.9,21.9,11.2,19.0,21.2,20.8,9.3,12.5,26.9,10.7,18.9,17.5,23.3,12.5,13.4,26.3,23.0,21.8,25.6,20.7,18.0,32.5,25.6,8.4,19.8,24.5,18.0,24.7,21.3,12.9,21.6,29.1,25.8,26.4,27.0,25.6,19.0,20.0,10.4,17.5,19.5,17.5,21.1,19.6,23.1,18.2,27.0,18.5,19.3,25.4,20.8,20.8,20.6,20.4,23.1,17.6,18.7,16.2,18.9,15.2,22.5,10.0,21.1,29.3,17.8,27.1,16.8,18.0,28.3,16.5,19.8,16.7,23.2,23.6,18.5,29.8,24.2,22.4,29.3,29.3,21.5,15.5,23.0,12.8,20.8,11.5,20.0,15.2,18.7,17.2,22.5,13.5,13.1,17.6,12.1,23.2,18.0,24.2,7.3,17.0,17.0,22.7,22.1,18.0,15.6,13.9,17.7,14.7,26.1,12.2,20.3,17.8,16.5,10.2,18.2,22.2,26.3,26.6,19.2,19.5,14.3,15.6,13.9,20.2,11.6,31.2,6.3,23.4,21.1,22.0,8.5,11.5,19.3,17.7,11.9,14.8,16.9,16.1,13.0,17.9,22.0,14.2,13.9,25.4,21.1,16.3,16.4,19.3,18.3,23.0,27.4,24.2,14.9,12.7,16.7,17.8,19.5,14.9,23.9,15.2,25.4,22.9,25.2,12.7,26.0,26.7,15.8,24.9,24.4,15.5,20.0,7.8,20.6,19.0,29.8,14.1,14.1,17.8,24.9,20.7,19.8,24.2,16.7,21.3,23.7,20.9,23.6,25.3,9.9,21.7,16.7,10.3,18.9,25.2,12.7,27.4,21.4,23.0,11.8,22.1,13.0,20.0,27.2,19.8,16.9,18.8,25.0,9.0,19.0,11.1,19.6,24.0,29.3,20.7,10.7,26.9,18.6,21.5,26.2,21.5,27.9,22.1,25.1,27.9,18.9,26.4,20.0,25.6,27.5,17.7,18.9,27.0,14.9,27.6,19.6,18.1,19.2,20.2,16.4,16.6,14.1,8.9,17.6,17.3,21.0,14.3,18.7,19.9,12.3,24.4,23.3,25.1,27.9,15.1,18.3,23.2,17.8,15.5,22.0,23.0,20.4,15.5,22.8,19.5,22.2,22.3,25.1,15.0,19.9,23.8,18.8,17.0,7.9,24.0,31.4,17.6,27.4,28.1,17.9,18.3,17.3,21.6,17.8,22.4,19.2,22.8,21.4,19.1,22.4,29.4,13.6,15.0,28.8,18.2,25.8,15.1,23.6,12.2,10.1,15.4,27.0,17.2,11.6,20.8,18.8,20.4,18.1,20.9,31.1,19.0,18.5,17.9,23.1,32.0,21.7,23.4,17.1,19.0,18.1,19.3,18.8,25.8,19.8,22.1,15.8,15.9,21.3,18.4,17.8,23.1,22.2,15.3,20.0,20.8,30.2,24.0,12.6,9.2,21.7,19.8,16.6,16.5,18.0,21.1,10.0,23.5,26.9,23.7,16.8,12.7,29.8,17.9,18.6,19.9,23.6,26.4,18.2,18.1,19.2,15.3,19.4,20.2,33.2,26.2,26.9,15.3,18.9,18.3,27.6,29.0,22.5,30.2,22.8,13.8,21.4,27.3,25.1,26.7,7.9,27.3,21.9,15.6,18.1,19.9,23.0,22.9,15.0,16.5,18.9,24.8,4.9,16.7,20.2,7.9,19.3,16.1,22.5,27.4,29.6,18.7,21.9,9.9,24.6,10.1,21.5,20.6,11.4,14.0,18.4,6.5,12.8,25.5,19.5,14.6,20.5,18.9,14.8,21.7,17.3,33.1,23.1,25.1,30.2,17.0,13.2,29.2,14.8,13.5,22.3,9.0,19.2,19.1,20.4,14.2,20.6,19.3,27.6,21.4,15.5,23.4,13.2,12.1,23.2,33.8,17.5,19.1,23.2,12.6,24.6,14.6,19.5,20.1,13.4,12.4,14.6,16.8,27.5,19.5,11.5,15.4,24.0,21.1,21.8,29.1,18.9,21.3,18.9,20.1,13.7,19.7,17.0,34.0,24.0,16.9,19.3,19.9,19.4,19.3,21.5,20.8,20.1,27.1,23.5,22.9,19.4,14.8,28.6,23.2,8.7,30.1,19.1,15.1,22.3,17.4,23.8,18.1,20.4,23.1,22.4,13.7,25.5,25.9,21.3,21.6,21.4,29.7,18.1,10.3,23.6,21.0,13.1,10.6,20.8,21.7,19.4,21.4,25.1,16.6,11.1,13.8,21.1,22.0,20.8,19.1,24.4,15.2,25.1,19.2,10.5,21.8,17.5,19.6,8.2,22.1,21.8,13.6,15.1,28.4,22.0,28.6,25.3,29.3,19.1,20.8,10.8,23.6,13.5,23.2,16.9,22.9,21.3,21.8,31.3,21.1,17.1,25.5,26.1,19.2,19.9,26.4,34.9,17.4,24.2,17.5,21.7,11.3,4.9,21.3,17.2,15.6,22.4,28.2,22.3,21.3,20.5,18.4,17.5,9.7,21.4,12.8,20.0,20.7,16.1,26.2,20.9,19.2,23.6,22.4,31.7,22.5,20.3,13.8,23.3,17.4,3.0,16.6,17.1,27.8,17.4,13.7,14.1,26.4,23.9,21.2,27.4,9.9,18.7,17.0,21.1,22.9,8.7,19.1,25.1,21.0,22.3,21.5,19.6,17.6,22.7,14.7,11.5,28.6,19.9,13.5,27.3,19.6,18.7,14.0,11.6,15.0,26.5,21.7,22.1,5.7,18.3,23.4,19.5,15.8,18.6,19.3,27.0,21.7,21.9,20.7,13.5,29.7,22.3,24.0,31.1,23.9,15.7,19.6])"
   ]
  },
  {
   "cell_type": "markdown",
   "id": "2d9da5cd-26f0-4667-a1ad-df58edc37213",
   "metadata": {},
   "source": [
    "Example 2 -"
   ]
  },
  {
   "cell_type": "code",
   "execution_count": null,
   "id": "4e49f184-8bf5-4f3a-beb4-9cfdc8c0d7fe",
   "metadata": {},
   "outputs": [],
   "source": [
    "# dataset consists of Salaries of employees in an organisation\n",
    "salaries = np.array([29756,20014,20347,57214,41327,40209,93390,122004,17725,47210,44386,48407,16837,83731,9130,66723,72525,57347,10941,18726,8913,59251,13090,37983,134656,45499,59533,82998,31440,11672,16295,30676,21822,35263,27340,65522,23380,11662,7066,22403,41230,46693,22478,82491,7347,16263,72672,20522,38409,30175,31383,98820,13605,45096,12397,90988,6602,29786,102559,31790,29768,50085,22649,24426,4059,95210,68657,17799,37370,46160,35133,40969,57201,54757,17973,13610,46004,91341,24474,48005,9473,10277,71287,9383,36492,104352,13473,51293,51911,10026,39992,125885,44462,76531,41512,47267,33231,14180,44474,55702,39554,8359,51892,98574,43638,90568,40508,34129,98497,74784,63383,47197,83519,26458,38642,9629,18404,47324,15793,120345,61126,64613,57964,47582,77944,27082,51891,98126,69008,23284,49785,72406,56418,36769,58715,42999,47333,45733,141091,3848,57584,48356,95301,95269,49894,101380,44028,54577,71055,32066,26596,66653,3179,44484,62889,62952,50903,74656,50733,38180,59410,105003,73854,33579,150293,26348,6769,26315,53038,35766,50517,64714,27523,26867,46607,9882,60052,46653,42143,37371,14475,103629,55402,6149,65128,32861,27603,75553,35641,21457,106916,50369,37731,6473,73858,7716,21144,34340,27917,18150,49270,16344,84532,28616,18452,84678,17990,26463,13671,70005,26237,7245,16941,64383,3317,7275,26981,12600,36983,40054,7283,82140,65120,8259,44235,30682,68578,80737,14009,88942,48374,43148,11447,32203,67168,50149,8607,9680,35442,47306,67316,52503,89884,18337,11798,40659,90852,25479,4737,107231,40006,34020,61695,12128,14126,71024,42150,54591,93625,23809,9698,50910,75967,36494,53497,28006,16650,50352,42133,10915,50698,19962,30772,23430,75790,72083,162101,75728,60565,40074,58299,18280,128972,76801,38314,12744,25607,22188,31862,15955,31175,11044,44390,49677,33251,85617,81684,48054,63108,33461,39505,51449,47547,49199,152777,49820,23147,35010,44921,39633,16546,35436,32229,28603,31804,21668,102866,58514,140647,22149,26732,88552,77813,75665,38038,123394,9457,28241,52657,9075,148287,70362,27398,18672,19003,17600,114609,4318,19729,23148,32015,87090,5342,56550,38458,5400,50686,46353,14777,19302,16606,21645,37117,22488,5465,28650,57321,34736,43956,37151,9776,37461,17631,98557,18773,15927,62892,35395,23658,27429,22496,60550,36644,38050,79320,7934,30101,71573,14389,4701,31291,11384,39725,123530,44408,58972,95799,10389,46232,3432,40560,35984,4665,169950,111402,18065,21540,70358,51973,26344,101435,5668,28783,6701,64979,30591,53626,89555,54550,47720,72312,32532,81224,32367,12856,45452,23288,68436,11028,48698,59988,25334,12898,76129,76496,66076,28330,66192,34221,24405,81851,52335,38502,25430,29421,7258,23734,12534,60625,23697,17543,35830,5033,17253,27189,48127,91649,58796,46586,42569,40202,70022,3922,41658,66536,67928,13621,71191,63947,89954,7543,20366,73226,55216,63823,20147,28646,62441,10910,21883,40687,5770,12349,59303,82027,45440,12710,126532,87569,69111,27004,13098,37670,125784,37616,46404,36971,20823,44255,53184,53752,9362,16464,13631,24283,57198,27205,60289,35590,21193,59034,71649,40198,22347,37446,30613,39731,23986,65414,6705,23140,42971,9792,23886,16397,17598,42024,32014,78351,31432,3978,34883,19845,10204,56595,25611,58573,31771,60213,24678,85938,22206,27750,43462,24977,22131,65617,70257,71995,75183,106608,54436,44381,61439,41163,81099,34095,36953,14703,23992,105384,20334,34145,48786,72804,71943,32757,77178,6381,77041,85234,31634,62231,7004,66194,23721,18122,82066,43339,13417,28110,26647,11703,160005,55765,78251,35519,22708,66840,6126,37952,31632,55294,13842,57847,43009,57445,41641,13437,41892,8126,55609,71439,65768,3032,12225,16758,12150,110890,58822,80581,12690,69074,49169,118185,9745,24482,35611,21100,13245,25269,26177,60738,119320,13615,120677,36560,14048,16249,73591,11789,42419,8691,44373,5698,38758,39244,36214,7654,26381,42371,42425,5167,38173,28250,11362,41671,38101,22759,29654,16846,42528,32035,51949,34841,65641,94153,55081,42157,53629,5482,6064,33333,53055,38653,54655,25486,28830,18681,38431,89032,38939,44533,44382,7073,93080,39698,68653,14900,4180,26923,27360,30629,33018,23166,4915,50098,31775,14625,48831,53413,50677,16354,24128,49869,23038,53312,43846,11263,19507,11322,86895,60729,144564,33429,36964,4437,48013,39779,71605,45697,20501,3059,39338,3228,22719,37974,72431,8486,24363,19558,64046,35799,20259,79873,13544,36404,55886,13904,42955,43750,17743,107390,86058,40137,65042,29084,8999,6357,29914,45867,75705,19543,64725,60567,58452,5015,50256,60877,91907,42209,13678,7797,23545,65227,86909,18614,12483,34314,52497,28754,112096,30756,16519,18075,9958,14076,16114,5200,40241,14275,53117,50561,27253,3998,85851,32716,44901,40698,42272,67106,73621,23828,50619,64147,89432,67240,119266,15347,50315,39374,27347,21786,7037,33320,9277,14225,25474,50546,61235,64796,38341,46464,38388,53785,8315,29782,35079,5943,9616,73662,52409,28236,40773,84419,49739,8678,46548,16583,15864,5920,42891,6635,91882,54534,32013,105413,11681,18153,98213,60754,53642,40221,43931,60076,9481,17046,26098,22609,21386,2797,11266,59378,57464,46271,10182,53724,89160,33549,19557,8022,43213,62795,42025,74820,49326,55701,65268,49257,38526,47121,32407,100592,21980,10691,10664,13298,58489,81011,24481,30354,5334,11554,62781,80241,17457,13682,12911,32340,54094,4987,15562,19126,58105,62497,34333,74015,78119,27715,20098,37580,14200,24208,36266,68885,66174,3965,143792,35892,43824,14009,7294,69932,11540,31644,55554,6756,69754,65940,26128,88712,11048,14382,34369,3908,30339,9290,22745,49669,93604,62655,50036,60244,52406,44821,37915,4894,38413,44612,19168,26668,20326,45231,12448,35082,121782,4863,7291,24332,42551,28462,67887,21226,41026,137990,53668,40922,15485,21118,118903,77715,24519,58873,61054,25674,2960,30624,103189,48284,40536,56053,37084,50773,11615,83270,4311,30367,6372,56358,14518,10602,35857,93798,51500,69148,51610,27676,16157,92788,4395,23687,11944,57418,71058,37037,23290,34201,84364,68400,24135,18615,15050,113480,83720,52761,26031,43187,11278,3710,27465,97386,3393,65371,5707,106125,46278,12099,17823,39132,34422])"
   ]
  },
  {
   "cell_type": "markdown",
   "id": "b1719a70-aff8-4459-9fa4-f77385a87734",
   "metadata": {},
   "source": [
    "Example 3 -"
   ]
  },
  {
   "cell_type": "code",
   "execution_count": null,
   "id": "2d06ff07-5f8c-4ed0-9375-5b1955be3223",
   "metadata": {},
   "outputs": [],
   "source": [
    "# dataset consists of life-expectancy data \n",
    "life_expectancy = np.array([52, 61, 58, 75, 74, 77, 58, 74, 54, 65, 67, 75, 74, 70, 36, 65, 35,55, 64, 28, 46, 52, 75, 42, 64, 75, 44, 65, 58, 65, 45, 73, 79, 48,55, 65, 53, 66, 56, 40, 76, 52, 77, 63, 74, 53, 22, 43, 33, 75, 60,58, 44, 69, 73, 36, 74, 72, 65, 56, 67, 68, 56, 67, 62, 59, 68, 53,59, 61, 59, 77, 76, 70, 78, 74, 64, 15, 42, 65, 70, 65, 64, 67, 65,66, 25, 65, 63, 75, 78, 63, 81, 80, 82, 66, 42, 26, 64, 72, 59, 78,69, 73, 79, 65, 60, 39, 64, 44, 77, 74, 42, 13, 73, 64, 65, 75, 78,72, 49, 75, 65, 59, 40, 70, 31, 58, 61, 79, 56, 67, 79, 61, 48, 68,52, 79, 70, 70, 59, 53, 75, 63, 31, 25, 63, 79, 60, 77, 77, 64, 33,52, 64, 40, 59, 80, 36, 64, 61, 54, 73, 21, 67, 45, 77, 78, 56, 32,81, 69, 82, 33, 16, 41, 79, 34, 77, 71, 74, 73, 44, 33, 59, 74, 43,67, 63, 73, 58, 59, 65, 55, 64, 76, 71, 60, 79, 76, 62, 50, 42, 72,60, 77, 44, 72, 54, 58, 56, 40, 61, 25, 47, 66, 74, 79, 62, 69, 22,67, 71, 40, 74, 80, 45, 68, 64, 55, 48, 52, 48, 49, 60, 62, 57, 23,67, 72, 76, 69, 56, 67, 58, 40, 78, 50, 53, 73, 66, 69, 73, 73, 37,60, 65, 60, 60, 68, 50, 33, 68, 24, 79, 52, 78, 30, 58, 81, 72, 79,75, 52, 51, 74, 66, 65, 41, 53, 57, 76, 63, 64, 48, 48, 77, 52, 60,61, 52, 39, 71, 26, 54, 68, 77, 64, 67, 62, 40, 67, 66, 47, 33, 69,74, 76, 62, 69, 54, 67, 33, 71, 56, 41, 79, 37, 64, 37, 70, 49, 60,74, 79, 65, 79, 79, 75, 78, 72, 76, 31, 70, 24, 59, 28, 78, 61, 75,40, 51, 74, 53, 72, 71, 55, 67, 39, 60, 67, 60, 72, 81, 75, 52, 63,66, 38, 57, 58, 71, 40, 72, 70,  6, 81, 41, 79, 46, 28, 48, 50, 65,76, 75, 32, 75, 70, 46, 73, 61, 48, 55, 41, 52, 48, 53, 62, 65, 69,18, 79, 78, 66, 65, 72, 65, 69, 69, 75, 83, 62, 78, 51, 46, 47, 46,82, 76, 64, 54, 72, 62, 47, 59, 63, 72, 55, 63, 78, 68, 73, 82, 61,47, 52, 78, 75, 42, 53, 65, 60, 48, 59, 52, 58, 76, 63, 76, 58, 67,40, 69, 74, 48, 60, 56, 75, 75, 54, 26, 50, 67, 59, 50, 70, 70, 62,38, 42, 63, 39, 72, 63, 42, 79, 69, 53, 59, 72, 75, 65, 37, 71, 39,43, 64, 84, 75, 80, 54, 66, 44, 60, 72, 73, 50, 62, 62, 58, 42, 61,80, 55, 73, 59, 60, 67, 50, 64, 74, 58, 73, 60, 57, 30, 70, 72, 63,54, 77, 56, 53, 73, 49, 75, 49, 47, 71, 77, 19, 77, 72, 63, 49, 67,65, 47, 71, 77, 71, 71, 53, 78, 76, 67, 65, 61, 60, 21, 60, 59, 68,43, 64, 76, 59, 72, 64, 38, 61, 65, 77, 64, 52, 78, 80, 35, 37, 80,58, 62, 71, 23, 67, 39, 67, 62, 52, 49, 61, 76, 66, 59, 42, 68, 75,60, 52, 73, 60, 70, 62, 74, 74, 61, 51, 23,  2, 39, 69, 52, 40, 46,72, 82, 77, 71, 82, 75, 77, 37, 52, 53, 70, 69, 65, 29, 54, 55, 55,75, 62, 46, 66, 77, 75, 73, 77, 71, 72, 77, 55, 51, 58, 66, 58, 80,75, 47, 78, 59, 66, 30, 76, 63, 57, 29, 53, 78, 71, 48, 58, 45, 59,63, 46, 68, 73, 69, 42, 63, 76, 59, 61, 65, 55, 70, 68, 38, 21, 64,71, 74, 77, 61, 67, 73, 78, 49, 31, 46, 64, 72, 33, 68, 76, 82, 59,59, 52, 66, 63, 11, 61, 74, 60, 61, 73, 54, 70, 45, 42, 58, 73, 36,82, 75, 51, 79, 58, 59, 68,  0, 78, 52, 61, 65, 73, 46, 81, 63, 27,82, 68, 80, 61, 79, 69, 42, 66, 52, 45, 62, 27, 76, 62, 64, 67, 43,51, 71, 77, 43, 24, 53, 52, 36, 52, 76, 69, 65, 73, 62, 68, 70, 75,70, 48, 58, 56, 66, 55, 62, 77, 62, 65, 51, 70, 60, 76, 74, 65, 72,62, 72, 42, 41, 43, 77, 68, 76, 76, 72, 56, 80, 77, 66, 57,  5, 72,67, 78, 81, 77, 66, 35, 54, 37, 42, 71, 78, 66, 68, 33, 25, 54,  8,72, 63, 38, 45, 67, 56, 64, 36, 54, 70, 71, 64, 72, 57, 59, 66, 51,77, 72, 36, 71, 70, 80, 39, 72, 74, 50, 58, 79, 25, 35, 61, 63, 50,68, 60, 82, 58, 14, 32, 77, 70, 65, 81, 73, 48, 67, 67, 30, 69, 69,59, 67, 74, 46, 53, 64, 75, 67, 54, 75, 61, 67, 19, 30, 62, 70, 76,47, 70, 73, 34, 57, 71, 56, 68, 44, 38, 47, 66, 72, 46, 68, 72, 44,58, 42, 62, 79, 45, 75, 37, 44, 24, 78, 52, 40, 75, 45, 52, 34, 74,82,  6, 78, 70, 36, 42, 75, 58, 20,  4, 53, 57, 69, 71, 53, 61, 26,67, 60, 76, 44, 68, 78, 80, 76, 55, 66, 67, 69, 71, 58, 69, 42, 53,35, 74, 56, 59, 41, 71, 64, 49, 68, 58, 69, 52, 75, 47, 77, 63, 53,42, 44, 72, 60, 59, 55, 57, 35, 78, 66, 73, 61, 47, 74, 75, 71, 45,43, 60, 53, 54, 79, 69, 46, 57, 64, 58, 36, 51, 77, 64, 72, 64, 44,54, 69, 59, 54, 58, 59, 68, 58, 75, 73, 62, 78, 51, 60])"
   ]
  },
  {
   "cell_type": "markdown",
   "id": "d5a962fc-52b6-4413-8a92-e3da54408d98",
   "metadata": {},
   "source": [
    "### Handling Null/Missing Values"
   ]
  },
  {
   "cell_type": "markdown",
   "id": "aee743d2-4af9-42c0-9304-274dc7bd1922",
   "metadata": {},
   "source": [
    "- Deletion:\n",
    "    - Listwise Deletion: Remove entire rows containing null values.\n",
    "    - Pairwise Deletion: Analyze data based on available pairs of variables, ignoring rows with null values in other variables.\n",
    "- Imputation:\n",
    "    - Mean/Median/Mode Imputation: Replace null values with the mean, median, or mode of the respective column.\n",
    "    - Forward Fill/Backward Fill: Fill null values with the preceding or succeeding non-null value in the same column.\n",
    "    - Linear Interpolation: Interpolate null values using linear interpolation based on neighboring data points.\n",
    "    - K-Nearest Neighbors (KNN) Imputation: Use the values of nearest neighbors to impute null values.\n",
    "    - Random Imputation: Replace null values with random values from the same column's distribution.\n",
    "- Bucketing: Group data into buckets or categories and treat null values as a separate category."
   ]
  },
  {
   "cell_type": "code",
   "execution_count": null,
   "id": "96ca46ce-4cd7-4457-943c-498d4163a646",
   "metadata": {},
   "outputs": [],
   "source": []
  },
  {
   "cell_type": "code",
   "execution_count": null,
   "id": "5a510383-9c36-458a-abf7-4f31cb83f8f4",
   "metadata": {},
   "outputs": [],
   "source": []
  },
  {
   "cell_type": "markdown",
   "id": "48513eda-e14e-442a-94a2-1e48750d8559",
   "metadata": {},
   "source": [
    "### Handling Outliers - "
   ]
  },
  {
   "cell_type": "markdown",
   "id": "b0cb20c7-b7b0-462c-8233-677d2829b0b3",
   "metadata": {},
   "source": [
    "#### `Z-Score Method:`\n",
    "\n",
    "- The z-score method involves calculating the z-score for each data point, which represents the number of standard deviations away from the mean.\n",
    "Data points with z-scores beyond a certain threshold (e.g., |z-score| > 3) are considered outliers and can be removed or treated separately.\n",
    "The z-score method is sensitive to the mean and standard deviation of the data, and it assumes that the data is normally distributed.\n",
    "This method is useful when the data is approximately normally distributed and when the goal is to identify outliers based on their deviation from the mean.\n",
    "\n",
    "#### `IQR Method:`\n",
    "\n",
    "- The IQR method involves calculating the interquartile range (IQR), which is the difference between the third quartile (Q3) and the first quartile (Q1) of the data.\n",
    "Outliers are defined as data points that fall below Q1 - 1.5 * IQR or above Q3 + 1.5 * IQR.\n",
    "The IQR method is robust to outliers and does not assume any specific distribution of the data.\n",
    "This method is useful when the data is skewed or not normally distributed, as it focuses on the middle 50% of the data and is less influenced by extreme values.\n",
    "In general, if the data is approximately normally distributed and the goal is to identify outliers based on their deviation from the mean, the z-score method may be more appropriate. On the other hand, if the data is skewed or not normally distributed, or if the goal is to identify outliers based on their relative position within the dataset, the IQR method may be a better choice."
   ]
  },
  {
   "cell_type": "code",
   "execution_count": null,
   "id": "cdb819b4-8883-4d55-8f71-725fbf55c545",
   "metadata": {},
   "outputs": [],
   "source": [
    "salaries = np.array([29756,20014,20347,57214,41327,40209,93390,122004,17725,47210,44386,48407,16837,83731,9130,66723,72525,57347,10941,18726,8913,59251,13090,37983,134656,45499,59533,82998,31440,11672,16295,30676,21822,35263,27340,65522,23380,11662,7066,22403,41230,46693,22478,82491,7347,16263,72672,20522,38409,30175,31383,98820,13605,45096,12397,90988,6602,29786,102559,31790,29768,50085,22649,24426,4059,95210,68657,17799,37370,46160,35133,40969,57201,54757,17973,13610,46004,91341,24474,48005,9473,10277,71287,9383,36492,104352,13473,51293,51911,10026,39992,125885,44462,76531,41512,47267,33231,14180,44474,55702,39554,8359,51892,98574,43638,90568,40508,34129,98497,74784,63383,47197,83519,26458,38642,9629,18404,47324,15793,120345,61126,64613,57964,47582,77944,27082,51891,98126,69008,23284,49785,72406,56418,36769,58715,42999,47333,45733,141091,3848,57584,48356,95301,95269,49894,101380,44028,54577,71055,32066,26596,66653,3179,44484,62889,62952,50903,74656,50733,38180,59410,105003,73854,33579,150293,26348,6769,26315,53038,35766,50517,64714,27523,26867,46607,9882,60052,46653,42143,37371,14475,103629,55402,6149,65128,32861,27603,75553,35641,21457,106916,50369,37731,6473,73858,7716,21144,34340,27917,18150,49270,16344,84532,28616,18452,84678,17990,26463,13671,70005,26237,7245,16941,64383,3317,7275,26981,12600,36983,40054,7283,82140,65120,8259,44235,30682,68578,80737,14009,88942,48374,43148,11447,32203,67168,50149,8607,9680,35442,47306,67316,52503,89884,18337,11798,40659,90852,25479,4737,107231,40006,34020,61695,12128,14126,71024,42150,54591,93625,23809,9698,50910,75967,36494,53497,28006,16650,50352,42133,10915,50698,19962,30772,23430,75790,72083,162101,75728,60565,40074,58299,18280,128972,76801,38314,12744,25607,22188,31862,15955,31175,11044,44390,49677,33251,85617,81684,48054,63108,33461,39505,51449,47547,49199,152777,49820,23147,35010,44921,39633,16546,35436,32229,28603,31804,21668,102866,58514,140647,22149,26732,88552,77813,75665,38038,123394,9457,28241,52657,9075,148287,70362,27398,18672,19003,17600,114609,4318,19729,23148,32015,87090,5342,56550,38458,5400,50686,46353,14777,19302,16606,21645,37117,22488,5465,28650,57321,34736,43956,37151,9776,37461,17631,98557,18773,15927,62892,35395,23658,27429,22496,60550,36644,38050,79320,7934,30101,71573,14389,4701,31291,11384,39725,123530,44408,58972,95799,10389,46232,3432,40560,35984,4665,169950,111402,18065,21540,70358,51973,26344,101435,5668,28783,6701,64979,30591,53626,89555,54550,47720,72312,32532,81224,32367,12856,45452,23288,68436,11028,48698,59988,25334,12898,76129,76496,66076,28330,66192,34221,24405,81851,52335,38502,25430,29421,7258,23734,12534,60625,23697,17543,35830,5033,17253,27189,48127,91649,58796,46586,42569,40202,70022,3922,41658,66536,67928,13621,71191,63947,89954,7543,20366,73226,55216,63823,20147,28646,62441,10910,21883,40687,5770,12349,59303,82027,45440,12710,126532,87569,69111,27004,13098,37670,125784,37616,46404,36971,20823,44255,53184,53752,9362,16464,13631,24283,57198,27205,60289,35590,21193,59034,71649,40198,22347,37446,30613,39731,23986,65414,6705,23140,42971,9792,23886,16397,17598,42024,32014,78351,31432,3978,34883,19845,10204,56595,25611,58573,31771,60213,24678,85938,22206,27750,43462,24977,22131,65617,70257,71995,75183,106608,54436,44381,61439,41163,81099,34095,36953,14703,23992,105384,20334,34145,48786,72804,71943,32757,77178,6381,77041,85234,31634,62231,7004,66194,23721,18122,82066,43339,13417,28110,26647,11703,160005,55765,78251,35519,22708,66840,6126,37952,31632,55294,13842,57847,43009,57445,41641,13437,41892,8126,55609,71439,65768,3032,12225,16758,12150,110890,58822,80581,12690,69074,49169,118185,9745,24482,35611,21100,13245,25269,26177,60738,119320,13615,120677,36560,14048,16249,73591,11789,42419,8691,44373,5698,38758,39244,36214,7654,26381,42371,42425,5167,38173,28250,11362,41671,38101,22759,29654,16846,42528,32035,51949,34841,65641,94153,55081,42157,53629,5482,6064,33333,53055,38653,54655,25486,28830,18681,38431,89032,38939,44533,44382,7073,93080,39698,68653,14900,4180,26923,27360,30629,33018,23166,4915,50098,31775,14625,48831,53413,50677,16354,24128,49869,23038,53312,43846,11263,19507,11322,86895,60729,144564,33429,36964,4437,48013,39779,71605,45697,20501,3059,39338,3228,22719,37974,72431,8486,24363,19558,64046,35799,20259,79873,13544,36404,55886,13904,42955,43750,17743,107390,86058,40137,65042,29084,8999,6357,29914,45867,75705,19543,64725,60567,58452,5015,50256,60877,91907,42209,13678,7797,23545,65227,86909,18614,12483,34314,52497,28754,112096,30756,16519,18075,9958,14076,16114,5200,40241,14275,53117,50561,27253,3998,85851,32716,44901,40698,42272,67106,73621,23828,50619,64147,89432,67240,119266,15347,50315,39374,27347,21786,7037,33320,9277,14225,25474,50546,61235,64796,38341,46464,38388,53785,8315,29782,35079,5943,9616,73662,52409,28236,40773,84419,49739,8678,46548,16583,15864,5920,42891,6635,91882,54534,32013,105413,11681,18153,98213,60754,53642,40221,43931,60076,9481,17046,26098,22609,21386,2797,11266,59378,57464,46271,10182,53724,89160,33549,19557,8022,43213,62795,42025,74820,49326,55701,65268,49257,38526,47121,32407,100592,21980,10691,10664,13298,58489,81011,24481,30354,5334,11554,62781,80241,17457,13682,12911,32340,54094,4987,15562,19126,58105,62497,34333,74015,78119,27715,20098,37580,14200,24208,36266,68885,66174,3965,143792,35892,43824,14009,7294,69932,11540,31644,55554,6756,69754,65940,26128,88712,11048,14382,34369,3908,30339,9290,22745,49669,93604,62655,50036,60244,52406,44821,37915,4894,38413,44612,19168,26668,20326,45231,12448,35082,121782,4863,7291,24332,42551,28462,67887,21226,41026,137990,53668,40922,15485,21118,118903,77715,24519,58873,61054,25674,2960,30624,103189,48284,40536,56053,37084,50773,11615,83270,4311,30367,6372,56358,14518,10602,35857,93798,51500,69148,51610,27676,16157,92788,4395,23687,11944,57418,71058,37037,23290,34201,84364,68400,24135,18615,15050,113480,83720,52761,26031,43187,11278,3710,27465,97386,3393,65371,5707,106125,46278,12099,17823,39132,34422])"
   ]
  },
  {
   "cell_type": "code",
   "execution_count": null,
   "id": "a26ce35e-51c7-4b94-a28b-f30045d258c4",
   "metadata": {},
   "outputs": [],
   "source": []
  },
  {
   "cell_type": "markdown",
   "id": "572092df-52cf-4b8f-af62-4c416c317a34",
   "metadata": {},
   "source": [
    "### Univariate Analysis"
   ]
  },
  {
   "cell_type": "markdown",
   "id": "6927e210-ee96-4fdf-b309-7374684ab5f9",
   "metadata": {},
   "source": [
    "Univariate analysis is a statistical method used to describe and analyze data consisting of only one variable. It focuses on understanding the characteristics and distribution of a single variable without considering the relationship with other variables.\n",
    "\n",
    "- Descriptive Statistics\n",
    "- Frequency Distribution\n",
    "- Measures of Central Tendency\n",
    "- Measures of Dispersion\n",
    "- Visualization:\n",
    "    - Box plots: Displaying the distribution of data using quartiles.\n",
    "    - Histograms: Showing the frequency distribution of continuous variables.\n",
    "    - Bar charts: Displaying the frequency distribution of categorical variables.\n",
    "- Probability Distribution:\n",
    "  - Normal distribution: Assessing if the data follows a normal distribution using graphical methods or statistical tests."
   ]
  },
  {
   "cell_type": "markdown",
   "id": "4328e503-53d4-4839-85ba-177f6768e620",
   "metadata": {},
   "source": [
    "###### Read data from autompg.csv"
   ]
  },
  {
   "cell_type": "code",
   "execution_count": null,
   "id": "8e01fdb9-528a-4ab4-b86f-4bcff0b62400",
   "metadata": {},
   "outputs": [],
   "source": []
  },
  {
   "cell_type": "markdown",
   "id": "0e1df0b3-77ac-466d-8ef4-df1080244922",
   "metadata": {},
   "source": [
    "### Bivariate Analysis"
   ]
  },
  {
   "cell_type": "markdown",
   "id": "76831ba6-9c12-4754-aece-80002f84376d",
   "metadata": {},
   "source": [
    "Bivariate analysis is a statistical method used to analyze the relationship between two variables simultaneously. \n",
    "\n",
    "#### Numerical-Numerical Analysis:\n",
    "\n",
    "- Scatter Plots: Scatter plots with a regression line can show the relationship between two continuous variables. Each data point represents a combination of values from both variables.\n",
    "\n",
    "- Correlation Analysis: Quantifies the strength and direction of the linear relationship between two continuous variables. Pearson correlation coefficient (r) measures the degree of linear association between variables. \n",
    "\t- It ranges from -1 to 1, where:\n",
    "\t- r = 1: Perfect positive correlation\n",
    "\t- r = -1: Perfect negative correlation\n",
    "\t- r = 0: No correlation\n",
    "\n",
    "#### Categorical-Categorical Analysis:\n",
    "\n",
    "- Contingency tables (also known as cross-tabulations) display the frequency distribution of categories for two categorical variables. \n",
    "\n",
    "- Chi-square test assesses the independence or association between two categorical variables.\n",
    "\n",
    "#### Categorical-Numerical Analysis:\n",
    "\n",
    "- Box plots or bar charts with groupings display the distribution of a numerical variable across different categories of a categorical variable.\n",
    "\n",
    "- ANOVA (Analysis of Variance) tests the equality of means across different categories of a categorical variable."
   ]
  },
  {
   "cell_type": "code",
   "execution_count": null,
   "id": "fb305577-4d30-4bb3-adc0-11cfffaa88f7",
   "metadata": {},
   "outputs": [],
   "source": []
  },
  {
   "cell_type": "markdown",
   "id": "51f02641-a438-4b64-8f23-0db2e1a6cd6f",
   "metadata": {},
   "source": [
    "<hr><hr>"
   ]
  }
 ],
 "metadata": {
  "kernelspec": {
   "display_name": "Python 3 (ipykernel)",
   "language": "python",
   "name": "python3"
  },
  "language_info": {
   "codemirror_mode": {
    "name": "ipython",
    "version": 3
   },
   "file_extension": ".py",
   "mimetype": "text/x-python",
   "name": "python",
   "nbconvert_exporter": "python",
   "pygments_lexer": "ipython3",
   "version": "3.12.4"
  }
 },
 "nbformat": 4,
 "nbformat_minor": 5
}
