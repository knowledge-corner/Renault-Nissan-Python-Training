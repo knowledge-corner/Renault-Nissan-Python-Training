{
 "cells": [
  {
   "cell_type": "code",
   "execution_count": 8,
   "metadata": {},
   "outputs": [
    {
     "data": {
      "text/plain": [
       "Index(['Test-1', 'test-2', 'Test-3', 'Test-4', 'Test-9', 'Test-11', 'Test-13',\n",
       "       'Test-14', 'Test-15'],\n",
       "      dtype='object', name='Tests')"
      ]
     },
     "execution_count": 8,
     "metadata": {},
     "output_type": "execute_result"
    }
   ],
   "source": [
    "import pandas as pd\n",
    "df = pd.read_excel(\"Data_Base_New.xlsx\")\n",
    "df.set_index(df.columns[0], inplace=True)\n",
    "cols = df.columns\n",
    "\n",
    "\n",
    "select_col = \"Design_A\"\n",
    "df[df[select_col] == 1].index"
   ]
  }
 ],
 "metadata": {
  "kernelspec": {
   "display_name": "Python 3",
   "language": "python",
   "name": "python3"
  },
  "language_info": {
   "codemirror_mode": {
    "name": "ipython",
    "version": 3
   },
   "file_extension": ".py",
   "mimetype": "text/x-python",
   "name": "python",
   "nbconvert_exporter": "python",
   "pygments_lexer": "ipython3",
   "version": "3.12.4"
  }
 },
 "nbformat": 4,
 "nbformat_minor": 2
}
